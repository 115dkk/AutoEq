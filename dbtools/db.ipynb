{
 "cells": [
  {
   "cell_type": "code",
   "execution_count": 1,
   "id": "a99e7791-660c-49de-b312-5b99455a5a69",
   "metadata": {},
   "outputs": [],
   "source": [
    "%load_ext autoreload\n",
    "%autoreload 2"
   ]
  },
  {
   "cell_type": "code",
   "execution_count": 2,
   "id": "c94122fc-dece-4a36-92d9-9b6b7f892519",
   "metadata": {},
   "outputs": [],
   "source": [
    "import sys\n",
    "from pathlib import Path\n",
    "ROOT_PATH = Path().resolve().parent\n",
    "if str(ROOT_PATH) not in sys.path:\n",
    "    sys.path.insert(ROOT_PATH, 1)"
   ]
  },
  {
   "cell_type": "code",
   "execution_count": 32,
   "id": "83685ae7-7f31-429c-baf9-8e0a458a53dd",
   "metadata": {},
   "outputs": [],
   "source": [
    "import ipywidgets as widgets\n",
    "from IPython.display import display\n",
    "from autoeq.constants import PEQ_CONFIGS\n",
    "from autoeq.batch_processing import batch_processing\n",
    "ROOT_PATH = Path().resolve().parent\n",
    "from dbtools.rtings_crawler import RtingsCrawler\n",
    "from dbtools.crinacle_crawler import CrinacleCrawler\n",
    "from dbtools.oratory1990_crawler import Oratory1990Crawler\n",
    "from dbtools.innerfidelity_crawler import InnerfidelityCrawler\n",
    "from dbtools.headphonecom_crawler import HeadphonecomCrawler\n",
    "from dbtools.squig_crawler import SquigCrawler, SquigCrawlerManager\n",
    "from dbtools.prune_results import prune_results\n",
    "from dbtools.update_result_indexes import update_all_indexes, write_webapp_entries_and_measurements\n",
    "from dbtools.constants import TARGETS_PATH, MEASUREMENTS_PATH, RESULTS_PATH"
   ]
  },
  {
   "cell_type": "markdown",
   "id": "10681a98-09d8-483c-a64b-5a48ef64c4e1",
   "metadata": {},
   "source": [
    "## Crawling and Parsing\n",
    "Additional Python packages are required for processing the measurements:\n",
    "```bash\n",
    "python -m pip install -U -r dbtools/requirements.txt\n",
    "```\n",
    "\n",
    "This notebook uses IPyWidgets\n",
    "```bash\n",
    "jupyter nbextension enable --py widgetsnbextension --sys-prefix\n",
    "```\n",
    "\n",
    "Finally install IPython kernel\n",
    "```bash\n",
    "python -m ipykernel install --user --name=\"autoeq\"\n",
    "```\n",
    "\n",
    "Measurement crawlers require [Google Chrome](https://www.google.com/chrome/) installed and\n",
    "[ChromeDriver](https://googlechromelabs.github.io/chrome-for-testing/) binary in the measurements folder (or anywhere\n",
    "in the PATH).\n",
    "\n",
    "Measurement crawlers also require C++. This should be installed by default on Linux but on Windows you need to install\n",
    "Microsoft Visual Studio build tools for this. https://visualstudio.microsoft.com/downloads/ ->\n",
    "\"Tools for Visual Studio 2019\" -> \"Build Tools for Visual Studio 2019\".\n",
    "\n",
    "oratory1990 crawler requires Ghostscript installed: https://www.ghostscript.com/download/gsdnld.html"
   ]
  },
  {
   "cell_type": "markdown",
   "id": "23534877-debf-4b7d-b5c6-a6f03e82f0c5",
   "metadata": {},
   "source": [
    "### Crinacle\n",
    "Download measurement data from Drive folder to `measurements/crinacle/raw_data/` before running this!\n",
    "\n",
    "* `IEM Measurements/IEC60318-4 IEM Measurements (TSV txt)` into `AutoEq/measurements/crinacle/raw_data/IEC60318-4 IEM Measurements (TSV txt)`\n",
    "* `IEM Measurements/4620 IEM Measurements` into `AutoEq/measurements/crinacle/raw_data/4620 IEM Measurements`\n",
    "* `HP Measurements/EARS + 711 (TSV txt) (Legacy)` into `AutoEq/measurements/crinacle/raw_data/EARS + 711 (TSV txt) (Legacy)`\n",
    "* `GRAS 43AG-7` into `AutoEq/measurements/crinacle/raw_data/GRAS 43AG-7`"
   ]
  },
  {
   "cell_type": "code",
   "execution_count": null,
   "id": "9a2fab6b-7cd9-445b-9cde-4c96414ee9d3",
   "metadata": {},
   "outputs": [],
   "source": [
    "crawler = CrinacleCrawler()\n",
    "crawler.run()\n",
    "display(crawler.widget)"
   ]
  },
  {
   "cell_type": "code",
   "execution_count": 8,
   "id": "09f0d494-ed90-4782-861d-169741fa585a",
   "metadata": {},
   "outputs": [
    {
     "name": "stdout",
     "output_type": "stream",
     "text": [
      "No measurements need to be pruned\n"
     ]
    }
   ],
   "source": [
    "crawler.prune_measurements(dry_run=True)"
   ]
  },
  {
   "cell_type": "code",
   "execution_count": null,
   "id": "6201059e-6cb3-4640-9ec6-d51afd63bfde",
   "metadata": {},
   "outputs": [],
   "source": [
    "crawler.process(new_only=True)"
   ]
  },
  {
   "cell_type": "markdown",
   "id": "15198d83-4cc2-4136-ab77-c7150f161b1a",
   "metadata": {},
   "source": [
    "### oratory1990\n",
    "oratory1990 crawler fetches all measurements from https://www.reddit.com/r/oratory1990/wiki/index/list_of_presets/, downloads PDFs and reads the frequency response measurement data from the PDFs. Parsing the PDFs requires [Ghostscript](https://www.ghostscript.com/download/gsdnld.html) to be installed on the system."
   ]
  },
  {
   "cell_type": "code",
   "execution_count": 34,
   "id": "25f45a56-29a1-42b5-885f-09c342e3f434",
   "metadata": {},
   "outputs": [],
   "source": [
    "crawler = Oratory1990Crawler()"
   ]
  },
  {
   "cell_type": "code",
   "execution_count": null,
   "id": "34b02c2c-723f-4cba-870f-7eb43733712b",
   "metadata": {},
   "outputs": [],
   "source": [
    "crawler.run()\n",
    "display(crawler.widget)"
   ]
  },
  {
   "cell_type": "code",
   "execution_count": 36,
   "id": "d9883f28-5bae-4f0f-b43e-bed05eff3896",
   "metadata": {},
   "outputs": [
    {
     "name": "stdout",
     "output_type": "stream",
     "text": [
      "Removed \"C:\\Users\\jaakko\\code\\AutoEq\\measurements\\oratory1990\\data\\over-ear\\AKG K712 (Dekoni sheepskin Earpads).csv\"\n"
     ]
    }
   ],
   "source": [
    "crawler.prune_measurements(dry_run=False)"
   ]
  },
  {
   "cell_type": "code",
   "execution_count": 41,
   "id": "3f591c1b-203e-45a9-b9fc-68b2940cddce",
   "metadata": {},
   "outputs": [
    {
     "data": {
      "application/vnd.jupyter.widget-view+json": {
       "model_id": "e03ac48c71194bcc93c9a985b89294c6",
       "version_major": 2,
       "version_minor": 0
      },
      "text/plain": [
       "  0%|          | 0/612 [00:00<?, ?it/s]"
      ]
     },
     "metadata": {},
     "output_type": "display_data"
    }
   ],
   "source": [
    "crawler.process(new_only=True)"
   ]
  },
  {
   "cell_type": "markdown",
   "id": "5d8bb0e4-7b99-4226-a085-02e0666bdbb7",
   "metadata": {},
   "source": [
    "### Rtings\n",
    "Rtings crawler fetches all measurements from https://www.rtings.com/headphones/1-[2,4,5]/graph and downloads raw FR JSON files and parses them."
   ]
  },
  {
   "cell_type": "code",
   "execution_count": 44,
   "id": "c6249b01-28ee-4e50-90c5-8a7e9ac76b34",
   "metadata": {},
   "outputs": [],
   "source": [
    "crawler = RtingsCrawler()"
   ]
  },
  {
   "cell_type": "code",
   "execution_count": null,
   "id": "8e3a3ff8-fc93-4f64-8915-71f606ddf423",
   "metadata": {},
   "outputs": [],
   "source": [
    "crawler.run()\n",
    "display(crawler.widget)"
   ]
  },
  {
   "cell_type": "code",
   "execution_count": 45,
   "id": "19b23cab-a53a-4d3d-b424-0445fd165251",
   "metadata": {},
   "outputs": [
    {
     "name": "stdout",
     "output_type": "stream",
     "text": [
      "No measurements need to be pruned\n"
     ]
    }
   ],
   "source": [
    "crawler.prune_measurements(dry_run=True)"
   ]
  },
  {
   "cell_type": "code",
   "execution_count": 53,
   "id": "6bb1c64d-10bd-40ed-9dcb-d368e2b1f085",
   "metadata": {},
   "outputs": [
    {
     "data": {
      "application/vnd.jupyter.widget-view+json": {
       "model_id": "d1b083435e074418bcd15c2cf5ec75b5",
       "version_major": 2,
       "version_minor": 0
      },
      "text/plain": [
       "  0%|          | 0/723 [00:00<?, ?it/s]"
      ]
     },
     "metadata": {},
     "output_type": "display_data"
    }
   ],
   "source": [
    "crawler.process(new_only=True)"
   ]
  },
  {
   "cell_type": "markdown",
   "id": "3455d628-a9e3-4b1b-98a8-8f90bff01325",
   "metadata": {},
   "source": [
    "### Squig.link\n",
    "Several databases included in squig.link\n",
    "\n",
    "**TODO:** rig information for cralwers, somehow"
   ]
  },
  {
   "cell_type": "code",
   "execution_count": 5,
   "id": "54495976-3851-4ba8-9515-41b243a28c51",
   "metadata": {},
   "outputs": [
    {
     "name": "stdout",
     "output_type": "stream",
     "text": [
      "achoreviews, adri-n, aftersound, animagus, ankramutt, arn, auricularesargentina, aydn, bakkwatan, bedrock, bryaudioreviews, bukanaudiophile, cammyfi, cqtek, dchpgall, dhrme, dl, eliseaudio, eplv, fahryst, filk, freeryder05, gadgetrytech, harpo, hbb, hobbytalk, hore, ianfann, iemworld, ish, jacstone, jaytiss, kazi, kr0mka, kuulokenurkka, listener, melatonin, mmagtech, musicafe, nymz, practiphile, precog, pw, ragnarok, recode, regancipher, rg, sai, seanwee, smirk, soundcheck39, superreview, suporsalad, tanchjim, tedthepraimortis, tgx78, therollo9, timmyv, tonedeafmonk, vortexreviews, vsg, yanyin\n"
     ]
    }
   ],
   "source": [
    "manager = SquigCrawlerManager()\n",
    "print(', '.join(sorted([crawler.username for crawler in manager.crawlers])))"
   ]
  },
  {
   "cell_type": "code",
   "execution_count": null,
   "id": "c2a23cc5-7d7b-40ae-a0c3-a7c8a93c82f5",
   "metadata": {},
   "outputs": [],
   "source": [
    "display(manager.run('auricularesargentina').widget)"
   ]
  },
  {
   "cell_type": "code",
   "execution_count": null,
   "id": "54449d40-e908-42dd-af7f-e52d631e4e23",
   "metadata": {},
   "outputs": [],
   "source": [
    "display(manager.run('bakkwatan').widget)"
   ]
  },
  {
   "cell_type": "code",
   "execution_count": null,
   "id": "db06fd57-bda2-4202-9b65-e5bf9fab87cb",
   "metadata": {},
   "outputs": [],
   "source": [
    "display(manager.run('cqtek').widget)"
   ]
  },
  {
   "cell_type": "code",
   "execution_count": null,
   "id": "143d60d3-3a79-4c0c-a6a2-544134203f59",
   "metadata": {},
   "outputs": [],
   "source": [
    "display(manager.run('dhrme').widget)"
   ]
  },
  {
   "cell_type": "code",
   "execution_count": null,
   "id": "633c8d10-ff05-4312-b3da-bae12aaf8b30",
   "metadata": {},
   "outputs": [],
   "source": [
    "display(manager.run('fahryst').widget)"
   ]
  },
  {
   "cell_type": "code",
   "execution_count": null,
   "id": "1257a321-026a-4486-bbf0-13dac6bfc757",
   "metadata": {},
   "outputs": [],
   "source": [
    "display(manager.run('filk').widget)"
   ]
  },
  {
   "cell_type": "code",
   "execution_count": null,
   "id": "d6ad9cf3-55a8-4b32-bf44-452344b36371",
   "metadata": {},
   "outputs": [],
   "source": [
    "display(manager.run('freeryder05').widget)"
   ]
  },
  {
   "cell_type": "code",
   "execution_count": null,
   "id": "7c9b096e-fd08-4e2f-a6a0-ab0debd220b5",
   "metadata": {},
   "outputs": [],
   "source": [
    "# Not in squigsites.json\n",
    "#display(manager.run('gadgetgenerations').widget)"
   ]
  },
  {
   "cell_type": "code",
   "execution_count": null,
   "id": "fbf7d0b5-3e60-437c-93a8-e48f118a435f",
   "metadata": {},
   "outputs": [],
   "source": [
    "display(manager.run('harpo').widget)"
   ]
  },
  {
   "cell_type": "code",
   "execution_count": null,
   "id": "b2659abc-438e-44d1-b542-927e3f817c25",
   "metadata": {},
   "outputs": [],
   "source": [
    "# Rig not known yet\n",
    "#display(manager.run('ish').widget)"
   ]
  },
  {
   "cell_type": "code",
   "execution_count": null,
   "id": "ab40131a-382c-41c3-808c-9a4ab7aa0d67",
   "metadata": {},
   "outputs": [],
   "source": [
    "# Rig not known yet\n",
    "#display(manager.run('jacstone').widget)"
   ]
  },
  {
   "cell_type": "code",
   "execution_count": null,
   "id": "8c44f1d9-51b4-47f5-8390-19b96c60eb4c",
   "metadata": {},
   "outputs": [],
   "source": [
    "display(manager.run('jaytiss').widget)"
   ]
  },
  {
   "cell_type": "code",
   "execution_count": null,
   "id": "7316b435-7cf4-4ffd-b234-d246046b9c07",
   "metadata": {},
   "outputs": [],
   "source": [
    "display(manager.run('kazi').widget)"
   ]
  },
  {
   "cell_type": "code",
   "execution_count": null,
   "id": "5fbb8dd9-25b1-489b-adb7-f7f1bb91e6c4",
   "metadata": {},
   "outputs": [],
   "source": [
    "display(manager.run('kr0mka').widget)"
   ]
  },
  {
   "cell_type": "code",
   "execution_count": null,
   "id": "6c250d6e-db79-4d42-97f4-ac43c1e69003",
   "metadata": {},
   "outputs": [],
   "source": [
    "display(manager.run('kuulokenurkka').widget)"
   ]
  },
  {
   "cell_type": "code",
   "execution_count": null,
   "id": "eceecef4-e01a-4ecf-bcd7-7ff08c1be162",
   "metadata": {},
   "outputs": [],
   "source": [
    "# Not in squigsites.json\n",
    "#display(manager.run('mini').widget)"
   ]
  },
  {
   "cell_type": "code",
   "execution_count": null,
   "id": "df46b948-3681-496d-bead-ccea1638ef76",
   "metadata": {},
   "outputs": [],
   "source": [
    "# Not in squigsites.json\n",
    "#display(manager.run('psykano').widget)"
   ]
  },
  {
   "cell_type": "code",
   "execution_count": null,
   "id": "eec65202-48d9-4f45-9909-ff20f76d7303",
   "metadata": {},
   "outputs": [],
   "source": [
    "display(manager.run('regancipher').widget)"
   ]
  },
  {
   "cell_type": "code",
   "execution_count": null,
   "id": "7dad9e32-864c-4edd-bc54-5992096e4e66",
   "metadata": {},
   "outputs": [],
   "source": [
    "display(manager.run('rg').widget)"
   ]
  },
  {
   "cell_type": "code",
   "execution_count": null,
   "id": "c8c36181-150c-4ff0-ba16-197f4e2c964d",
   "metadata": {},
   "outputs": [],
   "source": [
    "# Not in squigsites.json\n",
    "#display(manager.run('sdlib').widget)"
   ]
  },
  {
   "cell_type": "code",
   "execution_count": null,
   "id": "18064c4f-b225-4b63-b04d-027fbaffc7fd",
   "metadata": {},
   "outputs": [],
   "source": [
    "# Almost all measurements are with 3rd party eartips\n",
    "#display(manager.run('smirk').widget)"
   ]
  },
  {
   "cell_type": "code",
   "execution_count": null,
   "id": "c05d840d-8e35-470a-bc53-d5c6832c09da",
   "metadata": {},
   "outputs": [],
   "source": [
    "# Rig not known yet\n",
    "#display(manager.run('soundcheck39').widget)"
   ]
  },
  {
   "cell_type": "code",
   "execution_count": null,
   "id": "181a3856-b2c8-4f7a-aa9e-4c93d63d962b",
   "metadata": {},
   "outputs": [],
   "source": [
    "display(manager.run('superreview').widget)"
   ]
  },
  {
   "cell_type": "code",
   "execution_count": null,
   "id": "0c0000f8-eb79-4875-b9c5-a67b2c2a681f",
   "metadata": {},
   "outputs": [],
   "source": [
    "display(manager.run('tedthepraimortis').widget)"
   ]
  },
  {
   "cell_type": "code",
   "execution_count": null,
   "id": "a24c8d8a-2377-4a30-8b25-a8d8f4721869",
   "metadata": {},
   "outputs": [],
   "source": [
    "# Not in squigsites.json\n",
    "#display(manager.run('therollo9').widget)"
   ]
  },
  {
   "cell_type": "code",
   "execution_count": null,
   "id": "64e872f0-1529-4cba-900c-5b95f8ba9296",
   "metadata": {},
   "outputs": [],
   "source": [
    "display(manager.run('tonedeafmonk').widget)"
   ]
  },
  {
   "cell_type": "code",
   "execution_count": null,
   "id": "93056ccc-3152-42a2-ad55-848b1feb639e",
   "metadata": {},
   "outputs": [],
   "source": [
    "# Not in squigsites.json\n",
    "#display(manager.run('wdym').widget)"
   ]
  },
  {
   "cell_type": "code",
   "execution_count": 25,
   "id": "abb11ffc-3fa4-43f7-857f-c7a78502c948",
   "metadata": {},
   "outputs": [],
   "source": [
    "# Only 3 models\n",
    "#display(manager.run('yanyin').widget)"
   ]
  },
  {
   "cell_type": "code",
   "execution_count": null,
   "id": "a064584f-b49a-457c-a6d8-7e2dcc3421f9",
   "metadata": {},
   "outputs": [],
   "source": [
    "# Not in squigsites.json\n",
    "#display(manager.run('zamo').widget)"
   ]
  },
  {
   "cell_type": "code",
   "execution_count": 27,
   "id": "be661a1a-0099-4827-8a33-25d85009f69a",
   "metadata": {},
   "outputs": [
    {
     "data": {
      "application/vnd.jupyter.widget-view+json": {
       "model_id": "8a64e3d7655b4e19bdc1a2fc25bb0142",
       "version_major": 2,
       "version_minor": 0
      },
      "text/plain": [
       "  0%|          | 0/47 [00:00<?, ?it/s]"
      ]
     },
     "metadata": {},
     "output_type": "display_data"
    }
   ],
   "source": [
    "manager.process('auricularesargentina')"
   ]
  },
  {
   "cell_type": "markdown",
   "id": "c73d94ab-f636-4429-b2a9-88e73db27bc5",
   "metadata": {},
   "source": [
    "## Rename Measurements\n",
    "Sometimes measurements are named incorrectly or previously only one sample existed and now multiple samples have been measured and so the original one needs to be renamed as \"<name> (sample 1)\""
   ]
  },
  {
   "cell_type": "code",
   "execution_count": null,
   "id": "1fd0958c-ae06-4245-bc1d-180a1e2117d7",
   "metadata": {},
   "outputs": [],
   "source": [
    "crinacle = CrinacleCrawler()\n",
    "headphonecom = HeadphonecomCrawler()\n",
    "innerfidelity = InnerfidelityCrawler()\n",
    "oratory1990 = Oratory1990Crawler()\n",
    "rtings = RtingsCrawler(driver=oratory1990.driver)\n",
    "\n",
    "renames = [\n",
    "    {'old_name': 'SeeAudio x Crincale Yume Midnight', 'new_name': 'SeeAudio x Crinacle Yume Midnight', 'crawlers': [crinacle]},\n",
    "]\n",
    "for rename in renames:\n",
    "    for crawler in rename['crawlers']:\n",
    "        crawler.rename_measurement(old_name=rename['old_name'], new_name=rename['new_name'], dry_run=False)"
   ]
  },
  {
   "cell_type": "markdown",
   "id": "dacbac18-6d4a-4f58-8f3b-af3700b5c895",
   "metadata": {},
   "source": [
    "## Prune Results\n",
    "Check if obsolete results (e.g. because of renaming) exist and remove them"
   ]
  },
  {
   "cell_type": "code",
   "execution_count": 63,
   "id": "319d03cb-98f6-4db2-a2b0-fa464942d7e0",
   "metadata": {},
   "outputs": [
    {
     "name": "stdout",
     "output_type": "stream",
     "text": [
      "Removed \"crinacle\\711 in-ear\\1Custom SA02\"\n",
      "Removed \"crinacle\\711 in-ear\\1Custom SA03\"\n",
      "Removed \"crinacle\\711 in-ear\\1Custom SA05\"\n",
      "Removed \"crinacle\\711 in-ear\\64 Audio tia Trio\"\n",
      "Removed \"crinacle\\711 in-ear\\Anker Soundcore Liberty Air 2\"\n",
      "Removed \"crinacle\\711 in-ear\\JQ 4u Pro\"\n",
      "Removed \"crinacle\\711 in-ear\\Kinera Idun\"\n",
      "Removed \"crinacle\\711 in-ear\\Samsung Galaxy Buds2 Pro (ambient mode)\"\n",
      "Removed \"crinacle\\711 in-ear\\SeeAudio x Crincale Yume Midnight\"\n",
      "Removed \"crinacle\\Bruel & Kjaer 4620 in-ear\\SeeAudio x Crincale Yume Midnight\"\n",
      "Removed \"crinacle\\Bruel & Kjaer 4620 in-ear\\UFOear UFO-112\"\n",
      "Removed \"oratory1990\\in-ear\\Anker Soundcore Liberty Air 2\"\n",
      "Removed \"oratory1990\\in-ear\\Campfire Audio Vega (foam eartips)\"\n",
      "Removed \"oratory1990\\over-ear\\AKG K712 (Dekoni sheepskin earpads)\"\n",
      "Removed \"Rtings\\in-ear\\Anker Soundcore Liberty 4 NC\"\n",
      "Removed \"Rtings\\in-ear\\Anker Soundcore Liberty Air\"\n",
      "Removed \"Rtings\\in-ear\\Anker Soundcore Liberty Air 2\"\n",
      "Removed \"Rtings\\in-ear\\Anker Soundcore Liberty Lite\"\n",
      "Removed \"Rtings\\in-ear\\Anker Soundcore Life 2\"\n",
      "Removed \"Rtings\\in-ear\\Anker Soundcore Life P2\"\n",
      "Removed \"Rtings\\in-ear\\Anker Soundcore Life P3\"\n",
      "Removed \"Rtings\\in-ear\\Sennheiser IE 40 PRO\"\n",
      "Removed \"Rtings\\over-ear\\Anker Soundcore Space NC\"\n",
      "Removed \"Rtings\\over-ear\\Anker Soundcore Space One\"\n",
      "Removed \"Rtings\\over-ear\\Audio-Technica ATH-ANC7b\"\n",
      "Removed \"Rtings\\over-ear\\Logitech G PRO X 2 Lightspeed\"\n",
      "Removed \"Rtings\\over-ear\\Logitech G Pro X Lightspeed\"\n"
     ]
    }
   ],
   "source": [
    "prune_results(databases=['crinacle', 'oratory1990', 'Headphone.com Legacy', 'Innerfidelity', 'Rtings'], dry_run=False)"
   ]
  },
  {
   "cell_type": "markdown",
   "id": "423849ce-bac6-4d7d-85e7-1d8e6451714c",
   "metadata": {
    "jp-MarkdownHeadingCollapsed": true
   },
   "source": [
    "## Update Results\n",
    "Creates new results from the measurements. `eq_kwargs` are parameters shared by all jobs."
   ]
  },
  {
   "cell_type": "code",
   "execution_count": 29,
   "id": "39984de4-40a1-484e-988c-76108dd4b85a",
   "metadata": {},
   "outputs": [],
   "source": [
    "eq_kwargs = {\n",
    "    'parametric_eq': True, 'ten_band_eq': True, 'convolution_eq': True,\n",
    "    'parametric_eq_config': [PEQ_CONFIGS['4_PEAKING_WITH_LOW_SHELF'], PEQ_CONFIGS['4_PEAKING_WITH_HIGH_SHELF']],\n",
    "    'fs': [44100, 48000],\n",
    "    'thread_count': 0,\n",
    "}"
   ]
  },
  {
   "cell_type": "markdown",
   "id": "122bf50b-3ba8-4cc6-8297-f1dc5048ca52",
   "metadata": {},
   "source": [
    "#### oratory1990 Over-ear"
   ]
  },
  {
   "cell_type": "code",
   "execution_count": 42,
   "id": "155d256e-200a-4600-ac1e-380fc6ebf71a",
   "metadata": {},
   "outputs": [
    {
     "data": {
      "application/vnd.jupyter.widget-view+json": {
       "model_id": "0140332060f94db3895d24a2305ab08d",
       "version_major": 2,
       "version_minor": 0
      },
      "text/plain": [
       "  0%|          | 0/1 [00:00<?, ?it/s]"
      ]
     },
     "metadata": {},
     "output_type": "display_data"
    }
   ],
   "source": [
    "_ = batch_processing(\n",
    "    input_dir=MEASUREMENTS_PATH.joinpath('oratory1990', 'data', 'over-ear'),\n",
    "    output_dir=RESULTS_PATH.joinpath('oratory1990', 'over-ear'),\n",
    "    target=TARGETS_PATH.joinpath('Harman over-ear 2018 without bass.csv'),\n",
    "    bass_boost_gain=6.0, bass_boost_fc=105, bass_boost_q=0.7,\n",
    "    new_only=True, **eq_kwargs)"
   ]
  },
  {
   "cell_type": "markdown",
   "id": "e13fc080-94c2-4bf3-a319-51cc1131a2f1",
   "metadata": {},
   "source": [
    "#### oratory1990 In-ear"
   ]
  },
  {
   "cell_type": "code",
   "execution_count": 7,
   "id": "35bd242a-0cf5-4311-bde6-23c5fa892e67",
   "metadata": {},
   "outputs": [
    {
     "data": {
      "application/vnd.jupyter.widget-view+json": {
       "model_id": "632d2330221644f8a10671368c5be593",
       "version_major": 2,
       "version_minor": 0
      },
      "text/plain": [
       "  0%|          | 0/188 [00:00<?, ?it/s]"
      ]
     },
     "metadata": {},
     "output_type": "display_data"
    }
   ],
   "source": [
    "_ = batch_processing(\n",
    "    input_dir=MEASUREMENTS_PATH.joinpath('oratory1990', 'data', 'in-ear'),\n",
    "    output_dir=RESULTS_PATH.joinpath('oratory1990', 'in-ear'),\n",
    "    target=TARGETS_PATH.joinpath('AutoEq in-ear.csv'),\n",
    "    bass_boost_gain=9.5, bass_boost_fc=105, bass_boost_q=0.7,\n",
    "    new_only=False, **eq_kwargs)"
   ]
  },
  {
   "cell_type": "markdown",
   "id": "744a4d87-19ad-4625-abba-1064fa6dba30",
   "metadata": {},
   "source": [
    "#### oratory1990 Earbud"
   ]
  },
  {
   "cell_type": "code",
   "execution_count": 8,
   "id": "42fbde8b-ce79-4606-8d90-079d4454a12f",
   "metadata": {},
   "outputs": [
    {
     "data": {
      "application/vnd.jupyter.widget-view+json": {
       "model_id": "a45a5874329e48289b1388d5b463e7d4",
       "version_major": 2,
       "version_minor": 0
      },
      "text/plain": [
       "  0%|          | 0/1 [00:00<?, ?it/s]"
      ]
     },
     "metadata": {},
     "output_type": "display_data"
    }
   ],
   "source": [
    "_ = batch_processing(\n",
    "    input_dir=MEASUREMENTS_PATH.joinpath('oratory1990', 'data', 'earbud'),\n",
    "    output_dir=RESULTS_PATH.joinpath('oratory1990', 'earbud'),\n",
    "    target=TARGETS_PATH.joinpath('AutoEq in-ear.csv'),\n",
    "    bass_boost_gain=0.0, bass_boost_fc=105, bass_boost_q=0.7,\n",
    "    new_only=False, **eq_kwargs)"
   ]
  },
  {
   "cell_type": "markdown",
   "id": "481d748a-8a69-4e86-8775-cfcd29a40256",
   "metadata": {},
   "source": [
    "#### crinacle GRAS 43AG-7 On-ear"
   ]
  },
  {
   "cell_type": "code",
   "execution_count": 9,
   "id": "fb6364b0-8a4d-4097-913d-f331f7793647",
   "metadata": {},
   "outputs": [
    {
     "data": {
      "application/vnd.jupyter.widget-view+json": {
       "model_id": "92c65966cbe542d7a25d1821803a02c5",
       "version_major": 2,
       "version_minor": 0
      },
      "text/plain": [
       "  0%|          | 0/331 [00:00<?, ?it/s]"
      ]
     },
     "metadata": {},
     "output_type": "display_data"
    }
   ],
   "source": [
    "_ = batch_processing(\n",
    "    input_dir=MEASUREMENTS_PATH.joinpath('crinacle', 'data', 'over-ear', 'GRAS 43AG-7'),\n",
    "    output_dir=RESULTS_PATH.joinpath('crinacle', 'GRAS 43AG-7 over-ear'),\n",
    "    target=TARGETS_PATH.joinpath('Harman over-ear 2018 without bass.csv'),\n",
    "    bass_boost_gain=6.0, bass_boost_fc=105, bass_boost_q=0.7,\n",
    "    new_only=False, **eq_kwargs)"
   ]
  },
  {
   "cell_type": "markdown",
   "id": "2a2904fc-2ada-4b60-a2ca-b3a716e4d49e",
   "metadata": {},
   "source": [
    "#### crinacle EARS+711 Over-ear"
   ]
  },
  {
   "cell_type": "code",
   "execution_count": 10,
   "id": "10f96e31-5b6a-456d-b88d-bddc6ec4ada2",
   "metadata": {},
   "outputs": [
    {
     "data": {
      "application/vnd.jupyter.widget-view+json": {
       "model_id": "f1680af4026e46f390a3aaff2deb5c64",
       "version_major": 2,
       "version_minor": 0
      },
      "text/plain": [
       "  0%|          | 0/65 [00:00<?, ?it/s]"
      ]
     },
     "metadata": {},
     "output_type": "display_data"
    }
   ],
   "source": [
    "_ = batch_processing(\n",
    "    input_dir=MEASUREMENTS_PATH.joinpath('crinacle', 'data', 'over-ear', 'EARS + 711'),\n",
    "    output_dir=RESULTS_PATH.joinpath('crinacle', 'EARS + 711 over-ear'),\n",
    "    target=TARGETS_PATH.joinpath('crinacle EARS + 711 Harman over-ear 2018 without bass.csv'),\n",
    "    bass_boost_gain=6.0, bass_boost_fc=105, bass_boost_q=0.7,\n",
    "    new_only=False, **eq_kwargs)"
   ]
  },
  {
   "cell_type": "markdown",
   "id": "29fcd3d4-3008-4f81-b0c8-100cdc7f0cb2",
   "metadata": {},
   "source": [
    "#### crinacle 4620 In-ear"
   ]
  },
  {
   "cell_type": "code",
   "execution_count": 11,
   "id": "6c9c373e-5ef7-430d-a5aa-e25f78d08306",
   "metadata": {},
   "outputs": [
    {
     "data": {
      "application/vnd.jupyter.widget-view+json": {
       "model_id": "8465923b178143d3b4415e8ba7f9be73",
       "version_major": 2,
       "version_minor": 0
      },
      "text/plain": [
       "  0%|          | 0/169 [00:00<?, ?it/s]"
      ]
     },
     "metadata": {},
     "output_type": "display_data"
    }
   ],
   "source": [
    "_ = batch_processing(\n",
    "    input_dir=MEASUREMENTS_PATH.joinpath('crinacle', 'data', 'in-ear', 'Bruel & Kjaer 4620'),\n",
    "    output_dir=RESULTS_PATH.joinpath('crinacle', 'Bruel & Kjaer 4620 in-ear'),\n",
    "    target=TARGETS_PATH.joinpath('Diffuse field 5128 -1dB per octave.csv'),\n",
    "    bass_boost_gain=0.0, bass_boost_fc=105, bass_boost_q=0.7,\n",
    "    new_only=False, **eq_kwargs)"
   ]
  },
  {
   "cell_type": "markdown",
   "id": "9d61bef6-c53d-4ddf-8852-3d72a5c185de",
   "metadata": {},
   "source": [
    "#### crinacle 711 In-ear"
   ]
  },
  {
   "cell_type": "code",
   "execution_count": 6,
   "id": "a8a16204-f23d-43cb-a79b-fb0ff30bf6f5",
   "metadata": {},
   "outputs": [
    {
     "data": {
      "application/vnd.jupyter.widget-view+json": {
       "model_id": "94749f43ea8143d38b1fbfc0806c3498",
       "version_major": 2,
       "version_minor": 0
      },
      "text/plain": [
       "  0%|          | 0/1 [00:00<?, ?it/s]"
      ]
     },
     "metadata": {},
     "output_type": "display_data"
    }
   ],
   "source": [
    "_ = batch_processing(\n",
    "    input_dir=MEASUREMENTS_PATH.joinpath('crinacle', 'data', 'in-ear', '711'),\n",
    "    output_dir=RESULTS_PATH.joinpath('crinacle', '711 in-ear'),\n",
    "    target=TARGETS_PATH.joinpath('AutoEq in-ear.csv'),\n",
    "    bass_boost_gain=9.5, bass_boost_fc=105, bass_boost_q=0.7,\n",
    "    new_only=True, **eq_kwargs)"
   ]
  },
  {
   "cell_type": "markdown",
   "id": "52271743-ad3f-4950-9a29-1c90abfc6e99",
   "metadata": {},
   "source": [
    "#### Rtings Over-ear"
   ]
  },
  {
   "cell_type": "code",
   "execution_count": 54,
   "id": "fab904f1-546c-46e9-a4d4-3acd6a95f8f3",
   "metadata": {},
   "outputs": [
    {
     "data": {
      "application/vnd.jupyter.widget-view+json": {
       "model_id": "e91d00beac4a47c88a60f8c68150ba06",
       "version_major": 2,
       "version_minor": 0
      },
      "text/plain": [
       "  0%|          | 0/6 [00:00<?, ?it/s]"
      ]
     },
     "metadata": {},
     "output_type": "display_data"
    }
   ],
   "source": [
    "_ = batch_processing(\n",
    "    input_dir=MEASUREMENTS_PATH.joinpath('Rtings', 'data', 'over-ear'),\n",
    "    output_dir=RESULTS_PATH.joinpath('Rtings', 'over-ear'),\n",
    "    target=TARGETS_PATH.joinpath('Rtings Harman over-ear 2018 without bass.csv'),\n",
    "    bass_boost_gain=6.0, bass_boost_fc=105, bass_boost_q=0.7,\n",
    "    new_only=True, **eq_kwargs)"
   ]
  },
  {
   "cell_type": "markdown",
   "id": "7e6692cb-12af-41cd-84f2-1d0621a82ccf",
   "metadata": {},
   "source": [
    "#### Rtings In-ear"
   ]
  },
  {
   "cell_type": "code",
   "execution_count": 49,
   "id": "2690f37a-77d6-42d2-bc25-6f5a06efe77a",
   "metadata": {},
   "outputs": [
    {
     "data": {
      "application/vnd.jupyter.widget-view+json": {
       "model_id": "743a361c0b4c41658ca827d6ca26e076",
       "version_major": 2,
       "version_minor": 0
      },
      "text/plain": [
       "  0%|          | 0/15 [00:00<?, ?it/s]"
      ]
     },
     "metadata": {},
     "output_type": "display_data"
    }
   ],
   "source": [
    "_ = batch_processing(\n",
    "    input_dir=MEASUREMENTS_PATH.joinpath('Rtings', 'data', 'in-ear'),\n",
    "    output_dir=RESULTS_PATH.joinpath('Rtings', 'in-ear'),\n",
    "    target=TARGETS_PATH.joinpath('Rtings AutoEq in-ear.csv'),\n",
    "    bass_boost_gain=9.5, bass_boost_fc=105, bass_boost_q=0.7,\n",
    "    new_only=True, **eq_kwargs)"
   ]
  },
  {
   "cell_type": "markdown",
   "id": "2992c00e-eb1f-4f6c-905d-459289aace31",
   "metadata": {},
   "source": [
    "#### Rtings Earbud"
   ]
  },
  {
   "cell_type": "code",
   "execution_count": 17,
   "id": "e1ddb3df-df76-49f5-9cb0-eaa8547c1ebc",
   "metadata": {},
   "outputs": [
    {
     "data": {
      "application/vnd.jupyter.widget-view+json": {
       "model_id": "f245cdc005ef4dd28a2971060965288f",
       "version_major": 2,
       "version_minor": 0
      },
      "text/plain": [
       "  0%|          | 0/23 [00:00<?, ?it/s]"
      ]
     },
     "metadata": {},
     "output_type": "display_data"
    }
   ],
   "source": [
    "_ = batch_processing(\n",
    "    input_dir=MEASUREMENTS_PATH.joinpath('Rtings', 'data', 'earbud'),\n",
    "    output_dir=RESULTS_PATH.joinpath('Rtings', 'earbud'),\n",
    "    target=TARGETS_PATH.joinpath('Rtings Autoeq in-ear.csv'),\n",
    "    bass_boost_gain=0.0, bass_boost_fc=105, bass_boost_q=0.7,\n",
    "    new_only=False, **eq_kwargs)"
   ]
  },
  {
   "cell_type": "markdown",
   "id": "65acd28c-c1cc-4289-b5e1-f5b7a1d1664b",
   "metadata": {},
   "source": [
    "#### Innerfidelity In-ear"
   ]
  },
  {
   "cell_type": "code",
   "execution_count": 18,
   "id": "4568f581-e4b9-4f0f-8219-25b0e065e244",
   "metadata": {},
   "outputs": [
    {
     "data": {
      "application/vnd.jupyter.widget-view+json": {
       "model_id": "a576794e4c14486cbcc0dc0ca12571da",
       "version_major": 2,
       "version_minor": 0
      },
      "text/plain": [
       "  0%|          | 0/612 [00:00<?, ?it/s]"
      ]
     },
     "metadata": {},
     "output_type": "display_data"
    }
   ],
   "source": [
    "_ = batch_processing(\n",
    "    input_dir=MEASUREMENTS_PATH.joinpath('Innerfidelity', 'data', 'over-ear'),\n",
    "    output_dir=RESULTS_PATH.joinpath('Innerfidelity', 'over-ear'),\n",
    "    target=TARGETS_PATH.joinpath('Innerfidelity Harman over-ear 2018 without bass.csv'),\n",
    "    bass_boost_gain=6.0, bass_boost_fc=105, bass_boost_q=0.7,\n",
    "    new_only=False, **eq_kwargs)"
   ]
  },
  {
   "cell_type": "markdown",
   "id": "72324e9a-cc26-4c2e-a5c0-c6f3ef0fb003",
   "metadata": {},
   "source": [
    "#### Innerfidelity In-ear"
   ]
  },
  {
   "cell_type": "code",
   "execution_count": 19,
   "id": "c87e797c-9018-4ff2-b997-9e654ceb74cd",
   "metadata": {},
   "outputs": [
    {
     "data": {
      "application/vnd.jupyter.widget-view+json": {
       "model_id": "e2abc8fff9ef4183a1ee811d0db69425",
       "version_major": 2,
       "version_minor": 0
      },
      "text/plain": [
       "  0%|          | 0/307 [00:00<?, ?it/s]"
      ]
     },
     "metadata": {},
     "output_type": "display_data"
    }
   ],
   "source": [
    "_ = batch_processing(\n",
    "    input_dir=MEASUREMENTS_PATH.joinpath('Innerfidelity', 'data', 'in-ear'),\n",
    "    output_dir=RESULTS_PATH.joinpath('Innerfidelity', 'in-ear'),\n",
    "    target=TARGETS_PATH.joinpath('Innerfidelity AutoEq in-ear.csv'),\n",
    "    bass_boost_gain=6.0, bass_boost_fc=105, bass_boost_q=0.7,\n",
    "    new_only=False, **eq_kwargs)"
   ]
  },
  {
   "cell_type": "markdown",
   "id": "e26478f6-add1-420e-b98b-b95100834922",
   "metadata": {},
   "source": [
    "#### Innerfidelity Earbud"
   ]
  },
  {
   "cell_type": "code",
   "execution_count": 20,
   "id": "f14aa0eb-9697-402b-bb81-16e42d221974",
   "metadata": {},
   "outputs": [
    {
     "data": {
      "application/vnd.jupyter.widget-view+json": {
       "model_id": "2abf983bf2d641dca4e06f7801249a3e",
       "version_major": 2,
       "version_minor": 0
      },
      "text/plain": [
       "  0%|          | 0/15 [00:00<?, ?it/s]"
      ]
     },
     "metadata": {},
     "output_type": "display_data"
    }
   ],
   "source": [
    "_ = batch_processing(\n",
    "    input_dir=MEASUREMENTS_PATH.joinpath('Innerfidelity', 'data', 'earbud'),\n",
    "    output_dir=RESULTS_PATH.joinpath('Innerfidelity', 'earbud'),\n",
    "    target=TARGETS_PATH.joinpath('Innerfidelity AutoEq in-ear.csv'),\n",
    "    bass_boost_gain=0.0, bass_boost_fc=105, bass_boost_q=0.7,\n",
    "    new_only=False, **eq_kwargs)"
   ]
  },
  {
   "cell_type": "markdown",
   "id": "f1f0178c-312b-4246-ba4d-1986cb05c14e",
   "metadata": {},
   "source": [
    "#### Headphone.com Legacy Over-ear"
   ]
  },
  {
   "cell_type": "code",
   "execution_count": 21,
   "id": "cbcf4fd0-b46e-475f-96f7-8520cf788266",
   "metadata": {},
   "outputs": [
    {
     "data": {
      "application/vnd.jupyter.widget-view+json": {
       "model_id": "b11df90eba554046a2c2d3dc626b39c6",
       "version_major": 2,
       "version_minor": 0
      },
      "text/plain": [
       "  0%|          | 0/225 [00:00<?, ?it/s]"
      ]
     },
     "metadata": {},
     "output_type": "display_data"
    }
   ],
   "source": [
    "_ = batch_processing(\n",
    "    input_dir=MEASUREMENTS_PATH.joinpath('Headphone.com Legacy', 'data', 'over-ear'),\n",
    "    output_dir=RESULTS_PATH.joinpath('Headphone.com Legacy', 'over-ear'),\n",
    "    target=TARGETS_PATH.joinpath('Headphone.com Legacy Harman over-ear 2018 without bass.csv'),\n",
    "    bass_boost_gain=6.0, bass_boost_fc=105, bass_boost_q=0.7,\n",
    "    new_only=False, **eq_kwargs)"
   ]
  },
  {
   "cell_type": "markdown",
   "id": "0433e2d2-bdc8-44e8-8a03-e6a83a795d7f",
   "metadata": {},
   "source": [
    "#### Headphone.com Legacy In-ear"
   ]
  },
  {
   "cell_type": "code",
   "execution_count": 22,
   "id": "2221cf95-b298-4c4a-a041-56a740d723e3",
   "metadata": {},
   "outputs": [
    {
     "data": {
      "application/vnd.jupyter.widget-view+json": {
       "model_id": "072970df6ec347e39e19e309d721649a",
       "version_major": 2,
       "version_minor": 0
      },
      "text/plain": [
       "  0%|          | 0/94 [00:00<?, ?it/s]"
      ]
     },
     "metadata": {},
     "output_type": "display_data"
    }
   ],
   "source": [
    "_ = batch_processing(\n",
    "    input_dir=MEASUREMENTS_PATH.joinpath('Headphone.com Legacy', 'data', 'in-ear'),\n",
    "    output_dir=RESULTS_PATH.joinpath('Headphone.com Legacy', 'in-ear'),\n",
    "    target=TARGETS_PATH.joinpath('Headphone.com Legacy AutoEq in-ear.csv'),\n",
    "    bass_boost_gain=9.5, bass_boost_fc=105, bass_boost_q=0.7,\n",
    "    new_only=False, **eq_kwargs)"
   ]
  },
  {
   "cell_type": "markdown",
   "id": "695f1c66-582e-4c5b-89a7-f31f1c7a6bb9",
   "metadata": {},
   "source": [
    "#### Headphone.com Legacy Earbud"
   ]
  },
  {
   "cell_type": "code",
   "execution_count": 23,
   "id": "c1e74a27-52aa-4cf4-876a-6f4b3b48b90f",
   "metadata": {},
   "outputs": [
    {
     "data": {
      "application/vnd.jupyter.widget-view+json": {
       "model_id": "19337acb067547b2b10f78ec42c4694e",
       "version_major": 2,
       "version_minor": 0
      },
      "text/plain": [
       "  0%|          | 0/10 [00:00<?, ?it/s]"
      ]
     },
     "metadata": {},
     "output_type": "display_data"
    }
   ],
   "source": [
    "_ = batch_processing(\n",
    "    input_dir=MEASUREMENTS_PATH.joinpath('Headphone.com Legacy', 'data', 'earbud'),\n",
    "    output_dir=RESULTS_PATH.joinpath('Headphone.com Legacy', 'earbud'),\n",
    "    target=TARGETS_PATH.joinpath('Headphone.com Legacy AutoEq in-ear.csv'),\n",
    "    bass_boost_gain=0.0, bass_boost_fc=105, bass_boost_q=0.7,\n",
    "    new_only=False, **eq_kwargs)"
   ]
  },
  {
   "cell_type": "markdown",
   "id": "5261e6b5-1e2e-4e0c-aae5-79f74b933ab1",
   "metadata": {},
   "source": [
    "#### Auriculares Argentina Over-ear"
   ]
  },
  {
   "cell_type": "code",
   "execution_count": 30,
   "id": "0fa48f04-ba33-4250-9402-5f3cea583bd5",
   "metadata": {},
   "outputs": [
    {
     "data": {
      "application/vnd.jupyter.widget-view+json": {
       "model_id": "0be0323fba8d4c15b1b2a21a3849ea21",
       "version_major": 2,
       "version_minor": 0
      },
      "text/plain": [
       "  0%|          | 0/38 [00:00<?, ?it/s]"
      ]
     },
     "metadata": {},
     "output_type": "display_data"
    }
   ],
   "source": [
    "_ = batch_processing(\n",
    "    input_dir=MEASUREMENTS_PATH.joinpath('Auriculares Argentina', 'data', 'over-ear'),\n",
    "    output_dir=RESULTS_PATH.joinpath('Auriculares Argentina', 'over-ear'),\n",
    "    target=TARGETS_PATH.joinpath('Harman over-ear 2018 without bass.csv'),\n",
    "    bass_boost_gain=6.0, bass_boost_fc=105, bass_boost_q=0.7,\n",
    "    new_only=False, **eq_kwargs)"
   ]
  },
  {
   "cell_type": "markdown",
   "id": "5ecd61ed-e920-42f6-8d47-5a4c1ac46ad9",
   "metadata": {},
   "source": [
    "## Update Indexes\n",
    "Updates recommended results, full results, DB specific results, HeSuVi results and ranking table."
   ]
  },
  {
   "cell_type": "code",
   "execution_count": 67,
   "id": "67b4aa57-c478-47b5-b140-272ef4a93b07",
   "metadata": {},
   "outputs": [
    {
     "name": "stdout",
     "output_type": "stream",
     "text": [
      "Creating webapp data...\n"
     ]
    },
    {
     "data": {
      "application/vnd.jupyter.widget-view+json": {
       "model_id": "71d5f4cea1084d63bf8aee390f33348e",
       "version_major": 2,
       "version_minor": 0
      },
      "text/plain": [
       "  0%|          | 0/3648 [00:00<?, ?it/s]"
      ]
     },
     "metadata": {},
     "output_type": "display_data"
    }
   ],
   "source": [
    "update_all_indexes()"
   ]
  },
  {
   "cell_type": "markdown",
   "id": "c631045b-8097-4bef-b6f3-6af843e386fd",
   "metadata": {},
   "source": [
    "## Deploy\n",
    "1. Add files to Git, commit and push\n",
    "2. Upload webapp data to server"
   ]
  },
  {
   "cell_type": "markdown",
   "id": "073fa29d-2ba8-4776-a7a6-efee12965acc",
   "metadata": {},
   "source": [
    "# Sandbox\n",
    "Don't run these! Random exploration while developing."
   ]
  },
  {
   "cell_type": "code",
   "execution_count": 12,
   "id": "065560de-640b-41d2-b84f-5544e6a74189",
   "metadata": {},
   "outputs": [],
   "source": [
    "from pathlib import Path\n",
    "from tqdm.auto import tqdm\n",
    "import re\n",
    "import requests\n",
    "from selenium.webdriver.common.by import By\n",
    "import json\n",
    "from bs4 import BeautifulSoup\n",
    "import numpy as np\n",
    "import json\n",
    "from autoeq.frequency_response import FrequencyResponse"
   ]
  },
  {
   "cell_type": "code",
   "execution_count": null,
   "id": "140a6f56-5c78-4e33-a4c5-512dc40fe6d9",
   "metadata": {},
   "outputs": [],
   "source": [
    "crawler = CrinacleCrawler()\n",
    "crawler.crawl()\n",
    "\n",
    "for item in crawler.crawl_index:\n",
    "    index_item = crawler.name_index.find_one(url=item.url)\n",
    "    book = crawler.book_maps[item.url.split('/')[-2]]\n",
    "    normalized_file_name = crawler.normalize_file_name(item.url.split('/')[-1])\n",
    "    source_name = book[normalized_file_name] if normalized_file_name in book else None\n",
    "    if index_item is not None and source_name is not None and index_item.source_name != source_name:\n",
    "        print(f'{index_item.source_name} --> {source_name}')\n",
    "        index_item.source_name = source_name\n",
    "crawler.write_name_index()"
   ]
  },
  {
   "cell_type": "code",
   "execution_count": 22,
   "id": "cff8dae7-464b-4324-b7b6-e2496f7d7d83",
   "metadata": {},
   "outputs": [
    {
     "name": "stdout",
     "output_type": "stream",
     "text": [
      "\"file://measurements/crinacle/raw_data/IEC60318-4 IEM Measurements (TSV txt)/1Custom Dual L.txt\"\t\"1Custom Dual\"\t\"1Custom SA02\"\t\"in-ear\"\t\"711\"\n"
     ]
    }
   ],
   "source": [
    "print(crawler.crawl_index.find_one(url='file://measurements/crinacle/raw_data/IEC60318-4 IEM Measurements (TSV txt)/1Custom Dual L.txt'))"
   ]
  },
  {
   "cell_type": "code",
   "execution_count": 23,
   "id": "96cf78a2-3caf-499e-9cd7-8f191400dabd",
   "metadata": {},
   "outputs": [
    {
     "name": "stdout",
     "output_type": "stream",
     "text": [
      "\"file://measurements/crinacle/raw_data/IEC60318-4 IEM Measurements (TSV txt)/1Custom Dual L.txt\"\t\"1Custom Dual\"\t\"1Custom SA02\"\t\"in-ear\"\t\"711\"\n"
     ]
    }
   ],
   "source": [
    "print(crawler.name_index.find_one(url='file://measurements/crinacle/raw_data/IEC60318-4 IEM Measurements (TSV txt)/1Custom Dual L.txt'))"
   ]
  },
  {
   "cell_type": "code",
   "execution_count": null,
   "id": "aebb827b-869c-4d7a-908d-4bff7e9f4ec4",
   "metadata": {},
   "outputs": [],
   "source": []
  }
 ],
 "metadata": {
  "kernelspec": {
   "display_name": "autoeq",
   "language": "python",
   "name": "autoeq"
  },
  "language_info": {
   "codemirror_mode": {
    "name": "ipython",
    "version": 3
   },
   "file_extension": ".py",
   "mimetype": "text/x-python",
   "name": "python",
   "nbconvert_exporter": "python",
   "pygments_lexer": "ipython3",
   "version": "3.11.6"
  }
 },
 "nbformat": 4,
 "nbformat_minor": 5
}

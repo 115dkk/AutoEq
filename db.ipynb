{
 "cells": [
  {
   "cell_type": "code",
   "execution_count": 1,
   "id": "a99e7791-660c-49de-b312-5b99455a5a69",
   "metadata": {},
   "outputs": [],
   "source": [
    "%load_ext autoreload\n",
    "%autoreload 2"
   ]
  },
  {
   "cell_type": "code",
   "execution_count": 2,
   "id": "83685ae7-7f31-429c-baf9-8e0a458a53dd",
   "metadata": {},
   "outputs": [],
   "source": [
    "import sys\n",
    "from pathlib import Path\n",
    "from autoeq.constants import PEQ_CONFIGS\n",
    "from autoeq.batch_processing import batch_processing\n",
    "ROOT_PATH = Path().resolve()\n",
    "import ipywidgets as widgets\n",
    "from IPython.display import display\n",
    "from measurements.rtings.rtings_crawler import RtingsCrawler\n",
    "from measurements.crinacle.crinacle_crawler import CrinacleCrawler\n",
    "from measurements.oratory1990.oratory1990_crawler import Oratory1990Crawler\n",
    "from measurements.average import average_measurements\n",
    "from measurements.rename_measurements import rename_measurements\n",
    "from results.prune_results import prune_results\n",
    "from results.update_indexes import update_all_indexes\n",
    "from webapp.create_data import write_entries_and_measurements"
   ]
  },
  {
   "cell_type": "markdown",
   "id": "10681a98-09d8-483c-a64b-5a48ef64c4e1",
   "metadata": {},
   "source": [
    "## Crawling and Parsing\n",
    "Additional Python packages are required for processing the measurements:\n",
    "```bash\n",
    "python -m pip install -U -r measurements/dev-requirements.txt\n",
    "```\n",
    "\n",
    "Measurement crawlers require [Google Chrome](https://www.google.com/chrome/) installed and\n",
    "[ChromeDriver](https://googlechromelabs.github.io/chrome-for-testing/) binary in the measurements folder (or anywhere\n",
    "in the PATH).\n",
    "\n",
    "Measurement crawlers also require C++. This should be installed by default on Linux but on Windows you need to install\n",
    "Microsoft Visual Studio build tools for this. https://visualstudio.microsoft.com/downloads/ ->\n",
    "\"Tools for Visual Studio 2019\" -> \"Build Tools for Visual Studio 2019\".\n",
    "\n",
    "oratory1990 crawler requires Ghostscript installed: https://www.ghostscript.com/download/gsdnld.html"
   ]
  },
  {
   "cell_type": "markdown",
   "id": "23534877-debf-4b7d-b5c6-a6f03e82f0c5",
   "metadata": {},
   "source": [
    "### Crinacle\n",
    "Download measurement data from Drive folder to `measurements/crinacle/raw_data/` before running this!\n",
    "\n",
    "* `IEM Measurements/IEC60318-4 IEM Measurements (TSV txt)` into `AutoEq/measurements/crinacle/raw_data/IEC60318-4 IEM Measurements (TSV txt)`\n",
    "* `IEM Measurements/4620 IEM Measurements` into `AutoEq/measurements/crinacle/raw_data/4620 IEM Measurements`\n",
    "* `HP Measurements/EARS + 711 (TSV txt) (Legacy)` into `AutoEq/measurements/crinacle/raw_data/EARS + 711 (TSV txt) (Legacy)`\n",
    "* `GRAS 43AG-7` into `AutoEq/measurements/crinacle/raw_data/GRAS 43AG-7`"
   ]
  },
  {
   "cell_type": "code",
   "execution_count": 54,
   "id": "ef4c3399-3076-461f-b3b5-5ded01991749",
   "metadata": {},
   "outputs": [
    {
     "name": "stdout",
     "output_type": "stream",
     "text": [
      "Headphones with unknown manufacturers:\n",
      "  * HD600 S3 (2020, fresh pads)\n",
      "  * HD650 S2 (2020, fresh pads)\n",
      "  * HD650 S2 (2020, worn pads)\n",
      "Add them to manufacturers.tsv and run this cell again\n"
     ]
    },
    {
     "data": {
      "application/vnd.jupyter.widget-view+json": {
       "model_id": "83fa6877ed8645c09dfcdef6abec32d4",
       "version_major": 2,
       "version_minor": 0
      },
      "text/plain": [
       "HBox(children=(VBox(children=(Button(button_style='warning', description='Sennheiser HD600', layout=Layout(wid…"
      ]
     },
     "metadata": {},
     "output_type": "display_data"
    }
   ],
   "source": [
    "crawler = CrinacleCrawler()\n",
    "crawler.process()\n",
    "display(crawler.widget)"
   ]
  },
  {
   "cell_type": "markdown",
   "id": "b8cf377f-3f03-4e66-b427-81ebdca55004",
   "metadata": {},
   "source": [
    "#### Average Measurements\n",
    "Crinacle's files have separate measurements for different units, to create one that users should be using, the different samples need to be averaged\n",
    "\n",
    "**Note** If new samples have appeared for existing headphones that had only one sample, rename the original first with the renaming tool below!"
   ]
  },
  {
   "cell_type": "code",
   "execution_count": null,
   "id": "be44dbcd-c6d6-444c-976e-861bd1463908",
   "metadata": {},
   "outputs": [],
   "source": [
    "average_measurements(input_dir=ROOT_PATH.joinpath('measurements', 'crinacle', 'data', 'over-ear', 'GRAS 43AG-7'))\n",
    "average_measurements(input_dir=ROOT_PATH.joinpath('measurements', 'crinacle', 'data', 'in-ear', '711'))\n",
    "average_measurements(input_dir=ROOT_PATH.joinpath('measurements', 'crinacle', 'data', 'in-ear', 'Bruel & Kjaer 4620'))"
   ]
  },
  {
   "cell_type": "markdown",
   "id": "15198d83-4cc2-4136-ab77-c7150f161b1a",
   "metadata": {},
   "source": [
    "### oratory1990\n",
    "oratory1990 crawler fetches all measurements from https://www.reddit.com/r/oratory1990/wiki/index/list_of_presets/, downloads PDFs and reads the frequency response measurement data from the PDFs. Parsing the PDFs requires [Ghostscript](https://www.ghostscript.com/download/gsdnld.html) to be installed on the system."
   ]
  },
  {
   "cell_type": "code",
   "execution_count": 39,
   "id": "af79e6d2-2418-44dd-bebd-dfc5db9f2cee",
   "metadata": {},
   "outputs": [
    {
     "data": {
      "application/vnd.jupyter.widget-view+json": {
       "model_id": "6c3fb03bafaf4d3d81a6a68e53c16684",
       "version_major": 2,
       "version_minor": 0
      },
      "text/plain": [
       "HBox(children=(VBox(children=(Button(button_style='warning', description='HIFIMAN Sundara (2020 revised earpad…"
      ]
     },
     "metadata": {},
     "output_type": "display_data"
    }
   ],
   "source": [
    "crawler = Oratory1990Crawler()\n",
    "crawler.process(new_only=True)\n",
    "display(crawler.widget)"
   ]
  },
  {
   "cell_type": "markdown",
   "id": "5d8bb0e4-7b99-4226-a085-02e0666bdbb7",
   "metadata": {},
   "source": [
    "### Rtings\n",
    "Rtings crawler fetches all measurements from https://www.rtings.com/headphones/1-5/graph and downloads and parses the JSON data files."
   ]
  },
  {
   "cell_type": "code",
   "execution_count": 59,
   "id": "6815db55-e73a-4d48-ac98-509a7db96474",
   "metadata": {},
   "outputs": [
    {
     "data": {
      "application/vnd.jupyter.widget-view+json": {
       "model_id": "8023615117924d719e01da3ff40f2dd6",
       "version_major": 2,
       "version_minor": 0
      },
      "text/plain": [
       "HBox(children=(VBox(children=(Button(button_style='warning', description='SteelSeries Arctis Nova Pro', layout…"
      ]
     },
     "metadata": {},
     "output_type": "display_data"
    }
   ],
   "source": [
    "crawler = RtingsCrawler()\n",
    "crawler.process()\n",
    "display(crawler.widget)"
   ]
  },
  {
   "cell_type": "markdown",
   "id": "c73d94ab-f636-4429-b2a9-88e73db27bc5",
   "metadata": {},
   "source": [
    "## Rename Measurements\n",
    "Sometimes measurements are named incorrectly or previously only one sample existed and now multiple samples have been measured and so the original one needs to be renamed as \"<name> (sample 1)\""
   ]
  },
  {
   "cell_type": "code",
   "execution_count": 86,
   "id": "cf9ecf45-112b-4956-b057-60f7071fd2cc",
   "metadata": {},
   "outputs": [
    {
     "name": "stdout",
     "output_type": "stream",
     "text": [
      "Renamed \"crinacle\\data\\in-ear\\711\\64 Audio A18s (universal) (sample 1).csv\" as \"crinacle\\data\\in-ear\\711\\64 Audio A18s (sample 1).csv\"\n",
      "Renamed \"crinacle\\data\\in-ear\\711\\64 Audio A18s (universal) (sample 2).csv\" as \"crinacle\\data\\in-ear\\711\\64 Audio A18s (sample 2).csv\"\n",
      "Renamed \"crinacle\\data\\in-ear\\711\\64 Audio tia Trio.csv\" as \"crinacle\\data\\in-ear\\711\\64 Audio tia Trio (sample 1).csv\"\n",
      "Renamed \"crinacle\\data\\in-ear\\711\\64 Audio U12t.csv\" as \"crinacle\\data\\in-ear\\711\\64 Audio U12t (sample 1).csv\"\n",
      "Renamed \"crinacle\\data\\in-ear\\711\\AAW (Advanced AcousticWerkes) A3H Plus.csv\" as \"crinacle\\data\\in-ear\\711\\AAW A3H Plus.csv\"\n",
      "Renamed \"crinacle\\data\\in-ear\\711\\AAW A3H 2019.csv\" as \"crinacle\\data\\in-ear\\711\\AAW A3H (2019).csv\"\n",
      "Renamed \"crinacle\\data\\in-ear\\711\\AAW AXH 2019.csv\" as \"crinacle\\data\\in-ear\\711\\AAW AXH (2019).csv\"\n",
      "Renamed \"innerfidelity\\data\\over-ear\\Acoustic Research AR H1.csv\" as \"innerfidelity\\data\\over-ear\\Acoustic Research AR-H1.csv\"\n",
      "Renamed \"innerfidelity\\data\\over-ear\\AKG K340 Stock.csv\" as \"innerfidelity\\data\\over-ear\\AKG K340.csv\"\n",
      "Renamed \"rtings\\data\\in-ear\\AKG K391-NC.csv\" as \"rtings\\data\\in-ear\\AKG K391NC.csv\"\n",
      "Renamed \"rtings\\data\\over-ear\\AKG K490-NC.csv\" as \"rtings\\data\\over-ear\\AKG K490NC.csv\"\n",
      "Renamed \"innerfidelity\\data\\over-ear\\AKG K601 2007.csv\" as \"innerfidelity\\data\\over-ear\\AKG K601 (2007).csv\"\n",
      "Renamed \"rtings\\data\\in-ear\\Anker SoundCore Liberty 4 NC.csv\" as \"rtings\\data\\in-ear\\Anker Soundcore Liberty 4 NC.csv\"\n",
      "Renamed \"rtings\\data\\in-ear\\Anker SoundCore Liberty Air.csv\" as \"rtings\\data\\in-ear\\Anker Soundcore Liberty Air.csv\"\n",
      "Renamed \"crinacle\\data\\in-ear\\711\\Anker SoundCore Liberty Air 2.csv\" as \"crinacle\\data\\in-ear\\711\\Anker Soundcore Liberty Air 2.csv\"\n",
      "Renamed \"oratory1990\\data\\in-ear\\Anker SoundCore Liberty Air 2.csv\" as \"oratory1990\\data\\in-ear\\Anker Soundcore Liberty Air 2.csv\"\n",
      "Renamed \"rtings\\data\\in-ear\\Anker SoundCore Liberty Air 2.csv\" as \"rtings\\data\\in-ear\\Anker Soundcore Liberty Air 2.csv\"\n",
      "Renamed \"rtings\\data\\in-ear\\Anker SoundCore Liberty Lite.csv\" as \"rtings\\data\\in-ear\\Anker Soundcore Liberty Lite.csv\"\n",
      "Renamed \"rtings\\data\\in-ear\\Anker SoundCore Life 2.csv\" as \"rtings\\data\\in-ear\\Anker Soundcore Life 2.csv\"\n",
      "Renamed \"rtings\\data\\in-ear\\Anker SoundCore Life P2.csv\" as \"rtings\\data\\in-ear\\Anker Soundcore Life P2.csv\"\n",
      "Renamed \"rtings\\data\\in-ear\\Anker SoundCore Life P3.csv\" as \"rtings\\data\\in-ear\\Anker Soundcore Life P3.csv\"\n",
      "Renamed \"rtings\\data\\over-ear\\Anker SoundCore Space NC.csv\" as \"rtings\\data\\over-ear\\Anker Soundcore Space NC.csv\"\n",
      "Renamed \"rtings\\data\\over-ear\\Anker SoundCore Space One.csv\" as \"rtings\\data\\over-ear\\Anker Soundcore Space One.csv\"\n",
      "Renamed \"innerfidelity\\data\\in-ear\\Apple In-Ear 2013.csv\" as \"innerfidelity\\data\\in-ear\\Apple In-Ear (2013).csv\"\n",
      "Renamed \"crinacle\\data\\in-ear\\711\\Astell & Kern Rosie (2 o’clock).csv\" as \"crinacle\\data\\in-ear\\711\\Astell & Kern Rosie (2 o'clock).csv\"\n",
      "Renamed \"crinacle\\data\\in-ear\\711\\Astell & Kern T8iE Mk1 (sample 1).csv\" as \"crinacle\\data\\in-ear\\711\\Astell & Kern T8iE (sample 1).csv\"\n",
      "Renamed \"crinacle\\data\\in-ear\\711\\Astell & Kern T8iE Mk1 (sample 2).csv\" as \"crinacle\\data\\in-ear\\711\\Astell & Kern T8iE (sample 2).csv\"\n",
      "Renamed \"rtings\\data\\over-ear\\ASTRO Gaming A10 Gen 2.csv\" as \"rtings\\data\\over-ear\\ASTRO Gaming A10 (Gen 2).csv\"\n",
      "Renamed \"rtings\\data\\over-ear\\ASTRO Gaming A20 Gen 2.csv\" as \"rtings\\data\\over-ear\\ASTRO Gaming A20 (Gen 2).csv\"\n",
      "Renamed \"rtings\\data\\over-ear\\ASTRO Gaming A40 2019.csv\" as \"rtings\\data\\over-ear\\ASTRO Gaming A40 (2019).csv\"\n",
      "Renamed \"rtings\\data\\over-ear\\ASTRO Gaming A50 Gen 3 2017.csv\" as \"rtings\\data\\over-ear\\ASTRO Gaming A50 (Gen 3 2017).csv\"\n",
      "Renamed \"rtings\\data\\over-ear\\ASTRO Gaming A50 Gen 4 2019.csv\" as \"rtings\\data\\over-ear\\ASTRO Gaming A50 (Gen 4 2019).csv\"\n",
      "Renamed \"innerfidelity\\data\\over-ear\\Audeze EL8 Closed.csv\" as \"innerfidelity\\data\\over-ear\\Audeze EL-8 Closed Back.csv\"\n",
      "Renamed \"innerfidelity\\data\\over-ear\\Audeze EL8 Open.csv\" as \"innerfidelity\\data\\over-ear\\Audeze EL-8 Open Back.csv\"\n",
      "Renamed \"innerfidelity\\data\\over-ear\\Audeze LCD-1 2009.csv\" as \"innerfidelity\\data\\over-ear\\Audeze LCD-1 (2009).csv\"\n",
      "Renamed \"oratory1990\\data\\over-ear\\Audeze LCD-2 (pre 2017).csv\" as \"oratory1990\\data\\over-ear\\Audeze LCD-2 (pre-2017).csv\"\n",
      "Renamed \"crinacle\\data\\over-ear\\GRAS 43AG-7\\Audeze LCD-2 (Rosewood).csv\" as \"crinacle\\data\\over-ear\\GRAS 43AG-7\\Audeze LCD-2.csv\"\n",
      "Renamed \"oratory1990\\data\\over-ear\\Audeze LCD-2 Fazor.csv\" as \"oratory1990\\data\\over-ear\\Audeze LCD-2 (Fazor).csv\"\n",
      "Renamed \"innerfidelity\\data\\over-ear\\Audeze LCD-2 Fazor.csv\" as \"innerfidelity\\data\\over-ear\\Audeze LCD-2 (Fazor).csv\"\n",
      "Renamed \"innerfidelity\\data\\over-ear\\Audeze LCD-2 Rev 2.csv\" as \"innerfidelity\\data\\over-ear\\Audeze LCD-2 (Rev 2).csv\"\n",
      "Renamed \"headphonecom\\data\\over-ear\\Audeze LCD-2 Rev 2.csv\" as \"headphonecom\\data\\over-ear\\Audeze LCD-2 (Rev 2).csv\"\n",
      "Renamed \"innerfidelity\\data\\over-ear\\Audeze LCD-3 Fazor.csv\" as \"innerfidelity\\data\\over-ear\\Audeze LCD-3 (Fazor).csv\"\n",
      "Renamed \"innerfidelity\\data\\over-ear\\Audeze LCD-3 Rev 2.csv\" as \"innerfidelity\\data\\over-ear\\Audeze LCD-3 (Rev 2).csv\"\n",
      "Renamed \"oratory1990\\data\\over-ear\\Audeze LCD-X 2021.csv\" as \"oratory1990\\data\\over-ear\\Audeze LCD-X (2021).csv\"\n",
      "Renamed \"oratory1990\\data\\over-ear\\Audeze LCD-X pre-2021.csv\" as \"oratory1990\\data\\over-ear\\Audeze LCD-X (pre-2021).csv\"\n",
      "Renamed \"oratory1990\\data\\over-ear\\Audeze LCD-XC pre-2021.csv\" as \"oratory1990\\data\\over-ear\\Audeze LCD-XC (pre-2021).csv\"\n",
      "Renamed \"innerfidelity\\data\\over-ear\\Audio Zenith PMx2.csv\" as \"innerfidelity\\data\\over-ear\\Audio Zenith PMx2 (v1).csv\"\n",
      "Renamed \"oratory1990\\data\\over-ear\\Audio Zenith PMx2 v1.csv\" as \"oratory1990\\data\\over-ear\\Audio Zenith PMx2 (v1).csv\"\n",
      "Renamed \"oratory1990\\data\\over-ear\\Audio Zenith PMx2 v2.csv\" as \"oratory1990\\data\\over-ear\\Audio Zenith PMx2 (v2).csv\"\n",
      "Renamed \"innerfidelity\\data\\over-ear\\Audio-Technica ATH-ANC50iS Passive.csv\" as \"innerfidelity\\data\\over-ear\\Audio-Technica ATH-ANC50iS (passive).csv\"\n",
      "Renamed \"rtings\\data\\over-ear\\Bang & Olufsen Beoplay H6.csv\" as \"rtings\\data\\over-ear\\Bang & Olufsen Beoplay H6 (2nd Gen).csv\"\n",
      "Renamed \"innerfidelity\\data\\over-ear\\Bang & Olufsen Beoplay H6 2nd Gen.csv\" as \"innerfidelity\\data\\over-ear\\Bang & Olufsen Beoplay H6 (2nd Gen).csv\"\n",
      "Renamed \"innerfidelity\\data\\over-ear\\Beats by Dr Dre Solo HD.csv\" as \"innerfidelity\\data\\over-ear\\Beats Solo HD.csv\"\n",
      "Renamed \"innerfidelity\\data\\over-ear\\Beats Mixr 2014.csv\" as \"innerfidelity\\data\\over-ear\\Beats Mixr.csv\"\n",
      "Renamed \"innerfidelity\\data\\over-ear\\Beats Solo II 2014.csv\" as \"innerfidelity\\data\\over-ear\\Beats Solo2 (2014).csv\"\n",
      "Renamed \"innerfidelity\\data\\over-ear\\Beats Solo3 Wired.csv\" as \"innerfidelity\\data\\over-ear\\Beats Solo3 (2016, wired).csv\"\n",
      "Renamed \"innerfidelity\\data\\over-ear\\Beats Solo3 Wireless.csv\" as \"innerfidelity\\data\\over-ear\\Beats Solo3 (2016, wireless).csv\"\n",
      "Renamed \"innerfidelity\\data\\over-ear\\Beats Studio 2 2014.csv\" as \"innerfidelity\\data\\over-ear\\Beats Studio 2 (2014).csv\"\n",
      "Renamed \"innerfidelity\\data\\over-ear\\Beats Studio 2 Bluetooth.csv\" as \"innerfidelity\\data\\over-ear\\Beats Studio 2 (Bluetooth).csv\"\n",
      "Renamed \"innerfidelity\\data\\in-ear\\Beats Tour 2014.csv\" as \"innerfidelity\\data\\in-ear\\Beats Tour (2014).csv\"\n",
      "Renamed \"innerfidelity\\data\\over-ear\\Bedphones.csv\" as \"innerfidelity\\data\\over-ear\\DubsLabs Bedphones.csv\"\n",
      "Renamed \"innerfidelity\\data\\over-ear\\Beyerdynamic DT 100 2X2kOhm.csv\" as \"innerfidelity\\data\\over-ear\\Beyerdynamic DT 100 (2x 2k Ohm).csv\"\n",
      "Renamed \"innerfidelity\\data\\over-ear\\Beyerdynamic DT 150 250 Ohm.csv\" as \"innerfidelity\\data\\over-ear\\Beyerdynamic DT 150 (250 Ohm).csv\"\n",
      "Renamed \"oratory1990\\data\\over-ear\\Beyerdynamic DT 250 250 Ohm.csv\" as \"oratory1990\\data\\over-ear\\Beyerdynamic DT 250 (250 Ohm).csv\"\n",
      "Renamed \"innerfidelity\\data\\over-ear\\Beyerdynamic DT 250 250 Ohm.csv\" as \"innerfidelity\\data\\over-ear\\Beyerdynamic DT 250 (250 Ohm).csv\"\n",
      "Renamed \"headphonecom\\data\\over-ear\\Beyerdynamic DT 250 250 Ohm.csv\" as \"headphonecom\\data\\over-ear\\Beyerdynamic DT 250 (250 Ohm).csv\"\n",
      "Renamed \"oratory1990\\data\\over-ear\\Beyerdynamic DT 250 80 Ohm.csv\" as \"oratory1990\\data\\over-ear\\Beyerdynamic DT 250 (80 Ohm).csv\"\n",
      "Renamed \"crinacle\\data\\over-ear\\GRAS 43AG-7\\Beyerdynamic DT 250 80 Ohm.csv\" as \"crinacle\\data\\over-ear\\GRAS 43AG-7\\Beyerdynamic DT 250 (80 Ohm).csv\"\n",
      "Renamed \"innerfidelity\\data\\over-ear\\Beyerdynamic DT 48 E 120 Ohm.csv\" as \"innerfidelity\\data\\over-ear\\Beyerdynamic DT 48 E (120 Ohm).csv\"\n",
      "Renamed \"innerfidelity\\data\\over-ear\\Beyerdynamic DT 48 Loose.csv\" as \"innerfidelity\\data\\over-ear\\Beyerdynamic DT 48 (loose).csv\"\n",
      "Renamed \"innerfidelity\\data\\over-ear\\Beyerdynamic DT 48 S 5 Ohm.csv\" as \"innerfidelity\\data\\over-ear\\Beyerdynamic DT 48 S (5 Ohm).csv\"\n",
      "Renamed \"oratory1990\\data\\over-ear\\Beyerdynamic DT 770 250 Ohm.csv\" as \"oratory1990\\data\\over-ear\\Beyerdynamic DT 770 Pro.csv\"\n",
      "Renamed \"crinacle\\data\\over-ear\\GRAS 43AG-7\\Beyerdynamic DT 770 250 Ohm.csv\" as \"crinacle\\data\\over-ear\\GRAS 43AG-7\\Beyerdynamic DT 770 Pro (250 Ohm).csv\"\n",
      "Renamed \"rtings\\data\\over-ear\\Beyerdynamic DT 770 250 Ohm.csv\" as \"rtings\\data\\over-ear\\Beyerdynamic DT 770 Pro (250 Ohm).csv\"\n",
      "Renamed \"headphonecom\\data\\over-ear\\Beyerdynamic DT 770 250 Ohm.csv\" as \"headphonecom\\data\\over-ear\\Beyerdynamic DT 770 Pro (250 Ohm).csv\"\n",
      "Renamed \"oratory1990\\data\\over-ear\\Beyerdynamic DT 770 250 Ohm (Dekoni hybrid earpads).csv\" as \"oratory1990\\data\\over-ear\\Beyerdynamic DT 770 Pro (Dekoni hybrid earpads).csv\"\n",
      "Renamed \"oratory1990\\data\\over-ear\\Beyerdynamic DT 770 250 Ohm (worn earpads).csv\" as \"oratory1990\\data\\over-ear\\Beyerdynamic DT 770 Pro (worn earpads).csv\"\n",
      "Renamed \"headphonecom\\data\\over-ear\\Beyerdynamic DT 770 32 Ohm.csv\" as \"headphonecom\\data\\over-ear\\Beyerdynamic DT 770 Pro (32 Ohm).csv\"\n",
      "Renamed \"innerfidelity\\data\\over-ear\\Beyerdynamic DT 770 600 Ohm.csv\" as \"innerfidelity\\data\\over-ear\\Beyerdynamic DT 770 Pro (600 Ohm).csv\"\n",
      "Renamed \"headphonecom\\data\\over-ear\\Beyerdynamic DT 770 600 Ohm.csv\" as \"headphonecom\\data\\over-ear\\Beyerdynamic DT 770 Pro (600 Ohm).csv\"\n",
      "Renamed \"crinacle\\data\\over-ear\\GRAS 43AG-7\\Beyerdynamic DT 770 80 Ohm.csv\" as \"crinacle\\data\\over-ear\\GRAS 43AG-7\\Beyerdynamic DT 770 Pro (80 Ohm).csv\"\n",
      "Renamed \"oratory1990\\data\\over-ear\\Beyerdynamic DT 770 M 80 Ohm.csv\" as \"oratory1990\\data\\over-ear\\Beyerdynamic DT 770 M.csv\"\n",
      "Renamed \"oratory1990\\data\\over-ear\\Beyerdynamic DT 880 250 Ohm.csv\" as \"oratory1990\\data\\over-ear\\Beyerdynamic DT 880.csv\"\n",
      "Renamed \"innerfidelity\\data\\over-ear\\Beyerdynamic DT 880 250 Ohm.csv\" as \"innerfidelity\\data\\over-ear\\Beyerdynamic DT 880 (250 Ohm).csv\"\n",
      "Renamed \"headphonecom\\data\\over-ear\\Beyerdynamic DT 880 250 Ohm.csv\" as \"headphonecom\\data\\over-ear\\Beyerdynamic DT 880 (250 Ohm).csv\"\n",
      "Renamed \"oratory1990\\data\\over-ear\\Beyerdynamic DT 880 250 Ohm (worn earpads).csv\" as \"oratory1990\\data\\over-ear\\Beyerdynamic DT 880 (worn earpads).csv\"\n",
      "Renamed \"rtings\\data\\over-ear\\Beyerdynamic DT 880 32 Ohm.csv\" as \"rtings\\data\\over-ear\\Beyerdynamic DT 880.csv\"\n",
      "Renamed \"crinacle\\data\\over-ear\\GRAS 43AG-7\\Beyerdynamic DT 880 32 Ohm.csv\" as \"crinacle\\data\\over-ear\\GRAS 43AG-7\\Beyerdynamic DT 880 (32 Ohm).csv\"\n",
      "Renamed \"innerfidelity\\data\\over-ear\\Beyerdynamic DT 880 32 Ohm.csv\" as \"innerfidelity\\data\\over-ear\\Beyerdynamic DT 880 (32 Ohm).csv\"\n",
      "Renamed \"headphonecom\\data\\over-ear\\Beyerdynamic DT 880 32 Ohm.csv\" as \"headphonecom\\data\\over-ear\\Beyerdynamic DT 880 (32 Ohm).csv\"\n",
      "Renamed \"innerfidelity\\data\\over-ear\\Beyerdynamic DT 880 600 Ohm.csv\" as \"innerfidelity\\data\\over-ear\\Beyerdynamic DT 880 (600 Ohm).csv\"\n",
      "Renamed \"headphonecom\\data\\over-ear\\Beyerdynamic DT 880 600 Ohm.csv\" as \"headphonecom\\data\\over-ear\\Beyerdynamic DT 880 (600 Ohm).csv\"\n",
      "Renamed \"rtings\\data\\over-ear\\Beyerdynamic DT 990 250 Ohm.csv\" as \"rtings\\data\\over-ear\\Beyerdynamic DT 990 Pro.csv\"\n",
      "Renamed \"headphonecom\\data\\over-ear\\Beyerdynamic DT 990 250 Ohm.csv\" as \"headphonecom\\data\\over-ear\\Beyerdynamic DT 990 Pro.csv\"\n",
      "Renamed \"crinacle\\data\\over-ear\\GRAS 43AG-7\\Beyerdynamic DT 990 250 Ohm.csv\" as \"crinacle\\data\\over-ear\\GRAS 43AG-7\\Beyerdynamic DT 990 Pro (250 Ohm).csv\"\n",
      "Renamed \"headphonecom\\data\\over-ear\\Beyerdynamic DT 990 600 Ohm.csv\" as \"headphonecom\\data\\over-ear\\Beyerdynamic DT 990 (600 Ohm).csv\"\n",
      "Renamed \"oratory1990\\data\\over-ear\\Beyerdynamic DT1990 (Dekoni lite Velours Earpads).csv\" as \"oratory1990\\data\\over-ear\\Beyerdynamic DT1990 (Dekoni Elite velour earpads).csv\"\n",
      "Renamed \"oratory1990\\data\\over-ear\\Beyerdynamic DT880 Black Edition.csv\" as \"oratory1990\\data\\over-ear\\Beyerdynamic DT 880 Black Edition.csv\"\n",
      "Renamed \"rtings\\data\\over-ear\\Beyerdynamic T1 2nd Generation.csv\" as \"rtings\\data\\over-ear\\Beyerdynamic T1 (2nd Gen).csv\"\n",
      "Renamed \"oratory1990\\data\\over-ear\\Beyerdynamic T1 2nd Generation.csv\" as \"oratory1990\\data\\over-ear\\Beyerdynamic T1 (2nd Gen).csv\"\n",
      "Renamed \"oratory1990\\data\\over-ear\\Beyerdynamic T1 3rd Generation.csv\" as \"oratory1990\\data\\over-ear\\Beyerdynamic T1 (3rd Gen).csv\"\n",
      "Renamed \"crinacle\\data\\over-ear\\GRAS 43AG-7\\Beyerdynamic T1 3rd Generation.csv\" as \"crinacle\\data\\over-ear\\GRAS 43AG-7\\Beyerdynamic T1 (3rd Gen).csv\"\n",
      "Renamed \"oratory1990\\data\\over-ear\\Beyerdynamic T5 3rd Generation.csv\" as \"oratory1990\\data\\over-ear\\Beyerdynamic T5 (3rd Gen).csv\"\n",
      "Renamed \"crinacle\\data\\over-ear\\GRAS 43AG-7\\Beyerdynamic T5 3rd Generation.csv\" as \"crinacle\\data\\over-ear\\GRAS 43AG-7\\Beyerdynamic T5 (3rd Gen).csv\"\n",
      "Renamed \"headphonecom\\data\\over-ear\\Beyerdynamic T70 250 Ohm.csv\" as \"headphonecom\\data\\over-ear\\Beyerdynamic T70.csv\"\n",
      "Renamed \"innerfidelity\\data\\over-ear\\Beyerdynamic T70 250 Ohm (sample 1).csv\" as \"innerfidelity\\data\\over-ear\\Beyerdynamic T70 (sample 1) .csv\"\n",
      "Renamed \"innerfidelity\\data\\over-ear\\Beyerdynamic T70 250 Ohm (serial number 01111).csv\" as \"innerfidelity\\data\\over-ear\\Beyerdynamic T70 (serial number 01111).csv\"\n",
      "Renamed \"headphonecom\\data\\over-ear\\Beyerdynamic T90 250 Ohm.csv\" as \"headphonecom\\data\\over-ear\\Beyerdynamic T90.csv\"\n",
      "Renamed \"oratory1990\\data\\in-ear\\Campfire Audio Io.csv\" as \"oratory1990\\data\\in-ear\\Campfire Audio IO.csv\"\n",
      "Renamed \"oratory1990\\data\\in-ear\\Campfire Audio Vega (Foam Eartips).csv\" as \"oratory1990\\data\\in-ear\\Campfire Audio Vega (foam eartips).csv\"\n",
      "Renamed \"innerfidelity\\data\\over-ear\\Dan Clark Audio Alpha Dog 2014.csv\" as \"innerfidelity\\data\\over-ear\\Dan Clark Audio Alpha Dog (2014).csv\"\n",
      "Renamed \"innerfidelity\\data\\over-ear\\Dan Clark Audio Mad Dog 2014.csv\" as \"innerfidelity\\data\\over-ear\\Dan Clark Audio Mad Dog (2014).csv\"\n",
      "Renamed \"innerfidelity\\data\\over-ear\\Denon AH-D2000 B2012.csv\" as \"innerfidelity\\data\\over-ear\\Denon AH-D2000 (2012).csv\"\n",
      "Renamed \"innerfidelity\\data\\over-ear\\Denon AH-D7000 B2012.csv\" as \"innerfidelity\\data\\over-ear\\Denon AH-D7000 (2012).csv\"\n",
      "Renamed \"innerfidelity\\data\\over-ear\\E-Mu Teak 2016.csv\" as \"innerfidelity\\data\\over-ear\\E-Mu Teak (2016).csv\"\n",
      "Renamed \"innerfidelity\\data\\over-ear\\E-Mu Teak Mahogany Cups.csv\" as \"innerfidelity\\data\\over-ear\\E-Mu Teak (mahogany).csv\"\n",
      "Renamed \"innerfidelity\\data\\over-ear\\E-Mu Teak Rosewood Cups.csv\" as \"innerfidelity\\data\\over-ear\\E-Mu Teak (rosewood).csv\"\n",
      "Renamed \"crinacle\\data\\in-ear\\711\\Elysian Annihilator DIO 2021.csv\" as \"crinacle\\data\\in-ear\\711\\Elysian Annihilator (2021).csv\"\n",
      "Renamed \"crinacle\\data\\in-ear\\711\\Elysian Terminator.csv\" as \"crinacle\\data\\in-ear\\711\\Elysian Terminator (sample 1).csv\"\n",
      "Renamed \"crinacle\\data\\in-ear\\711\\Fatfreq Hayabusa (bass switch on).csv\" as \"crinacle\\data\\in-ear\\711\\Fatfreq Hayabusa (bass).csv\"\n",
      "Renamed \"crinacle\\data\\in-ear\\711\\FAudio Mezzo (000 setting).csv\" as \"crinacle\\data\\in-ear\\711\\FAudio Mezzo (off-off-off).csv\"\n",
      "Renamed \"crinacle\\data\\in-ear\\711\\FAudio Mezzo (003 setting).csv\" as \"crinacle\\data\\in-ear\\711\\FAudio Mezzo (off-off-on).csv\"\n",
      "Renamed \"crinacle\\data\\in-ear\\711\\FAudio Mezzo (020 setting).csv\" as \"crinacle\\data\\in-ear\\711\\FAudio Mezzo (off-on-off).csv\"\n",
      "Renamed \"crinacle\\data\\in-ear\\711\\FAudio Mezzo (023 setting).csv\" as \"crinacle\\data\\in-ear\\711\\FAudio Mezzo (off-on-on).csv\"\n",
      "Renamed \"crinacle\\data\\in-ear\\711\\FAudio Mezzo (100 setting).csv\" as \"crinacle\\data\\in-ear\\711\\FAudio Mezzo (on-off-off).csv\"\n",
      "Renamed \"crinacle\\data\\in-ear\\711\\FAudio Mezzo (120 setting).csv\" as \"crinacle\\data\\in-ear\\711\\FAudio Mezzo (on-on-off).csv\"\n",
      "Renamed \"crinacle\\data\\in-ear\\711\\FAudio Mezzo (123 setting).csv\" as \"crinacle\\data\\in-ear\\711\\FAudio Mezzo (on-on-on).csv\"\n",
      "Renamed \"crinacle\\data\\in-ear\\711\\FAudio Minor.csv\" as \"crinacle\\data\\in-ear\\711\\FAudio Minor (sample 1).csv\"\n",
      "Renamed \"crinacle\\data\\in-ear\\711\\FiiO FH5s (all switches on).csv\" as \"crinacle\\data\\in-ear\\711\\FiiO FH5s (on-on-on).csv\"\n",
      "Renamed \"crinacle\\data\\in-ear\\711\\FiiO FH5s (bass switch on).csv\" as \"crinacle\\data\\in-ear\\711\\FiiO FH5s (on-off-off).csv\"\n",
      "Renamed \"crinacle\\data\\in-ear\\Bruel & Kjaer 4620\\FiiO FH5s (bass).csv\" as \"crinacle\\data\\in-ear\\Bruel & Kjaer 4620\\FiiO FH5s (on-off-off).csv\"\n",
      "Renamed \"crinacle\\data\\in-ear\\711\\FiiO FH5s (mid switch on).csv\" as \"crinacle\\data\\in-ear\\711\\FiiO FH5s (off-on-off).csv\"\n",
      "Renamed \"crinacle\\data\\in-ear\\Bruel & Kjaer 4620\\FiiO FH5s (mids).csv\" as \"crinacle\\data\\in-ear\\Bruel & Kjaer 4620\\FiiO FH5s (off-on-off).csv\"\n",
      "Renamed \"crinacle\\data\\in-ear\\711\\FiiO FH5s (treble switch on).csv\" as \"crinacle\\data\\in-ear\\711\\FiiO FH5s (off-off-on).csv\"\n",
      "Renamed \"crinacle\\data\\in-ear\\Bruel & Kjaer 4620\\FiiO FH5s (treble).csv\" as \"crinacle\\data\\in-ear\\Bruel & Kjaer 4620\\FiiO FH5s (off-off-on).csv\"\n",
      "Renamed \"crinacle\\data\\in-ear\\711\\Final Audio III.csv\" as \"crinacle\\data\\in-ear\\711\\Final Audio Heaven III.csv\"\n",
      "Renamed \"oratory1990\\data\\over-ear\\Final Audio UX3000 (B, ANC on).csv\" as \"oratory1990\\data\\over-ear\\Final Audio UX3000 (Bluetooth, ANC on).csv\"\n",
      "Renamed \"innerfidelity\\data\\in-ear\\FLC Technology FLC8 Bk Gy Bk.csv\" as \"innerfidelity\\data\\in-ear\\FLC Technology FLC8 (pop-rap, black LF, grey ULF, black HF).csv\"\n",
      "Renamed \"innerfidelity\\data\\in-ear\\FLC Technology FLC8 C C Bk Ligh.csv\" as \"innerfidelity\\data\\in-ear\\FLC Technology FLC8 (light, grey LF, grey ULF, blue HF).csv\"\n",
      "Renamed \"innerfidelity\\data\\in-ear\\FLC Technology FLC8 C C Gn Strin.csv\" as \"innerfidelity\\data\\in-ear\\FLC Technology FLC8 (strings-piano, clear LF, clear LF, green HF).csv\"\n",
      "Renamed \"innerfidelity\\data\\in-ear\\FLC Technology FLC8 CCY Voca.csv\" as \"innerfidelity\\data\\in-ear\\FLC Technology FLC8 (vocals, clear LF, clear ULF, yellow HF).csv\"\n",
      "Renamed \"innerfidelity\\data\\in-ear\\FLC Technology FLC8 G G Bk De.csv\" as \"innerfidelity\\data\\in-ear\\FLC Technology FLC8 (gray LF, grey ULF, black HF).csv\"\n",
      "Renamed \"innerfidelity\\data\\in-ear\\FLC Technology FLC8 GGBl.csv\" as \"innerfidelity\\data\\in-ear\\FLC Technology FLC8 (gray LF, grey ULF, blue HF).csv\"\n",
      "Renamed \"oratory1990\\data\\over-ear\\Fostex TH-X00 Ebony.csv\" as \"oratory1990\\data\\over-ear\\Fostex TH-X00 (ebony).csv\"\n",
      "Renamed \"oratory1990\\data\\over-ear\\Fostex TH-X00 Mahogany.csv\" as \"oratory1990\\data\\over-ear\\Fostex TH-X00 (mahogany).csv\"\n",
      "Renamed \"innerfidelity\\data\\over-ear\\Fostex TH-X00 Mahogany (sample 1).csv\" as \"innerfidelity\\data\\over-ear\\Fostex TH-X00 (mahogany) (sample 1).csv\"\n",
      "Renamed \"innerfidelity\\data\\over-ear\\Fostex TH-X00 Mahogany (serial number 1927).csv\" as \"innerfidelity\\data\\over-ear\\Fostex TH-X00 (mahogany) (serial number 1927).csv\"\n",
      "Renamed \"oratory1990\\data\\over-ear\\Fostex TH-X00 Purpleheart.csv\" as \"oratory1990\\data\\over-ear\\Fostex TH-X00 (purpleheart).csv\"\n",
      "Renamed \"crinacle\\data\\over-ear\\GRAS 43AG-7\\Gold Planar GL2000 (leather earpads).csv\" as \"crinacle\\data\\over-ear\\GRAS 43AG-7\\Gold Planar GL2000 (single-sided, leather earpads).csv\"\n",
      "Renamed \"crinacle\\data\\over-ear\\GRAS 43AG-7\\Gold Planar GL2000 (perforated hybrid earpads).csv\" as \"crinacle\\data\\over-ear\\GRAS 43AG-7\\Gold Planar GL2000 (single-sided, perforated hybrid earpads).csv\"\n",
      "Renamed \"crinacle\\data\\over-ear\\GRAS 43AG-7\\Gold Planar GL2000 double-sided (leather earpads).csv\" as \"crinacle\\data\\over-ear\\GRAS 43AG-7\\Gold Planar GL2000 (double-sided, leather earpads).csv\"\n",
      "Renamed \"crinacle\\data\\over-ear\\GRAS 43AG-7\\Gold Planar GL2000 double-sided (perforated hybrid earpads).csv\" as \"crinacle\\data\\over-ear\\GRAS 43AG-7\\Gold Planar GL2000 (double-sided, perforated hybrid earpads).csv\"\n",
      "Renamed \"rtings\\data\\in-ear\\Google Pixel Buds 2017.csv\" as \"rtings\\data\\in-ear\\Google Pixel Buds (2017).csv\"\n",
      "Renamed \"rtings\\data\\in-ear\\Google Pixel Buds 2020.csv\" as \"rtings\\data\\in-ear\\Google Pixel Buds (2020).csv\"\n",
      "Renamed \"oratory1990\\data\\over-ear\\HIFIMAN Arya Stealth.csv\" as \"oratory1990\\data\\over-ear\\HIFIMAN Arya Stealth Magnet Version.csv\"\n",
      "Renamed \"crinacle\\data\\over-ear\\GRAS 43AG-7\\HIFIMAN Arya Stealth.csv\" as \"crinacle\\data\\over-ear\\GRAS 43AG-7\\HIFIMAN Arya Stealth Magnet Version.csv\"\n",
      "Renamed \"rtings\\data\\over-ear\\HIFIMAN Arya Stealth.csv\" as \"rtings\\data\\over-ear\\HIFIMAN Arya Stealth Magnet Version.csv\"\n",
      "Renamed \"crinacle\\data\\over-ear\\GRAS 43AG-7\\HIFIMAN Deva (passive).csv\" as \"crinacle\\data\\over-ear\\GRAS 43AG-7\\HIFIMAN Deva (wired).csv\"\n",
      "Renamed \"oratory1990\\data\\over-ear\\HIFIMAN HE400i 2016.csv\" as \"oratory1990\\data\\over-ear\\HIFIMAN HE400i (2016).csv\"\n",
      "Renamed \"crinacle\\data\\over-ear\\GRAS 43AG-7\\HIFIMAN HE400i 2016.csv\" as \"crinacle\\data\\over-ear\\GRAS 43AG-7\\HIFIMAN HE400i (2016).csv\"\n",
      "Renamed \"oratory1990\\data\\over-ear\\HIFIMAN HE400i 2020.csv\" as \"oratory1990\\data\\over-ear\\HIFIMAN HE400i (2020).csv\"\n",
      "Renamed \"crinacle\\data\\over-ear\\GRAS 43AG-7\\HIFIMAN HE400i 2020.csv\" as \"crinacle\\data\\over-ear\\GRAS 43AG-7\\HIFIMAN HE400i (2020).csv\"\n",
      "Renamed \"crinacle\\data\\over-ear\\GRAS 43AG-7\\HIFIMAN HE560 V1.csv\" as \"crinacle\\data\\over-ear\\GRAS 43AG-7\\HIFIMAN HE560 V1 (sample 1).csv\"\n",
      "Renamed \"innerfidelity\\data\\over-ear\\HIFIMAN Sundara.csv\" as \"innerfidelity\\data\\over-ear\\HIFIMAN Sundara (2018).csv\"\n",
      "Renamed \"crinacle\\data\\over-ear\\GRAS 43AG-7\\HIFIMAN Susvara.csv\" as \"crinacle\\data\\over-ear\\GRAS 43AG-7\\HIFIMAN Susvara (sample 1).csv\"\n",
      "Renamed \"crinacle\\data\\in-ear\\711\\JH Audio 13v2 (2 o’clock).csv\" as \"crinacle\\data\\in-ear\\711\\JH Audio 13v2 (2 o'clock).csv\"\n",
      "Renamed \"crinacle\\data\\in-ear\\711\\JH Audio 16v2 (2 o’clock).csv\" as \"crinacle\\data\\in-ear\\711\\JH Audio 16v2 (2 o'clock).csv\"\n",
      "Renamed \"crinacle\\data\\in-ear\\711\\JH Audio Angie (2 o’clock).csv\" as \"crinacle\\data\\in-ear\\711\\JH Audio Angie (2 o'clock).csv\"\n",
      "Renamed \"crinacle\\data\\in-ear\\711\\JH Audio Layla (2 o’clock).csv\" as \"crinacle\\data\\in-ear\\711\\JH Audio Layla (2 o'clock).csv\"\n",
      "Renamed \"crinacle\\data\\in-ear\\711\\JH Audio Layla AION (2 o’clock).csv\" as \"crinacle\\data\\in-ear\\711\\JH Audio Layla AION (2 o'clock).csv\"\n",
      "Renamed \"crinacle\\data\\in-ear\\711\\JH Audio Lola (2 o’clock).csv\" as \"crinacle\\data\\in-ear\\711\\JH Audio Lola (2 o'clock).csv\"\n",
      "Renamed \"crinacle\\data\\in-ear\\711\\JH Audio Roxanne (2 o’clock).csv\" as \"crinacle\\data\\in-ear\\711\\JH Audio Roxanne (2 o'clock).csv\"\n",
      "Renamed \"crinacle\\data\\in-ear\\711\\JQ Hua Jiang (sample 2).csv\" as \"crinacle\\data\\in-ear\\711\\JQ Hua Jiang.csv\"\n",
      "Renamed \"crinacle\\data\\in-ear\\711\\Kumitate Lab KL-Focus Setting 2.csv\" as \"crinacle\\data\\in-ear\\711\\Kumitate Lab KL-Focus (setting 2).csv\"\n",
      "Renamed \"crinacle\\data\\in-ear\\711\\Kumitate Lab KL-Focus Setting 3.csv\" as \"crinacle\\data\\in-ear\\711\\Kumitate Lab KL-Focus (setting 3).csv\"\n",
      "Renamed \"crinacle\\data\\in-ear\\711\\Mofasest M14 (00 setting).csv\" as \"crinacle\\data\\in-ear\\711\\Mofasest M14 (off-off).csv\"\n",
      "Renamed \"crinacle\\data\\in-ear\\711\\Mofasest M14 (02 setting).csv\" as \"crinacle\\data\\in-ear\\711\\Mofasest M14 (off-on).csv\"\n",
      "Renamed \"crinacle\\data\\in-ear\\711\\Mofasest M14 (10 setting).csv\" as \"crinacle\\data\\in-ear\\711\\Mofasest M14 (on-off).csv\"\n",
      "Renamed \"crinacle\\data\\in-ear\\711\\Mofasest M14 (12 setting).csv\" as \"crinacle\\data\\in-ear\\711\\Mofasest M14 (on-on).csv\"\n",
      "Renamed \"crinacle\\data\\in-ear\\711\\Moondrop Aria 2021.csv\" as \"crinacle\\data\\in-ear\\711\\Moondrop Aria (2021).csv\"\n",
      "Renamed \"rtings\\data\\in-ear\\Moondrop Aria 2021.csv\" as \"rtings\\data\\in-ear\\Moondrop Aria.csv\"\n",
      "Renamed \"innerfidelity\\data\\over-ear\\Philips Fidelio M1 Mk1 2012.csv\" as \"innerfidelity\\data\\over-ear\\Philips Fidelio M1.csv\"\n",
      "Renamed \"innerfidelity\\data\\in-ear\\Philips Fidelio S2 2013.csv\" as \"innerfidelity\\data\\in-ear\\Philips Fidelio S2 (2013).csv\"\n",
      "Renamed \"innerfidelity\\data\\in-ear\\Philips Fidelio S2 Early 2013.csv\" as \"innerfidelity\\data\\in-ear\\Philips Fidelio S2 (early 2013).csv\"\n",
      "Renamed \"crinacle\\data\\in-ear\\711\\qdc Anole V14 (0000 setting).csv\" as \"crinacle\\data\\in-ear\\711\\qdc Anole V14 (off-off-off-off).csv\"\n",
      "Renamed \"crinacle\\data\\in-ear\\711\\qdc Anole V14 (0004 setting).csv\" as \"crinacle\\data\\in-ear\\711\\qdc Anole V14 (off-off-off-on).csv\"\n",
      "Renamed \"crinacle\\data\\in-ear\\711\\qdc Anole V14 (0030 setting).csv\" as \"crinacle\\data\\in-ear\\711\\qdc Anole V14 (off-off-on-off).csv\"\n",
      "Renamed \"crinacle\\data\\in-ear\\711\\qdc Anole V14 (0200 setting).csv\" as \"crinacle\\data\\in-ear\\711\\qdc Anole V14 (off-on-off-off).csv\"\n",
      "Renamed \"crinacle\\data\\in-ear\\711\\qdc Anole V14 (1000 setting).csv\" as \"crinacle\\data\\in-ear\\711\\qdc Anole V14 (on-off-off-off).csv\"\n",
      "Renamed \"crinacle\\data\\in-ear\\711\\qdc Anole V14 (1234 setting).csv\" as \"crinacle\\data\\in-ear\\711\\qdc Anole V14 (on-on-on-on).csv\"\n",
      "Renamed \"crinacle\\data\\in-ear\\711\\qdc Anole VX All.csv\" as \"crinacle\\data\\in-ear\\711\\qdc Anole VX (all).csv\"\n",
      "Renamed \"crinacle\\data\\in-ear\\711\\qdc Dmagic (sample 2).csv\" as \"crinacle\\data\\in-ear\\711\\qdc Dmagic.csv\"\n",
      "Renamed \"crinacle\\data\\in-ear\\711\\QKZ VK4 Revised (sample 1).csv\" as \"crinacle\\data\\in-ear\\711\\QKZ VK4 (revised) (sample 1).csv\"\n",
      "Renamed \"crinacle\\data\\in-ear\\711\\QKZ VK4 Revised (sample 2).csv\" as \"crinacle\\data\\in-ear\\711\\QKZ VK4 (revised) (sample 2).csv\"\n",
      "Renamed \"rtings\\data\\in-ear\\Razer Hammerhead True Wireless 2019.csv\" as \"rtings\\data\\in-ear\\Razer Hammerhead True Wireless (2019).csv\"\n",
      "Renamed \"rtings\\data\\in-ear\\Razer Hammerhead True Wireless 2021.csv\" as \"rtings\\data\\in-ear\\Razer Hammerhead True Wireless (2021).csv\"\n",
      "Renamed \"rtings\\data\\over-ear\\Razer Man O' War.csv\" as \"rtings\\data\\over-ear\\Razer ManO'War.csv\"\n",
      "Renamed \"crinacle\\data\\in-ear\\711\\Samsung EO-IG955 (AKG).csv\" as \"crinacle\\data\\in-ear\\711\\Samsung AKG EO-IG955.csv\"\n",
      "Renamed \"oratory1990\\data\\in-ear\\Samsung EO-IG955 (AKG).csv\" as \"oratory1990\\data\\in-ear\\Samsung AKG EO-IG955.csv\"\n",
      "Renamed \"crinacle\\data\\in-ear\\711\\Samsung Galaxy Buds2 Pro (bass boost EQ) (ANC mode).csv\" as \"crinacle\\data\\in-ear\\711\\Samsung Galaxy Buds2 Pro (bass boost EQ, ANC mode).csv\"\n",
      "Renamed \"crinacle\\data\\in-ear\\711\\Samsung Galaxy Buds2 Pro (blear EQ) (ANC mode).csv\" as \"crinacle\\data\\in-ear\\711\\Samsung Galaxy Buds2 Pro (blear EQ, ANC mode).csv\"\n",
      "Renamed \"crinacle\\data\\in-ear\\711\\Samsung Galaxy Buds2 Pro (dynamic EQ) (ANC mode).csv\" as \"crinacle\\data\\in-ear\\711\\Samsung Galaxy Buds2 Pro (dynamic EQ, ANC mode).csv\"\n",
      "Renamed \"crinacle\\data\\in-ear\\711\\Samsung Galaxy Buds2 Pro (Passive mode).csv\" as \"crinacle\\data\\in-ear\\711\\Samsung Galaxy Buds2 Pro (passive mode).csv\"\n",
      "Renamed \"crinacle\\data\\in-ear\\711\\Samsung Galaxy Buds2 Pro (soft EQ) (ANC mode).csv\" as \"crinacle\\data\\in-ear\\711\\Samsung Galaxy Buds2 Pro (soft EQ, ANC mode).csv\"\n",
      "Renamed \"crinacle\\data\\in-ear\\711\\Samsung Galaxy Buds2 Pro (treble boost EQ) (ANC mode).csv\" as \"crinacle\\data\\in-ear\\711\\Samsung Galaxy Buds2 Pro (treble boost EQ, ANC mode).csv\"\n",
      "Renamed \"crinacle\\data\\in-ear\\711\\Samsung Galaxy Buds2 Pro (treble boost EQ) (ANC mode) (sample 1).csv\" as \"crinacle\\data\\in-ear\\711\\Samsung Galaxy Buds2 Pro (treble boost EQ, ANC mode) (sample 1).csv\"\n",
      "Renamed \"innerfidelity\\data\\over-ear\\Sennheiser HD 25-1 II B (2012 model).csv\" as \"innerfidelity\\data\\over-ear\\Sennheiser HD 25-1 II B (2012).csv\"\n",
      "Renamed \"rtings\\data\\in-ear\\Sennheiser IE 40 PRO.csv\" as \"rtings\\data\\in-ear\\Sennheiser IE 40 Pro.csv\"\n",
      "Renamed \"headphonecom\\data\\over-ear\\Sennheiser MM 550 Travel Bluetooth NC.csv\" as \"headphonecom\\data\\over-ear\\Sennheiser MM 550.csv\"\n",
      "Renamed \"crinacle\\data\\over-ear\\GRAS 43AG-7\\Sennheiser Momentum 4 Wireless (active).csv\" as \"crinacle\\data\\over-ear\\GRAS 43AG-7\\Sennheiser Momentum 4 Wireless.csv\"\n",
      "Renamed \"crinacle\\data\\in-ear\\711\\Shanling ME800 (00 setting).csv\" as \"crinacle\\data\\in-ear\\711\\Shanling ME800 (off-off).csv\"\n",
      "Renamed \"crinacle\\data\\in-ear\\711\\Shanling ME800 (02 setting).csv\" as \"crinacle\\data\\in-ear\\711\\Shanling ME800 (off-on).csv\"\n",
      "Renamed \"crinacle\\data\\in-ear\\711\\Shanling ME800 (10 setting).csv\" as \"crinacle\\data\\in-ear\\711\\Shanling ME800 (on-off).csv\"\n",
      "Renamed \"crinacle\\data\\in-ear\\711\\Shanling ME800 (12 setting).csv\" as \"crinacle\\data\\in-ear\\711\\Shanling ME800 (on-on).csv\"\n",
      "Renamed \"crinacle\\data\\in-ear\\711\\Sony WF-1000XM3 NC.csv\" as \"crinacle\\data\\in-ear\\711\\Sony WF-1000XM3 (ANC on).csv\"\n",
      "Renamed \"crinacle\\data\\in-ear\\711\\Stax SR-001 Mk1 CES (stock).csv\" as \"crinacle\\data\\in-ear\\711\\Stax SR-001 Mk1 CES (CES-A1).csv\"\n",
      "Renamed \"oratory1990\\data\\in-ear\\Stax SR-003MK2 (CES-A1 closedback adapter).csv\" as \"oratory1990\\data\\in-ear\\Stax SR-003MK2 (CES-A1).csv\"\n",
      "Renamed \"crinacle\\data\\in-ear\\711\\ThieAudio Legacy 3 (00 setting).csv\" as \"crinacle\\data\\in-ear\\711\\ThieAudio Legacy 3 (off-off).csv\"\n",
      "Renamed \"crinacle\\data\\in-ear\\711\\ThieAudio Legacy 3 (02 setting).csv\" as \"crinacle\\data\\in-ear\\711\\ThieAudio Legacy 3 (off-on).csv\"\n",
      "Renamed \"crinacle\\data\\in-ear\\711\\ThieAudio Legacy 3 (10 setting).csv\" as \"crinacle\\data\\in-ear\\711\\ThieAudio Legacy 3 (on-off).csv\"\n",
      "Renamed \"crinacle\\data\\in-ear\\711\\ThieAudio Legacy 3 (12 setting).csv\" as \"crinacle\\data\\in-ear\\711\\ThieAudio Legacy 3 (on-on).csv\"\n",
      "Renamed \"crinacle\\data\\in-ear\\711\\ThieAudio Legacy 3 (CIEM, 00 setting).csv\" as \"crinacle\\data\\in-ear\\711\\ThieAudio Legacy 3 (CIEM, off-off).csv\"\n",
      "Renamed \"crinacle\\data\\in-ear\\711\\ThieAudio Legacy 3 (CIEM, 02 setting).csv\" as \"crinacle\\data\\in-ear\\711\\ThieAudio Legacy 3 (CIEM, off-on).csv\"\n",
      "Renamed \"crinacle\\data\\in-ear\\711\\ThieAudio Legacy 3 (CIEM, 10 setting).csv\" as \"crinacle\\data\\in-ear\\711\\ThieAudio Legacy 3 (CIEM, on-off).csv\"\n",
      "Renamed \"crinacle\\data\\in-ear\\711\\ThieAudio Legacy 3 (CIEM, 12 setting).csv\" as \"crinacle\\data\\in-ear\\711\\ThieAudio Legacy 3 (CIEM, on-on).csv\"\n",
      "Renamed \"crinacle\\data\\in-ear\\Bruel & Kjaer 4620\\ThieAudio Legacy 3 (universal, 00 setting).csv\" as \"crinacle\\data\\in-ear\\Bruel & Kjaer 4620\\ThieAudio Legacy 3 (off-off).csv\"\n",
      "Renamed \"crinacle\\data\\in-ear\\Bruel & Kjaer 4620\\ThieAudio Legacy 3 (universal, 02 setting).csv\" as \"crinacle\\data\\in-ear\\Bruel & Kjaer 4620\\ThieAudio Legacy 3 (off-on).csv\"\n",
      "Renamed \"crinacle\\data\\in-ear\\Bruel & Kjaer 4620\\ThieAudio Legacy 3 (universal, 10 setting).csv\" as \"crinacle\\data\\in-ear\\Bruel & Kjaer 4620\\ThieAudio Legacy 3 (on-off).csv\"\n",
      "Renamed \"crinacle\\data\\in-ear\\Bruel & Kjaer 4620\\ThieAudio Legacy 3 (universal, 12 setting).csv\" as \"crinacle\\data\\in-ear\\Bruel & Kjaer 4620\\ThieAudio Legacy 3 (on-on).csv\"\n",
      "Renamed \"crinacle\\data\\in-ear\\711\\ThieAudio Voyager 14 (00 setting).csv\" as \"crinacle\\data\\in-ear\\711\\ThieAudio Voyager 14 (off-off).csv\"\n",
      "Renamed \"crinacle\\data\\in-ear\\711\\ThieAudio Voyager 14 (02 setting).csv\" as \"crinacle\\data\\in-ear\\711\\ThieAudio Voyager 14 (off-on).csv\"\n",
      "Renamed \"crinacle\\data\\in-ear\\711\\ThieAudio Voyager 14 (10 setting).csv\" as \"crinacle\\data\\in-ear\\711\\ThieAudio Voyager 14 (on-off).csv\"\n",
      "Renamed \"crinacle\\data\\in-ear\\711\\ThieAudio Voyager 14 (12 setting).csv\" as \"crinacle\\data\\in-ear\\711\\ThieAudio Voyager 14 (on-on).csv\"\n",
      "Renamed \"crinacle\\data\\in-ear\\711\\TRI Starsea (00 setting).csv\" as \"crinacle\\data\\in-ear\\711\\TRI Starsea (off-off).csv\"\n",
      "Renamed \"crinacle\\data\\in-ear\\711\\TRI Starsea (02 setting).csv\" as \"crinacle\\data\\in-ear\\711\\TRI Starsea (off-on).csv\"\n",
      "Renamed \"crinacle\\data\\in-ear\\711\\TRI Starsea (10 setting).csv\" as \"crinacle\\data\\in-ear\\711\\TRI Starsea (on-off).csv\"\n",
      "Renamed \"crinacle\\data\\in-ear\\711\\TRI Starsea (12 setting).csv\" as \"crinacle\\data\\in-ear\\711\\TRI Starsea (on-on).csv\"\n",
      "Renamed \"crinacle\\data\\in-ear\\711\\Unique Melody MEST (universal).csv\" as \"crinacle\\data\\in-ear\\711\\Unique Melody MEST.csv\"\n",
      "Renamed \"crinacle\\data\\in-ear\\711\\Yanyin Canon (000 setting).csv\" as \"crinacle\\data\\in-ear\\711\\Yanyin Canon (off-off-off).csv\"\n",
      "Renamed \"crinacle\\data\\in-ear\\711\\Yanyin Canon (003 setting).csv\" as \"crinacle\\data\\in-ear\\711\\Yanyin Canon (off-off-on).csv\"\n",
      "Renamed \"crinacle\\data\\in-ear\\711\\Yanyin Canon (020 setting).csv\" as \"crinacle\\data\\in-ear\\711\\Yanyin Canon (off-on-off).csv\"\n",
      "Renamed \"crinacle\\data\\in-ear\\711\\Yanyin Canon (100 setting).csv\" as \"crinacle\\data\\in-ear\\711\\Yanyin Canon (on-off-off).csv\"\n",
      "Renamed \"crinacle\\data\\in-ear\\711\\Yanyin Canon (123 setting).csv\" as \"crinacle\\data\\in-ear\\711\\Yanyin Canon (on-on-on).csv\"\n"
     ]
    }
   ],
   "source": [
    "renames = [\n",
    "    {'old_name': '64 Audio A18s (universal) (sample 1)', 'new_name': '64 Audio A18s (sample 1)', 'dbs': ['crinacle']},\n",
    "    {'old_name': '64 Audio A18s (universal) (sample 2)', 'new_name': '64 Audio A18s (sample 2)', 'dbs': ['crinacle']},\n",
    "    {'old_name': '64 Audio tia Trio', 'new_name': '64 Audio tia Trio (sample 1)', 'dbs': ['crinacle']},\n",
    "    {'old_name': '64 Audio U12t', 'new_name': '64 Audio U12t (sample 1)', 'dbs': ['crinacle']},\n",
    "    {'old_name': 'AAW (Advanced AcousticWerkes) A3H Plus', 'new_name': 'AAW A3H Plus', 'dbs': ['crinacle']},\n",
    "    {'old_name': 'AAW A3H 2019', 'new_name': 'AAW A3H (2019)', 'dbs': ['crinacle']},\n",
    "    {'old_name': 'AAW AXH 2019', 'new_name': 'AAW AXH (2019)', 'dbs': ['crinacle']},\n",
    "    {'old_name': 'Acoustic Research AR H1', 'new_name': 'Acoustic Research AR-H1', 'dbs': ['innerfidelity']},\n",
    "    {'old_name': 'AKG K340 Stock', 'new_name': 'AKG K340', 'dbs': ['innerfidelity']},\n",
    "    {'old_name': 'AKG K391-NC', 'new_name': 'AKG K391NC', 'dbs': ['rtings']},\n",
    "    {'old_name': 'AKG K490-NC', 'new_name': 'AKG K490NC', 'dbs': ['rtings']},\n",
    "    {'old_name': 'AKG K601 2007', 'new_name': 'AKG K601 (2007)', 'dbs': ['innerfidelity']},\n",
    "    {'old_name': 'Anker SoundCore Liberty 4 NC', 'new_name': 'Anker Soundcore Liberty 4 NC', 'dbs': ['rtings']},\n",
    "    {'old_name': 'Anker SoundCore Liberty Air', 'new_name': 'Anker Soundcore Liberty Air', 'dbs': ['rtings']},\n",
    "    {'old_name': 'Anker SoundCore Liberty Air 2', 'new_name': 'Anker Soundcore Liberty Air 2', 'dbs': ['crinacle', 'oratory1990', 'rtings']},\n",
    "    {'old_name': 'Anker SoundCore Liberty Lite', 'new_name': 'Anker Soundcore Liberty Lite', 'dbs': ['rtings']},\n",
    "    {'old_name': 'Anker SoundCore Life 2', 'new_name': 'Anker Soundcore Life 2', 'dbs': ['rtings']},\n",
    "    {'old_name': 'Anker SoundCore Life P2', 'new_name': 'Anker Soundcore Life P2', 'dbs': ['rtings']},\n",
    "    {'old_name': 'Anker SoundCore Life P3', 'new_name': 'Anker Soundcore Life P3', 'dbs': ['rtings']},\n",
    "    {'old_name': 'Anker SoundCore Space NC', 'new_name': 'Anker Soundcore Space NC', 'dbs': ['rtings']},\n",
    "    {'old_name': 'Anker SoundCore Space One', 'new_name': 'Anker Soundcore Space One', 'dbs': ['rtings']},\n",
    "    {'old_name': 'Apple In-Ear 2013', 'new_name': 'Apple In-Ear (2013)', 'dbs': ['innerfidelity']},\n",
    "    {'old_name': 'Astell & Kern Rosie (2 o’clock)', 'new_name': 'Astell & Kern Rosie (2 o\\'clock)', 'dbs': ['crinacle']},\n",
    "    {'old_name': 'Astell & Kern T8iE Mk1 (sample 1)', 'new_name': 'Astell & Kern T8iE (sample 1)', 'dbs': ['crinacle']},\n",
    "    {'old_name': 'Astell & Kern T8iE Mk1 (sample 2)', 'new_name': 'Astell & Kern T8iE (sample 2)', 'dbs': ['crinacle']},\n",
    "    {'old_name': 'ASTRO Gaming A10 Gen 2', 'new_name': 'ASTRO Gaming A10 (Gen 2)', 'dbs': ['rtings']},\n",
    "    {'old_name': 'ASTRO Gaming A20 Gen 2', 'new_name': 'ASTRO Gaming A20 (Gen 2)', 'dbs': ['rtings']},\n",
    "    {'old_name': 'ASTRO Gaming A40 2019', 'new_name': 'ASTRO Gaming A40 (2019)', 'dbs': ['rtings']},\n",
    "    {'old_name': 'ASTRO Gaming A50 Gen 3 2017', 'new_name': 'ASTRO Gaming A50 (Gen 3 2017)', 'dbs': ['rtings']},\n",
    "    {'old_name': 'ASTRO Gaming A50 Gen 4 2019', 'new_name': 'ASTRO Gaming A50 (Gen 4 2019)', 'dbs': ['rtings']},\n",
    "    {'old_name': 'Audeze EL8 Closed', 'new_name': 'Audeze EL-8 Closed Back', 'dbs': ['innerfidelity']},\n",
    "    {'old_name': 'Audeze EL8 Open', 'new_name': 'Audeze EL-8 Open Back', 'dbs': ['innerfidelity']},\n",
    "    {'old_name': 'Audeze LCD-1 2009', 'new_name': 'Audeze LCD-1 (2009)', 'dbs': ['innerfidelity']},\n",
    "    {'old_name': 'Audeze LCD-2 (pre 2017)', 'new_name': 'Audeze LCD-2 (pre-2017)', 'dbs': ['oratory1990']},\n",
    "    {'old_name': 'Audeze LCD-2 (Rosewood)', 'new_name': 'Audeze LCD-2', 'dbs': ['crinacle']},\n",
    "    {'old_name': 'Audeze LCD-2 Fazor', 'new_name': 'Audeze LCD-2 (Fazor)', 'dbs': ['oratory1990', 'innerfidelity']},\n",
    "    {'old_name': 'Audeze LCD-2 Rev 2', 'new_name': 'Audeze LCD-2 (Rev 2)', 'dbs': ['innerfidelity', 'headphonecom']},\n",
    "    {'old_name': 'Audeze LCD-3 Fazor', 'new_name': 'Audeze LCD-3 (Fazor)', 'dbs': ['innerfidelity']},\n",
    "    {'old_name': 'Audeze LCD-3 Rev 2', 'new_name': 'Audeze LCD-3 (Rev 2)', 'dbs': ['innerfidelity']},\n",
    "    {'old_name': 'Audeze LCD-X 2021', 'new_name': 'Audeze LCD-X (2021)', 'dbs': ['oratory1990']},\n",
    "    {'old_name': 'Audeze LCD-X pre-2021', 'new_name': 'Audeze LCD-X (pre-2021)', 'dbs': ['oratory1990']},\n",
    "    {'old_name': 'Audeze LCD-XC pre-2021', 'new_name': 'Audeze LCD-XC (pre-2021)', 'dbs': ['oratory1990']},\n",
    "    {'old_name': 'Audio Zenith PMx2', 'new_name': 'Audio Zenith PMx2 (v1)', 'dbs': ['innerfidelity']},\n",
    "    {'old_name': 'Audio Zenith PMx2 v1', 'new_name': 'Audio Zenith PMx2 (v1)', 'dbs': ['oratory1990']},\n",
    "    {'old_name': 'Audio Zenith PMx2 v2', 'new_name': 'Audio Zenith PMx2 (v2)', 'dbs': ['oratory1990']},\n",
    "    {'old_name': 'Audio-Technica ATH-ANC50iS Passive', 'new_name': 'Audio-Technica ATH-ANC50iS (passive)', 'dbs': ['innerfidelity']},\n",
    "    {'old_name': 'Bang & Olufsen Beoplay H6', 'new_name': 'Bang & Olufsen Beoplay H6 (2nd Gen)', 'dbs': ['rtings']},\n",
    "    {'old_name': 'Bang & Olufsen Beoplay H6 2nd Gen', 'new_name': 'Bang & Olufsen Beoplay H6 (2nd Gen)', 'dbs': ['innerfidelity']},\n",
    "    {'old_name': 'Beats by Dr Dre Solo HD', 'new_name': 'Beats Solo HD', 'dbs': ['innerfidelity']},\n",
    "    {'old_name': 'Beats Mixr 2014', 'new_name': 'Beats Mixr', 'dbs': ['innerfidelity']},\n",
    "    {'old_name': 'Beats Solo II 2014', 'new_name': 'Beats Solo2 (2014)', 'dbs': ['innerfidelity']},\n",
    "    {'old_name': 'Beats Solo3 Wired', 'new_name': 'Beats Solo3 (2016, wired)', 'dbs': ['innerfidelity']},\n",
    "    {'old_name': 'Beats Solo3 Wireless', 'new_name': 'Beats Solo3 (2016, wireless)', 'dbs': ['innerfidelity']},\n",
    "    {'old_name': 'Beats Solo3 (wireless, 2019).csv', 'new_name': 'Beats Solo3 Wireless (2019).csv', 'dbs': ['rtings']},\n",
    "    {'old_name': 'Beats Studio 2 2014', 'new_name': 'Beats Studio 2 (2014)', 'dbs': ['innerfidelity']},\n",
    "    {'old_name': 'Beats Studio 2 Bluetooth', 'new_name': 'Beats Studio 2 (Bluetooth)', 'dbs': ['innerfidelity']},\n",
    "    {'old_name': 'Beats Tour 2014', 'new_name': 'Beats Tour (2014)', 'dbs': ['innerfidelity']},\n",
    "    {'old_name': 'Bedphones', 'new_name': 'DubsLabs Bedphones', 'dbs': ['innerfidelity']},\n",
    "    {'old_name': 'Beyerdynamic DT 100 2X2kOhm', 'new_name': 'Beyerdynamic DT 100 (2x 2k Ohm)', 'dbs': ['innerfidelity']},\n",
    "    {'old_name': 'Beyerdynamic DT 150 250 Ohm', 'new_name': 'Beyerdynamic DT 150 (250 Ohm)', 'dbs': ['innerfidelity']},\n",
    "    {'old_name': 'Beyerdynamic DT 250 250 Ohm', 'new_name': 'Beyerdynamic DT 250 (250 Ohm)', 'dbs': ['oratory1990', 'innerfidelity', 'headphonecom']},\n",
    "    {'old_name': 'Beyerdynamic DT 250 80 Ohm', 'new_name': 'Beyerdynamic DT 250 (80 Ohm)', 'dbs': ['oratory1990', 'crinacle']},\n",
    "    {'old_name': 'Beyerdynamic DT 48 E 120 Ohm', 'new_name': 'Beyerdynamic DT 48 E (120 Ohm)', 'dbs': ['innerfidelity']},\n",
    "    {'old_name': 'Beyerdynamic DT 48 Loose', 'new_name': 'Beyerdynamic DT 48 (loose)', 'dbs': ['innerfidelity']},\n",
    "    {'old_name': 'Beyerdynamic DT 48 S 5 Ohm', 'new_name': 'Beyerdynamic DT 48 S (5 Ohm)', 'dbs': ['innerfidelity']},\n",
    "    {'old_name': 'Beyerdynamic DT 770 250 Ohm', 'new_name': 'Beyerdynamic DT 770 Pro', 'dbs': ['oratory1990']},\n",
    "    {'old_name': 'Beyerdynamic DT 770 250 Ohm', 'new_name': 'Beyerdynamic DT 770 Pro (250 Ohm)', 'dbs': ['crinacle', 'rtings', 'headphonecom']},\n",
    "    {'old_name': 'Beyerdynamic DT 770 250 Ohm (Dekoni hybrid earpads)', 'new_name': 'Beyerdynamic DT 770 Pro (Dekoni hybrid earpads)', 'dbs': ['oratory1990']},\n",
    "    {'old_name': 'Beyerdynamic DT 770 250 Ohm (worn earpads)', 'new_name': 'Beyerdynamic DT 770 Pro (worn earpads)', 'dbs': ['oratory1990']},\n",
    "    {'old_name': 'Beyerdynamic DT 770 32 Ohm', 'new_name': 'Beyerdynamic DT 770 Pro (32 Ohm)', 'dbs': ['headphonecom']},\n",
    "    {'old_name': 'Beyerdynamic DT 770 600 Ohm', 'new_name': 'Beyerdynamic DT 770 Pro (600 Ohm)', 'dbs': ['innerfidelity', 'headphonecom']},\n",
    "    {'old_name': 'Beyerdynamic DT 770 80 Ohm', 'new_name': 'Beyerdynamic DT 770 Pro (80 Ohm)', 'dbs': ['crinacle']},\n",
    "    {'old_name': 'Beyerdynamic DT 770 M 80 Ohm', 'new_name': 'Beyerdynamic DT 770 M', 'dbs': ['oratory1990']},\n",
    "    {'old_name': 'Beyerdynamic DT 880 250 Ohm', 'new_name': 'Beyerdynamic DT 880', 'dbs': ['oratory1990']},\n",
    "    {'old_name': 'Beyerdynamic DT 880 250 Ohm', 'new_name': 'Beyerdynamic DT 880 (250 Ohm)', 'dbs': ['innerfidelity', 'headphonecom']},\n",
    "    {'old_name': 'Beyerdynamic DT 880 250 Ohm (worn earpads)', 'new_name': 'Beyerdynamic DT 880 (worn earpads)', 'dbs': ['oratory1990']},\n",
    "    {'old_name': 'Beyerdynamic DT 880 32 Ohm', 'new_name': 'Beyerdynamic DT 880', 'dbs': ['rtings']},\n",
    "    {'old_name': 'Beyerdynamic DT 880 32 Ohm', 'new_name': 'Beyerdynamic DT 880 (32 Ohm)', 'dbs': ['crinacle', 'innerfidelity', 'headphonecom']},\n",
    "    {'old_name': 'Beyerdynamic DT 880 600 Ohm', 'new_name': 'Beyerdynamic DT 880 (600 Ohm)', 'dbs': ['innerfidelity', 'headphonecom']},\n",
    "    {'old_name': 'Beyerdynamic DT 990 250 Ohm', 'new_name': 'Beyerdynamic DT 990 Pro', 'dbs': ['rtings', 'headphonecom']},\n",
    "    {'old_name': 'Beyerdynamic DT 990 250 Ohm', 'new_name': 'Beyerdynamic DT 990 Pro (250 Ohm)', 'dbs': ['crinacle']},\n",
    "    {'old_name': 'Beyerdynamic DT 990 600 Ohm', 'new_name': 'Beyerdynamic DT 990 (600 Ohm)', 'dbs': ['headphonecom']},\n",
    "    {'old_name': 'Beyerdynamic DT1990 (Dekoni lite Velours Earpads)', 'new_name': 'Beyerdynamic DT1990 (Dekoni Elite velour earpads)', 'dbs': ['oratory1990']},\n",
    "    {'old_name': 'Beyerdynamic DT880 Black Edition', 'new_name': 'Beyerdynamic DT 880 Black Edition', 'dbs': ['oratory1990']},\n",
    "    {'old_name': 'Beyerdynamic T1 2nd Generation', 'new_name': 'Beyerdynamic T1 (2nd Gen)', 'dbs': ['rtings', 'oratory1990']},\n",
    "    {'old_name': 'Beyerdynamic T1 3rd Generation', 'new_name': 'Beyerdynamic T1 (3rd Gen)', 'dbs': ['oratory1990', 'crinacle']},\n",
    "    {'old_name': 'Beyerdynamic T5 3rd Generation', 'new_name': 'Beyerdynamic T5 (3rd Gen)', 'dbs': ['oratory1990', 'crinacle']},\n",
    "    {'old_name': 'Beyerdynamic T70 250 Ohm', 'new_name': 'Beyerdynamic T70', 'dbs': ['headphonecom']},\n",
    "    {'old_name': 'Beyerdynamic T70 250 Ohm (sample 1)', 'new_name': 'Beyerdynamic T70 (sample 1) ', 'dbs': ['innerfidelity']},\n",
    "    {'old_name': 'Beyerdynamic T70 250 Ohm (serial number 01111)', 'new_name': 'Beyerdynamic T70 (serial number 01111)', 'dbs': ['innerfidelity']},\n",
    "    {'old_name': 'Beyerdynamic T90 250 Ohm', 'new_name': 'Beyerdynamic T90', 'dbs': ['headphonecom']},\n",
    "    {'old_name': 'Campfire Audio Io', 'new_name': 'Campfire Audio IO', 'dbs': ['oratory1990']},\n",
    "    {'old_name': 'Campfire Audio Vega (Foam Eartips)', 'new_name': 'Campfire Audio Vega (foam eartips)', 'dbs': ['oratory1990']},\n",
    "    {'old_name': 'Dan Clark Audio Alpha Dog 2014', 'new_name': 'Dan Clark Audio Alpha Dog (2014)', 'dbs': ['innerfidelity']},\n",
    "    {'old_name': 'Dan Clark Audio Mad Dog 2014', 'new_name': 'Dan Clark Audio Mad Dog (2014)', 'dbs': ['innerfidelity']},\n",
    "    {'old_name': 'Denon AH-D2000 B2012', 'new_name': 'Denon AH-D2000 (2012)', 'dbs': ['innerfidelity']},\n",
    "    {'old_name': 'Denon AH-D7000 B2012', 'new_name': 'Denon AH-D7000 (2012)', 'dbs': ['innerfidelity']},\n",
    "    {'old_name': 'E-Mu Teak 2016', 'new_name': 'E-Mu Teak (2016)', 'dbs': ['innerfidelity']},\n",
    "    {'old_name': 'E-Mu Teak Mahogany Cups', 'new_name': 'E-Mu Teak (mahogany)', 'dbs': ['innerfidelity']},\n",
    "    {'old_name': 'E-Mu Teak Rosewood Cups', 'new_name': 'E-Mu Teak (rosewood)', 'dbs': ['innerfidelity']},\n",
    "    {'old_name': 'EarFun Air Pro 2 2021', 'new_name': 'EarFun Air Pro 2 (2021)', 'dbs': ['crinacle']},\n",
    "    {'old_name': 'Elysian Annihilator DIO 2021', 'new_name': 'Elysian Annihilator (2021)', 'dbs': ['crinacle']},\n",
    "    {'old_name': 'Elysian Terminator', 'new_name': 'Elysian Terminator (sample 1)', 'dbs': ['crinacle']},\n",
    "    {'old_name': 'Fatfreq Hayabusa (bass switch on)', 'new_name': 'Fatfreq Hayabusa (bass)', 'dbs': ['crinacle']},\n",
    "    {'old_name': 'FAudio Mezzo (000 setting)', 'new_name': 'FAudio Mezzo (off-off-off)', 'dbs': ['crinacle']},\n",
    "    {'old_name': 'FAudio Mezzo (003 setting)', 'new_name': 'FAudio Mezzo (off-off-on)', 'dbs': ['crinacle']},\n",
    "    {'old_name': 'FAudio Mezzo (020 setting)', 'new_name': 'FAudio Mezzo (off-on-off)', 'dbs': ['crinacle']},\n",
    "    {'old_name': 'FAudio Mezzo (023 setting)', 'new_name': 'FAudio Mezzo (off-on-on)', 'dbs': ['crinacle']},\n",
    "    {'old_name': 'FAudio Mezzo (100 setting)', 'new_name': 'FAudio Mezzo (on-off-off)', 'dbs': ['crinacle']},\n",
    "    {'old_name': 'FAudio Mezzo (120 setting)', 'new_name': 'FAudio Mezzo (on-on-off)', 'dbs': ['crinacle']},\n",
    "    {'old_name': 'FAudio Mezzo (123 setting)', 'new_name': 'FAudio Mezzo (on-on-on)', 'dbs': ['crinacle']},\n",
    "    {'old_name': 'FAudio Minor', 'new_name': 'FAudio Minor (sample 1)', 'dbs': ['crinacle']},\n",
    "    {'old_name': 'FiiO FH5s (all switches on)', 'new_name': 'FiiO FH5s (on-on-on)', 'dbs': ['crinacle']},\n",
    "    {'old_name': 'FiiO FH5s (bass switch on)', 'new_name': 'FiiO FH5s (on-off-off)', 'dbs': ['crinacle']},\n",
    "    {'old_name': 'FiiO FH5s (bass)', 'new_name': 'FiiO FH5s (on-off-off)', 'dbs': ['crinacle']},\n",
    "    {'old_name': 'FiiO FH5s (mid switch on)', 'new_name': 'FiiO FH5s (off-on-off)', 'dbs': ['crinacle']},\n",
    "    {'old_name': 'FiiO FH5s (mids)', 'new_name': 'FiiO FH5s (off-on-off)', 'dbs': ['crinacle']},\n",
    "    {'old_name': 'FiiO FH5s (treble switch on)', 'new_name': 'FiiO FH5s (off-off-on)', 'dbs': ['crinacle']},\n",
    "    {'old_name': 'FiiO FH5s (treble)', 'new_name': 'FiiO FH5s (off-off-on)', 'dbs': ['crinacle']},\n",
    "    {'old_name': 'Final Audio III', 'new_name': 'Final Audio Heaven III', 'dbs': ['crinacle']},\n",
    "    {'old_name': 'Final Audio UX3000 (B, ANC on)', 'new_name': 'Final Audio UX3000 (Bluetooth, ANC on)', 'dbs': ['oratory1990']},\n",
    "    {'old_name': 'FLC Technology FLC8 Bk Gy Bk', 'new_name': 'FLC Technology FLC8 (pop-rap, black LF, grey ULF, black HF)', 'dbs': ['innerfidelity']},\n",
    "    {'old_name': 'FLC Technology FLC8 C C Bk Ligh', 'new_name': 'FLC Technology FLC8 (light, grey LF, grey ULF, blue HF)', 'dbs': ['innerfidelity']},\n",
    "    {'old_name': 'FLC Technology FLC8 C C Gn Strin', 'new_name': 'FLC Technology FLC8 (strings-piano, clear LF, clear LF, green HF)', 'dbs': ['innerfidelity']},\n",
    "    {'old_name': 'FLC Technology FLC8 CCY Voca', 'new_name': 'FLC Technology FLC8 (vocals, clear LF, clear ULF, yellow HF)', 'dbs': ['innerfidelity']},\n",
    "    {'old_name': 'FLC Technology FLC8 G G Bk De', 'new_name': 'FLC Technology FLC8 (gray LF, grey ULF, black HF)', 'dbs': ['innerfidelity']},\n",
    "    {'old_name': 'FLC Technology FLC8 GGBl', 'new_name': 'FLC Technology FLC8 (gray LF, grey ULF, blue HF)', 'dbs': ['innerfidelity']},\n",
    "    {'old_name': 'Fostex TH-X00 Ebony', 'new_name': 'Fostex TH-X00 (ebony)', 'dbs': ['oratory1990']},\n",
    "    {'old_name': 'Fostex TH-X00 Mahogany', 'new_name': 'Fostex TH-X00 (mahogany)', 'dbs': ['oratory1990']},\n",
    "    {'old_name': 'Fostex TH-X00 Mahogany (sample 1)', 'new_name': 'Fostex TH-X00 (mahogany) (sample 1)', 'dbs': ['innerfidelity']},\n",
    "    {'old_name': 'Fostex TH-X00 Mahogany (serial number 1927)', 'new_name': 'Fostex TH-X00 (mahogany) (serial number 1927)', 'dbs': ['innerfidelity']},\n",
    "    {'old_name': 'Fostex TH-X00 Purpleheart', 'new_name': 'Fostex TH-X00 (purpleheart)', 'dbs': ['oratory1990']},\n",
    "    {'old_name': 'Gold Planar GL2000 (leather earpads)', 'new_name': 'Gold Planar GL2000 (single-sided, leather earpads)', 'dbs': ['crinacle']},\n",
    "    {'old_name': 'Gold Planar GL2000 (perforated hybrid earpads)', 'new_name': 'Gold Planar GL2000 (single-sided, perforated hybrid earpads)', 'dbs': ['crinacle']},\n",
    "    {'old_name': 'Gold Planar GL2000 double-sided (leather earpads)', 'new_name': 'Gold Planar GL2000 (double-sided, leather earpads)', 'dbs': ['crinacle']},\n",
    "    {'old_name': 'Gold Planar GL2000 double-sided (perforated hybrid earpads)', 'new_name': 'Gold Planar GL2000 (double-sided, perforated hybrid earpads)', 'dbs': ['crinacle']},\n",
    "    {'old_name': 'Google Pixel Buds 2017', 'new_name': 'Google Pixel Buds (2017)', 'dbs': ['rtings']},\n",
    "    {'old_name': 'Google Pixel Buds 2020', 'new_name': 'Google Pixel Buds (2020)', 'dbs': ['rtings']},\n",
    "    {'old_name': 'HIFIMAN Arya Stealth', 'new_name': 'HIFIMAN Arya Stealth Magnet Version', 'dbs': ['oratory1990', 'crinacle', 'rtings']},\n",
    "    {'old_name': 'HIFIMAN Deva (passive)', 'new_name': 'HIFIMAN Deva (wired)', 'dbs': ['crinacle']},\n",
    "    {'old_name': 'HIFIMAN HE400i 2016', 'new_name': 'HIFIMAN HE400i (2016)', 'dbs': ['oratory1990', 'crinacle']},\n",
    "    {'old_name': 'HIFIMAN HE400i 2020', 'new_name': 'HIFIMAN HE400i (2020)', 'dbs': ['oratory1990', 'crinacle']},\n",
    "    {'old_name': 'HIFIMAN HE560 V1', 'new_name': 'HIFIMAN HE560 V1 (sample 1)', 'dbs': ['crinacle']},\n",
    "    {'old_name': 'HIFIMAN Sundara', 'new_name': 'HIFIMAN Sundara (2018)', 'dbs': ['innerfidelity']},\n",
    "    {'old_name': 'HIFIMAN Sundara 2018', 'new_name': 'HIFIMAN Sundara (pre-2020 earpads)', 'dbs': ['rtings']},\n",
    "    {'old_name': 'HIFIMAN Sundara 2020', 'new_name': 'HIFIMAN Sundara (post-2020 earpads)', 'dbs': ['rtings']},\n",
    "    {'old_name': 'HIFIMAN Susvara', 'new_name': 'HIFIMAN Susvara (sample 1)', 'dbs': ['crinacle']},\n",
    "    {'old_name': 'JH Audio 13v2 (2 o’clock)', 'new_name': 'JH Audio 13v2 (2 o\\'clock)', 'dbs': ['crinacle']},\n",
    "    {'old_name': 'JH Audio 16v2 (2 o’clock)', 'new_name': 'JH Audio 16v2 (2 o\\'clock)', 'dbs': ['crinacle']},\n",
    "    {'old_name': 'JH Audio Angie (2 o’clock)', 'new_name': 'JH Audio Angie (2 o\\'clock)', 'dbs': ['crinacle']},\n",
    "    {'old_name': 'JH Audio Layla (2 o’clock)', 'new_name': 'JH Audio Layla (2 o\\'clock)', 'dbs': ['crinacle']},\n",
    "    {'old_name': 'JH Audio Layla AION (2 o’clock)', 'new_name': 'JH Audio Layla AION (2 o\\'clock)', 'dbs': ['crinacle']},\n",
    "    {'old_name': 'JH Audio Lola (2 o’clock)', 'new_name': 'JH Audio Lola (2 o\\'clock)', 'dbs': ['crinacle']},\n",
    "    {'old_name': 'JH Audio Roxanne (2 o’clock)', 'new_name': 'JH Audio Roxanne (2 o\\'clock)', 'dbs': ['crinacle']},\n",
    "    {'old_name': 'JQ Hua Jiang (sample 2)', 'new_name': 'JQ Hua Jiang', 'dbs': ['crinacle']},\n",
    "    {'old_name': 'Klipsch Reference On Ear', 'new_name': 'Klipsch Reference On-Ear', 'dbs': ['crinacle']},\n",
    "    {'old_name': 'Kumitate Lab KL-Focus Setting 2', 'new_name': 'Kumitate Lab KL-Focus (setting 2)', 'dbs': ['crinacle']},\n",
    "    {'old_name': 'Kumitate Lab KL-Focus Setting 3', 'new_name': 'Kumitate Lab KL-Focus (setting 3)', 'dbs': ['crinacle']},\n",
    "    {'old_name': 'Massdrop Nobel X', 'new_name': 'Noble Audio X', 'dbs': ['crinacle']},\n",
    "    {'old_name': 'Mofasest M14 (00 setting)', 'new_name': 'Mofasest M14 (off-off)', 'dbs': ['crinacle']},\n",
    "    {'old_name': 'Mofasest M14 (02 setting)', 'new_name': 'Mofasest M14 (off-on)', 'dbs': ['crinacle']},\n",
    "    {'old_name': 'Mofasest M14 (10 setting)', 'new_name': 'Mofasest M14 (on-off)', 'dbs': ['crinacle']},\n",
    "    {'old_name': 'Mofasest M14 (12 setting)', 'new_name': 'Mofasest M14 (on-on)', 'dbs': ['crinacle']},\n",
    "    {'old_name': 'Moondrop Aria 2021', 'new_name': 'Moondrop Aria (2021)', 'dbs': ['crinacle']},\n",
    "    {'old_name': 'Moondrop Aria 2021', 'new_name': 'Moondrop Aria', 'dbs': ['rtings']},\n",
    "    {'old_name': 'Philips Fidelio M1 Mk1 2012', 'new_name': 'Philips Fidelio M1', 'dbs': ['innerfidelity']},\n",
    "    {'old_name': 'Philips Fidelio S1 Early 2013', 'new_name': 'Philips Fidelio S1 (early 2013)', 'dbs': ['crinacle']},\n",
    "    {'old_name': 'Philips Fidelio S2 2013', 'new_name': 'Philips Fidelio S2 (2013)', 'dbs': ['innerfidelity']},\n",
    "    {'old_name': 'Philips Fidelio S2 Early 2013', 'new_name': 'Philips Fidelio S2 (early 2013)', 'dbs': ['innerfidelity']},\n",
    "    {'old_name': 'qdc Anole V14 (0000 setting)', 'new_name': 'qdc Anole V14 (off-off-off-off)', 'dbs': ['crinacle']},\n",
    "    {'old_name': 'qdc Anole V14 (0004 setting)', 'new_name': 'qdc Anole V14 (off-off-off-on)', 'dbs': ['crinacle']},\n",
    "    {'old_name': 'qdc Anole V14 (0030 setting)', 'new_name': 'qdc Anole V14 (off-off-on-off)', 'dbs': ['crinacle']},\n",
    "    {'old_name': 'qdc Anole V14 (0200 setting)', 'new_name': 'qdc Anole V14 (off-on-off-off)', 'dbs': ['crinacle']},\n",
    "    {'old_name': 'qdc Anole V14 (1000 setting)', 'new_name': 'qdc Anole V14 (on-off-off-off)', 'dbs': ['crinacle']},\n",
    "    {'old_name': 'qdc Anole V14 (1234 setting)', 'new_name': 'qdc Anole V14 (on-on-on-on)', 'dbs': ['crinacle']},\n",
    "    {'old_name': 'qdc Anole VX All', 'new_name': 'qdc Anole VX (all)', 'dbs': ['crinacle']},\n",
    "    {'old_name': 'qdc Dmagic (sample 2)', 'new_name': 'qdc Dmagic', 'dbs': ['crinacle']},\n",
    "    {'old_name': 'QKZ VK4 Revised (sample 1)', 'new_name': 'QKZ VK4 (revised) (sample 1)', 'dbs': ['crinacle']},\n",
    "    {'old_name': 'QKZ VK4 Revised (sample 2)', 'new_name': 'QKZ VK4 (revised) (sample 2)', 'dbs': ['crinacle']},\n",
    "    {'old_name': 'Razer Hammerhead True Wireless 2019', 'new_name': 'Razer Hammerhead True Wireless (2019)', 'dbs': ['rtings']},\n",
    "    {'old_name': 'Razer Hammerhead True Wireless 2021', 'new_name': 'Razer Hammerhead True Wireless (2021)', 'dbs': ['rtings']},\n",
    "    {'old_name': 'Razer Man O\\' War', 'new_name': 'Razer ManO\\'War', 'dbs': ['rtings']},\n",
    "    {'old_name': 'Razer Opus 2020', 'new_name': 'Razer Opus (2020)', 'dbs': ['crinacle']},\n",
    "    {'old_name': 'Razer Opus 2021', 'new_name': 'Razer Opus (2021)', 'dbs': ['crinacle']},\n",
    "    {'old_name': 'Samsung EO-IG955 (AKG)', 'new_name': 'Samsung AKG EO-IG955', 'dbs': ['crinacle', 'oratory1990']},\n",
    "    {'old_name': 'Samsung Galaxy Buds2 Pro (bass boost EQ) (ANC mode)', 'new_name': 'Samsung Galaxy Buds2 Pro (bass boost EQ, ANC mode)', 'dbs': ['crinacle']},\n",
    "    {'old_name': 'Samsung Galaxy Buds2 Pro (blear EQ) (ANC mode)', 'new_name': 'Samsung Galaxy Buds2 Pro (blear EQ, ANC mode)', 'dbs': ['crinacle']},\n",
    "    {'old_name': 'Samsung Galaxy Buds2 Pro (dynamic EQ) (ANC mode)', 'new_name': 'Samsung Galaxy Buds2 Pro (dynamic EQ, ANC mode)', 'dbs': ['crinacle']},\n",
    "    {'old_name': 'Samsung Galaxy Buds2 Pro (Passive mode)', 'new_name': 'Samsung Galaxy Buds2 Pro (passive mode)', 'dbs': ['crinacle']},\n",
    "    {'old_name': 'Samsung Galaxy Buds2 Pro (soft EQ) (ANC mode)', 'new_name': 'Samsung Galaxy Buds2 Pro (soft EQ, ANC mode)', 'dbs': ['crinacle']},\n",
    "    {'old_name': 'Samsung Galaxy Buds2 Pro (treble boost EQ) (ANC mode)', 'new_name': 'Samsung Galaxy Buds2 Pro (treble boost EQ, ANC mode)', 'dbs': ['crinacle']},\n",
    "    {'old_name': 'Samsung Galaxy Buds2 Pro (treble boost EQ) (ANC mode) (sample 1)', 'new_name': 'Samsung Galaxy Buds2 Pro (treble boost EQ, ANC mode) (sample 1)', 'dbs': ['crinacle']},\n",
    "    {'old_name': 'Sennheiser HD 25-1 II B (2012 model)', 'new_name': 'Sennheiser HD 25-1 II B (2012)', 'dbs': ['innerfidelity']},\n",
    "    {'old_name': 'Sennheiser IE 40 PRO', 'new_name': 'Sennheiser IE 40 Pro', 'dbs': ['rtings']},\n",
    "    {'old_name': 'Sennheiser MM 550 Travel Bluetooth NC', 'new_name': 'Sennheiser MM 550', 'dbs': ['headphonecom']},\n",
    "    {'old_name': 'Sennheiser Momentum 4 Wireless (active)', 'new_name': 'Sennheiser Momentum 4 Wireless', 'dbs': ['crinacle']},\n",
    "    {'old_name': 'Shanling ME800 (00 setting)', 'new_name': 'Shanling ME800 (off-off)', 'dbs': ['crinacle']},\n",
    "    {'old_name': 'Shanling ME800 (02 setting)', 'new_name': 'Shanling ME800 (off-on)', 'dbs': ['crinacle']},\n",
    "    {'old_name': 'Shanling ME800 (10 setting)', 'new_name': 'Shanling ME800 (on-off)', 'dbs': ['crinacle']},\n",
    "    {'old_name': 'Shanling ME800 (12 setting)', 'new_name': 'Shanling ME800 (on-on)', 'dbs': ['crinacle']},\n",
    "    {'old_name': 'Shozy x AAW Pola', 'new_name': 'Shozy x AAW Pola (sample 2)', 'dbs': ['crinacle']},\n",
    "    {'old_name': 'Sony WF-1000XM3 NC', 'new_name': 'Sony WF-1000XM3 (ANC on)', 'dbs': ['crinacle']},\n",
    "    {'old_name': 'Stax SR-001 Mk1 CES (stock)', 'new_name': 'Stax SR-001 Mk1 CES (CES-A1)', 'dbs': ['crinacle']},\n",
    "    {'old_name': 'Stax SR-003MK2 (CES-A1 closedback adapter)', 'new_name': 'Stax SR-003MK2 (CES-A1)', 'dbs': ['oratory1990']},\n",
    "    {'old_name': 'Steven Slate Audio VSX (passive plugin inactive)))', 'new_name': 'Steven Slate Audio VSX (passive, plugin inactive)', 'dbs': ['oratory1990']},\n",
    "    {'old_name': 'ThieAudio Legacy 3 (00 setting)', 'new_name': 'ThieAudio Legacy 3 (off-off)', 'dbs': ['crinacle']},\n",
    "    {'old_name': 'ThieAudio Legacy 3 (02 setting)', 'new_name': 'ThieAudio Legacy 3 (off-on)', 'dbs': ['crinacle']},\n",
    "    {'old_name': 'ThieAudio Legacy 3 (10 setting)', 'new_name': 'ThieAudio Legacy 3 (on-off)', 'dbs': ['crinacle']},\n",
    "    {'old_name': 'ThieAudio Legacy 3 (12 setting)', 'new_name': 'ThieAudio Legacy 3 (on-on)', 'dbs': ['crinacle']},\n",
    "    {'old_name': 'ThieAudio Legacy 3 (CIEM, 00 setting)', 'new_name': 'ThieAudio Legacy 3 (CIEM, off-off)', 'dbs': ['crinacle']},\n",
    "    {'old_name': 'ThieAudio Legacy 3 (CIEM, 02 setting)', 'new_name': 'ThieAudio Legacy 3 (CIEM, off-on)', 'dbs': ['crinacle']},\n",
    "    {'old_name': 'ThieAudio Legacy 3 (CIEM, 10 setting)', 'new_name': 'ThieAudio Legacy 3 (CIEM, on-off)', 'dbs': ['crinacle']},\n",
    "    {'old_name': 'ThieAudio Legacy 3 (CIEM, 12 setting)', 'new_name': 'ThieAudio Legacy 3 (CIEM, on-on)', 'dbs': ['crinacle']},\n",
    "    {'old_name': 'ThieAudio Legacy 3 (universal, 00 setting)', 'new_name': 'ThieAudio Legacy 3 (off-off)', 'dbs': ['crinacle']},\n",
    "    {'old_name': 'ThieAudio Legacy 3 (universal, 02 setting)', 'new_name': 'ThieAudio Legacy 3 (off-on)', 'dbs': ['crinacle']},\n",
    "    {'old_name': 'ThieAudio Legacy 3 (universal, 10 setting)', 'new_name': 'ThieAudio Legacy 3 (on-off)', 'dbs': ['crinacle']},\n",
    "    {'old_name': 'ThieAudio Legacy 3 (universal, 12 setting)', 'new_name': 'ThieAudio Legacy 3 (on-on)', 'dbs': ['crinacle']},\n",
    "    {'old_name': 'ThieAudio Voyager 14 (00 setting)', 'new_name': 'ThieAudio Voyager 14 (off-off)', 'dbs': ['crinacle']},\n",
    "    {'old_name': 'ThieAudio Voyager 14 (02 setting)', 'new_name': 'ThieAudio Voyager 14 (off-on)', 'dbs': ['crinacle']},\n",
    "    {'old_name': 'ThieAudio Voyager 14 (10 setting)', 'new_name': 'ThieAudio Voyager 14 (on-off)', 'dbs': ['crinacle']},\n",
    "    {'old_name': 'ThieAudio Voyager 14 (12 setting)', 'new_name': 'ThieAudio Voyager 14 (on-on)', 'dbs': ['crinacle']},\n",
    "    {'old_name': 'TRI Starsea (00 setting)', 'new_name': 'TRI Starsea (off-off)', 'dbs': ['crinacle']},\n",
    "    {'old_name': 'TRI Starsea (02 setting)', 'new_name': 'TRI Starsea (off-on)', 'dbs': ['crinacle']},\n",
    "    {'old_name': 'TRI Starsea (10 setting)', 'new_name': 'TRI Starsea (on-off)', 'dbs': ['crinacle']},\n",
    "    {'old_name': 'TRI Starsea (12 setting)', 'new_name': 'TRI Starsea (on-on)', 'dbs': ['crinacle']},\n",
    "    {'old_name': 'Unique Melody MEST (universal)', 'new_name': 'Unique Melody MEST', 'dbs': ['crinacle']},\n",
    "    {'old_name': 'Yanyin Canon (000 setting)', 'new_name': 'Yanyin Canon (off-off-off)', 'dbs': ['crinacle']},\n",
    "    {'old_name': 'Yanyin Canon (003 setting)', 'new_name': 'Yanyin Canon (off-off-on)', 'dbs': ['crinacle']},\n",
    "    {'old_name': 'Yanyin Canon (020 setting)', 'new_name': 'Yanyin Canon (off-on-off)', 'dbs': ['crinacle']},\n",
    "    {'old_name': 'Yanyin Canon (100 setting)', 'new_name': 'Yanyin Canon (on-off-off)', 'dbs': ['crinacle']},\n",
    "    {'old_name': 'Yanyin Canon (123 setting)', 'new_name': 'Yanyin Canon (on-on-on)', 'dbs': ['crinacle']},\n",
    "]\n",
    "rename_measurements(renames, dry_run=True)"
   ]
  },
  {
   "cell_type": "markdown",
   "id": "dacbac18-6d4a-4f58-8f3b-af3700b5c895",
   "metadata": {},
   "source": [
    "## Prune Results\n",
    "Check if obsolete results (e.g. because of renaming) exist and remove them"
   ]
  },
  {
   "cell_type": "code",
   "execution_count": 74,
   "id": "319d03cb-98f6-4db2-a2b0-fa464942d7e0",
   "metadata": {},
   "outputs": [
    {
     "name": "stdout",
     "output_type": "stream",
     "text": [
      "Removed \"C:\\Users\\jaakko\\code\\AutoEq\\results\\innerfidelity\\over-ear\\AKG K240 MKII\\AKG K240 MKII.png\"\n",
      "Removed \"C:\\Users\\jaakko\\code\\AutoEq\\results\\innerfidelity\\over-ear\\AKG K601\\AKG K601.png\"\n"
     ]
    }
   ],
   "source": [
    "prune_results(databases=['crinacle', 'oratory1990', 'rtings', 'innerfidelity', 'headphonecom'], dry_run=False)"
   ]
  },
  {
   "cell_type": "markdown",
   "id": "423849ce-bac6-4d7d-85e7-1d8e6451714c",
   "metadata": {},
   "source": [
    "## Update Results\n",
    "Creates new results from the measurements. `eq_kwargs` are parameters shared by all jobs."
   ]
  },
  {
   "cell_type": "code",
   "execution_count": 5,
   "id": "39984de4-40a1-484e-988c-76108dd4b85a",
   "metadata": {},
   "outputs": [],
   "source": [
    "eq_kwargs = {\n",
    "    'parametric_eq': True, 'ten_band_eq': True, 'convolution_eq': True,\n",
    "    'parametric_eq_config': [PEQ_CONFIGS['4_PEAKING_WITH_LOW_SHELF'], PEQ_CONFIGS['4_PEAKING_WITH_HIGH_SHELF']],\n",
    "    'fs': [44100, 48000],\n",
    "    'thread_count': 0,\n",
    "}"
   ]
  },
  {
   "cell_type": "markdown",
   "id": "122bf50b-3ba8-4cc6-8297-f1dc5048ca52",
   "metadata": {},
   "source": [
    "#### oratory1990 Over-ear"
   ]
  },
  {
   "cell_type": "code",
   "execution_count": 48,
   "id": "155d256e-200a-4600-ac1e-380fc6ebf71a",
   "metadata": {},
   "outputs": [
    {
     "data": {
      "application/vnd.jupyter.widget-view+json": {
       "model_id": "98ccba56f0884f46a99a43ec63671264",
       "version_major": 2,
       "version_minor": 0
      },
      "text/plain": [
       "0it [00:00, ?it/s]"
      ]
     },
     "metadata": {},
     "output_type": "display_data"
    }
   ],
   "source": [
    "_ = batch_processing(\n",
    "    input_dir=ROOT_PATH.joinpath('measurements', 'oratory1990', 'data', 'over-ear'),\n",
    "    output_dir=ROOT_PATH.joinpath('results', 'oratory1990', 'over-ear'),\n",
    "    compensation=ROOT_PATH.joinpath('compensation', 'harman_over-ear_2018_wo_bass.csv'),\n",
    "    bass_boost_gain=6.0, bass_boost_fc=105, bass_boost_q=0.7,\n",
    "    new_only=True, **eq_kwargs)"
   ]
  },
  {
   "cell_type": "markdown",
   "id": "e13fc080-94c2-4bf3-a319-51cc1131a2f1",
   "metadata": {},
   "source": [
    "#### oratory1990 In-ear"
   ]
  },
  {
   "cell_type": "code",
   "execution_count": 47,
   "id": "35bd242a-0cf5-4311-bde6-23c5fa892e67",
   "metadata": {},
   "outputs": [
    {
     "data": {
      "application/vnd.jupyter.widget-view+json": {
       "model_id": "6e7027a271cb4bd6beb44dc82c65ca64",
       "version_major": 2,
       "version_minor": 0
      },
      "text/plain": [
       "0it [00:00, ?it/s]"
      ]
     },
     "metadata": {},
     "output_type": "display_data"
    }
   ],
   "source": [
    "_ = batch_processing(\n",
    "    input_dir=ROOT_PATH.joinpath('measurements', 'oratory1990', 'data', 'in-ear'),\n",
    "    output_dir=ROOT_PATH.joinpath('results', 'oratory1990', 'in-ear'),\n",
    "    compensation=ROOT_PATH.joinpath('compensation', 'autoeq_in-ear.csv'),\n",
    "    bass_boost_gain=9.5, bass_boost_fc=105, bass_boost_q=0.7,\n",
    "    new_only=True, **eq_kwargs)"
   ]
  },
  {
   "cell_type": "markdown",
   "id": "744a4d87-19ad-4625-abba-1064fa6dba30",
   "metadata": {},
   "source": [
    "#### oratory1990 Earbud"
   ]
  },
  {
   "cell_type": "code",
   "execution_count": 46,
   "id": "42fbde8b-ce79-4606-8d90-079d4454a12f",
   "metadata": {},
   "outputs": [
    {
     "data": {
      "application/vnd.jupyter.widget-view+json": {
       "model_id": "4f50cb1a1a0843da8ed48592fc964d53",
       "version_major": 2,
       "version_minor": 0
      },
      "text/plain": [
       "0it [00:00, ?it/s]"
      ]
     },
     "metadata": {},
     "output_type": "display_data"
    }
   ],
   "source": [
    "_ = batch_processing(\n",
    "    input_dir=ROOT_PATH.joinpath('measurements', 'oratory1990', 'data', 'earbud'),\n",
    "    output_dir=ROOT_PATH.joinpath('results', 'oratory1990', 'earbud'),\n",
    "    compensation=ROOT_PATH.joinpath('compensation', 'autoeq_in-ear.csv'),\n",
    "    bass_boost_gain=0.0, bass_boost_fc=105, bass_boost_q=0.7,\n",
    "    new_only=True, **eq_kwargs)"
   ]
  },
  {
   "cell_type": "markdown",
   "id": "481d748a-8a69-4e86-8775-cfcd29a40256",
   "metadata": {},
   "source": [
    "#### crinacle GRAS 43AG-7 On-ear"
   ]
  },
  {
   "cell_type": "code",
   "execution_count": 45,
   "id": "fb6364b0-8a4d-4097-913d-f331f7793647",
   "metadata": {},
   "outputs": [
    {
     "data": {
      "application/vnd.jupyter.widget-view+json": {
       "model_id": "e2e07c85483a44a7aff5f4bbf16e76b7",
       "version_major": 2,
       "version_minor": 0
      },
      "text/plain": [
       "0it [00:00, ?it/s]"
      ]
     },
     "metadata": {},
     "output_type": "display_data"
    }
   ],
   "source": [
    "_ = batch_processing(\n",
    "    input_dir=ROOT_PATH.joinpath('measurements', 'crinacle', 'data', 'over-ear', 'GRAS 43AG-7'),\n",
    "    output_dir=ROOT_PATH.joinpath('results', 'crinacle', 'GRAS 43AG-7 over-ear'),\n",
    "    compensation=ROOT_PATH.joinpath('compensation', 'harman_over-ear_2018_wo_bass.csv'),\n",
    "    bass_boost_gain=6.0, bass_boost_fc=105, bass_boost_q=0.7,\n",
    "    new_only=True, **eq_kwargs)"
   ]
  },
  {
   "cell_type": "markdown",
   "id": "2a2904fc-2ada-4b60-a2ca-b3a716e4d49e",
   "metadata": {},
   "source": [
    "#### crinacle EARS+711 Over-ear"
   ]
  },
  {
   "cell_type": "code",
   "execution_count": 44,
   "id": "10f96e31-5b6a-456d-b88d-bddc6ec4ada2",
   "metadata": {},
   "outputs": [
    {
     "data": {
      "application/vnd.jupyter.widget-view+json": {
       "model_id": "81bf2cc2519e428cb11eed07399f6316",
       "version_major": 2,
       "version_minor": 0
      },
      "text/plain": [
       "0it [00:00, ?it/s]"
      ]
     },
     "metadata": {},
     "output_type": "display_data"
    }
   ],
   "source": [
    "_ = batch_processing(\n",
    "    input_dir=ROOT_PATH.joinpath('measurements', 'crinacle', 'data', 'over-ear', 'EARS + 711'),\n",
    "    output_dir=ROOT_PATH.joinpath('results', 'crinacle', 'EARS + 711 over-ear'),\n",
    "    compensation=ROOT_PATH.joinpath('compensation', 'crinacle_harman_over-ear_2018_wo_bass.csv'),\n",
    "    bass_boost_gain=6.0, bass_boost_fc=105, bass_boost_q=0.7,\n",
    "    new_only=True, **eq_kwargs)"
   ]
  },
  {
   "cell_type": "markdown",
   "id": "29fcd3d4-3008-4f81-b0c8-100cdc7f0cb2",
   "metadata": {},
   "source": [
    "#### crinacle 4620 In-ear"
   ]
  },
  {
   "cell_type": "code",
   "execution_count": 43,
   "id": "6c9c373e-5ef7-430d-a5aa-e25f78d08306",
   "metadata": {},
   "outputs": [
    {
     "data": {
      "application/vnd.jupyter.widget-view+json": {
       "model_id": "fb1b5112f67e4a0da33246cf7f105f01",
       "version_major": 2,
       "version_minor": 0
      },
      "text/plain": [
       "  0%|          | 0/2 [00:00<?, ?it/s]"
      ]
     },
     "metadata": {},
     "output_type": "display_data"
    }
   ],
   "source": [
    "_ = batch_processing(\n",
    "    input_dir=ROOT_PATH.joinpath('measurements', 'crinacle', 'data', 'in-ear', 'Bruel & Kjaer 4620'),\n",
    "    output_dir=ROOT_PATH.joinpath('results', 'crinacle', 'Bruel & Kjaer 4620 in-ear'),\n",
    "    compensation=ROOT_PATH.joinpath('compensation', 'diffuse_field_5128_-1dBpoct.csv'),\n",
    "    bass_boost_gain=0.0, bass_boost_fc=105, bass_boost_q=0.7,\n",
    "    new_only=True, **eq_kwargs)"
   ]
  },
  {
   "cell_type": "markdown",
   "id": "9d61bef6-c53d-4ddf-8852-3d72a5c185de",
   "metadata": {},
   "source": [
    "#### crinacle 711 In-ear"
   ]
  },
  {
   "cell_type": "code",
   "execution_count": 33,
   "id": "a8a16204-f23d-43cb-a79b-fb0ff30bf6f5",
   "metadata": {},
   "outputs": [
    {
     "data": {
      "application/vnd.jupyter.widget-view+json": {
       "model_id": "27eb302543bf49a6a415b487841573eb",
       "version_major": 2,
       "version_minor": 0
      },
      "text/plain": [
       "0it [00:00, ?it/s]"
      ]
     },
     "metadata": {},
     "output_type": "display_data"
    }
   ],
   "source": [
    "_ = batch_processing(\n",
    "    input_dir=ROOT_PATH.joinpath('measurements', 'crinacle', 'data', 'in-ear', '711'),\n",
    "    output_dir=ROOT_PATH.joinpath('results', 'crinacle', '711 in-ear'),\n",
    "    compensation=ROOT_PATH.joinpath('compensation', 'autoeq_in-ear.csv'),\n",
    "    bass_boost_gain=9.5, bass_boost_fc=105, bass_boost_q=0.7,\n",
    "    new_only=True, **eq_kwargs)"
   ]
  },
  {
   "cell_type": "markdown",
   "id": "52271743-ad3f-4950-9a29-1c90abfc6e99",
   "metadata": {},
   "source": [
    "#### Rtings Over-ear"
   ]
  },
  {
   "cell_type": "code",
   "execution_count": 42,
   "id": "fab904f1-546c-46e9-a4d4-3acd6a95f8f3",
   "metadata": {},
   "outputs": [
    {
     "data": {
      "application/vnd.jupyter.widget-view+json": {
       "model_id": "e47ea52ed68647f18d0ad7adf9c0decf",
       "version_major": 2,
       "version_minor": 0
      },
      "text/plain": [
       "0it [00:00, ?it/s]"
      ]
     },
     "metadata": {},
     "output_type": "display_data"
    }
   ],
   "source": [
    "_ = batch_processing(\n",
    "    input_dir=ROOT_PATH.joinpath('measurements', 'rtings', 'data', 'over-ear'),\n",
    "    output_dir=ROOT_PATH.joinpath('results', 'Rtings', 'over-ear'),\n",
    "    compensation=ROOT_PATH.joinpath('compensation', 'rtings_harman_over-ear_2018_wo_bass.csv'),\n",
    "    bass_boost_gain=6.0, bass_boost_fc=105, bass_boost_q=0.7,\n",
    "    new_only=True, **eq_kwargs)"
   ]
  },
  {
   "cell_type": "markdown",
   "id": "7e6692cb-12af-41cd-84f2-1d0621a82ccf",
   "metadata": {},
   "source": [
    "#### Rtings In-ear"
   ]
  },
  {
   "cell_type": "code",
   "execution_count": 32,
   "id": "2690f37a-77d6-42d2-bc25-6f5a06efe77a",
   "metadata": {},
   "outputs": [
    {
     "data": {
      "application/vnd.jupyter.widget-view+json": {
       "model_id": "a1ab97d7c359480a82b342800232deab",
       "version_major": 2,
       "version_minor": 0
      },
      "text/plain": [
       "0it [00:00, ?it/s]"
      ]
     },
     "metadata": {},
     "output_type": "display_data"
    }
   ],
   "source": [
    "_ = batch_processing(\n",
    "    input_dir=ROOT_PATH.joinpath('measurements', 'rtings', 'data', 'in-ear'),\n",
    "    output_dir=ROOT_PATH.joinpath('results', 'Rtings', 'in-ear'),\n",
    "    compensation=ROOT_PATH.joinpath('compensation', 'rtings_autoeq_in-ear.csv'),\n",
    "    bass_boost_gain=9.5, bass_boost_fc=105, bass_boost_q=0.7,\n",
    "    new_only=True, **eq_kwargs)"
   ]
  },
  {
   "cell_type": "markdown",
   "id": "2992c00e-eb1f-4f6c-905d-459289aace31",
   "metadata": {},
   "source": [
    "#### Rtings Earbud"
   ]
  },
  {
   "cell_type": "code",
   "execution_count": 41,
   "id": "e1ddb3df-df76-49f5-9cb0-eaa8547c1ebc",
   "metadata": {},
   "outputs": [
    {
     "data": {
      "application/vnd.jupyter.widget-view+json": {
       "model_id": "198bcdd927d84456b1911773d6048e6f",
       "version_major": 2,
       "version_minor": 0
      },
      "text/plain": [
       "0it [00:00, ?it/s]"
      ]
     },
     "metadata": {},
     "output_type": "display_data"
    }
   ],
   "source": [
    "_ = batch_processing(\n",
    "    input_dir=ROOT_PATH.joinpath('measurements', 'rtings', 'data', 'earbud'),\n",
    "    output_dir=ROOT_PATH.joinpath('results', 'Rtings', 'earbud'),\n",
    "    compensation=ROOT_PATH.joinpath('compensation', 'rtings_autoeq_in-ear.csv'),\n",
    "    bass_boost_gain=0.0, bass_boost_fc=105, bass_boost_q=0.7,\n",
    "    new_only=True, **eq_kwargs)"
   ]
  },
  {
   "cell_type": "markdown",
   "id": "65acd28c-c1cc-4289-b5e1-f5b7a1d1664b",
   "metadata": {},
   "source": [
    "#### Innerfidelity In-ear"
   ]
  },
  {
   "cell_type": "code",
   "execution_count": 40,
   "id": "4568f581-e4b9-4f0f-8219-25b0e065e244",
   "metadata": {},
   "outputs": [
    {
     "data": {
      "application/vnd.jupyter.widget-view+json": {
       "model_id": "6abec6e8d8de430398ad1e1b7b87dad8",
       "version_major": 2,
       "version_minor": 0
      },
      "text/plain": [
       "0it [00:00, ?it/s]"
      ]
     },
     "metadata": {},
     "output_type": "display_data"
    }
   ],
   "source": [
    "_ = batch_processing(\n",
    "    input_dir=ROOT_PATH.joinpath('measurements', 'innerfidelity', 'data', 'over-ear'),\n",
    "    output_dir=ROOT_PATH.joinpath('results', 'Innerfidelity', 'over-ear'),\n",
    "    compensation=ROOT_PATH.joinpath('compensation', 'innerfidelity_harman_over-ear_2018_wo_bass.csv'),\n",
    "    bass_boost_gain=6.0, bass_boost_fc=105, bass_boost_q=0.7,\n",
    "    new_only=True, **eq_kwargs)"
   ]
  },
  {
   "cell_type": "markdown",
   "id": "72324e9a-cc26-4c2e-a5c0-c6f3ef0fb003",
   "metadata": {},
   "source": [
    "#### Innerfidelity In-ear"
   ]
  },
  {
   "cell_type": "code",
   "execution_count": 39,
   "id": "c87e797c-9018-4ff2-b997-9e654ceb74cd",
   "metadata": {},
   "outputs": [
    {
     "data": {
      "application/vnd.jupyter.widget-view+json": {
       "model_id": "84c65dd419764d6bbad5051e9cb29044",
       "version_major": 2,
       "version_minor": 0
      },
      "text/plain": [
       "0it [00:00, ?it/s]"
      ]
     },
     "metadata": {},
     "output_type": "display_data"
    }
   ],
   "source": [
    "_ = batch_processing(\n",
    "    input_dir=ROOT_PATH.joinpath('measurements', 'innerfidelity', 'data', 'in-ear'),\n",
    "    output_dir=ROOT_PATH.joinpath('results', 'Innerfidelity', 'in-ear'),\n",
    "    compensation=ROOT_PATH.joinpath('compensation', 'innerfidelity_autoeq_in-ear.csv'),\n",
    "    bass_boost_gain=6.0, bass_boost_fc=105, bass_boost_q=0.7,\n",
    "    new_only=True, **eq_kwargs)"
   ]
  },
  {
   "cell_type": "markdown",
   "id": "e26478f6-add1-420e-b98b-b95100834922",
   "metadata": {},
   "source": [
    "#### Innerfidelity Earbud"
   ]
  },
  {
   "cell_type": "code",
   "execution_count": 38,
   "id": "f14aa0eb-9697-402b-bb81-16e42d221974",
   "metadata": {},
   "outputs": [
    {
     "data": {
      "application/vnd.jupyter.widget-view+json": {
       "model_id": "1abc9bacc0e94e1b86760a8ede6e98f9",
       "version_major": 2,
       "version_minor": 0
      },
      "text/plain": [
       "0it [00:00, ?it/s]"
      ]
     },
     "metadata": {},
     "output_type": "display_data"
    }
   ],
   "source": [
    "_ = batch_processing(\n",
    "    input_dir=ROOT_PATH.joinpath('measurements', 'innerfidelity', 'data', 'earbud'),\n",
    "    output_dir=ROOT_PATH.joinpath('results', 'Innerfidelity', 'earbud'),\n",
    "    compensation=ROOT_PATH.joinpath('compensation', 'innerfidelity_autoeq_in-ear.csv'),\n",
    "    bass_boost_gain=0.0, bass_boost_fc=105, bass_boost_q=0.7,\n",
    "    new_only=True, **eq_kwargs)"
   ]
  },
  {
   "cell_type": "markdown",
   "id": "f1f0178c-312b-4246-ba4d-1986cb05c14e",
   "metadata": {},
   "source": [
    "#### Headphone.com Legacy Over-ear"
   ]
  },
  {
   "cell_type": "code",
   "execution_count": 37,
   "id": "cbcf4fd0-b46e-475f-96f7-8520cf788266",
   "metadata": {},
   "outputs": [
    {
     "data": {
      "application/vnd.jupyter.widget-view+json": {
       "model_id": "e9face0d536c47238223f1e9df177e1e",
       "version_major": 2,
       "version_minor": 0
      },
      "text/plain": [
       "0it [00:00, ?it/s]"
      ]
     },
     "metadata": {},
     "output_type": "display_data"
    }
   ],
   "source": [
    "_ = batch_processing(\n",
    "    input_dir=ROOT_PATH.joinpath('measurements', 'headphonecom', 'data', 'over-ear'),\n",
    "    output_dir=ROOT_PATH.joinpath('results', 'Headphone.com Legacy', 'over-ear'),\n",
    "    compensation=ROOT_PATH.joinpath('compensation', 'headphonecom_harman_over-ear_2018_wo_bass.csv'),\n",
    "    bass_boost_gain=6.0, bass_boost_fc=105, bass_boost_q=0.7,\n",
    "    new_only=True, **eq_kwargs)"
   ]
  },
  {
   "cell_type": "markdown",
   "id": "0433e2d2-bdc8-44e8-8a03-e6a83a795d7f",
   "metadata": {},
   "source": [
    "#### Headphone.com Legacy In-ear"
   ]
  },
  {
   "cell_type": "code",
   "execution_count": 36,
   "id": "2221cf95-b298-4c4a-a041-56a740d723e3",
   "metadata": {},
   "outputs": [
    {
     "data": {
      "application/vnd.jupyter.widget-view+json": {
       "model_id": "086035665e404bea9ae0a2156d1fdbb6",
       "version_major": 2,
       "version_minor": 0
      },
      "text/plain": [
       "0it [00:00, ?it/s]"
      ]
     },
     "metadata": {},
     "output_type": "display_data"
    }
   ],
   "source": [
    "_ = batch_processing(\n",
    "    input_dir=ROOT_PATH.joinpath('measurements', 'headphonecom', 'data', 'in-ear'),\n",
    "    output_dir=ROOT_PATH.joinpath('results', 'Headphone.com Legacy', 'in-ear'),\n",
    "    compensation=ROOT_PATH.joinpath('compensation', 'headphonecom_autoeq_in-ear.csv'),\n",
    "    bass_boost_gain=9.5, bass_boost_fc=105, bass_boost_q=0.7,\n",
    "    new_only=True, **eq_kwargs)"
   ]
  },
  {
   "cell_type": "markdown",
   "id": "695f1c66-582e-4c5b-89a7-f31f1c7a6bb9",
   "metadata": {},
   "source": [
    "#### Headphone.com Legacy Earbud"
   ]
  },
  {
   "cell_type": "code",
   "execution_count": 34,
   "id": "c1e74a27-52aa-4cf4-876a-6f4b3b48b90f",
   "metadata": {},
   "outputs": [
    {
     "data": {
      "application/vnd.jupyter.widget-view+json": {
       "model_id": "542838fbce534225b1160aa1c786e9f3",
       "version_major": 2,
       "version_minor": 0
      },
      "text/plain": [
       "  0%|          | 0/10 [00:00<?, ?it/s]"
      ]
     },
     "metadata": {},
     "output_type": "display_data"
    }
   ],
   "source": [
    "_ = batch_processing(\n",
    "    input_dir=ROOT_PATH.joinpath('measurements', 'headphonecom', 'data', 'earbud'),\n",
    "    output_dir=ROOT_PATH.joinpath('results', 'Headphone.com Legacy', 'earbud'),\n",
    "    compensation=ROOT_PATH.joinpath('compensation', 'headphonecom_autoeq_in-ear.csv'),\n",
    "    bass_boost_gain=0.0, bass_boost_fc=105, bass_boost_q=0.7,\n",
    "    new_only=False, **eq_kwargs)"
   ]
  },
  {
   "cell_type": "markdown",
   "id": "5ecd61ed-e920-42f6-8d47-5a4c1ac46ad9",
   "metadata": {},
   "source": [
    "## Update Indexes\n",
    "Updates recommended results, full results, DB specific results, HeSuVi results and ranking table."
   ]
  },
  {
   "cell_type": "code",
   "execution_count": 35,
   "id": "67b4aa57-c478-47b5-b140-272ef4a93b07",
   "metadata": {},
   "outputs": [
    {
     "name": "stdout",
     "output_type": "stream",
     "text": [
      "Creating recommendations index...\n",
      "Creating full index...\n",
      "Creating source indices...\n",
      "Creating HeSuVi ZIP archive...\n"
     ]
    },
    {
     "data": {
      "application/vnd.jupyter.widget-view+json": {
       "model_id": "0f8a718766a54e76b6d95719bd39aed8",
       "version_major": 2,
       "version_minor": 0
      },
      "text/plain": [
       "  0%|          | 0/3662 [00:00<?, ?it/s]"
      ]
     },
     "metadata": {},
     "output_type": "display_data"
    },
    {
     "name": "stdout",
     "output_type": "stream",
     "text": [
      "Creating ranking index...\n"
     ]
    },
    {
     "data": {
      "application/vnd.jupyter.widget-view+json": {
       "model_id": "ffc46a6a3fca41a8bb93afafe74e929a",
       "version_major": 2,
       "version_minor": 0
      },
      "text/plain": [
       "  0%|          | 0/3662 [00:00<?, ?it/s]"
      ]
     },
     "metadata": {},
     "output_type": "display_data"
    }
   ],
   "source": [
    "update_all_indexes()"
   ]
  },
  {
   "cell_type": "markdown",
   "id": "2ede7f48-8934-4818-b9fd-6c069d3a3298",
   "metadata": {},
   "source": [
    "#### Data for webapp"
   ]
  },
  {
   "cell_type": "code",
   "execution_count": 51,
   "id": "32e220dc-060e-49dd-ad1b-1242035f29aa",
   "metadata": {},
   "outputs": [
    {
     "data": {
      "application/vnd.jupyter.widget-view+json": {
       "model_id": "1f2198fa226e4723867dfc946bb8a5c0",
       "version_major": 2,
       "version_minor": 0
      },
      "text/plain": [
       "  0%|          | 0/4841 [00:00<?, ?it/s]"
      ]
     },
     "metadata": {},
     "output_type": "display_data"
    }
   ],
   "source": [
    "write_entries_and_measurements()"
   ]
  },
  {
   "cell_type": "markdown",
   "id": "c631045b-8097-4bef-b6f3-6af843e386fd",
   "metadata": {},
   "source": [
    "## Deploy\n",
    "1. Add files to Git, commit and push\n",
    "2. Upload webapp data to server"
   ]
  },
  {
   "cell_type": "code",
   "execution_count": null,
   "id": "9c6d8031-e0af-45a4-a4af-188b1e24f375",
   "metadata": {},
   "outputs": [],
   "source": []
  }
 ],
 "metadata": {
  "kernelspec": {
   "display_name": "autoeq",
   "language": "python",
   "name": "autoeq"
  },
  "language_info": {
   "codemirror_mode": {
    "name": "ipython",
    "version": 3
   },
   "file_extension": ".py",
   "mimetype": "text/x-python",
   "name": "python",
   "nbconvert_exporter": "python",
   "pygments_lexer": "ipython3",
   "version": "3.9.2"
  }
 },
 "nbformat": 4,
 "nbformat_minor": 5
}

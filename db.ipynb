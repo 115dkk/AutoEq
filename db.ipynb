{
 "cells": [
  {
   "cell_type": "code",
   "execution_count": 1,
   "id": "a99e7791-660c-49de-b312-5b99455a5a69",
   "metadata": {},
   "outputs": [],
   "source": [
    "%load_ext autoreload\n",
    "%autoreload 2"
   ]
  },
  {
   "cell_type": "code",
   "execution_count": 2,
   "id": "83685ae7-7f31-429c-baf9-8e0a458a53dd",
   "metadata": {},
   "outputs": [],
   "source": [
    "import sys\n",
    "from pathlib import Path\n",
    "ROOT_PATH = Path().resolve()\n",
    "import ipywidgets as widgets\n",
    "from IPython.display import display\n",
    "from measurements.rtings.rtings_crawler import RtingsCrawler\n",
    "from measurements.crinacle.crinacle_crawler import CrinacleCrawler\n",
    "from measurements.oratory1990.oratory1990_crawler import Oratory1990Crawler\n",
    "from measurements.average import average_measurements"
   ]
  },
  {
   "cell_type": "markdown",
   "id": "10681a98-09d8-483c-a64b-5a48ef64c4e1",
   "metadata": {},
   "source": [
    "## Crawling and Parsing\n",
    "Additional Python packages are required for processing the measurements:\n",
    "```bash\n",
    "python -m pip install -U -r measurements/dev-requirements.txt\n",
    "```\n",
    "\n",
    "Measurement crawlers require [Google Chrome](https://www.google.com/chrome/) installed and\n",
    "[ChromeDriver](https://googlechromelabs.github.io/chrome-for-testing/) binary in the measurements folder (or anywhere\n",
    "in the PATH).\n",
    "\n",
    "Measurement crawlers also require C++. This should be installed by default on Linux but on Windows you need to install\n",
    "Microsoft Visual Studio build tools for this. https://visualstudio.microsoft.com/downloads/ ->\n",
    "\"Tools for Visual Studio 2019\" -> \"Build Tools for Visual Studio 2019\".\n",
    "\n",
    "oratory1990 crawler requires Ghostscript installed: https://www.ghostscript.com/download/gsdnld.html"
   ]
  },
  {
   "cell_type": "markdown",
   "id": "23534877-debf-4b7d-b5c6-a6f03e82f0c5",
   "metadata": {},
   "source": [
    "### Crinacle\n",
    "Download measurement data from Drive folder to `measurements/crinacle/raw_data/` before running this!\n",
    "\n",
    "* `IEM Measurements/IEC60318-4 IEM Measurements (TSV txt)` into `AutoEq/measurements/crinacle/raw_data/IEC60318-4 IEM Measurements (TSV txt)`\n",
    "* `IEM Measurements/4620 IEM Measurements` into `AutoEq/measurements/crinacle/raw_data/4620 IEM Measurements`\n",
    "* `HP Measurements/EARS + 711 (TSV txt) (Legacy)` into `AutoEq/measurements/crinacle/raw_data/EARS + 711 (TSV txt) (Legacy)`\n",
    "* `GRAS 43AG-7` into `AutoEq/measurements/crinacle/raw_data/GRAS 43AG-7`"
   ]
  },
  {
   "cell_type": "code",
   "execution_count": null,
   "id": "ef4c3399-3076-461f-b3b5-5ded01991749",
   "metadata": {},
   "outputs": [],
   "source": [
    "crawler = CrinacleCrawler()\n",
    "crawler.process()\n",
    "display(crawler.widget)"
   ]
  },
  {
   "cell_type": "markdown",
   "id": "15198d83-4cc2-4136-ab77-c7150f161b1a",
   "metadata": {},
   "source": [
    "### oratory1990\n",
    "oratory1990 crawler fetches all measurements from https://www.reddit.com/r/oratory1990/wiki/index/list_of_presets/, downloads PDFs and reads the frequency response measurement data from the PDFs. Parsing the PDFs requires [Ghostscript](https://www.ghostscript.com/download/gsdnld.html) to be installed on the system."
   ]
  },
  {
   "cell_type": "code",
   "execution_count": null,
   "id": "af79e6d2-2418-44dd-bebd-dfc5db9f2cee",
   "metadata": {},
   "outputs": [],
   "source": [
    "crawler = Oratory1990Crawler()\n",
    "crawler.process(new_only=True)\n",
    "display(crawler.widget)"
   ]
  },
  {
   "cell_type": "markdown",
   "id": "5d8bb0e4-7b99-4226-a085-02e0666bdbb7",
   "metadata": {},
   "source": [
    "### Rtings\n",
    "Rtings crawler fetches all measurements from https://www.rtings.com/headphones/1-5/graph and downloads and parses the JSON data files."
   ]
  },
  {
   "cell_type": "code",
   "execution_count": null,
   "id": "6815db55-e73a-4d48-ac98-509a7db96474",
   "metadata": {},
   "outputs": [],
   "source": [
    "crawler = RtingsCrawler()\n",
    "crawler.process()\n",
    "display(crawler.widget)"
   ]
  },
  {
   "cell_type": "code",
   "execution_count": null,
   "id": "2c715b1d-3461-4164-9fa0-1fa0d446e5b3",
   "metadata": {},
   "outputs": [],
   "source": []
  }
 ],
 "metadata": {
  "kernelspec": {
   "display_name": "autoeq",
   "language": "python",
   "name": "autoeq"
  },
  "language_info": {
   "codemirror_mode": {
    "name": "ipython",
    "version": 3
   },
   "file_extension": ".py",
   "mimetype": "text/x-python",
   "name": "python",
   "nbconvert_exporter": "python",
   "pygments_lexer": "ipython3",
   "version": "3.9.2"
  }
 },
 "nbformat": 4,
 "nbformat_minor": 5
}

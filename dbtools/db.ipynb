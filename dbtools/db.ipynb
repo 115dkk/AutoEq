{
 "cells": [
  {
   "cell_type": "code",
   "execution_count": 1,
   "id": "a99e7791-660c-49de-b312-5b99455a5a69",
   "metadata": {},
   "outputs": [],
   "source": [
    "%load_ext autoreload\n",
    "%autoreload 2"
   ]
  },
  {
   "cell_type": "code",
   "execution_count": 2,
   "id": "c94122fc-dece-4a36-92d9-9b6b7f892519",
   "metadata": {},
   "outputs": [],
   "source": [
    "import sys\n",
    "from pathlib import Path\n",
    "ROOT_PATH = Path().resolve().parent\n",
    "if str(ROOT_PATH) not in sys.path:\n",
    "    sys.path.insert(ROOT_PATH, 1)"
   ]
  },
  {
   "cell_type": "code",
   "execution_count": 3,
   "id": "83685ae7-7f31-429c-baf9-8e0a458a53dd",
   "metadata": {},
   "outputs": [],
   "source": [
    "import ipywidgets as widgets\n",
    "from IPython.display import display\n",
    "from autoeq.constants import PEQ_CONFIGS\n",
    "from autoeq.batch_processing import batch_processing\n",
    "ROOT_PATH = Path().resolve().parent\n",
    "from dbtools.rtings_crawler import RtingsCrawler\n",
    "from dbtools.crinacle_crawler import CrinacleCrawler\n",
    "from dbtools.oratory1990_crawler import Oratory1990Crawler\n",
    "from dbtools.innerfidelity_crawler import InnerfidelityCrawler\n",
    "from dbtools.headphonecom_crawler import HeadphonecomCrawler\n",
    "from dbtools.prune_results import prune_results\n",
    "from dbtools.update_result_indexes import update_all_indexes\n",
    "from dbtools.create_webapp_data import write_entries_and_measurements, write_targets\n",
    "from dbtools.constants import TARGETS_PATH, MEASUREMENTS_PATH, RESULTS_PATH"
   ]
  },
  {
   "cell_type": "markdown",
   "id": "10681a98-09d8-483c-a64b-5a48ef64c4e1",
   "metadata": {},
   "source": [
    "## Crawling and Parsing\n",
    "Additional Python packages are required for processing the measurements:\n",
    "```bash\n",
    "python -m pip install -U -r dbtools/requirements.txt\n",
    "```\n",
    "\n",
    "This notebook uses IPyWidgets\n",
    "```bash\n",
    "jupyter nbextension enable --py widgetsnbextension --sys-prefix\n",
    "```\n",
    "\n",
    "Finally install IPython kernel\n",
    "```bash\n",
    "python -m ipykernel install --user --name=\"autoeq\"\n",
    "```\n",
    "\n",
    "Measurement crawlers require [Google Chrome](https://www.google.com/chrome/) installed and\n",
    "[ChromeDriver](https://googlechromelabs.github.io/chrome-for-testing/) binary in the measurements folder (or anywhere\n",
    "in the PATH).\n",
    "\n",
    "Measurement crawlers also require C++. This should be installed by default on Linux but on Windows you need to install\n",
    "Microsoft Visual Studio build tools for this. https://visualstudio.microsoft.com/downloads/ ->\n",
    "\"Tools for Visual Studio 2019\" -> \"Build Tools for Visual Studio 2019\".\n",
    "\n",
    "oratory1990 crawler requires Ghostscript installed: https://www.ghostscript.com/download/gsdnld.html"
   ]
  },
  {
   "cell_type": "markdown",
   "id": "23534877-debf-4b7d-b5c6-a6f03e82f0c5",
   "metadata": {},
   "source": [
    "### Crinacle\n",
    "Download measurement data from Drive folder to `measurements/crinacle/raw_data/` before running this!\n",
    "\n",
    "* `IEM Measurements/IEC60318-4 IEM Measurements (TSV txt)` into `AutoEq/measurements/crinacle/raw_data/IEC60318-4 IEM Measurements (TSV txt)`\n",
    "* `IEM Measurements/4620 IEM Measurements` into `AutoEq/measurements/crinacle/raw_data/4620 IEM Measurements`\n",
    "* `HP Measurements/EARS + 711 (TSV txt) (Legacy)` into `AutoEq/measurements/crinacle/raw_data/EARS + 711 (TSV txt) (Legacy)`\n",
    "* `GRAS 43AG-7` into `AutoEq/measurements/crinacle/raw_data/GRAS 43AG-7`"
   ]
  },
  {
   "cell_type": "code",
   "execution_count": null,
   "id": "9a2fab6b-7cd9-445b-9cde-4c96414ee9d3",
   "metadata": {},
   "outputs": [],
   "source": [
    "crawler = CrinacleCrawler()\n",
    "crawler.run()\n",
    "display(crawler.widget)"
   ]
  },
  {
   "cell_type": "code",
   "execution_count": 14,
   "id": "09f0d494-ed90-4782-861d-169741fa585a",
   "metadata": {},
   "outputs": [
    {
     "name": "stdout",
     "output_type": "stream",
     "text": [
      "No measurements need to be pruned\n"
     ]
    }
   ],
   "source": [
    "crawler.prune_measurements(dry_run=True)"
   ]
  },
  {
   "cell_type": "code",
   "execution_count": null,
   "id": "6201059e-6cb3-4640-9ec6-d51afd63bfde",
   "metadata": {},
   "outputs": [],
   "source": [
    "crawler.process(new_only=True)"
   ]
  },
  {
   "cell_type": "markdown",
   "id": "15198d83-4cc2-4136-ab77-c7150f161b1a",
   "metadata": {},
   "source": [
    "### oratory1990\n",
    "oratory1990 crawler fetches all measurements from https://www.reddit.com/r/oratory1990/wiki/index/list_of_presets/, downloads PDFs and reads the frequency response measurement data from the PDFs. Parsing the PDFs requires [Ghostscript](https://www.ghostscript.com/download/gsdnld.html) to be installed on the system."
   ]
  },
  {
   "cell_type": "code",
   "execution_count": 34,
   "id": "25f45a56-29a1-42b5-885f-09c342e3f434",
   "metadata": {},
   "outputs": [],
   "source": [
    "crawler = Oratory1990Crawler()"
   ]
  },
  {
   "cell_type": "code",
   "execution_count": null,
   "id": "34b02c2c-723f-4cba-870f-7eb43733712b",
   "metadata": {},
   "outputs": [],
   "source": [
    "crawler.run()\n",
    "display(crawler.widget)"
   ]
  },
  {
   "cell_type": "code",
   "execution_count": 36,
   "id": "d9883f28-5bae-4f0f-b43e-bed05eff3896",
   "metadata": {},
   "outputs": [
    {
     "name": "stdout",
     "output_type": "stream",
     "text": [
      "Removed \"C:\\Users\\jaakko\\code\\AutoEq\\measurements\\oratory1990\\data\\over-ear\\AKG K712 (Dekoni sheepskin Earpads).csv\"\n"
     ]
    }
   ],
   "source": [
    "crawler.prune_measurements(dry_run=False)"
   ]
  },
  {
   "cell_type": "code",
   "execution_count": 41,
   "id": "3f591c1b-203e-45a9-b9fc-68b2940cddce",
   "metadata": {},
   "outputs": [
    {
     "data": {
      "application/vnd.jupyter.widget-view+json": {
       "model_id": "e03ac48c71194bcc93c9a985b89294c6",
       "version_major": 2,
       "version_minor": 0
      },
      "text/plain": [
       "  0%|          | 0/612 [00:00<?, ?it/s]"
      ]
     },
     "metadata": {},
     "output_type": "display_data"
    }
   ],
   "source": [
    "crawler.process(new_only=True)"
   ]
  },
  {
   "cell_type": "markdown",
   "id": "5d8bb0e4-7b99-4226-a085-02e0666bdbb7",
   "metadata": {},
   "source": [
    "### Rtings\n",
    "Rtings crawler fetches all measurements from https://www.rtings.com/headphones/1-[2,4,5]/graph and downloads raw FR JSON files and parses them."
   ]
  },
  {
   "cell_type": "code",
   "execution_count": 44,
   "id": "c6249b01-28ee-4e50-90c5-8a7e9ac76b34",
   "metadata": {},
   "outputs": [],
   "source": [
    "crawler = RtingsCrawler()"
   ]
  },
  {
   "cell_type": "code",
   "execution_count": null,
   "id": "8e3a3ff8-fc93-4f64-8915-71f606ddf423",
   "metadata": {},
   "outputs": [],
   "source": [
    "crawler.run()\n",
    "display(crawler.widget)"
   ]
  },
  {
   "cell_type": "code",
   "execution_count": 45,
   "id": "19b23cab-a53a-4d3d-b424-0445fd165251",
   "metadata": {},
   "outputs": [
    {
     "name": "stdout",
     "output_type": "stream",
     "text": [
      "No measurements need to be pruned\n"
     ]
    }
   ],
   "source": [
    "crawler.prune_measurements(dry_run=True)"
   ]
  },
  {
   "cell_type": "code",
   "execution_count": 53,
   "id": "6bb1c64d-10bd-40ed-9dcb-d368e2b1f085",
   "metadata": {},
   "outputs": [
    {
     "data": {
      "application/vnd.jupyter.widget-view+json": {
       "model_id": "d1b083435e074418bcd15c2cf5ec75b5",
       "version_major": 2,
       "version_minor": 0
      },
      "text/plain": [
       "  0%|          | 0/723 [00:00<?, ?it/s]"
      ]
     },
     "metadata": {},
     "output_type": "display_data"
    }
   ],
   "source": [
    "crawler.process(new_only=True)"
   ]
  },
  {
   "cell_type": "markdown",
   "id": "c73d94ab-f636-4429-b2a9-88e73db27bc5",
   "metadata": {},
   "source": [
    "## Rename Measurements\n",
    "Sometimes measurements are named incorrectly or previously only one sample existed and now multiple samples have been measured and so the original one needs to be renamed as \"<name> (sample 1)\""
   ]
  },
  {
   "cell_type": "code",
   "execution_count": null,
   "id": "1fd0958c-ae06-4245-bc1d-180a1e2117d7",
   "metadata": {},
   "outputs": [],
   "source": [
    "crinacle = CrinacleCrawler()\n",
    "headphonecom = HeadphonecomCrawler()\n",
    "innerfidelity = InnerfidelityCrawler()\n",
    "oratory1990 = Oratory1990Crawler()\n",
    "rtings = RtingsCrawler(driver=oratory1990.driver)\n",
    "\n",
    "renames = [\n",
    "    {'old_name': 'Audeze LCD-2 (Rev. 2)', 'new_name': 'Audeze LCD-2 (Rev 2)', 'crawlers': [headphonecom]},\n",
    "]\n",
    "for rename in renames:\n",
    "    for crawler in rename['crawlers']:\n",
    "        crawler.rename_measurement(old_name=rename['old_name'], new_name=rename['new_name'], dry_run=True)"
   ]
  },
  {
   "cell_type": "markdown",
   "id": "dacbac18-6d4a-4f58-8f3b-af3700b5c895",
   "metadata": {},
   "source": [
    "## Prune Results\n",
    "Check if obsolete results (e.g. because of renaming) exist and remove them"
   ]
  },
  {
   "cell_type": "code",
   "execution_count": 60,
   "id": "319d03cb-98f6-4db2-a2b0-fa464942d7e0",
   "metadata": {},
   "outputs": [
    {
     "name": "stdout",
     "output_type": "stream",
     "text": [
      "C:\\Users\\jaakko\\code\\AutoEq\\measurements\\crinacle\\data\\in-ear\\GRAS 43AG-7\\1MORE MK801.csv\n",
      "Removed \"crinacle\\GRAS 43AG-7 over-ear\\1MORE MK801\"\n",
      "C:\\Users\\jaakko\\code\\AutoEq\\measurements\\crinacle\\data\\in-ear\\GRAS 43AG-7\\Abyss AB-1266 Phi.csv\n",
      "Removed \"crinacle\\GRAS 43AG-7 over-ear\\Abyss AB-1266 Phi\"\n",
      "C:\\Users\\jaakko\\code\\AutoEq\\measurements\\crinacle\\data\\in-ear\\GRAS 43AG-7\\Abyss AB-1266 Phi CC.csv\n",
      "Removed \"crinacle\\GRAS 43AG-7 over-ear\\Abyss AB-1266 Phi CC\"\n",
      "C:\\Users\\jaakko\\code\\AutoEq\\measurements\\crinacle\\data\\in-ear\\GRAS 43AG-7\\Abyss Diana Phi.csv\n",
      "Removed \"crinacle\\GRAS 43AG-7 over-ear\\Abyss Diana Phi\"\n",
      "C:\\Users\\jaakko\\code\\AutoEq\\measurements\\crinacle\\data\\in-ear\\GRAS 43AG-7\\Abyss Diana V2.csv\n",
      "Removed \"crinacle\\GRAS 43AG-7 over-ear\\Abyss Diana V2\"\n",
      "C:\\Users\\jaakko\\code\\AutoEq\\measurements\\crinacle\\data\\in-ear\\GRAS 43AG-7\\Acoustic Research AR-H1.csv\n",
      "Removed \"crinacle\\GRAS 43AG-7 over-ear\\Acoustic Research AR-H1\"\n",
      "C:\\Users\\jaakko\\code\\AutoEq\\measurements\\crinacle\\data\\in-ear\\GRAS 43AG-7\\AKG K240 Studio.csv\n",
      "Removed \"crinacle\\GRAS 43AG-7 over-ear\\AKG K240 Studio\"\n",
      "C:\\Users\\jaakko\\code\\AutoEq\\measurements\\crinacle\\data\\in-ear\\GRAS 43AG-7\\AKG K371.csv\n",
      "Removed \"crinacle\\GRAS 43AG-7 over-ear\\AKG K371\"\n",
      "C:\\Users\\jaakko\\code\\AutoEq\\measurements\\crinacle\\data\\in-ear\\GRAS 43AG-7\\AKG K52.csv\n",
      "Removed \"crinacle\\GRAS 43AG-7 over-ear\\AKG K52\"\n",
      "C:\\Users\\jaakko\\code\\AutoEq\\measurements\\crinacle\\data\\in-ear\\GRAS 43AG-7\\AKG K612 Pro.csv\n",
      "Removed \"crinacle\\GRAS 43AG-7 over-ear\\AKG K612 Pro\"\n",
      "C:\\Users\\jaakko\\code\\AutoEq\\measurements\\crinacle\\data\\in-ear\\GRAS 43AG-7\\AKG K701.csv\n",
      "Removed \"crinacle\\GRAS 43AG-7 over-ear\\AKG K701\"\n",
      "C:\\Users\\jaakko\\code\\AutoEq\\measurements\\crinacle\\data\\in-ear\\GRAS 43AG-7\\AKG K702.csv\n",
      "Removed \"crinacle\\GRAS 43AG-7 over-ear\\AKG K702\"\n",
      "C:\\Users\\jaakko\\code\\AutoEq\\measurements\\crinacle\\data\\in-ear\\GRAS 43AG-7\\AKG K712.csv\n",
      "Removed \"crinacle\\GRAS 43AG-7 over-ear\\AKG K712\"\n",
      "C:\\Users\\jaakko\\code\\AutoEq\\measurements\\crinacle\\data\\in-ear\\GRAS 43AG-7\\AKG K72.csv\n",
      "Removed \"crinacle\\GRAS 43AG-7 over-ear\\AKG K72\"\n",
      "C:\\Users\\jaakko\\code\\AutoEq\\measurements\\crinacle\\data\\in-ear\\GRAS 43AG-7\\AKG K7XX.csv\n",
      "Removed \"crinacle\\GRAS 43AG-7 over-ear\\AKG K7XX\"\n",
      "C:\\Users\\jaakko\\code\\AutoEq\\measurements\\crinacle\\data\\in-ear\\GRAS 43AG-7\\AKG K812.csv\n",
      "Removed \"crinacle\\GRAS 43AG-7 over-ear\\AKG K812\"\n",
      "C:\\Users\\jaakko\\code\\AutoEq\\measurements\\crinacle\\data\\in-ear\\GRAS 43AG-7\\AKG K872 Pro.csv\n",
      "Removed \"crinacle\\GRAS 43AG-7 over-ear\\AKG K872 Pro\"\n",
      "C:\\Users\\jaakko\\code\\AutoEq\\measurements\\crinacle\\data\\in-ear\\GRAS 43AG-7\\AKG K92.csv\n",
      "Removed \"crinacle\\GRAS 43AG-7 over-ear\\AKG K92\"\n",
      "C:\\Users\\jaakko\\code\\AutoEq\\measurements\\crinacle\\data\\in-ear\\GRAS 43AG-7\\AKG N700NC M2.csv\n",
      "Removed \"crinacle\\GRAS 43AG-7 over-ear\\AKG N700NC M2\"\n",
      "C:\\Users\\jaakko\\code\\AutoEq\\measurements\\crinacle\\data\\in-ear\\GRAS 43AG-7\\Altiat Cal.1H.csv\n",
      "Removed \"crinacle\\GRAS 43AG-7 over-ear\\Altiat Cal.1H\"\n",
      "C:\\Users\\jaakko\\code\\AutoEq\\measurements\\crinacle\\data\\in-ear\\GRAS 43AG-7\\Apple AirPods Max.csv\n",
      "Removed \"crinacle\\GRAS 43AG-7 over-ear\\Apple AirPods Max\"\n",
      "C:\\Users\\jaakko\\code\\AutoEq\\measurements\\crinacle\\data\\in-ear\\GRAS 43AG-7\\ASTRO Gaming A40 TR.csv\n",
      "Removed \"crinacle\\GRAS 43AG-7 over-ear\\ASTRO Gaming A40 TR\"\n",
      "C:\\Users\\jaakko\\code\\AutoEq\\measurements\\crinacle\\data\\in-ear\\GRAS 43AG-7\\Audeze CRBN.csv\n",
      "Removed \"crinacle\\GRAS 43AG-7 over-ear\\Audeze CRBN\"\n",
      "C:\\Users\\jaakko\\code\\AutoEq\\measurements\\crinacle\\data\\in-ear\\GRAS 43AG-7\\Audeze LCD-1.csv\n",
      "Removed \"crinacle\\GRAS 43AG-7 over-ear\\Audeze LCD-1\"\n",
      "C:\\Users\\jaakko\\code\\AutoEq\\measurements\\crinacle\\data\\in-ear\\GRAS 43AG-7\\Audeze LCD-2.csv\n",
      "Removed \"crinacle\\GRAS 43AG-7 over-ear\\Audeze LCD-2\"\n",
      "C:\\Users\\jaakko\\code\\AutoEq\\measurements\\crinacle\\data\\in-ear\\GRAS 43AG-7\\Audeze LCD-2 Classic.csv\n",
      "Removed \"crinacle\\GRAS 43AG-7 over-ear\\Audeze LCD-2 Classic\"\n",
      "C:\\Users\\jaakko\\code\\AutoEq\\measurements\\crinacle\\data\\in-ear\\GRAS 43AG-7\\Audeze LCD-2 Closed Back.csv\n",
      "Removed \"crinacle\\GRAS 43AG-7 over-ear\\Audeze LCD-2 Closed Back\"\n",
      "C:\\Users\\jaakko\\code\\AutoEq\\measurements\\crinacle\\data\\in-ear\\GRAS 43AG-7\\Audeze LCD-24.csv\n",
      "Removed \"crinacle\\GRAS 43AG-7 over-ear\\Audeze LCD-24\"\n",
      "C:\\Users\\jaakko\\code\\AutoEq\\measurements\\crinacle\\data\\in-ear\\GRAS 43AG-7\\Audeze LCD-3.csv\n",
      "Removed \"crinacle\\GRAS 43AG-7 over-ear\\Audeze LCD-3\"\n",
      "C:\\Users\\jaakko\\code\\AutoEq\\measurements\\crinacle\\data\\in-ear\\GRAS 43AG-7\\Audeze LCD-4.csv\n",
      "Removed \"crinacle\\GRAS 43AG-7 over-ear\\Audeze LCD-4\"\n",
      "C:\\Users\\jaakko\\code\\AutoEq\\measurements\\crinacle\\data\\in-ear\\GRAS 43AG-7\\Audeze LCD-5.csv\n",
      "Removed \"crinacle\\GRAS 43AG-7 over-ear\\Audeze LCD-5\"\n",
      "C:\\Users\\jaakko\\code\\AutoEq\\measurements\\crinacle\\data\\in-ear\\GRAS 43AG-7\\Audeze LCD-GX.csv\n",
      "Removed \"crinacle\\GRAS 43AG-7 over-ear\\Audeze LCD-GX\"\n",
      "C:\\Users\\jaakko\\code\\AutoEq\\measurements\\crinacle\\data\\in-ear\\GRAS 43AG-7\\Audeze LCD-MX4.csv\n",
      "Removed \"crinacle\\GRAS 43AG-7 over-ear\\Audeze LCD-MX4\"\n",
      "C:\\Users\\jaakko\\code\\AutoEq\\measurements\\crinacle\\data\\in-ear\\GRAS 43AG-7\\Audeze LCD-R.csv\n",
      "Removed \"crinacle\\GRAS 43AG-7 over-ear\\Audeze LCD-R\"\n",
      "C:\\Users\\jaakko\\code\\AutoEq\\measurements\\crinacle\\data\\in-ear\\GRAS 43AG-7\\Audeze LCD-X (2021).csv\n",
      "Removed \"crinacle\\GRAS 43AG-7 over-ear\\Audeze LCD-X (2021)\"\n",
      "C:\\Users\\jaakko\\code\\AutoEq\\measurements\\crinacle\\data\\in-ear\\GRAS 43AG-7\\Audeze LCD-X (pre-2021).csv\n",
      "Removed \"crinacle\\GRAS 43AG-7 over-ear\\Audeze LCD-X (pre-2021)\"\n",
      "C:\\Users\\jaakko\\code\\AutoEq\\measurements\\crinacle\\data\\in-ear\\GRAS 43AG-7\\Audeze LCD-X (pre-2021) (worn earpads).csv\n",
      "Removed \"crinacle\\GRAS 43AG-7 over-ear\\Audeze LCD-X (pre-2021) (worn earpads)\"\n",
      "C:\\Users\\jaakko\\code\\AutoEq\\measurements\\crinacle\\data\\in-ear\\GRAS 43AG-7\\Audeze LCD-XC.csv\n",
      "Removed \"crinacle\\GRAS 43AG-7 over-ear\\Audeze LCD-XC\"\n",
      "C:\\Users\\jaakko\\code\\AutoEq\\measurements\\crinacle\\data\\in-ear\\GRAS 43AG-7\\Audeze MM-500.csv\n",
      "Removed \"crinacle\\GRAS 43AG-7 over-ear\\Audeze MM-500\"\n",
      "C:\\Users\\jaakko\\code\\AutoEq\\measurements\\crinacle\\data\\in-ear\\GRAS 43AG-7\\Audeze Mobius (ballistics preset).csv\n",
      "Removed \"crinacle\\GRAS 43AG-7 over-ear\\Audeze Mobius (ballistics preset)\"\n",
      "C:\\Users\\jaakko\\code\\AutoEq\\measurements\\crinacle\\data\\in-ear\\GRAS 43AG-7\\Audeze Mobius (default preset).csv\n",
      "Removed \"crinacle\\GRAS 43AG-7 over-ear\\Audeze Mobius (default preset)\"\n",
      "C:\\Users\\jaakko\\code\\AutoEq\\measurements\\crinacle\\data\\in-ear\\GRAS 43AG-7\\Audeze Mobius (flat preset).csv\n",
      "Removed \"crinacle\\GRAS 43AG-7 over-ear\\Audeze Mobius (flat preset)\"\n",
      "C:\\Users\\jaakko\\code\\AutoEq\\measurements\\crinacle\\data\\in-ear\\GRAS 43AG-7\\Audeze Mobius (footsteps preset).csv\n",
      "Removed \"crinacle\\GRAS 43AG-7 over-ear\\Audeze Mobius (footsteps preset)\"\n",
      "C:\\Users\\jaakko\\code\\AutoEq\\measurements\\crinacle\\data\\in-ear\\GRAS 43AG-7\\Audeze Mobius (music preset).csv\n",
      "Removed \"crinacle\\GRAS 43AG-7 over-ear\\Audeze Mobius (music preset)\"\n",
      "C:\\Users\\jaakko\\code\\AutoEq\\measurements\\crinacle\\data\\in-ear\\GRAS 43AG-7\\Audeze Mobius (racing preset).csv\n",
      "Removed \"crinacle\\GRAS 43AG-7 over-ear\\Audeze Mobius (racing preset)\"\n",
      "C:\\Users\\jaakko\\code\\AutoEq\\measurements\\crinacle\\data\\in-ear\\GRAS 43AG-7\\Audeze Mobius (RPG preset).csv\n",
      "Removed \"crinacle\\GRAS 43AG-7 over-ear\\Audeze Mobius (RPG preset)\"\n",
      "C:\\Users\\jaakko\\code\\AutoEq\\measurements\\crinacle\\data\\in-ear\\GRAS 43AG-7\\Audeze SINE DX.csv\n",
      "Removed \"crinacle\\GRAS 43AG-7 over-ear\\Audeze SINE DX\"\n",
      "C:\\Users\\jaakko\\code\\AutoEq\\measurements\\crinacle\\data\\in-ear\\GRAS 43AG-7\\Audio-Technica ATH-A1000Z.csv\n",
      "Removed \"crinacle\\GRAS 43AG-7 over-ear\\Audio-Technica ATH-A1000Z\"\n",
      "C:\\Users\\jaakko\\code\\AutoEq\\measurements\\crinacle\\data\\in-ear\\GRAS 43AG-7\\Audio-Technica ATH-A2000X.csv\n",
      "Removed \"crinacle\\GRAS 43AG-7 over-ear\\Audio-Technica ATH-A2000X\"\n",
      "C:\\Users\\jaakko\\code\\AutoEq\\measurements\\crinacle\\data\\in-ear\\GRAS 43AG-7\\Audio-Technica ATH-A2000Z.csv\n",
      "Removed \"crinacle\\GRAS 43AG-7 over-ear\\Audio-Technica ATH-A2000Z\"\n",
      "C:\\Users\\jaakko\\code\\AutoEq\\measurements\\crinacle\\data\\in-ear\\GRAS 43AG-7\\Audio-Technica ATH-A900X.csv\n",
      "Removed \"crinacle\\GRAS 43AG-7 over-ear\\Audio-Technica ATH-A900X\"\n",
      "C:\\Users\\jaakko\\code\\AutoEq\\measurements\\crinacle\\data\\in-ear\\GRAS 43AG-7\\Audio-Technica ATH-A990Z.csv\n",
      "Removed \"crinacle\\GRAS 43AG-7 over-ear\\Audio-Technica ATH-A990Z\"\n",
      "C:\\Users\\jaakko\\code\\AutoEq\\measurements\\crinacle\\data\\in-ear\\GRAS 43AG-7\\Audio-Technica ATH-AD1000X.csv\n",
      "Removed \"crinacle\\GRAS 43AG-7 over-ear\\Audio-Technica ATH-AD1000X\"\n",
      "C:\\Users\\jaakko\\code\\AutoEq\\measurements\\crinacle\\data\\in-ear\\GRAS 43AG-7\\Audio-Technica ATH-AD2000.csv\n",
      "Removed \"crinacle\\GRAS 43AG-7 over-ear\\Audio-Technica ATH-AD2000\"\n",
      "C:\\Users\\jaakko\\code\\AutoEq\\measurements\\crinacle\\data\\in-ear\\GRAS 43AG-7\\Audio-Technica ATH-AD500X.csv\n",
      "Removed \"crinacle\\GRAS 43AG-7 over-ear\\Audio-Technica ATH-AD500X\"\n",
      "C:\\Users\\jaakko\\code\\AutoEq\\measurements\\crinacle\\data\\in-ear\\GRAS 43AG-7\\Audio-Technica ATH-AD700X.csv\n",
      "Removed \"crinacle\\GRAS 43AG-7 over-ear\\Audio-Technica ATH-AD700X\"\n",
      "C:\\Users\\jaakko\\code\\AutoEq\\measurements\\crinacle\\data\\in-ear\\GRAS 43AG-7\\Audio-Technica ATH-AD900X.csv\n",
      "Removed \"crinacle\\GRAS 43AG-7 over-ear\\Audio-Technica ATH-AD900X\"\n",
      "C:\\Users\\jaakko\\code\\AutoEq\\measurements\\crinacle\\data\\in-ear\\GRAS 43AG-7\\Audio-Technica ATH-ADX5000.csv\n",
      "Removed \"crinacle\\GRAS 43AG-7 over-ear\\Audio-Technica ATH-ADX5000\"\n",
      "C:\\Users\\jaakko\\code\\AutoEq\\measurements\\crinacle\\data\\in-ear\\GRAS 43AG-7\\Audio-Technica ATH-ADX5000 (Dekoni elite sheepskin earpads).csv\n",
      "Removed \"crinacle\\GRAS 43AG-7 over-ear\\Audio-Technica ATH-ADX5000 (Dekoni elite sheepskin earpads)\"\n",
      "C:\\Users\\jaakko\\code\\AutoEq\\measurements\\crinacle\\data\\in-ear\\GRAS 43AG-7\\Audio-Technica ATH-ADX5000 (Dekoni fenestrated sheepskin earpads).csv\n",
      "Removed \"crinacle\\GRAS 43AG-7 over-ear\\Audio-Technica ATH-ADX5000 (Dekoni fenestrated sheepskin earpads)\"\n",
      "C:\\Users\\jaakko\\code\\AutoEq\\measurements\\crinacle\\data\\in-ear\\GRAS 43AG-7\\Audio-Technica ATH-ADX5000 (Yaxi A2000Z,AD2000X earpads).csv\n",
      "Removed \"crinacle\\GRAS 43AG-7 over-ear\\Audio-Technica ATH-ADX5000 (Yaxi A2000Z,AD2000X earpads)\"\n",
      "C:\\Users\\jaakko\\code\\AutoEq\\measurements\\crinacle\\data\\in-ear\\GRAS 43AG-7\\Audio-Technica ATH-AWAS.csv\n",
      "Removed \"crinacle\\GRAS 43AG-7 over-ear\\Audio-Technica ATH-AWAS\"\n",
      "C:\\Users\\jaakko\\code\\AutoEq\\measurements\\crinacle\\data\\in-ear\\GRAS 43AG-7\\Audio-Technica ATH-AWKT.csv\n",
      "Removed \"crinacle\\GRAS 43AG-7 over-ear\\Audio-Technica ATH-AWKT\"\n",
      "C:\\Users\\jaakko\\code\\AutoEq\\measurements\\crinacle\\data\\in-ear\\GRAS 43AG-7\\Audio-Technica ATH-EW9.csv\n",
      "Removed \"crinacle\\GRAS 43AG-7 over-ear\\Audio-Technica ATH-EW9\"\n",
      "C:\\Users\\jaakko\\code\\AutoEq\\measurements\\crinacle\\data\\in-ear\\GRAS 43AG-7\\Audio-Technica ATH-G1.csv\n",
      "Removed \"crinacle\\GRAS 43AG-7 over-ear\\Audio-Technica ATH-G1\"\n",
      "C:\\Users\\jaakko\\code\\AutoEq\\measurements\\crinacle\\data\\in-ear\\GRAS 43AG-7\\Audio-Technica ATH-L5000.csv\n",
      "Removed \"crinacle\\GRAS 43AG-7 over-ear\\Audio-Technica ATH-L5000\"\n",
      "C:\\Users\\jaakko\\code\\AutoEq\\measurements\\crinacle\\data\\in-ear\\GRAS 43AG-7\\Audio-Technica ATH-M40x.csv\n",
      "Removed \"crinacle\\GRAS 43AG-7 over-ear\\Audio-Technica ATH-M40x\"\n",
      "C:\\Users\\jaakko\\code\\AutoEq\\measurements\\crinacle\\data\\in-ear\\GRAS 43AG-7\\Audio-Technica ATH-M50x.csv\n",
      "Removed \"crinacle\\GRAS 43AG-7 over-ear\\Audio-Technica ATH-M50x\"\n",
      "C:\\Users\\jaakko\\code\\AutoEq\\measurements\\crinacle\\data\\in-ear\\GRAS 43AG-7\\Audio-Technica ATH-M50xBT.csv\n",
      "Removed \"crinacle\\GRAS 43AG-7 over-ear\\Audio-Technica ATH-M50xBT\"\n",
      "C:\\Users\\jaakko\\code\\AutoEq\\measurements\\crinacle\\data\\in-ear\\GRAS 43AG-7\\Audio-Technica ATH-M70x.csv\n",
      "Removed \"crinacle\\GRAS 43AG-7 over-ear\\Audio-Technica ATH-M70x\"\n",
      "C:\\Users\\jaakko\\code\\AutoEq\\measurements\\crinacle\\data\\in-ear\\GRAS 43AG-7\\Audio-Technica ATH-MSR7b.csv\n",
      "Removed \"crinacle\\GRAS 43AG-7 over-ear\\Audio-Technica ATH-MSR7b\"\n",
      "C:\\Users\\jaakko\\code\\AutoEq\\measurements\\crinacle\\data\\in-ear\\GRAS 43AG-7\\Audio-Technica ATH-R70x.csv\n",
      "Removed \"crinacle\\GRAS 43AG-7 over-ear\\Audio-Technica ATH-R70x\"\n",
      "C:\\Users\\jaakko\\code\\AutoEq\\measurements\\crinacle\\data\\in-ear\\GRAS 43AG-7\\AudioQuest NightHawk.csv\n",
      "Removed \"crinacle\\GRAS 43AG-7 over-ear\\AudioQuest NightHawk\"\n",
      "C:\\Users\\jaakko\\code\\AutoEq\\measurements\\crinacle\\data\\in-ear\\GRAS 43AG-7\\AudioQuest NightOwl.csv\n",
      "Removed \"crinacle\\GRAS 43AG-7 over-ear\\AudioQuest NightOwl\"\n",
      "C:\\Users\\jaakko\\code\\AutoEq\\measurements\\crinacle\\data\\in-ear\\GRAS 43AG-7\\Aurorus Australis.csv\n",
      "Removed \"crinacle\\GRAS 43AG-7 over-ear\\Aurorus Australis\"\n",
      "C:\\Users\\jaakko\\code\\AutoEq\\measurements\\crinacle\\data\\in-ear\\GRAS 43AG-7\\Aurorus Borealis.csv\n",
      "Removed \"crinacle\\GRAS 43AG-7 over-ear\\Aurorus Borealis\"\n",
      "C:\\Users\\jaakko\\code\\AutoEq\\measurements\\crinacle\\data\\in-ear\\GRAS 43AG-7\\Bang & Olufsen BeoPlay H7.csv\n",
      "Removed \"crinacle\\GRAS 43AG-7 over-ear\\Bang & Olufsen BeoPlay H7\"\n",
      "C:\\Users\\jaakko\\code\\AutoEq\\measurements\\crinacle\\data\\in-ear\\GRAS 43AG-7\\Beyerdynamic Amiron Home.csv\n",
      "Removed \"crinacle\\GRAS 43AG-7 over-ear\\Beyerdynamic Amiron Home\"\n",
      "C:\\Users\\jaakko\\code\\AutoEq\\measurements\\crinacle\\data\\in-ear\\GRAS 43AG-7\\Beyerdynamic Aventho Wireless.csv\n",
      "Removed \"crinacle\\GRAS 43AG-7 over-ear\\Beyerdynamic Aventho Wireless\"\n",
      "C:\\Users\\jaakko\\code\\AutoEq\\measurements\\crinacle\\data\\in-ear\\GRAS 43AG-7\\Beyerdynamic DT 1350.csv\n",
      "Removed \"crinacle\\GRAS 43AG-7 over-ear\\Beyerdynamic DT 1350\"\n",
      "C:\\Users\\jaakko\\code\\AutoEq\\measurements\\crinacle\\data\\in-ear\\GRAS 43AG-7\\Beyerdynamic DT 1770 Pro (velour earpads).csv\n",
      "Removed \"crinacle\\GRAS 43AG-7 over-ear\\Beyerdynamic DT 1770 Pro (velour earpads)\"\n",
      "C:\\Users\\jaakko\\code\\AutoEq\\measurements\\crinacle\\data\\in-ear\\GRAS 43AG-7\\Beyerdynamic DT 1990 (balanced earpads).csv\n",
      "Removed \"crinacle\\GRAS 43AG-7 over-ear\\Beyerdynamic DT 1990 (balanced earpads)\"\n",
      "C:\\Users\\jaakko\\code\\AutoEq\\measurements\\crinacle\\data\\in-ear\\GRAS 43AG-7\\Beyerdynamic DT 1990 Pro (analytical earpads).csv\n",
      "Removed \"crinacle\\GRAS 43AG-7 over-ear\\Beyerdynamic DT 1990 Pro (analytical earpads)\"\n",
      "C:\\Users\\jaakko\\code\\AutoEq\\measurements\\crinacle\\data\\in-ear\\GRAS 43AG-7\\Beyerdynamic DT 1990 Pro (Dekoni Elite velour earpads).csv\n",
      "Removed \"crinacle\\GRAS 43AG-7 over-ear\\Beyerdynamic DT 1990 Pro (Dekoni Elite velour earpads)\"\n",
      "C:\\Users\\jaakko\\code\\AutoEq\\measurements\\crinacle\\data\\in-ear\\GRAS 43AG-7\\Beyerdynamic DT 250 (80 Ohm).csv\n",
      "Removed \"crinacle\\GRAS 43AG-7 over-ear\\Beyerdynamic DT 250 (80 Ohm)\"\n",
      "C:\\Users\\jaakko\\code\\AutoEq\\measurements\\crinacle\\data\\in-ear\\GRAS 43AG-7\\Beyerdynamic DT 770 Pro (250 Ohm).csv\n",
      "Removed \"crinacle\\GRAS 43AG-7 over-ear\\Beyerdynamic DT 770 Pro (250 Ohm)\"\n",
      "C:\\Users\\jaakko\\code\\AutoEq\\measurements\\crinacle\\data\\in-ear\\GRAS 43AG-7\\Beyerdynamic DT 770 Pro (80 Ohm).csv\n",
      "Removed \"crinacle\\GRAS 43AG-7 over-ear\\Beyerdynamic DT 770 Pro (80 Ohm)\"\n",
      "C:\\Users\\jaakko\\code\\AutoEq\\measurements\\crinacle\\data\\in-ear\\GRAS 43AG-7\\Beyerdynamic DT 860.csv\n",
      "Removed \"crinacle\\GRAS 43AG-7 over-ear\\Beyerdynamic DT 860\"\n",
      "C:\\Users\\jaakko\\code\\AutoEq\\measurements\\crinacle\\data\\in-ear\\GRAS 43AG-7\\Beyerdynamic DT 880 (32 Ohm).csv\n",
      "Removed \"crinacle\\GRAS 43AG-7 over-ear\\Beyerdynamic DT 880 (32 Ohm)\"\n",
      "C:\\Users\\jaakko\\code\\AutoEq\\measurements\\crinacle\\data\\in-ear\\GRAS 43AG-7\\Beyerdynamic DT 990 Pro (250 Ohm).csv\n",
      "Removed \"crinacle\\GRAS 43AG-7 over-ear\\Beyerdynamic DT 990 Pro (250 Ohm)\"\n",
      "C:\\Users\\jaakko\\code\\AutoEq\\measurements\\crinacle\\data\\in-ear\\GRAS 43AG-7\\Beyerdynamic T1 (3rd Gen).csv\n",
      "Removed \"crinacle\\GRAS 43AG-7 over-ear\\Beyerdynamic T1 (3rd Gen)\"\n",
      "C:\\Users\\jaakko\\code\\AutoEq\\measurements\\crinacle\\data\\in-ear\\GRAS 43AG-7\\Beyerdynamic T5 (3rd Gen).csv\n",
      "Removed \"crinacle\\GRAS 43AG-7 over-ear\\Beyerdynamic T5 (3rd Gen)\"\n",
      "C:\\Users\\jaakko\\code\\AutoEq\\measurements\\crinacle\\data\\in-ear\\GRAS 43AG-7\\Beyerdynamic T5p.csv\n",
      "Removed \"crinacle\\GRAS 43AG-7 over-ear\\Beyerdynamic T5p\"\n",
      "C:\\Users\\jaakko\\code\\AutoEq\\measurements\\crinacle\\data\\in-ear\\GRAS 43AG-7\\Beyerdynamic T70.csv\n",
      "Removed \"crinacle\\GRAS 43AG-7 over-ear\\Beyerdynamic T70\"\n",
      "C:\\Users\\jaakko\\code\\AutoEq\\measurements\\crinacle\\data\\in-ear\\GRAS 43AG-7\\Beyerdynamic TYGR 300 R.csv\n",
      "Removed \"crinacle\\GRAS 43AG-7 over-ear\\Beyerdynamic TYGR 300 R\"\n",
      "C:\\Users\\jaakko\\code\\AutoEq\\measurements\\crinacle\\data\\in-ear\\GRAS 43AG-7\\BLON B20.csv\n",
      "Removed \"crinacle\\GRAS 43AG-7 over-ear\\BLON B20\"\n",
      "C:\\Users\\jaakko\\code\\AutoEq\\measurements\\crinacle\\data\\in-ear\\GRAS 43AG-7\\BLON B60.csv\n",
      "Removed \"crinacle\\GRAS 43AG-7 over-ear\\BLON B60\"\n",
      "C:\\Users\\jaakko\\code\\AutoEq\\measurements\\crinacle\\data\\in-ear\\GRAS 43AG-7\\Bose Noise Cancelling Headphones 700.csv\n",
      "Removed \"crinacle\\GRAS 43AG-7 over-ear\\Bose Noise Cancelling Headphones 700\"\n",
      "C:\\Users\\jaakko\\code\\AutoEq\\measurements\\crinacle\\data\\in-ear\\GRAS 43AG-7\\Bose QuietComfort 35 II.csv\n",
      "Removed \"crinacle\\GRAS 43AG-7 over-ear\\Bose QuietComfort 35 II\"\n",
      "C:\\Users\\jaakko\\code\\AutoEq\\measurements\\crinacle\\data\\in-ear\\GRAS 43AG-7\\Bose QuietComfort 35 II (passive).csv\n",
      "Removed \"crinacle\\GRAS 43AG-7 over-ear\\Bose QuietComfort 35 II (passive)\"\n",
      "C:\\Users\\jaakko\\code\\AutoEq\\measurements\\crinacle\\data\\in-ear\\GRAS 43AG-7\\Bowers & Wilkins PX.csv\n",
      "Removed \"crinacle\\GRAS 43AG-7 over-ear\\Bowers & Wilkins PX\"\n",
      "C:\\Users\\jaakko\\code\\AutoEq\\measurements\\crinacle\\data\\in-ear\\GRAS 43AG-7\\Campfire Audio Cascade.csv\n",
      "Removed \"crinacle\\GRAS 43AG-7 over-ear\\Campfire Audio Cascade\"\n",
      "C:\\Users\\jaakko\\code\\AutoEq\\measurements\\crinacle\\data\\in-ear\\GRAS 43AG-7\\Dan Clark Audio Aeon 2 Closed.csv\n",
      "Removed \"crinacle\\GRAS 43AG-7 over-ear\\Dan Clark Audio Aeon 2 Closed\"\n",
      "C:\\Users\\jaakko\\code\\AutoEq\\measurements\\crinacle\\data\\in-ear\\GRAS 43AG-7\\Dan Clark Audio Aeon 2 Noire.csv\n",
      "Removed \"crinacle\\GRAS 43AG-7 over-ear\\Dan Clark Audio Aeon 2 Noire\"\n",
      "C:\\Users\\jaakko\\code\\AutoEq\\measurements\\crinacle\\data\\in-ear\\GRAS 43AG-7\\Dan Clark Audio Aeon 2 Open.csv\n",
      "Removed \"crinacle\\GRAS 43AG-7 over-ear\\Dan Clark Audio Aeon 2 Open\"\n",
      "C:\\Users\\jaakko\\code\\AutoEq\\measurements\\crinacle\\data\\in-ear\\GRAS 43AG-7\\Dan Clark Audio Aeon Flow Closed (black filter).csv\n",
      "Removed \"crinacle\\GRAS 43AG-7 over-ear\\Dan Clark Audio Aeon Flow Closed (black filter)\"\n",
      "C:\\Users\\jaakko\\code\\AutoEq\\measurements\\crinacle\\data\\in-ear\\GRAS 43AG-7\\Dan Clark Audio Aeon Flow Closed (white filter with one notch).csv\n",
      "Removed \"crinacle\\GRAS 43AG-7 over-ear\\Dan Clark Audio Aeon Flow Closed (white filter with one notch)\"\n",
      "C:\\Users\\jaakko\\code\\AutoEq\\measurements\\crinacle\\data\\in-ear\\GRAS 43AG-7\\Dan Clark Audio Aeon Flow Open.csv\n",
      "Removed \"crinacle\\GRAS 43AG-7 over-ear\\Dan Clark Audio Aeon Flow Open\"\n",
      "C:\\Users\\jaakko\\code\\AutoEq\\measurements\\crinacle\\data\\in-ear\\GRAS 43AG-7\\Dan Clark Audio Ether 2.csv\n",
      "Removed \"crinacle\\GRAS 43AG-7 over-ear\\Dan Clark Audio Ether 2\"\n",
      "C:\\Users\\jaakko\\code\\AutoEq\\measurements\\crinacle\\data\\in-ear\\GRAS 43AG-7\\Dan Clark Audio Ether C.csv\n",
      "Removed \"crinacle\\GRAS 43AG-7 over-ear\\Dan Clark Audio Ether C\"\n",
      "C:\\Users\\jaakko\\code\\AutoEq\\measurements\\crinacle\\data\\in-ear\\GRAS 43AG-7\\Dan Clark Audio Ether C Flow 1.1.csv\n",
      "Removed \"crinacle\\GRAS 43AG-7 over-ear\\Dan Clark Audio Ether C Flow 1.1\"\n",
      "C:\\Users\\jaakko\\code\\AutoEq\\measurements\\crinacle\\data\\in-ear\\GRAS 43AG-7\\Dan Clark Audio Ether Flow 1.1.csv\n",
      "Removed \"crinacle\\GRAS 43AG-7 over-ear\\Dan Clark Audio Ether Flow 1.1\"\n",
      "C:\\Users\\jaakko\\code\\AutoEq\\measurements\\crinacle\\data\\in-ear\\GRAS 43AG-7\\Dan Clark Audio Stealth.csv\n",
      "Removed \"crinacle\\GRAS 43AG-7 over-ear\\Dan Clark Audio Stealth\"\n",
      "C:\\Users\\jaakko\\code\\AutoEq\\measurements\\crinacle\\data\\in-ear\\GRAS 43AG-7\\Dan Clark Audio Voce.csv\n",
      "Removed \"crinacle\\GRAS 43AG-7 over-ear\\Dan Clark Audio Voce\"\n",
      "C:\\Users\\jaakko\\code\\AutoEq\\measurements\\crinacle\\data\\in-ear\\GRAS 43AG-7\\Denon AH-D5000.csv\n",
      "Removed \"crinacle\\GRAS 43AG-7 over-ear\\Denon AH-D5000\"\n",
      "C:\\Users\\jaakko\\code\\AutoEq\\measurements\\crinacle\\data\\in-ear\\GRAS 43AG-7\\Denon AH-D5200.csv\n",
      "Removed \"crinacle\\GRAS 43AG-7 over-ear\\Denon AH-D5200\"\n",
      "C:\\Users\\jaakko\\code\\AutoEq\\measurements\\crinacle\\data\\in-ear\\GRAS 43AG-7\\Denon AH-D7200.csv\n",
      "Removed \"crinacle\\GRAS 43AG-7 over-ear\\Denon AH-D7200\"\n",
      "C:\\Users\\jaakko\\code\\AutoEq\\measurements\\crinacle\\data\\in-ear\\GRAS 43AG-7\\Denon AH-D9200.csv\n",
      "Removed \"crinacle\\GRAS 43AG-7 over-ear\\Denon AH-D9200\"\n",
      "C:\\Users\\jaakko\\code\\AutoEq\\measurements\\crinacle\\data\\in-ear\\GRAS 43AG-7\\E-Mu Teak.csv\n",
      "Removed \"crinacle\\GRAS 43AG-7 over-ear\\E-Mu Teak\"\n",
      "C:\\Users\\jaakko\\code\\AutoEq\\measurements\\crinacle\\data\\in-ear\\GRAS 43AG-7\\E-Mu Walnut.csv\n",
      "Removed \"crinacle\\GRAS 43AG-7 over-ear\\E-Mu Walnut\"\n",
      "C:\\Users\\jaakko\\code\\AutoEq\\measurements\\crinacle\\data\\in-ear\\GRAS 43AG-7\\EKSA E900 Pro.csv\n",
      "Removed \"crinacle\\GRAS 43AG-7 over-ear\\EKSA E900 Pro\"\n",
      "C:\\Users\\jaakko\\code\\AutoEq\\measurements\\crinacle\\data\\in-ear\\GRAS 43AG-7\\ES Lab ES-1a.csv\n",
      "Removed \"crinacle\\GRAS 43AG-7 over-ear\\ES Lab ES-1a\"\n",
      "C:\\Users\\jaakko\\code\\AutoEq\\measurements\\crinacle\\data\\in-ear\\GRAS 43AG-7\\FiiO EH3.csv\n",
      "Removed \"crinacle\\GRAS 43AG-7 over-ear\\FiiO EH3\"\n",
      "C:\\Users\\jaakko\\code\\AutoEq\\measurements\\crinacle\\data\\in-ear\\GRAS 43AG-7\\Final Audio D8000.csv\n",
      "Removed \"crinacle\\GRAS 43AG-7 over-ear\\Final Audio D8000\"\n",
      "C:\\Users\\jaakko\\code\\AutoEq\\measurements\\crinacle\\data\\in-ear\\GRAS 43AG-7\\Final Audio D8000 Pro Edition.csv\n",
      "Removed \"crinacle\\GRAS 43AG-7 over-ear\\Final Audio D8000 Pro Edition\"\n",
      "C:\\Users\\jaakko\\code\\AutoEq\\measurements\\crinacle\\data\\in-ear\\GRAS 43AG-7\\Final Audio Sonorous VIII.csv\n",
      "Removed \"crinacle\\GRAS 43AG-7 over-ear\\Final Audio Sonorous VIII\"\n",
      "C:\\Users\\jaakko\\code\\AutoEq\\measurements\\crinacle\\data\\in-ear\\GRAS 43AG-7\\Final Audio Sonorous X.csv\n",
      "Removed \"crinacle\\GRAS 43AG-7 over-ear\\Final Audio Sonorous X\"\n",
      "C:\\Users\\jaakko\\code\\AutoEq\\measurements\\crinacle\\data\\in-ear\\GRAS 43AG-7\\Fischer Audio Oldskool RPM 33 1-3 (Zeppelin & Co Limited Edition).csv\n",
      "Removed \"crinacle\\GRAS 43AG-7 over-ear\\Fischer Audio Oldskool RPM 33 1-3 (Zeppelin & Co Limited Edition)\"\n",
      "C:\\Users\\jaakko\\code\\AutoEq\\measurements\\crinacle\\data\\in-ear\\GRAS 43AG-7\\Focal Celestee.csv\n",
      "Removed \"crinacle\\GRAS 43AG-7 over-ear\\Focal Celestee\"\n",
      "C:\\Users\\jaakko\\code\\AutoEq\\measurements\\crinacle\\data\\in-ear\\GRAS 43AG-7\\Focal Clear.csv\n",
      "Removed \"crinacle\\GRAS 43AG-7 over-ear\\Focal Clear\"\n",
      "C:\\Users\\jaakko\\code\\AutoEq\\measurements\\crinacle\\data\\in-ear\\GRAS 43AG-7\\Focal Clear (Focal Clear Mg earpads).csv\n",
      "Removed \"crinacle\\GRAS 43AG-7 over-ear\\Focal Clear (Focal Clear Mg earpads)\"\n",
      "C:\\Users\\jaakko\\code\\AutoEq\\measurements\\crinacle\\data\\in-ear\\GRAS 43AG-7\\Focal Clear Mg.csv\n",
      "Removed \"crinacle\\GRAS 43AG-7 over-ear\\Focal Clear Mg\"\n",
      "C:\\Users\\jaakko\\code\\AutoEq\\measurements\\crinacle\\data\\in-ear\\GRAS 43AG-7\\Focal Elear.csv\n",
      "Removed \"crinacle\\GRAS 43AG-7 over-ear\\Focal Elear\"\n",
      "C:\\Users\\jaakko\\code\\AutoEq\\measurements\\crinacle\\data\\in-ear\\GRAS 43AG-7\\Focal Elear (Elex earpads).csv\n",
      "Removed \"crinacle\\GRAS 43AG-7 over-ear\\Focal Elear (Elex earpads)\"\n",
      "C:\\Users\\jaakko\\code\\AutoEq\\measurements\\crinacle\\data\\in-ear\\GRAS 43AG-7\\Focal Elear (Utopia earpads).csv\n",
      "Removed \"crinacle\\GRAS 43AG-7 over-ear\\Focal Elear (Utopia earpads)\"\n",
      "C:\\Users\\jaakko\\code\\AutoEq\\measurements\\crinacle\\data\\in-ear\\GRAS 43AG-7\\Focal Listen Professional.csv\n",
      "Removed \"crinacle\\GRAS 43AG-7 over-ear\\Focal Listen Professional\"\n",
      "C:\\Users\\jaakko\\code\\AutoEq\\measurements\\crinacle\\data\\in-ear\\GRAS 43AG-7\\Focal Radiance.csv\n",
      "Removed \"crinacle\\GRAS 43AG-7 over-ear\\Focal Radiance\"\n",
      "C:\\Users\\jaakko\\code\\AutoEq\\measurements\\crinacle\\data\\in-ear\\GRAS 43AG-7\\Focal Stellia.csv\n",
      "Removed \"crinacle\\GRAS 43AG-7 over-ear\\Focal Stellia\"\n",
      "C:\\Users\\jaakko\\code\\AutoEq\\measurements\\crinacle\\data\\in-ear\\GRAS 43AG-7\\Focal Utopia.csv\n",
      "Removed \"crinacle\\GRAS 43AG-7 over-ear\\Focal Utopia\"\n",
      "C:\\Users\\jaakko\\code\\AutoEq\\measurements\\crinacle\\data\\in-ear\\GRAS 43AG-7\\Fostex T50RP Mk3.csv\n",
      "Removed \"crinacle\\GRAS 43AG-7 over-ear\\Fostex T50RP Mk3\"\n",
      "C:\\Users\\jaakko\\code\\AutoEq\\measurements\\crinacle\\data\\in-ear\\GRAS 43AG-7\\Fostex TH500 (worn earpads).csv\n",
      "Removed \"crinacle\\GRAS 43AG-7 over-ear\\Fostex TH500 (worn earpads)\"\n",
      "C:\\Users\\jaakko\\code\\AutoEq\\measurements\\crinacle\\data\\in-ear\\GRAS 43AG-7\\Fostex TH610.csv\n",
      "Removed \"crinacle\\GRAS 43AG-7 over-ear\\Fostex TH610\"\n",
      "C:\\Users\\jaakko\\code\\AutoEq\\measurements\\crinacle\\data\\in-ear\\GRAS 43AG-7\\Fostex TH7.csv\n",
      "Removed \"crinacle\\GRAS 43AG-7 over-ear\\Fostex TH7\"\n",
      "C:\\Users\\jaakko\\code\\AutoEq\\measurements\\crinacle\\data\\in-ear\\GRAS 43AG-7\\Fostex TH900.csv\n",
      "Removed \"crinacle\\GRAS 43AG-7 over-ear\\Fostex TH900\"\n",
      "C:\\Users\\jaakko\\code\\AutoEq\\measurements\\crinacle\\data\\in-ear\\GRAS 43AG-7\\Fostex TH909.csv\n",
      "Removed \"crinacle\\GRAS 43AG-7 over-ear\\Fostex TH909\"\n",
      "C:\\Users\\jaakko\\code\\AutoEq\\measurements\\crinacle\\data\\in-ear\\GRAS 43AG-7\\Fostex TR-80.csv\n",
      "Removed \"crinacle\\GRAS 43AG-7 over-ear\\Fostex TR-80\"\n",
      "C:\\Users\\jaakko\\code\\AutoEq\\measurements\\crinacle\\data\\in-ear\\GRAS 43AG-7\\Gold Planar GL2000 (double-sided, leather earpads).csv\n",
      "Removed \"crinacle\\GRAS 43AG-7 over-ear\\Gold Planar GL2000 (double-sided, leather earpads)\"\n",
      "C:\\Users\\jaakko\\code\\AutoEq\\measurements\\crinacle\\data\\in-ear\\GRAS 43AG-7\\Gold Planar GL2000 (double-sided, perforated hybrid earpads).csv\n",
      "Removed \"crinacle\\GRAS 43AG-7 over-ear\\Gold Planar GL2000 (double-sided, perforated hybrid earpads)\"\n",
      "C:\\Users\\jaakko\\code\\AutoEq\\measurements\\crinacle\\data\\in-ear\\GRAS 43AG-7\\Gold Planar GL2000 (single-sided, leather earpads).csv\n",
      "Removed \"crinacle\\GRAS 43AG-7 over-ear\\Gold Planar GL2000 (single-sided, leather earpads)\"\n",
      "C:\\Users\\jaakko\\code\\AutoEq\\measurements\\crinacle\\data\\in-ear\\GRAS 43AG-7\\Gold Planar GL2000 (single-sided, perforated hybrid earpads).csv\n",
      "Removed \"crinacle\\GRAS 43AG-7 over-ear\\Gold Planar GL2000 (single-sided, perforated hybrid earpads)\"\n",
      "C:\\Users\\jaakko\\code\\AutoEq\\measurements\\crinacle\\data\\in-ear\\GRAS 43AG-7\\Gold Planar GL850.csv\n",
      "Removed \"crinacle\\GRAS 43AG-7 over-ear\\Gold Planar GL850\"\n",
      "C:\\Users\\jaakko\\code\\AutoEq\\measurements\\crinacle\\data\\in-ear\\GRAS 43AG-7\\Grado GW100.csv\n",
      "Removed \"crinacle\\GRAS 43AG-7 over-ear\\Grado GW100\"\n",
      "C:\\Users\\jaakko\\code\\AutoEq\\measurements\\crinacle\\data\\in-ear\\GRAS 43AG-7\\Grado PS500e.csv\n",
      "Removed \"crinacle\\GRAS 43AG-7 over-ear\\Grado PS500e\"\n",
      "C:\\Users\\jaakko\\code\\AutoEq\\measurements\\crinacle\\data\\in-ear\\GRAS 43AG-7\\Grado SR125e.csv\n",
      "Removed \"crinacle\\GRAS 43AG-7 over-ear\\Grado SR125e\"\n",
      "C:\\Users\\jaakko\\code\\AutoEq\\measurements\\crinacle\\data\\in-ear\\GRAS 43AG-7\\Grado SR325e.csv\n",
      "Removed \"crinacle\\GRAS 43AG-7 over-ear\\Grado SR325e\"\n",
      "C:\\Users\\jaakko\\code\\AutoEq\\measurements\\crinacle\\data\\in-ear\\GRAS 43AG-7\\Grado SR60e.csv\n",
      "Removed \"crinacle\\GRAS 43AG-7 over-ear\\Grado SR60e\"\n",
      "C:\\Users\\jaakko\\code\\AutoEq\\measurements\\crinacle\\data\\in-ear\\GRAS 43AG-7\\Grado SR80e.csv\n",
      "Removed \"crinacle\\GRAS 43AG-7 over-ear\\Grado SR80e\"\n",
      "C:\\Users\\jaakko\\code\\AutoEq\\measurements\\crinacle\\data\\in-ear\\GRAS 43AG-7\\Grado The Hemp Headphone.csv\n",
      "Removed \"crinacle\\GRAS 43AG-7 over-ear\\Grado The Hemp Headphone\"\n",
      "C:\\Users\\jaakko\\code\\AutoEq\\measurements\\crinacle\\data\\in-ear\\GRAS 43AG-7\\Harman Kardon FLY ANC.csv\n",
      "Removed \"crinacle\\GRAS 43AG-7 over-ear\\Harman Kardon FLY ANC\"\n",
      "C:\\Users\\jaakko\\code\\AutoEq\\measurements\\crinacle\\data\\in-ear\\GRAS 43AG-7\\HarmonicDyne G200 (lambskin earpads).csv\n",
      "Removed \"crinacle\\GRAS 43AG-7 over-ear\\HarmonicDyne G200 (lambskin earpads)\"\n",
      "C:\\Users\\jaakko\\code\\AutoEq\\measurements\\crinacle\\data\\in-ear\\GRAS 43AG-7\\HarmonicDyne G200 (velour earpads).csv\n",
      "Removed \"crinacle\\GRAS 43AG-7 over-ear\\HarmonicDyne G200 (velour earpads)\"\n",
      "C:\\Users\\jaakko\\code\\AutoEq\\measurements\\crinacle\\data\\in-ear\\GRAS 43AG-7\\HarmonicDyne Helios.csv\n",
      "Removed \"crinacle\\GRAS 43AG-7 over-ear\\HarmonicDyne Helios\"\n",
      "C:\\Users\\jaakko\\code\\AutoEq\\measurements\\crinacle\\data\\in-ear\\GRAS 43AG-7\\HarmonicDyne Poseidon.csv\n",
      "Removed \"crinacle\\GRAS 43AG-7 over-ear\\HarmonicDyne Poseidon\"\n",
      "C:\\Users\\jaakko\\code\\AutoEq\\measurements\\crinacle\\data\\in-ear\\GRAS 43AG-7\\HarmonicDyne Zeus.csv\n",
      "Removed \"crinacle\\GRAS 43AG-7 over-ear\\HarmonicDyne Zeus\"\n",
      "C:\\Users\\jaakko\\code\\AutoEq\\measurements\\crinacle\\data\\in-ear\\GRAS 43AG-7\\HEDD HEDDphone.csv\n",
      "Removed \"crinacle\\GRAS 43AG-7 over-ear\\HEDD HEDDphone\"\n",
      "C:\\Users\\jaakko\\code\\AutoEq\\measurements\\crinacle\\data\\in-ear\\GRAS 43AG-7\\HIFIMAN Ananda.csv\n",
      "Removed \"crinacle\\GRAS 43AG-7 over-ear\\HIFIMAN Ananda\"\n",
      "C:\\Users\\jaakko\\code\\AutoEq\\measurements\\crinacle\\data\\in-ear\\GRAS 43AG-7\\HIFIMAN Arya.csv\n",
      "Removed \"crinacle\\GRAS 43AG-7 over-ear\\HIFIMAN Arya\"\n",
      "C:\\Users\\jaakko\\code\\AutoEq\\measurements\\crinacle\\data\\in-ear\\GRAS 43AG-7\\HIFIMAN Arya Stealth Magnet Version.csv\n",
      "Removed \"crinacle\\GRAS 43AG-7 over-ear\\HIFIMAN Arya Stealth Magnet Version\"\n",
      "C:\\Users\\jaakko\\code\\AutoEq\\measurements\\crinacle\\data\\in-ear\\GRAS 43AG-7\\HIFIMAN Deva (wired).csv\n",
      "Removed \"crinacle\\GRAS 43AG-7 over-ear\\HIFIMAN Deva (wired)\"\n",
      "C:\\Users\\jaakko\\code\\AutoEq\\measurements\\crinacle\\data\\in-ear\\GRAS 43AG-7\\HIFIMAN Deva Pro.csv\n",
      "Removed \"crinacle\\GRAS 43AG-7 over-ear\\HIFIMAN Deva Pro\"\n",
      "C:\\Users\\jaakko\\code\\AutoEq\\measurements\\crinacle\\data\\in-ear\\GRAS 43AG-7\\HIFIMAN Edition X V2.csv\n",
      "Removed \"crinacle\\GRAS 43AG-7 over-ear\\HIFIMAN Edition X V2\"\n",
      "C:\\Users\\jaakko\\code\\AutoEq\\measurements\\crinacle\\data\\in-ear\\GRAS 43AG-7\\HIFIMAN HE-5.csv\n",
      "Removed \"crinacle\\GRAS 43AG-7 over-ear\\HIFIMAN HE-5\"\n",
      "C:\\Users\\jaakko\\code\\AutoEq\\measurements\\crinacle\\data\\in-ear\\GRAS 43AG-7\\HIFIMAN HE-500 (FocusPad-A).csv\n",
      "Removed \"crinacle\\GRAS 43AG-7 over-ear\\HIFIMAN HE-500 (FocusPad-A)\"\n",
      "C:\\Users\\jaakko\\code\\AutoEq\\measurements\\crinacle\\data\\in-ear\\GRAS 43AG-7\\HIFIMAN HE-X4.csv\n",
      "Removed \"crinacle\\GRAS 43AG-7 over-ear\\HIFIMAN HE-X4\"\n",
      "C:\\Users\\jaakko\\code\\AutoEq\\measurements\\crinacle\\data\\in-ear\\GRAS 43AG-7\\HIFIMAN HE1000 V1.csv\n",
      "Removed \"crinacle\\GRAS 43AG-7 over-ear\\HIFIMAN HE1000 V1\"\n",
      "C:\\Users\\jaakko\\code\\AutoEq\\measurements\\crinacle\\data\\in-ear\\GRAS 43AG-7\\HIFIMAN HE1000 V2.csv\n",
      "Removed \"crinacle\\GRAS 43AG-7 over-ear\\HIFIMAN HE1000 V2\"\n",
      "C:\\Users\\jaakko\\code\\AutoEq\\measurements\\crinacle\\data\\in-ear\\GRAS 43AG-7\\HIFIMAN HE1000se.csv\n",
      "Removed \"crinacle\\GRAS 43AG-7 over-ear\\HIFIMAN HE1000se\"\n",
      "C:\\Users\\jaakko\\code\\AutoEq\\measurements\\crinacle\\data\\in-ear\\GRAS 43AG-7\\HIFIMAN HE400i (2016).csv\n",
      "Removed \"crinacle\\GRAS 43AG-7 over-ear\\HIFIMAN HE400i (2016)\"\n",
      "C:\\Users\\jaakko\\code\\AutoEq\\measurements\\crinacle\\data\\in-ear\\GRAS 43AG-7\\HIFIMAN HE400i (2020).csv\n",
      "Removed \"crinacle\\GRAS 43AG-7 over-ear\\HIFIMAN HE400i (2020)\"\n",
      "C:\\Users\\jaakko\\code\\AutoEq\\measurements\\crinacle\\data\\in-ear\\GRAS 43AG-7\\HIFIMAN HE400se.csv\n",
      "Removed \"crinacle\\GRAS 43AG-7 over-ear\\HIFIMAN HE400se\"\n",
      "C:\\Users\\jaakko\\code\\AutoEq\\measurements\\crinacle\\data\\in-ear\\GRAS 43AG-7\\HIFIMAN HE560 (V1).csv\n",
      "Removed \"crinacle\\GRAS 43AG-7 over-ear\\HIFIMAN HE560 (V1)\"\n",
      "C:\\Users\\jaakko\\code\\AutoEq\\measurements\\crinacle\\data\\in-ear\\GRAS 43AG-7\\HIFIMAN HE5se.csv\n",
      "Removed \"crinacle\\GRAS 43AG-7 over-ear\\HIFIMAN HE5se\"\n",
      "C:\\Users\\jaakko\\code\\AutoEq\\measurements\\crinacle\\data\\in-ear\\GRAS 43AG-7\\HIFIMAN HE6 (6-screw, velour earpads).csv\n",
      "Removed \"crinacle\\GRAS 43AG-7 over-ear\\HIFIMAN HE6 (6-screw, velour earpads)\"\n",
      "C:\\Users\\jaakko\\code\\AutoEq\\measurements\\crinacle\\data\\in-ear\\GRAS 43AG-7\\HIFIMAN HE6se.csv\n",
      "Removed \"crinacle\\GRAS 43AG-7 over-ear\\HIFIMAN HE6se\"\n",
      "C:\\Users\\jaakko\\code\\AutoEq\\measurements\\crinacle\\data\\in-ear\\GRAS 43AG-7\\HIFIMAN HE6se V2.csv\n",
      "Removed \"crinacle\\GRAS 43AG-7 over-ear\\HIFIMAN HE6se V2\"\n",
      "C:\\Users\\jaakko\\code\\AutoEq\\measurements\\crinacle\\data\\in-ear\\GRAS 43AG-7\\HIFIMAN Jade II.csv\n",
      "Removed \"crinacle\\GRAS 43AG-7 over-ear\\HIFIMAN Jade II\"\n",
      "C:\\Users\\jaakko\\code\\AutoEq\\measurements\\crinacle\\data\\in-ear\\GRAS 43AG-7\\HIFIMAN Shangri-La Jr.csv\n",
      "Removed \"crinacle\\GRAS 43AG-7 over-ear\\HIFIMAN Shangri-La Jr\"\n",
      "C:\\Users\\jaakko\\code\\AutoEq\\measurements\\crinacle\\data\\in-ear\\GRAS 43AG-7\\HIFIMAN Sundara.csv\n",
      "Removed \"crinacle\\GRAS 43AG-7 over-ear\\HIFIMAN Sundara\"\n",
      "C:\\Users\\jaakko\\code\\AutoEq\\measurements\\crinacle\\data\\in-ear\\GRAS 43AG-7\\HIFIMAN Sundara (post-2020 earpads).csv\n",
      "Removed \"crinacle\\GRAS 43AG-7 over-ear\\HIFIMAN Sundara (post-2020 earpads)\"\n",
      "C:\\Users\\jaakko\\code\\AutoEq\\measurements\\crinacle\\data\\in-ear\\GRAS 43AG-7\\HIFIMAN Susvara.csv\n",
      "Removed \"crinacle\\GRAS 43AG-7 over-ear\\HIFIMAN Susvara\"\n",
      "C:\\Users\\jaakko\\code\\AutoEq\\measurements\\crinacle\\data\\in-ear\\GRAS 43AG-7\\iBasso SR1.csv\n",
      "Removed \"crinacle\\GRAS 43AG-7 over-ear\\iBasso SR1\"\n",
      "C:\\Users\\jaakko\\code\\AutoEq\\measurements\\crinacle\\data\\in-ear\\GRAS 43AG-7\\iBasso SR2.csv\n",
      "Removed \"crinacle\\GRAS 43AG-7 over-ear\\iBasso SR2\"\n",
      "C:\\Users\\jaakko\\code\\AutoEq\\measurements\\crinacle\\data\\in-ear\\GRAS 43AG-7\\Kennerton Odin Bog Oak.csv\n",
      "Removed \"crinacle\\GRAS 43AG-7 over-ear\\Kennerton Odin Bog Oak\"\n",
      "C:\\Users\\jaakko\\code\\AutoEq\\measurements\\crinacle\\data\\in-ear\\GRAS 43AG-7\\Kennerton Thror Bog Oak.csv\n",
      "Removed \"crinacle\\GRAS 43AG-7 over-ear\\Kennerton Thror Bog Oak\"\n",
      "C:\\Users\\jaakko\\code\\AutoEq\\measurements\\crinacle\\data\\in-ear\\GRAS 43AG-7\\Klipsch Heritage HP-3.csv\n",
      "Removed \"crinacle\\GRAS 43AG-7 over-ear\\Klipsch Heritage HP-3\"\n",
      "C:\\Users\\jaakko\\code\\AutoEq\\measurements\\crinacle\\data\\in-ear\\GRAS 43AG-7\\Koss ESP95X.csv\n",
      "Removed \"crinacle\\GRAS 43AG-7 over-ear\\Koss ESP95X\"\n",
      "C:\\Users\\jaakko\\code\\AutoEq\\measurements\\crinacle\\data\\in-ear\\GRAS 43AG-7\\Koss KPH30i.csv\n",
      "Removed \"crinacle\\GRAS 43AG-7 over-ear\\Koss KPH30i\"\n",
      "C:\\Users\\jaakko\\code\\AutoEq\\measurements\\crinacle\\data\\in-ear\\GRAS 43AG-7\\Koss KPH40.csv\n",
      "Removed \"crinacle\\GRAS 43AG-7 over-ear\\Koss KPH40\"\n",
      "C:\\Users\\jaakko\\code\\AutoEq\\measurements\\crinacle\\data\\in-ear\\GRAS 43AG-7\\Koss KSC75.csv\n",
      "Removed \"crinacle\\GRAS 43AG-7 over-ear\\Koss KSC75\"\n",
      "C:\\Users\\jaakko\\code\\AutoEq\\measurements\\crinacle\\data\\in-ear\\GRAS 43AG-7\\Koss Porta Pro.csv\n",
      "Removed \"crinacle\\GRAS 43AG-7 over-ear\\Koss Porta Pro\"\n",
      "C:\\Users\\jaakko\\code\\AutoEq\\measurements\\crinacle\\data\\in-ear\\GRAS 43AG-7\\Koss PRO DJ100.csv\n",
      "Removed \"crinacle\\GRAS 43AG-7 over-ear\\Koss PRO DJ100\"\n",
      "C:\\Users\\jaakko\\code\\AutoEq\\measurements\\crinacle\\data\\in-ear\\GRAS 43AG-7\\Koss SP540.csv\n",
      "Removed \"crinacle\\GRAS 43AG-7 over-ear\\Koss SP540\"\n",
      "C:\\Users\\jaakko\\code\\AutoEq\\measurements\\crinacle\\data\\in-ear\\GRAS 43AG-7\\Little Dot GYFU.csv\n",
      "Removed \"crinacle\\GRAS 43AG-7 over-ear\\Little Dot GYFU\"\n",
      "C:\\Users\\jaakko\\code\\AutoEq\\measurements\\crinacle\\data\\in-ear\\GRAS 43AG-7\\Logitech G Pro X.csv\n",
      "Removed \"crinacle\\GRAS 43AG-7 over-ear\\Logitech G Pro X\"\n",
      "C:\\Users\\jaakko\\code\\AutoEq\\measurements\\crinacle\\data\\in-ear\\GRAS 43AG-7\\Logitech G431.csv\n",
      "Removed \"crinacle\\GRAS 43AG-7 over-ear\\Logitech G431\"\n",
      "C:\\Users\\jaakko\\code\\AutoEq\\measurements\\crinacle\\data\\in-ear\\GRAS 43AG-7\\Logitech G933s.csv\n",
      "Removed \"crinacle\\GRAS 43AG-7 over-ear\\Logitech G933s\"\n",
      "C:\\Users\\jaakko\\code\\AutoEq\\measurements\\crinacle\\data\\in-ear\\GRAS 43AG-7\\Massdrop Panda (active).csv\n",
      "Removed \"crinacle\\GRAS 43AG-7 over-ear\\Massdrop Panda (active)\"\n",
      "C:\\Users\\jaakko\\code\\AutoEq\\measurements\\crinacle\\data\\in-ear\\GRAS 43AG-7\\Master & Dynamic MH40.csv\n",
      "Removed \"crinacle\\GRAS 43AG-7 over-ear\\Master & Dynamic MH40\"\n",
      "C:\\Users\\jaakko\\code\\AutoEq\\measurements\\crinacle\\data\\in-ear\\GRAS 43AG-7\\Meze 99 Classics.csv\n",
      "Removed \"crinacle\\GRAS 43AG-7 over-ear\\Meze 99 Classics\"\n",
      "C:\\Users\\jaakko\\code\\AutoEq\\measurements\\crinacle\\data\\in-ear\\GRAS 43AG-7\\Meze 99 Neo.csv\n",
      "Removed \"crinacle\\GRAS 43AG-7 over-ear\\Meze 99 Neo\"\n",
      "C:\\Users\\jaakko\\code\\AutoEq\\measurements\\crinacle\\data\\in-ear\\GRAS 43AG-7\\Meze Elite (alcantara earpads).csv\n",
      "Removed \"crinacle\\GRAS 43AG-7 over-ear\\Meze Elite (alcantara earpads)\"\n",
      "C:\\Users\\jaakko\\code\\AutoEq\\measurements\\crinacle\\data\\in-ear\\GRAS 43AG-7\\Meze Elite (hybrid earpads).csv\n",
      "Removed \"crinacle\\GRAS 43AG-7 over-ear\\Meze Elite (hybrid earpads)\"\n",
      "C:\\Users\\jaakko\\code\\AutoEq\\measurements\\crinacle\\data\\in-ear\\GRAS 43AG-7\\Meze Empyrean.csv\n",
      "Removed \"crinacle\\GRAS 43AG-7 over-ear\\Meze Empyrean\"\n",
      "C:\\Users\\jaakko\\code\\AutoEq\\measurements\\crinacle\\data\\in-ear\\GRAS 43AG-7\\Meze Liric.csv\n",
      "Removed \"crinacle\\GRAS 43AG-7 over-ear\\Meze Liric\"\n",
      "C:\\Users\\jaakko\\code\\AutoEq\\measurements\\crinacle\\data\\in-ear\\GRAS 43AG-7\\Montblanc MB 01 (wired, ANC off).csv\n",
      "Removed \"crinacle\\GRAS 43AG-7 over-ear\\Montblanc MB 01 (wired, ANC off)\"\n",
      "C:\\Users\\jaakko\\code\\AutoEq\\measurements\\crinacle\\data\\in-ear\\GRAS 43AG-7\\Montblanc MB 01 (wireless, ANC).csv\n",
      "Removed \"crinacle\\GRAS 43AG-7 over-ear\\Montblanc MB 01 (wireless, ANC)\"\n",
      "C:\\Users\\jaakko\\code\\AutoEq\\measurements\\crinacle\\data\\in-ear\\GRAS 43AG-7\\Moondrop Venus.csv\n",
      "Removed \"crinacle\\GRAS 43AG-7 over-ear\\Moondrop Venus\"\n",
      "C:\\Users\\jaakko\\code\\AutoEq\\measurements\\crinacle\\data\\in-ear\\GRAS 43AG-7\\Moondrop Void.csv\n",
      "Removed \"crinacle\\GRAS 43AG-7 over-ear\\Moondrop Void\"\n",
      "C:\\Users\\jaakko\\code\\AutoEq\\measurements\\crinacle\\data\\in-ear\\GRAS 43AG-7\\MySphere 3.2.csv\n",
      "Removed \"crinacle\\GRAS 43AG-7 over-ear\\MySphere 3.2\"\n",
      "C:\\Users\\jaakko\\code\\AutoEq\\measurements\\crinacle\\data\\in-ear\\GRAS 43AG-7\\Nan-6 Nan-6.csv\n",
      "Removed \"crinacle\\GRAS 43AG-7 over-ear\\Nan-6 Nan-6\"\n",
      "C:\\Users\\jaakko\\code\\AutoEq\\measurements\\crinacle\\data\\in-ear\\GRAS 43AG-7\\Nectar Hive.csv\n",
      "Removed \"crinacle\\GRAS 43AG-7 over-ear\\Nectar Hive\"\n",
      "C:\\Users\\jaakko\\code\\AutoEq\\measurements\\crinacle\\data\\in-ear\\GRAS 43AG-7\\Neumann NDH20.csv\n",
      "Removed \"crinacle\\GRAS 43AG-7 over-ear\\Neumann NDH20\"\n",
      "C:\\Users\\jaakko\\code\\AutoEq\\measurements\\crinacle\\data\\in-ear\\GRAS 43AG-7\\Oppo PM3.csv\n",
      "Removed \"crinacle\\GRAS 43AG-7 over-ear\\Oppo PM3\"\n",
      "C:\\Users\\jaakko\\code\\AutoEq\\measurements\\crinacle\\data\\in-ear\\GRAS 43AG-7\\Ovidius TX-901.csv\n",
      "Removed \"crinacle\\GRAS 43AG-7 over-ear\\Ovidius TX-901\"\n",
      "C:\\Users\\jaakko\\code\\AutoEq\\measurements\\crinacle\\data\\in-ear\\GRAS 43AG-7\\Philips SHP9500.csv\n",
      "Removed \"crinacle\\GRAS 43AG-7 over-ear\\Philips SHP9500\"\n",
      "C:\\Users\\jaakko\\code\\AutoEq\\measurements\\crinacle\\data\\in-ear\\GRAS 43AG-7\\Pioneer Monitor 10.csv\n",
      "Removed \"crinacle\\GRAS 43AG-7 over-ear\\Pioneer Monitor 10\"\n",
      "C:\\Users\\jaakko\\code\\AutoEq\\measurements\\crinacle\\data\\in-ear\\GRAS 43AG-7\\Pioneer SE-2P.csv\n",
      "Removed \"crinacle\\GRAS 43AG-7 over-ear\\Pioneer SE-2P\"\n",
      "C:\\Users\\jaakko\\code\\AutoEq\\measurements\\crinacle\\data\\in-ear\\GRAS 43AG-7\\Pioneer SE-Master1.csv\n",
      "Removed \"crinacle\\GRAS 43AG-7 over-ear\\Pioneer SE-Master1\"\n",
      "C:\\Users\\jaakko\\code\\AutoEq\\measurements\\crinacle\\data\\in-ear\\GRAS 43AG-7\\Precide ERGO 2.csv\n",
      "Removed \"crinacle\\GRAS 43AG-7 over-ear\\Precide ERGO 2\"\n",
      "C:\\Users\\jaakko\\code\\AutoEq\\measurements\\crinacle\\data\\in-ear\\GRAS 43AG-7\\QUAD Era-1.csv\n",
      "Removed \"crinacle\\GRAS 43AG-7 over-ear\\QUAD Era-1\"\n",
      "C:\\Users\\jaakko\\code\\AutoEq\\measurements\\crinacle\\data\\in-ear\\GRAS 43AG-7\\RAAL SR1a.csv\n",
      "Removed \"crinacle\\GRAS 43AG-7 over-ear\\RAAL SR1a\"\n",
      "C:\\Users\\jaakko\\code\\AutoEq\\measurements\\crinacle\\data\\in-ear\\GRAS 43AG-7\\RAAL SR1a (no ear contact).csv\n",
      "Removed \"crinacle\\GRAS 43AG-7 over-ear\\RAAL SR1a (no ear contact)\"\n",
      "C:\\Users\\jaakko\\code\\AutoEq\\measurements\\crinacle\\data\\in-ear\\GRAS 43AG-7\\Razer Barracuda X.csv\n",
      "Removed \"crinacle\\GRAS 43AG-7 over-ear\\Razer Barracuda X\"\n",
      "C:\\Users\\jaakko\\code\\AutoEq\\measurements\\crinacle\\data\\in-ear\\GRAS 43AG-7\\Razer BlackShark V2 Pro.csv\n",
      "Removed \"crinacle\\GRAS 43AG-7 over-ear\\Razer BlackShark V2 Pro\"\n",
      "C:\\Users\\jaakko\\code\\AutoEq\\measurements\\crinacle\\data\\in-ear\\GRAS 43AG-7\\Razer BlackShark V2 X.csv\n",
      "Removed \"crinacle\\GRAS 43AG-7 over-ear\\Razer BlackShark V2 X\"\n",
      "C:\\Users\\jaakko\\code\\AutoEq\\measurements\\crinacle\\data\\in-ear\\GRAS 43AG-7\\Razer Kraken V3 Pro.csv\n",
      "Removed \"crinacle\\GRAS 43AG-7 over-ear\\Razer Kraken V3 Pro\"\n",
      "C:\\Users\\jaakko\\code\\AutoEq\\measurements\\crinacle\\data\\in-ear\\GRAS 43AG-7\\Rosson Audio Design RAD-0.csv\n",
      "Removed \"crinacle\\GRAS 43AG-7 over-ear\\Rosson Audio Design RAD-0\"\n",
      "C:\\Users\\jaakko\\code\\AutoEq\\measurements\\crinacle\\data\\in-ear\\GRAS 43AG-7\\Sansui SS10.csv\n",
      "Removed \"crinacle\\GRAS 43AG-7 over-ear\\Sansui SS10\"\n",
      "C:\\Users\\jaakko\\code\\AutoEq\\measurements\\crinacle\\data\\in-ear\\GRAS 43AG-7\\Sendy Aiva.csv\n",
      "Removed \"crinacle\\GRAS 43AG-7 over-ear\\Sendy Aiva\"\n",
      "C:\\Users\\jaakko\\code\\AutoEq\\measurements\\crinacle\\data\\in-ear\\GRAS 43AG-7\\Sendy Peacock.csv\n",
      "Removed \"crinacle\\GRAS 43AG-7 over-ear\\Sendy Peacock\"\n",
      "C:\\Users\\jaakko\\code\\AutoEq\\measurements\\crinacle\\data\\in-ear\\GRAS 43AG-7\\Sennheiser Amperior.csv\n",
      "Removed \"crinacle\\GRAS 43AG-7 over-ear\\Sennheiser Amperior\"\n",
      "C:\\Users\\jaakko\\code\\AutoEq\\measurements\\crinacle\\data\\in-ear\\GRAS 43AG-7\\Sennheiser HD 25 Aluminium.csv\n",
      "Removed \"crinacle\\GRAS 43AG-7 over-ear\\Sennheiser HD 25 Aluminium\"\n",
      "C:\\Users\\jaakko\\code\\AutoEq\\measurements\\crinacle\\data\\in-ear\\GRAS 43AG-7\\Sennheiser HD 25 Plus.csv\n",
      "Removed \"crinacle\\GRAS 43AG-7 over-ear\\Sennheiser HD 25 Plus\"\n",
      "C:\\Users\\jaakko\\code\\AutoEq\\measurements\\crinacle\\data\\in-ear\\GRAS 43AG-7\\Sennheiser HD 250BT.csv\n",
      "Removed \"crinacle\\GRAS 43AG-7 over-ear\\Sennheiser HD 250BT\"\n",
      "C:\\Users\\jaakko\\code\\AutoEq\\measurements\\crinacle\\data\\in-ear\\GRAS 43AG-7\\Sennheiser HD 400 S.csv\n",
      "Removed \"crinacle\\GRAS 43AG-7 over-ear\\Sennheiser HD 400 S\"\n",
      "C:\\Users\\jaakko\\code\\AutoEq\\measurements\\crinacle\\data\\in-ear\\GRAS 43AG-7\\Sennheiser HD 559.csv\n",
      "Removed \"crinacle\\GRAS 43AG-7 over-ear\\Sennheiser HD 559\"\n",
      "C:\\Users\\jaakko\\code\\AutoEq\\measurements\\crinacle\\data\\in-ear\\GRAS 43AG-7\\Sennheiser HD 560S.csv\n",
      "Removed \"crinacle\\GRAS 43AG-7 over-ear\\Sennheiser HD 560S\"\n",
      "C:\\Users\\jaakko\\code\\AutoEq\\measurements\\crinacle\\data\\in-ear\\GRAS 43AG-7\\Sennheiser HD 579.csv\n",
      "Removed \"crinacle\\GRAS 43AG-7 over-ear\\Sennheiser HD 579\"\n",
      "C:\\Users\\jaakko\\code\\AutoEq\\measurements\\crinacle\\data\\in-ear\\GRAS 43AG-7\\Sennheiser HD 580 (black paper).csv\n",
      "Removed \"crinacle\\GRAS 43AG-7 over-ear\\Sennheiser HD 580 (black paper)\"\n",
      "C:\\Users\\jaakko\\code\\AutoEq\\measurements\\crinacle\\data\\in-ear\\GRAS 43AG-7\\Sennheiser HD 580 (black silk).csv\n",
      "Removed \"crinacle\\GRAS 43AG-7 over-ear\\Sennheiser HD 580 (black silk)\"\n",
      "C:\\Users\\jaakko\\code\\AutoEq\\measurements\\crinacle\\data\\in-ear\\GRAS 43AG-7\\Sennheiser HD 580 (silver screen).csv\n",
      "Removed \"crinacle\\GRAS 43AG-7 over-ear\\Sennheiser HD 580 (silver screen)\"\n",
      "C:\\Users\\jaakko\\code\\AutoEq\\measurements\\crinacle\\data\\in-ear\\GRAS 43AG-7\\Sennheiser HD 580 (white paper).csv\n",
      "Removed \"crinacle\\GRAS 43AG-7 over-ear\\Sennheiser HD 580 (white paper)\"\n",
      "C:\\Users\\jaakko\\code\\AutoEq\\measurements\\crinacle\\data\\in-ear\\GRAS 43AG-7\\Sennheiser HD 58X.csv\n",
      "Removed \"crinacle\\GRAS 43AG-7 over-ear\\Sennheiser HD 58X\"\n",
      "C:\\Users\\jaakko\\code\\AutoEq\\measurements\\crinacle\\data\\in-ear\\GRAS 43AG-7\\Sennheiser HD 599.csv\n",
      "Removed \"crinacle\\GRAS 43AG-7 over-ear\\Sennheiser HD 599\"\n",
      "C:\\Users\\jaakko\\code\\AutoEq\\measurements\\crinacle\\data\\in-ear\\GRAS 43AG-7\\Sennheiser HD 600.csv\n",
      "Removed \"crinacle\\GRAS 43AG-7 over-ear\\Sennheiser HD 600\"\n",
      "C:\\Users\\jaakko\\code\\AutoEq\\measurements\\crinacle\\data\\in-ear\\GRAS 43AG-7\\Sennheiser HD 600 (2020).csv\n",
      "Removed \"crinacle\\GRAS 43AG-7 over-ear\\Sennheiser HD 600 (2020)\"\n",
      "C:\\Users\\jaakko\\code\\AutoEq\\measurements\\crinacle\\data\\in-ear\\GRAS 43AG-7\\Sennheiser HD 600 (2020, worn earpads).csv\n",
      "Removed \"crinacle\\GRAS 43AG-7 over-ear\\Sennheiser HD 600 (2020, worn earpads)\"\n",
      "C:\\Users\\jaakko\\code\\AutoEq\\measurements\\crinacle\\data\\in-ear\\GRAS 43AG-7\\Sennheiser HD 600 (pre-2020, semi-worn earpads).csv\n",
      "Removed \"crinacle\\GRAS 43AG-7 over-ear\\Sennheiser HD 600 (pre-2020, semi-worn earpads)\"\n",
      "C:\\Users\\jaakko\\code\\AutoEq\\measurements\\crinacle\\data\\in-ear\\GRAS 43AG-7\\Sennheiser HD 600 (pre-2020, worn earpads).csv\n",
      "Removed \"crinacle\\GRAS 43AG-7 over-ear\\Sennheiser HD 600 (pre-2020, worn earpads)\"\n",
      "C:\\Users\\jaakko\\code\\AutoEq\\measurements\\crinacle\\data\\in-ear\\GRAS 43AG-7\\Sennheiser HD 650.csv\n",
      "Removed \"crinacle\\GRAS 43AG-7 over-ear\\Sennheiser HD 650\"\n",
      "C:\\Users\\jaakko\\code\\AutoEq\\measurements\\crinacle\\data\\in-ear\\GRAS 43AG-7\\Sennheiser HD 650 (2020).csv\n",
      "Removed \"crinacle\\GRAS 43AG-7 over-ear\\Sennheiser HD 650 (2020)\"\n",
      "C:\\Users\\jaakko\\code\\AutoEq\\measurements\\crinacle\\data\\in-ear\\GRAS 43AG-7\\Sennheiser HD 650 (2020, worn earpads).csv\n",
      "Removed \"crinacle\\GRAS 43AG-7 over-ear\\Sennheiser HD 650 (2020, worn earpads)\"\n",
      "C:\\Users\\jaakko\\code\\AutoEq\\measurements\\crinacle\\data\\in-ear\\GRAS 43AG-7\\Sennheiser HD 650 (pre-2020, semi-worn earpads).csv\n",
      "Removed \"crinacle\\GRAS 43AG-7 over-ear\\Sennheiser HD 650 (pre-2020, semi-worn earpads)\"\n",
      "C:\\Users\\jaakko\\code\\AutoEq\\measurements\\crinacle\\data\\in-ear\\GRAS 43AG-7\\Sennheiser HD 650 (pre-2020, worn earpads).csv\n",
      "Removed \"crinacle\\GRAS 43AG-7 over-ear\\Sennheiser HD 650 (pre-2020, worn earpads)\"\n",
      "C:\\Users\\jaakko\\code\\AutoEq\\measurements\\crinacle\\data\\in-ear\\GRAS 43AG-7\\Sennheiser HD 660 S.csv\n",
      "Removed \"crinacle\\GRAS 43AG-7 over-ear\\Sennheiser HD 660 S\"\n",
      "C:\\Users\\jaakko\\code\\AutoEq\\measurements\\crinacle\\data\\in-ear\\GRAS 43AG-7\\Sennheiser HD 800.csv\n",
      "Removed \"crinacle\\GRAS 43AG-7 over-ear\\Sennheiser HD 800\"\n",
      "C:\\Users\\jaakko\\code\\AutoEq\\measurements\\crinacle\\data\\in-ear\\GRAS 43AG-7\\Sennheiser HD 800 S.csv\n",
      "Removed \"crinacle\\GRAS 43AG-7 over-ear\\Sennheiser HD 800 S\"\n",
      "C:\\Users\\jaakko\\code\\AutoEq\\measurements\\crinacle\\data\\in-ear\\GRAS 43AG-7\\Sennheiser HD 820.csv\n",
      "Removed \"crinacle\\GRAS 43AG-7 over-ear\\Sennheiser HD 820\"\n",
      "C:\\Users\\jaakko\\code\\AutoEq\\measurements\\crinacle\\data\\in-ear\\GRAS 43AG-7\\Sennheiser HD 8XX.csv\n",
      "Removed \"crinacle\\GRAS 43AG-7 over-ear\\Sennheiser HD 8XX\"\n",
      "C:\\Users\\jaakko\\code\\AutoEq\\measurements\\crinacle\\data\\in-ear\\GRAS 43AG-7\\Sennheiser HD800.csv\n",
      "Removed \"crinacle\\GRAS 43AG-7 over-ear\\Sennheiser HD800\"\n",
      "C:\\Users\\jaakko\\code\\AutoEq\\measurements\\crinacle\\data\\in-ear\\GRAS 43AG-7\\Sennheiser HD800 (SDR mod).csv\n",
      "Removed \"crinacle\\GRAS 43AG-7 over-ear\\Sennheiser HD800 (SDR mod)\"\n",
      "C:\\Users\\jaakko\\code\\AutoEq\\measurements\\crinacle\\data\\in-ear\\GRAS 43AG-7\\Sennheiser HE 1 Orpheus 2.csv\n",
      "Removed \"crinacle\\GRAS 43AG-7 over-ear\\Sennheiser HE 1 Orpheus 2\"\n",
      "C:\\Users\\jaakko\\code\\AutoEq\\measurements\\crinacle\\data\\in-ear\\GRAS 43AG-7\\Sennheiser HE 1 Orpheus 2 (semi-worn earpads).csv\n",
      "Removed \"crinacle\\GRAS 43AG-7 over-ear\\Sennheiser HE 1 Orpheus 2 (semi-worn earpads)\"\n",
      "C:\\Users\\jaakko\\code\\AutoEq\\measurements\\crinacle\\data\\in-ear\\GRAS 43AG-7\\Sennheiser Momentum 2.0 Wireless.csv\n",
      "Removed \"crinacle\\GRAS 43AG-7 over-ear\\Sennheiser Momentum 2.0 Wireless\"\n",
      "C:\\Users\\jaakko\\code\\AutoEq\\measurements\\crinacle\\data\\in-ear\\GRAS 43AG-7\\Sennheiser Momentum 3 Wireless.csv\n",
      "Removed \"crinacle\\GRAS 43AG-7 over-ear\\Sennheiser Momentum 3 Wireless\"\n",
      "C:\\Users\\jaakko\\code\\AutoEq\\measurements\\crinacle\\data\\in-ear\\GRAS 43AG-7\\Sennheiser Momentum 4 Wireless.csv\n",
      "Removed \"crinacle\\GRAS 43AG-7 over-ear\\Sennheiser Momentum 4 Wireless\"\n",
      "C:\\Users\\jaakko\\code\\AutoEq\\measurements\\crinacle\\data\\in-ear\\GRAS 43AG-7\\Sennheiser Momentum 4 Wireless (passive).csv\n",
      "Removed \"crinacle\\GRAS 43AG-7 over-ear\\Sennheiser Momentum 4 Wireless (passive)\"\n",
      "C:\\Users\\jaakko\\code\\AutoEq\\measurements\\crinacle\\data\\in-ear\\GRAS 43AG-7\\Sennheiser PC38X.csv\n",
      "Removed \"crinacle\\GRAS 43AG-7 over-ear\\Sennheiser PC38X\"\n",
      "C:\\Users\\jaakko\\code\\AutoEq\\measurements\\crinacle\\data\\in-ear\\GRAS 43AG-7\\Shure AONIC 50.csv\n",
      "Removed \"crinacle\\GRAS 43AG-7 over-ear\\Shure AONIC 50\"\n",
      "C:\\Users\\jaakko\\code\\AutoEq\\measurements\\crinacle\\data\\in-ear\\GRAS 43AG-7\\Shure SRH1540.csv\n",
      "Removed \"crinacle\\GRAS 43AG-7 over-ear\\Shure SRH1540\"\n",
      "C:\\Users\\jaakko\\code\\AutoEq\\measurements\\crinacle\\data\\in-ear\\GRAS 43AG-7\\Shure SRH240A.csv\n",
      "Removed \"crinacle\\GRAS 43AG-7 over-ear\\Shure SRH240A\"\n",
      "C:\\Users\\jaakko\\code\\AutoEq\\measurements\\crinacle\\data\\in-ear\\GRAS 43AG-7\\Shure SRH440.csv\n",
      "Removed \"crinacle\\GRAS 43AG-7 over-ear\\Shure SRH440\"\n",
      "C:\\Users\\jaakko\\code\\AutoEq\\measurements\\crinacle\\data\\in-ear\\GRAS 43AG-7\\Shure SRH840.csv\n",
      "Removed \"crinacle\\GRAS 43AG-7 over-ear\\Shure SRH840\"\n",
      "C:\\Users\\jaakko\\code\\AutoEq\\measurements\\crinacle\\data\\in-ear\\GRAS 43AG-7\\Sivga Audio Phoenix.csv\n",
      "Removed \"crinacle\\GRAS 43AG-7 over-ear\\Sivga Audio Phoenix\"\n",
      "C:\\Users\\jaakko\\code\\AutoEq\\measurements\\crinacle\\data\\in-ear\\GRAS 43AG-7\\Sivga Audio Robin.csv\n",
      "Removed \"crinacle\\GRAS 43AG-7 over-ear\\Sivga Audio Robin\"\n",
      "C:\\Users\\jaakko\\code\\AutoEq\\measurements\\crinacle\\data\\in-ear\\GRAS 43AG-7\\Sony MDR-1AM2.csv\n",
      "Removed \"crinacle\\GRAS 43AG-7 over-ear\\Sony MDR-1AM2\"\n",
      "C:\\Users\\jaakko\\code\\AutoEq\\measurements\\crinacle\\data\\in-ear\\GRAS 43AG-7\\Sony MDR-7510.csv\n",
      "Removed \"crinacle\\GRAS 43AG-7 over-ear\\Sony MDR-7510\"\n",
      "C:\\Users\\jaakko\\code\\AutoEq\\measurements\\crinacle\\data\\in-ear\\GRAS 43AG-7\\Sony MDR-CD380.csv\n",
      "Removed \"crinacle\\GRAS 43AG-7 over-ear\\Sony MDR-CD380\"\n",
      "C:\\Users\\jaakko\\code\\AutoEq\\measurements\\crinacle\\data\\in-ear\\GRAS 43AG-7\\Sony MDR-CD900ST.csv\n",
      "Removed \"crinacle\\GRAS 43AG-7 over-ear\\Sony MDR-CD900ST\"\n",
      "C:\\Users\\jaakko\\code\\AutoEq\\measurements\\crinacle\\data\\in-ear\\GRAS 43AG-7\\Sony MDR-CD900ST (Yaxi stPad microfiber earpads).csv\n",
      "Removed \"crinacle\\GRAS 43AG-7 over-ear\\Sony MDR-CD900ST (Yaxi stPad microfiber earpads)\"\n",
      "C:\\Users\\jaakko\\code\\AutoEq\\measurements\\crinacle\\data\\in-ear\\GRAS 43AG-7\\Sony MDR-CD900ST (Yaxi stPad2 earpads).csv\n",
      "Removed \"crinacle\\GRAS 43AG-7 over-ear\\Sony MDR-CD900ST (Yaxi stPad2 earpads)\"\n",
      "C:\\Users\\jaakko\\code\\AutoEq\\measurements\\crinacle\\data\\in-ear\\GRAS 43AG-7\\Sony MDR-M1ST.csv\n",
      "Removed \"crinacle\\GRAS 43AG-7 over-ear\\Sony MDR-M1ST\"\n",
      "C:\\Users\\jaakko\\code\\AutoEq\\measurements\\crinacle\\data\\in-ear\\GRAS 43AG-7\\Sony MDR-MA900.csv\n",
      "Removed \"crinacle\\GRAS 43AG-7 over-ear\\Sony MDR-MA900\"\n",
      "C:\\Users\\jaakko\\code\\AutoEq\\measurements\\crinacle\\data\\in-ear\\GRAS 43AG-7\\Sony MDR-V6.csv\n",
      "Removed \"crinacle\\GRAS 43AG-7 over-ear\\Sony MDR-V6\"\n",
      "C:\\Users\\jaakko\\code\\AutoEq\\measurements\\crinacle\\data\\in-ear\\GRAS 43AG-7\\Sony MDR-Z1R.csv\n",
      "Removed \"crinacle\\GRAS 43AG-7 over-ear\\Sony MDR-Z1R\"\n",
      "C:\\Users\\jaakko\\code\\AutoEq\\measurements\\crinacle\\data\\in-ear\\GRAS 43AG-7\\Sony MDR-Z7M2.csv\n",
      "Removed \"crinacle\\GRAS 43AG-7 over-ear\\Sony MDR-Z7M2\"\n",
      "C:\\Users\\jaakko\\code\\AutoEq\\measurements\\crinacle\\data\\in-ear\\GRAS 43AG-7\\Sony WH-1000XM4.csv\n",
      "Removed \"crinacle\\GRAS 43AG-7 over-ear\\Sony WH-1000XM4\"\n",
      "C:\\Users\\jaakko\\code\\AutoEq\\measurements\\crinacle\\data\\in-ear\\GRAS 43AG-7\\Spirit Torino Radiante.csv\n",
      "Removed \"crinacle\\GRAS 43AG-7 over-ear\\Spirit Torino Radiante\"\n",
      "C:\\Users\\jaakko\\code\\AutoEq\\measurements\\crinacle\\data\\in-ear\\GRAS 43AG-7\\Stax SR-007 Mk2.5.csv\n",
      "Removed \"crinacle\\GRAS 43AG-7 over-ear\\Stax SR-007 Mk2.5\"\n",
      "C:\\Users\\jaakko\\code\\AutoEq\\measurements\\crinacle\\data\\in-ear\\GRAS 43AG-7\\Stax SR-009.csv\n",
      "Removed \"crinacle\\GRAS 43AG-7 over-ear\\Stax SR-009\"\n",
      "C:\\Users\\jaakko\\code\\AutoEq\\measurements\\crinacle\\data\\in-ear\\GRAS 43AG-7\\Stax SR-009S.csv\n",
      "Removed \"crinacle\\GRAS 43AG-7 over-ear\\Stax SR-009S\"\n",
      "C:\\Users\\jaakko\\code\\AutoEq\\measurements\\crinacle\\data\\in-ear\\GRAS 43AG-7\\Stax SR-3.csv\n",
      "Removed \"crinacle\\GRAS 43AG-7 over-ear\\Stax SR-3\"\n",
      "C:\\Users\\jaakko\\code\\AutoEq\\measurements\\crinacle\\data\\in-ear\\GRAS 43AG-7\\Stax SR-40.csv\n",
      "Removed \"crinacle\\GRAS 43AG-7 over-ear\\Stax SR-40\"\n",
      "C:\\Users\\jaakko\\code\\AutoEq\\measurements\\crinacle\\data\\in-ear\\GRAS 43AG-7\\Stax SR-404.csv\n",
      "Removed \"crinacle\\GRAS 43AG-7 over-ear\\Stax SR-404\"\n",
      "C:\\Users\\jaakko\\code\\AutoEq\\measurements\\crinacle\\data\\in-ear\\GRAS 43AG-7\\Stax SR-404 Limited.csv\n",
      "Removed \"crinacle\\GRAS 43AG-7 over-ear\\Stax SR-404 Limited\"\n",
      "C:\\Users\\jaakko\\code\\AutoEq\\measurements\\crinacle\\data\\in-ear\\GRAS 43AG-7\\Stax SR-4070.csv\n",
      "Removed \"crinacle\\GRAS 43AG-7 over-ear\\Stax SR-4070\"\n",
      "C:\\Users\\jaakko\\code\\AutoEq\\measurements\\crinacle\\data\\in-ear\\GRAS 43AG-7\\Stax SR-507.csv\n",
      "Removed \"crinacle\\GRAS 43AG-7 over-ear\\Stax SR-507\"\n",
      "C:\\Users\\jaakko\\code\\AutoEq\\measurements\\crinacle\\data\\in-ear\\GRAS 43AG-7\\Stax SR-84.csv\n",
      "Removed \"crinacle\\GRAS 43AG-7 over-ear\\Stax SR-84\"\n",
      "C:\\Users\\jaakko\\code\\AutoEq\\measurements\\crinacle\\data\\in-ear\\GRAS 43AG-7\\Stax SR-L300.csv\n",
      "Removed \"crinacle\\GRAS 43AG-7 over-ear\\Stax SR-L300\"\n",
      "C:\\Users\\jaakko\\code\\AutoEq\\measurements\\crinacle\\data\\in-ear\\GRAS 43AG-7\\Stax SR-L300 Limited.csv\n",
      "Removed \"crinacle\\GRAS 43AG-7 over-ear\\Stax SR-L300 Limited\"\n",
      "C:\\Users\\jaakko\\code\\AutoEq\\measurements\\crinacle\\data\\in-ear\\GRAS 43AG-7\\Stax SR-L500.csv\n",
      "Removed \"crinacle\\GRAS 43AG-7 over-ear\\Stax SR-L500\"\n",
      "C:\\Users\\jaakko\\code\\AutoEq\\measurements\\crinacle\\data\\in-ear\\GRAS 43AG-7\\Stax SR-L700.csv\n",
      "Removed \"crinacle\\GRAS 43AG-7 over-ear\\Stax SR-L700\"\n",
      "C:\\Users\\jaakko\\code\\AutoEq\\measurements\\crinacle\\data\\in-ear\\GRAS 43AG-7\\Stax SR-Lambda Pro.csv\n",
      "Removed \"crinacle\\GRAS 43AG-7 over-ear\\Stax SR-Lambda Pro\"\n",
      "C:\\Users\\jaakko\\code\\AutoEq\\measurements\\crinacle\\data\\in-ear\\GRAS 43AG-7\\Stax SR-X Mk2.csv\n",
      "Removed \"crinacle\\GRAS 43AG-7 over-ear\\Stax SR-X Mk2\"\n",
      "C:\\Users\\jaakko\\code\\AutoEq\\measurements\\crinacle\\data\\in-ear\\GRAS 43AG-7\\ThieAudio Wraith.csv\n",
      "Removed \"crinacle\\GRAS 43AG-7 over-ear\\ThieAudio Wraith\"\n",
      "C:\\Users\\jaakko\\code\\AutoEq\\measurements\\crinacle\\data\\in-ear\\GRAS 43AG-7\\Timsok TS-1024.csv\n",
      "Removed \"crinacle\\GRAS 43AG-7 over-ear\\Timsok TS-1024\"\n",
      "C:\\Users\\jaakko\\code\\AutoEq\\measurements\\crinacle\\data\\in-ear\\GRAS 43AG-7\\Tripowin H1.csv\n",
      "Removed \"crinacle\\GRAS 43AG-7 over-ear\\Tripowin H1\"\n",
      "C:\\Users\\jaakko\\code\\AutoEq\\measurements\\crinacle\\data\\in-ear\\GRAS 43AG-7\\V-MODA Crossfade 2 Wireless.csv\n",
      "Removed \"crinacle\\GRAS 43AG-7 over-ear\\V-MODA Crossfade 2 Wireless\"\n",
      "C:\\Users\\jaakko\\code\\AutoEq\\measurements\\crinacle\\data\\in-ear\\GRAS 43AG-7\\V-MODA Crossfade LP2.csv\n",
      "Removed \"crinacle\\GRAS 43AG-7 over-ear\\V-MODA Crossfade LP2\"\n",
      "C:\\Users\\jaakko\\code\\AutoEq\\measurements\\crinacle\\data\\in-ear\\GRAS 43AG-7\\Warwick Acoustics Sonoma Model One.csv\n",
      "Removed \"crinacle\\GRAS 43AG-7 over-ear\\Warwick Acoustics Sonoma Model One\"\n",
      "C:\\Users\\jaakko\\code\\AutoEq\\measurements\\crinacle\\data\\in-ear\\GRAS 43AG-7\\Yamaha HP-300.csv\n",
      "Removed \"crinacle\\GRAS 43AG-7 over-ear\\Yamaha HP-300\"\n",
      "C:\\Users\\jaakko\\code\\AutoEq\\measurements\\crinacle\\data\\in-ear\\GRAS 43AG-7\\Yamaha HP-50S.csv\n",
      "Removed \"crinacle\\GRAS 43AG-7 over-ear\\Yamaha HP-50S\"\n",
      "C:\\Users\\jaakko\\code\\AutoEq\\measurements\\crinacle\\data\\in-ear\\GRAS 43AG-7\\ZMF Aeolus (universal perforated suede earpads).csv\n",
      "Removed \"crinacle\\GRAS 43AG-7 over-ear\\ZMF Aeolus (universal perforated suede earpads)\"\n",
      "C:\\Users\\jaakko\\code\\AutoEq\\measurements\\crinacle\\data\\in-ear\\GRAS 43AG-7\\ZMF Atrium (perforated lambskin BE2 earpads).csv\n",
      "Removed \"crinacle\\GRAS 43AG-7 over-ear\\ZMF Atrium (perforated lambskin BE2 earpads)\"\n",
      "C:\\Users\\jaakko\\code\\AutoEq\\measurements\\crinacle\\data\\in-ear\\GRAS 43AG-7\\ZMF Atticus (Eikon suede earpads).csv\n",
      "Removed \"crinacle\\GRAS 43AG-7 over-ear\\ZMF Atticus (Eikon suede earpads)\"\n",
      "C:\\Users\\jaakko\\code\\AutoEq\\measurements\\crinacle\\data\\in-ear\\GRAS 43AG-7\\ZMF Auteur (perforated lambskin Auteur earpads).csv\n",
      "Removed \"crinacle\\GRAS 43AG-7 over-ear\\ZMF Auteur (perforated lambskin Auteur earpads)\"\n",
      "C:\\Users\\jaakko\\code\\AutoEq\\measurements\\crinacle\\data\\in-ear\\GRAS 43AG-7\\ZMF Eikon (Eikon lambskin earpads).csv\n",
      "Removed \"crinacle\\GRAS 43AG-7 over-ear\\ZMF Eikon (Eikon lambskin earpads)\"\n",
      "C:\\Users\\jaakko\\code\\AutoEq\\measurements\\crinacle\\data\\in-ear\\GRAS 43AG-7\\ZMF Verite (perforated hybid BE2 earpads).csv\n",
      "Removed \"crinacle\\GRAS 43AG-7 over-ear\\ZMF Verite (perforated hybid BE2 earpads)\"\n",
      "C:\\Users\\jaakko\\code\\AutoEq\\measurements\\crinacle\\data\\in-ear\\GRAS 43AG-7\\ZMF Verite (perforated Verite lambskin earpads).csv\n",
      "Removed \"crinacle\\GRAS 43AG-7 over-ear\\ZMF Verite (perforated Verite lambskin earpads)\"\n",
      "C:\\Users\\jaakko\\code\\AutoEq\\measurements\\crinacle\\data\\in-ear\\GRAS 43AG-7\\ZMF Verite Closed (Auteur lambskin earpads).csv\n",
      "Removed \"crinacle\\GRAS 43AG-7 over-ear\\ZMF Verite Closed (Auteur lambskin earpads)\"\n",
      "C:\\Users\\jaakko\\code\\AutoEq\\measurements\\crinacle\\data\\in-ear\\GRAS 43AG-7\\ZMF Verite Closed (hybrid Universe earpads).csv\n",
      "Removed \"crinacle\\GRAS 43AG-7 over-ear\\ZMF Verite Closed (hybrid Universe earpads)\"\n"
     ]
    }
   ],
   "source": [
    "prune_results(databases=['crinacle', 'oratory1990', 'Headphone.com Legacy', 'Innerfidelity', 'Rtings'], dry_run=True)"
   ]
  },
  {
   "cell_type": "markdown",
   "id": "423849ce-bac6-4d7d-85e7-1d8e6451714c",
   "metadata": {},
   "source": [
    "## Update Results\n",
    "Creates new results from the measurements. `eq_kwargs` are parameters shared by all jobs."
   ]
  },
  {
   "cell_type": "code",
   "execution_count": 4,
   "id": "39984de4-40a1-484e-988c-76108dd4b85a",
   "metadata": {},
   "outputs": [],
   "source": [
    "eq_kwargs = {\n",
    "    'parametric_eq': True, 'ten_band_eq': True, 'convolution_eq': True,\n",
    "    'parametric_eq_config': [PEQ_CONFIGS['4_PEAKING_WITH_LOW_SHELF'], PEQ_CONFIGS['4_PEAKING_WITH_HIGH_SHELF']],\n",
    "    'fs': [44100, 48000],\n",
    "    'thread_count': 0,\n",
    "}"
   ]
  },
  {
   "cell_type": "markdown",
   "id": "122bf50b-3ba8-4cc6-8297-f1dc5048ca52",
   "metadata": {},
   "source": [
    "#### oratory1990 Over-ear"
   ]
  },
  {
   "cell_type": "code",
   "execution_count": 42,
   "id": "155d256e-200a-4600-ac1e-380fc6ebf71a",
   "metadata": {},
   "outputs": [
    {
     "data": {
      "application/vnd.jupyter.widget-view+json": {
       "model_id": "0140332060f94db3895d24a2305ab08d",
       "version_major": 2,
       "version_minor": 0
      },
      "text/plain": [
       "  0%|          | 0/1 [00:00<?, ?it/s]"
      ]
     },
     "metadata": {},
     "output_type": "display_data"
    }
   ],
   "source": [
    "_ = batch_processing(\n",
    "    input_dir=MEASUREMENTS_PATH.joinpath('oratory1990', 'data', 'over-ear'),\n",
    "    output_dir=RESULTS_PATH.joinpath('oratory1990', 'over-ear'),\n",
    "    target=TARGETS_PATH.joinpath('Harman over-ear 2018 without bass.csv'),\n",
    "    bass_boost_gain=6.0, bass_boost_fc=105, bass_boost_q=0.7,\n",
    "    new_only=True, **eq_kwargs)"
   ]
  },
  {
   "cell_type": "markdown",
   "id": "e13fc080-94c2-4bf3-a319-51cc1131a2f1",
   "metadata": {},
   "source": [
    "#### oratory1990 In-ear"
   ]
  },
  {
   "cell_type": "code",
   "execution_count": 7,
   "id": "35bd242a-0cf5-4311-bde6-23c5fa892e67",
   "metadata": {},
   "outputs": [
    {
     "data": {
      "application/vnd.jupyter.widget-view+json": {
       "model_id": "632d2330221644f8a10671368c5be593",
       "version_major": 2,
       "version_minor": 0
      },
      "text/plain": [
       "  0%|          | 0/188 [00:00<?, ?it/s]"
      ]
     },
     "metadata": {},
     "output_type": "display_data"
    }
   ],
   "source": [
    "_ = batch_processing(\n",
    "    input_dir=MEASUREMENTS_PATH.joinpath('oratory1990', 'data', 'in-ear'),\n",
    "    output_dir=RESULTS_PATH.joinpath('oratory1990', 'in-ear'),\n",
    "    target=TARGETS_PATH.joinpath('AutoEq in-ear.csv'),\n",
    "    bass_boost_gain=9.5, bass_boost_fc=105, bass_boost_q=0.7,\n",
    "    new_only=False, **eq_kwargs)"
   ]
  },
  {
   "cell_type": "markdown",
   "id": "744a4d87-19ad-4625-abba-1064fa6dba30",
   "metadata": {},
   "source": [
    "#### oratory1990 Earbud"
   ]
  },
  {
   "cell_type": "code",
   "execution_count": 8,
   "id": "42fbde8b-ce79-4606-8d90-079d4454a12f",
   "metadata": {},
   "outputs": [
    {
     "data": {
      "application/vnd.jupyter.widget-view+json": {
       "model_id": "a45a5874329e48289b1388d5b463e7d4",
       "version_major": 2,
       "version_minor": 0
      },
      "text/plain": [
       "  0%|          | 0/1 [00:00<?, ?it/s]"
      ]
     },
     "metadata": {},
     "output_type": "display_data"
    }
   ],
   "source": [
    "_ = batch_processing(\n",
    "    input_dir=MEASUREMENTS_PATH.joinpath('oratory1990', 'data', 'earbud'),\n",
    "    output_dir=RESULTS_PATH.joinpath('oratory1990', 'earbud'),\n",
    "    target=TARGETS_PATH.joinpath('AutoEq in-ear.csv'),\n",
    "    bass_boost_gain=0.0, bass_boost_fc=105, bass_boost_q=0.7,\n",
    "    new_only=False, **eq_kwargs)"
   ]
  },
  {
   "cell_type": "markdown",
   "id": "481d748a-8a69-4e86-8775-cfcd29a40256",
   "metadata": {},
   "source": [
    "#### crinacle GRAS 43AG-7 On-ear"
   ]
  },
  {
   "cell_type": "code",
   "execution_count": 9,
   "id": "fb6364b0-8a4d-4097-913d-f331f7793647",
   "metadata": {},
   "outputs": [
    {
     "data": {
      "application/vnd.jupyter.widget-view+json": {
       "model_id": "92c65966cbe542d7a25d1821803a02c5",
       "version_major": 2,
       "version_minor": 0
      },
      "text/plain": [
       "  0%|          | 0/331 [00:00<?, ?it/s]"
      ]
     },
     "metadata": {},
     "output_type": "display_data"
    }
   ],
   "source": [
    "_ = batch_processing(\n",
    "    input_dir=MEASUREMENTS_PATH.joinpath('crinacle', 'data', 'over-ear', 'GRAS 43AG-7'),\n",
    "    output_dir=RESULTS_PATH.joinpath('crinacle', 'GRAS 43AG-7 over-ear'),\n",
    "    target=TARGETS_PATH.joinpath('Harman over-ear 2018 without bass.csv'),\n",
    "    bass_boost_gain=6.0, bass_boost_fc=105, bass_boost_q=0.7,\n",
    "    new_only=False, **eq_kwargs)"
   ]
  },
  {
   "cell_type": "markdown",
   "id": "2a2904fc-2ada-4b60-a2ca-b3a716e4d49e",
   "metadata": {},
   "source": [
    "#### crinacle EARS+711 Over-ear"
   ]
  },
  {
   "cell_type": "code",
   "execution_count": 10,
   "id": "10f96e31-5b6a-456d-b88d-bddc6ec4ada2",
   "metadata": {},
   "outputs": [
    {
     "data": {
      "application/vnd.jupyter.widget-view+json": {
       "model_id": "f1680af4026e46f390a3aaff2deb5c64",
       "version_major": 2,
       "version_minor": 0
      },
      "text/plain": [
       "  0%|          | 0/65 [00:00<?, ?it/s]"
      ]
     },
     "metadata": {},
     "output_type": "display_data"
    }
   ],
   "source": [
    "_ = batch_processing(\n",
    "    input_dir=MEASUREMENTS_PATH.joinpath('crinacle', 'data', 'over-ear', 'EARS + 711'),\n",
    "    output_dir=RESULTS_PATH.joinpath('crinacle', 'EARS + 711 over-ear'),\n",
    "    target=TARGETS_PATH.joinpath('crinacle EARS + 711 Harman over-ear 2018 without bass.csv'),\n",
    "    bass_boost_gain=6.0, bass_boost_fc=105, bass_boost_q=0.7,\n",
    "    new_only=False, **eq_kwargs)"
   ]
  },
  {
   "cell_type": "markdown",
   "id": "29fcd3d4-3008-4f81-b0c8-100cdc7f0cb2",
   "metadata": {},
   "source": [
    "#### crinacle 4620 In-ear"
   ]
  },
  {
   "cell_type": "code",
   "execution_count": 11,
   "id": "6c9c373e-5ef7-430d-a5aa-e25f78d08306",
   "metadata": {},
   "outputs": [
    {
     "data": {
      "application/vnd.jupyter.widget-view+json": {
       "model_id": "8465923b178143d3b4415e8ba7f9be73",
       "version_major": 2,
       "version_minor": 0
      },
      "text/plain": [
       "  0%|          | 0/169 [00:00<?, ?it/s]"
      ]
     },
     "metadata": {},
     "output_type": "display_data"
    }
   ],
   "source": [
    "_ = batch_processing(\n",
    "    input_dir=MEASUREMENTS_PATH.joinpath('crinacle', 'data', 'in-ear', 'Bruel & Kjaer 4620'),\n",
    "    output_dir=RESULTS_PATH.joinpath('crinacle', 'Bruel & Kjaer 4620 in-ear'),\n",
    "    target=TARGETS_PATH.joinpath('Diffuse field 5128 -1dB per octave.csv'),\n",
    "    bass_boost_gain=0.0, bass_boost_fc=105, bass_boost_q=0.7,\n",
    "    new_only=False, **eq_kwargs)"
   ]
  },
  {
   "cell_type": "markdown",
   "id": "9d61bef6-c53d-4ddf-8852-3d72a5c185de",
   "metadata": {},
   "source": [
    "#### crinacle 711 In-ear"
   ]
  },
  {
   "cell_type": "code",
   "execution_count": 13,
   "id": "a8a16204-f23d-43cb-a79b-fb0ff30bf6f5",
   "metadata": {},
   "outputs": [
    {
     "data": {
      "application/vnd.jupyter.widget-view+json": {
       "model_id": "77d0c823d709405681b9d832b3b396ab",
       "version_major": 2,
       "version_minor": 0
      },
      "text/plain": [
       "  0%|          | 0/1437 [00:00<?, ?it/s]"
      ]
     },
     "metadata": {},
     "output_type": "display_data"
    }
   ],
   "source": [
    "_ = batch_processing(\n",
    "    input_dir=MEASUREMENTS_PATH.joinpath('crinacle', 'data', 'in-ear', '711'),\n",
    "    output_dir=RESULTS_PATH.joinpath('crinacle', '711 in-ear'),\n",
    "    target=TARGETS_PATH.joinpath('AutoEq in-ear.csv'),\n",
    "    bass_boost_gain=9.5, bass_boost_fc=105, bass_boost_q=0.7,\n",
    "    new_only=False, **eq_kwargs)"
   ]
  },
  {
   "cell_type": "markdown",
   "id": "52271743-ad3f-4950-9a29-1c90abfc6e99",
   "metadata": {},
   "source": [
    "#### Rtings Over-ear"
   ]
  },
  {
   "cell_type": "code",
   "execution_count": 54,
   "id": "fab904f1-546c-46e9-a4d4-3acd6a95f8f3",
   "metadata": {},
   "outputs": [
    {
     "data": {
      "application/vnd.jupyter.widget-view+json": {
       "model_id": "e91d00beac4a47c88a60f8c68150ba06",
       "version_major": 2,
       "version_minor": 0
      },
      "text/plain": [
       "  0%|          | 0/6 [00:00<?, ?it/s]"
      ]
     },
     "metadata": {},
     "output_type": "display_data"
    }
   ],
   "source": [
    "_ = batch_processing(\n",
    "    input_dir=MEASUREMENTS_PATH.joinpath('Rtings', 'data', 'over-ear'),\n",
    "    output_dir=RESULTS_PATH.joinpath('Rtings', 'over-ear'),\n",
    "    target=TARGETS_PATH.joinpath('Rtings Harman over-ear 2018 without bass.csv'),\n",
    "    bass_boost_gain=6.0, bass_boost_fc=105, bass_boost_q=0.7,\n",
    "    new_only=True, **eq_kwargs)"
   ]
  },
  {
   "cell_type": "markdown",
   "id": "7e6692cb-12af-41cd-84f2-1d0621a82ccf",
   "metadata": {},
   "source": [
    "#### Rtings In-ear"
   ]
  },
  {
   "cell_type": "code",
   "execution_count": 49,
   "id": "2690f37a-77d6-42d2-bc25-6f5a06efe77a",
   "metadata": {},
   "outputs": [
    {
     "data": {
      "application/vnd.jupyter.widget-view+json": {
       "model_id": "743a361c0b4c41658ca827d6ca26e076",
       "version_major": 2,
       "version_minor": 0
      },
      "text/plain": [
       "  0%|          | 0/15 [00:00<?, ?it/s]"
      ]
     },
     "metadata": {},
     "output_type": "display_data"
    }
   ],
   "source": [
    "_ = batch_processing(\n",
    "    input_dir=MEASUREMENTS_PATH.joinpath('Rtings', 'data', 'in-ear'),\n",
    "    output_dir=RESULTS_PATH.joinpath('Rtings', 'in-ear'),\n",
    "    target=TARGETS_PATH.joinpath('Rtings AutoEq in-ear.csv'),\n",
    "    bass_boost_gain=9.5, bass_boost_fc=105, bass_boost_q=0.7,\n",
    "    new_only=True, **eq_kwargs)"
   ]
  },
  {
   "cell_type": "markdown",
   "id": "2992c00e-eb1f-4f6c-905d-459289aace31",
   "metadata": {},
   "source": [
    "#### Rtings Earbud"
   ]
  },
  {
   "cell_type": "code",
   "execution_count": 17,
   "id": "e1ddb3df-df76-49f5-9cb0-eaa8547c1ebc",
   "metadata": {},
   "outputs": [
    {
     "data": {
      "application/vnd.jupyter.widget-view+json": {
       "model_id": "f245cdc005ef4dd28a2971060965288f",
       "version_major": 2,
       "version_minor": 0
      },
      "text/plain": [
       "  0%|          | 0/23 [00:00<?, ?it/s]"
      ]
     },
     "metadata": {},
     "output_type": "display_data"
    }
   ],
   "source": [
    "_ = batch_processing(\n",
    "    input_dir=MEASUREMENTS_PATH.joinpath('Rtings', 'data', 'earbud'),\n",
    "    output_dir=RESULTS_PATH.joinpath('Rtings', 'earbud'),\n",
    "    target=TARGETS_PATH.joinpath('Rtings Autoeq in-ear.csv'),\n",
    "    bass_boost_gain=0.0, bass_boost_fc=105, bass_boost_q=0.7,\n",
    "    new_only=False, **eq_kwargs)"
   ]
  },
  {
   "cell_type": "markdown",
   "id": "65acd28c-c1cc-4289-b5e1-f5b7a1d1664b",
   "metadata": {},
   "source": [
    "#### Innerfidelity In-ear"
   ]
  },
  {
   "cell_type": "code",
   "execution_count": 18,
   "id": "4568f581-e4b9-4f0f-8219-25b0e065e244",
   "metadata": {},
   "outputs": [
    {
     "data": {
      "application/vnd.jupyter.widget-view+json": {
       "model_id": "a576794e4c14486cbcc0dc0ca12571da",
       "version_major": 2,
       "version_minor": 0
      },
      "text/plain": [
       "  0%|          | 0/612 [00:00<?, ?it/s]"
      ]
     },
     "metadata": {},
     "output_type": "display_data"
    }
   ],
   "source": [
    "_ = batch_processing(\n",
    "    input_dir=MEASUREMENTS_PATH.joinpath('Innerfidelity', 'data', 'over-ear'),\n",
    "    output_dir=RESULTS_PATH.joinpath('Innerfidelity', 'over-ear'),\n",
    "    target=TARGETS_PATH.joinpath('Innerfidelity Harman over-ear 2018 without bass.csv'),\n",
    "    bass_boost_gain=6.0, bass_boost_fc=105, bass_boost_q=0.7,\n",
    "    new_only=False, **eq_kwargs)"
   ]
  },
  {
   "cell_type": "markdown",
   "id": "72324e9a-cc26-4c2e-a5c0-c6f3ef0fb003",
   "metadata": {},
   "source": [
    "#### Innerfidelity In-ear"
   ]
  },
  {
   "cell_type": "code",
   "execution_count": 19,
   "id": "c87e797c-9018-4ff2-b997-9e654ceb74cd",
   "metadata": {},
   "outputs": [
    {
     "data": {
      "application/vnd.jupyter.widget-view+json": {
       "model_id": "e2abc8fff9ef4183a1ee811d0db69425",
       "version_major": 2,
       "version_minor": 0
      },
      "text/plain": [
       "  0%|          | 0/307 [00:00<?, ?it/s]"
      ]
     },
     "metadata": {},
     "output_type": "display_data"
    }
   ],
   "source": [
    "_ = batch_processing(\n",
    "    input_dir=MEASUREMENTS_PATH.joinpath('Innerfidelity', 'data', 'in-ear'),\n",
    "    output_dir=RESULTS_PATH.joinpath('Innerfidelity', 'in-ear'),\n",
    "    target=TARGETS_PATH.joinpath('Innerfidelity AutoEq in-ear.csv'),\n",
    "    bass_boost_gain=6.0, bass_boost_fc=105, bass_boost_q=0.7,\n",
    "    new_only=False, **eq_kwargs)"
   ]
  },
  {
   "cell_type": "markdown",
   "id": "e26478f6-add1-420e-b98b-b95100834922",
   "metadata": {},
   "source": [
    "#### Innerfidelity Earbud"
   ]
  },
  {
   "cell_type": "code",
   "execution_count": 20,
   "id": "f14aa0eb-9697-402b-bb81-16e42d221974",
   "metadata": {},
   "outputs": [
    {
     "data": {
      "application/vnd.jupyter.widget-view+json": {
       "model_id": "2abf983bf2d641dca4e06f7801249a3e",
       "version_major": 2,
       "version_minor": 0
      },
      "text/plain": [
       "  0%|          | 0/15 [00:00<?, ?it/s]"
      ]
     },
     "metadata": {},
     "output_type": "display_data"
    }
   ],
   "source": [
    "_ = batch_processing(\n",
    "    input_dir=MEASUREMENTS_PATH.joinpath('Innerfidelity', 'data', 'earbud'),\n",
    "    output_dir=RESULTS_PATH.joinpath('Innerfidelity', 'earbud'),\n",
    "    target=TARGETS_PATH.joinpath('Innerfidelity AutoEq in-ear.csv'),\n",
    "    bass_boost_gain=0.0, bass_boost_fc=105, bass_boost_q=0.7,\n",
    "    new_only=False, **eq_kwargs)"
   ]
  },
  {
   "cell_type": "markdown",
   "id": "f1f0178c-312b-4246-ba4d-1986cb05c14e",
   "metadata": {},
   "source": [
    "#### Headphone.com Legacy Over-ear"
   ]
  },
  {
   "cell_type": "code",
   "execution_count": 21,
   "id": "cbcf4fd0-b46e-475f-96f7-8520cf788266",
   "metadata": {},
   "outputs": [
    {
     "data": {
      "application/vnd.jupyter.widget-view+json": {
       "model_id": "b11df90eba554046a2c2d3dc626b39c6",
       "version_major": 2,
       "version_minor": 0
      },
      "text/plain": [
       "  0%|          | 0/225 [00:00<?, ?it/s]"
      ]
     },
     "metadata": {},
     "output_type": "display_data"
    }
   ],
   "source": [
    "_ = batch_processing(\n",
    "    input_dir=MEASUREMENTS_PATH.joinpath('Headphone.com Legacy', 'data', 'over-ear'),\n",
    "    output_dir=RESULTS_PATH.joinpath('Headphone.com Legacy', 'over-ear'),\n",
    "    target=TARGETS_PATH.joinpath('Headphone.com Legacy Harman over-ear 2018 without bass.csv'),\n",
    "    bass_boost_gain=6.0, bass_boost_fc=105, bass_boost_q=0.7,\n",
    "    new_only=False, **eq_kwargs)"
   ]
  },
  {
   "cell_type": "markdown",
   "id": "0433e2d2-bdc8-44e8-8a03-e6a83a795d7f",
   "metadata": {},
   "source": [
    "#### Headphone.com Legacy In-ear"
   ]
  },
  {
   "cell_type": "code",
   "execution_count": 22,
   "id": "2221cf95-b298-4c4a-a041-56a740d723e3",
   "metadata": {},
   "outputs": [
    {
     "data": {
      "application/vnd.jupyter.widget-view+json": {
       "model_id": "072970df6ec347e39e19e309d721649a",
       "version_major": 2,
       "version_minor": 0
      },
      "text/plain": [
       "  0%|          | 0/94 [00:00<?, ?it/s]"
      ]
     },
     "metadata": {},
     "output_type": "display_data"
    }
   ],
   "source": [
    "_ = batch_processing(\n",
    "    input_dir=MEASUREMENTS_PATH.joinpath('Headphone.com Legacy', 'data', 'in-ear'),\n",
    "    output_dir=RESULTS_PATH.joinpath('Headphone.com Legacy', 'in-ear'),\n",
    "    target=TARGETS_PATH.joinpath('Headphone.com Legacy AutoEq in-ear.csv'),\n",
    "    bass_boost_gain=9.5, bass_boost_fc=105, bass_boost_q=0.7,\n",
    "    new_only=False, **eq_kwargs)"
   ]
  },
  {
   "cell_type": "markdown",
   "id": "695f1c66-582e-4c5b-89a7-f31f1c7a6bb9",
   "metadata": {},
   "source": [
    "#### Headphone.com Legacy Earbud"
   ]
  },
  {
   "cell_type": "code",
   "execution_count": 23,
   "id": "c1e74a27-52aa-4cf4-876a-6f4b3b48b90f",
   "metadata": {},
   "outputs": [
    {
     "data": {
      "application/vnd.jupyter.widget-view+json": {
       "model_id": "19337acb067547b2b10f78ec42c4694e",
       "version_major": 2,
       "version_minor": 0
      },
      "text/plain": [
       "  0%|          | 0/10 [00:00<?, ?it/s]"
      ]
     },
     "metadata": {},
     "output_type": "display_data"
    }
   ],
   "source": [
    "_ = batch_processing(\n",
    "    input_dir=MEASUREMENTS_PATH.joinpath('Headphone.com Legacy', 'data', 'earbud'),\n",
    "    output_dir=RESULTS_PATH.joinpath('Headphone.com Legacy', 'earbud'),\n",
    "    target=TARGETS_PATH.joinpath('Headphone.com Legacy AutoEq in-ear.csv'),\n",
    "    bass_boost_gain=0.0, bass_boost_fc=105, bass_boost_q=0.7,\n",
    "    new_only=False, **eq_kwargs)"
   ]
  },
  {
   "cell_type": "markdown",
   "id": "5ecd61ed-e920-42f6-8d47-5a4c1ac46ad9",
   "metadata": {},
   "source": [
    "## Update Indexes\n",
    "Updates recommended results, full results, DB specific results, HeSuVi results and ranking table."
   ]
  },
  {
   "cell_type": "code",
   "execution_count": 26,
   "id": "67b4aa57-c478-47b5-b140-272ef4a93b07",
   "metadata": {},
   "outputs": [
    {
     "name": "stdout",
     "output_type": "stream",
     "text": [
      "Creating ranking index...\n"
     ]
    },
    {
     "data": {
      "application/vnd.jupyter.widget-view+json": {
       "model_id": "fb892af1e8254a47ab3748b114745520",
       "version_major": 2,
       "version_minor": 0
      },
      "text/plain": [
       "  0%|          | 0/3665 [00:00<?, ?it/s]"
      ]
     },
     "metadata": {},
     "output_type": "display_data"
    },
    {
     "name": "stdout",
     "output_type": "stream",
     "text": [
      "Creating recommendations index...\n",
      "Creating full index...\n",
      "Creating source indices...\n",
      "Creating HeSuVi ZIP archive...\n"
     ]
    },
    {
     "data": {
      "application/vnd.jupyter.widget-view+json": {
       "model_id": "da2931b8bf0d498a9bd8980925712ce6",
       "version_major": 2,
       "version_minor": 0
      },
      "text/plain": [
       "  0%|          | 0/3665 [00:00<?, ?it/s]"
      ]
     },
     "metadata": {},
     "output_type": "display_data"
    },
    {
     "name": "stderr",
     "output_type": "stream",
     "text": [
      "C:\\Users\\jaakko\\AppData\\Local\\Programs\\Python\\Python311\\Lib\\zipfile.py:1550: UserWarning: Duplicate name: 'eq/KBEAR/Neon.txt'\n",
      "  return self._open_to_write(zinfo, force_zip64=force_zip64)\n"
     ]
    }
   ],
   "source": [
    "update_all_indexes()"
   ]
  },
  {
   "cell_type": "markdown",
   "id": "2ede7f48-8934-4818-b9fd-6c069d3a3298",
   "metadata": {},
   "source": [
    "#### Data for webapp"
   ]
  },
  {
   "cell_type": "code",
   "execution_count": 57,
   "id": "32e220dc-060e-49dd-ad1b-1242035f29aa",
   "metadata": {},
   "outputs": [
    {
     "data": {
      "application/vnd.jupyter.widget-view+json": {
       "model_id": "d5a1b75e45584711887224758affb5e1",
       "version_major": 2,
       "version_minor": 0
      },
      "text/plain": [
       "  0%|          | 0/4599 [00:00<?, ?it/s]"
      ]
     },
     "metadata": {},
     "output_type": "display_data"
    }
   ],
   "source": [
    "write_entries_and_measurements()"
   ]
  },
  {
   "cell_type": "code",
   "execution_count": 27,
   "id": "84ed6470-af1c-4440-bdbc-46be77631397",
   "metadata": {},
   "outputs": [],
   "source": [
    "write_targets()"
   ]
  },
  {
   "cell_type": "markdown",
   "id": "c631045b-8097-4bef-b6f3-6af843e386fd",
   "metadata": {},
   "source": [
    "## Deploy\n",
    "1. Add files to Git, commit and push\n",
    "2. Upload webapp data to server"
   ]
  },
  {
   "cell_type": "markdown",
   "id": "073fa29d-2ba8-4776-a7a6-efee12965acc",
   "metadata": {},
   "source": [
    "# Sandbox\n",
    "Don't run these! Random exploration while developing."
   ]
  },
  {
   "cell_type": "code",
   "execution_count": 1,
   "id": "6e200ac4-dea1-483a-8900-92952c5c7514",
   "metadata": {},
   "outputs": [],
   "source": [
    "%load_ext autoreload\n",
    "%autoreload 2"
   ]
  },
  {
   "cell_type": "code",
   "execution_count": 11,
   "id": "065560de-640b-41d2-b84f-5544e6a74189",
   "metadata": {},
   "outputs": [],
   "source": [
    "from pathlib import Path\n",
    "from tqdm.auto import tqdm\n",
    "import re\n",
    "import requests\n",
    "from selenium.webdriver.common.by import By\n",
    "import json\n",
    "from bs4 import BeautifulSoup\n",
    "import numpy as np\n",
    "import json\n",
    "from autoeq.frequency_response import FrequencyResponse"
   ]
  },
  {
   "cell_type": "code",
   "execution_count": 32,
   "id": "28a2bb3c-416c-47a2-aa3d-a4d957ee4873",
   "metadata": {},
   "outputs": [],
   "source": [
    "crawler = CrinacleCrawler()"
   ]
  },
  {
   "cell_type": "code",
   "execution_count": 34,
   "id": "263983ec-075a-4ed1-b23e-a320b7f0e8d7",
   "metadata": {},
   "outputs": [],
   "source": [
    "crawler = Oratory1990Crawler(redownload=False)"
   ]
  },
  {
   "cell_type": "code",
   "execution_count": null,
   "id": "31de6e1e-0bb9-405b-9130-44a904fbaa2e",
   "metadata": {},
   "outputs": [],
   "source": [
    "crawler = RtingsCrawler()"
   ]
  },
  {
   "cell_type": "code",
   "execution_count": 86,
   "id": "c72e6a2b-0bf8-4af9-a3d6-2073c2414d28",
   "metadata": {},
   "outputs": [],
   "source": [
    "version = '1-2'\n",
    "html = requests.get(f'https://www.rtings.com/headphones/{version}/graph').text\n",
    "document = BeautifulSoup(html, 'html.parser')"
   ]
  },
  {
   "cell_type": "code",
   "execution_count": 87,
   "id": "5b44d1c3-2d71-4ce0-a1d1-244dbe4caf31",
   "metadata": {},
   "outputs": [],
   "source": [
    "test_bench = json.loads(document.find(class_='graph_tool_page').get('data-props'))['test_bench']"
   ]
  },
  {
   "cell_type": "code",
   "execution_count": 88,
   "id": "94868344-5909-4ec8-89a1-9e3759006c02",
   "metadata": {},
   "outputs": [
    {
     "data": {
      "text/plain": [
       "['name', 'id', 'comparable_products', 'tests']"
      ]
     },
     "execution_count": 88,
     "metadata": {},
     "output_type": "execute_result"
    }
   ],
   "source": [
    "list(test_bench.keys())"
   ]
  },
  {
   "cell_type": "code",
   "execution_count": 89,
   "id": "d8570b34-764b-42f1-830a-eab34ee3d279",
   "metadata": {},
   "outputs": [
    {
     "name": "stdout",
     "output_type": "stream",
     "text": [
      "2037 {'name': 'Bass', 'equivalent': ['436', '996', '1186', '2037', '3163']}\n",
      "2044 {'name': 'Mid', 'equivalent': ['437', '1007', '1197', '2044', '3170']}\n",
      "2050 {'name': 'Treble', 'equivalent': ['438', '1013', '1203', '2050', '3176']}\n",
      "2056 {'name': 'Consistency L', 'equivalent': ['569', '1019', '1209', '2056', '3185', '4007', '7913', '21560']}\n",
      "2057 {'name': 'Consistency R', 'equivalent': ['570', '1020', '1210', '2057', '3186', '4008', '7914', '21561']}\n",
      "2060 {'name': 'Raw FR L', 'equivalent': ['1344', '2060', '3182']}\n",
      "2061 {'name': 'Raw FR R', 'equivalent': ['1343', '2061', '3183']}\n",
      "2069 {'name': 'PRTF', 'equivalent': ['1965', '2069', '3196', '4021', '7950', '21598']}\n",
      "2074 {'name': 'Group Delay', 'equivalent': ['1621', '2074', '3189', '4014', '7943', '21590']}\n",
      "2075 {'name': 'Phase Response', 'equivalent': ['529', '1030', '1220', '2075', '3190', '4015']}\n",
      "2085 {'name': 'Distortion', 'equivalent': ['329', '1037', '1227', '2085']}\n",
      "2090 {'name': 'Noise Isolation', 'equivalent': ['349', '1054', '1244', '2090', '3209', '4053', '7981', '21630']}\n",
      "2097 {'name': 'Leakage', 'equivalent': ['353', '1061', '1251', '2097', '3217', '4060', '7988', '21638']}\n",
      "2102 {'name': 'Microphone Frequency Response', 'equivalent': ['379', '1065', '1255', '2102', '3227', '4070', '8001', '21651']}\n",
      "2112 {'name': 'SpNR', 'equivalent': ['385', '1072', '1262', '2112', '3235', '4078', '8010', '21660']}\n"
     ]
    }
   ],
   "source": [
    "known_test_ids = {test['id']: {'name': test['name'], 'equivalent': test['equivalent_test_ids']} for test in test_bench['tests']}\n",
    "for key, val in known_test_ids.items():\n",
    "    print(key, val)"
   ]
  },
  {
   "cell_type": "code",
   "execution_count": 90,
   "id": "b01e82a3-09ee-430b-8bb9-533782522c6d",
   "metadata": {},
   "outputs": [
    {
     "data": {
      "text/plain": [
       "{'329': {'name': 'AKG K391-NC', 'id': '234'},\n",
       " '349': {'name': 'AKG K391-NC', 'id': '234'},\n",
       " '353': {'name': 'AKG K391-NC', 'id': '234'},\n",
       " '436': {'name': 'AKG K391-NC', 'id': '234'},\n",
       " '437': {'name': 'AKG K391-NC', 'id': '234'},\n",
       " '438': {'name': 'AKG K391-NC', 'id': '234'},\n",
       " '529': {'name': 'AKG K391-NC', 'id': '234'},\n",
       " '569': {'name': 'AKG K391-NC', 'id': '234'},\n",
       " '570': {'name': 'AKG K391-NC', 'id': '234'}}"
      ]
     },
     "execution_count": 90,
     "metadata": {},
     "output_type": "execute_result"
    }
   ],
   "source": [
    "unknown_test_ids = {}\n",
    "for product in test_bench['comparable_products']:\n",
    "    test_ids = [test_result['test']['original_id'] for test_result in product['review']['test_results']]\n",
    "    for test_id in test_ids:\n",
    "        if test_id not in known_test_ids:\n",
    "            unknown_test_ids[test_id] = {'name': product['fullname'], 'id': product['id']}\n",
    "unknown_test_ids"
   ]
  },
  {
   "cell_type": "code",
   "execution_count": 91,
   "id": "7c0872c6-960a-4df7-a9fc-0535c1067688",
   "metadata": {},
   "outputs": [
    {
     "name": "stdout",
     "output_type": "stream",
     "text": [
      "329: {'data': {'product': {'review': {'test_results': [{'graph_data_url': '/assets/products/mcuBmpTu/graph-distortion.json'}]}}}}\n",
      "349: {'data': {'product': {'review': {'test_results': [{'graph_data_url': '/assets/products/l2VvLSvF/graph-isolation.json'}]}}}}\n",
      "353: {'data': {'product': {'review': {'test_results': [{'graph_data_url': '/assets/products/pPwMCFvC/graph-leakage.json'}]}}}}\n",
      "436: {'data': {'product': {'review': {'test_results': [{'graph_data_url': '/assets/products/liYFzpsm/graph-bass.json'}]}}}}\n",
      "437: {'data': {'product': {'review': {'test_results': [{'graph_data_url': '/assets/products/KhmOchbD/graph-mid.json'}]}}}}\n",
      "438: {'data': {'product': {'review': {'test_results': [{'graph_data_url': '/assets/products/wzSsQqzQ/graph-treble.json'}]}}}}\n",
      "529: {'data': {'product': {'review': {'test_results': [{'graph_data_url': '/assets/products/WsFGD2nr/graph-phase-response.json'}]}}}}\n",
      "569: {'data': {'product': {'review': {'test_results': [{'graph_data_url': '/assets/products/LK19W26h/graph-consistency-left.json'}]}}}}\n",
      "570: {'data': {'product': {'review': {'test_results': [{'graph_data_url': '/assets/products/TE1gjiEC/graph-consistency-right.json'}]}}}}\n"
     ]
    }
   ],
   "source": [
    "for test_id, product in unknown_test_ids.items():\n",
    "    res = requests.post('https://www.rtings.com/api/v2/safe/graph_tool__product_graph_data_url', data={\n",
    "        'named_version': 'public',\n",
    "        'product_id': product['id'],\n",
    "        'test_original_id': test_id,\n",
    "    })\n",
    "    print(f'{test_id}: {res.json()}')"
   ]
  }
 ],
 "metadata": {
  "kernelspec": {
   "display_name": "autoeq",
   "language": "python",
   "name": "autoeq"
  },
  "language_info": {
   "codemirror_mode": {
    "name": "ipython",
    "version": 3
   },
   "file_extension": ".py",
   "mimetype": "text/x-python",
   "name": "python",
   "nbconvert_exporter": "python",
   "pygments_lexer": "ipython3",
   "version": "3.11.6"
  }
 },
 "nbformat": 4,
 "nbformat_minor": 5
}

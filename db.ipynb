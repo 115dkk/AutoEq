{
 "cells": [
  {
   "cell_type": "code",
   "execution_count": 1,
   "id": "a99e7791-660c-49de-b312-5b99455a5a69",
   "metadata": {},
   "outputs": [],
   "source": [
    "%load_ext autoreload\n",
    "%autoreload 2"
   ]
  },
  {
   "cell_type": "code",
   "execution_count": 73,
   "id": "83685ae7-7f31-429c-baf9-8e0a458a53dd",
   "metadata": {},
   "outputs": [],
   "source": [
    "import sys\n",
    "from pathlib import Path\n",
    "from autoeq.constants import PEQ_CONFIGS\n",
    "from autoeq.batch_processing import batch_processing\n",
    "ROOT_PATH = Path().resolve()\n",
    "import ipywidgets as widgets\n",
    "from IPython.display import display\n",
    "from measurements.rtings.rtings_crawler import RtingsCrawler\n",
    "from measurements.crinacle.crinacle_crawler import CrinacleCrawler\n",
    "from measurements.oratory1990.oratory1990_crawler import Oratory1990Crawler\n",
    "from measurements.average import average_measurements\n",
    "from measurements.rename_measurements import rename_measurements\n",
    "from results.prune_results import prune_results\n",
    "from results.update_indexes import update_all_indexes\n",
    "from webapp.create_data import write_entries_and_measurements"
   ]
  },
  {
   "cell_type": "markdown",
   "id": "10681a98-09d8-483c-a64b-5a48ef64c4e1",
   "metadata": {},
   "source": [
    "## Crawling and Parsing\n",
    "Additional Python packages are required for processing the measurements:\n",
    "```bash\n",
    "python -m pip install -U -r measurements/dev-requirements.txt\n",
    "```\n",
    "\n",
    "Measurement crawlers require [Google Chrome](https://www.google.com/chrome/) installed and\n",
    "[ChromeDriver](https://googlechromelabs.github.io/chrome-for-testing/) binary in the measurements folder (or anywhere\n",
    "in the PATH).\n",
    "\n",
    "Measurement crawlers also require C++. This should be installed by default on Linux but on Windows you need to install\n",
    "Microsoft Visual Studio build tools for this. https://visualstudio.microsoft.com/downloads/ ->\n",
    "\"Tools for Visual Studio 2019\" -> \"Build Tools for Visual Studio 2019\".\n",
    "\n",
    "oratory1990 crawler requires Ghostscript installed: https://www.ghostscript.com/download/gsdnld.html"
   ]
  },
  {
   "cell_type": "markdown",
   "id": "23534877-debf-4b7d-b5c6-a6f03e82f0c5",
   "metadata": {},
   "source": [
    "### Crinacle\n",
    "Download measurement data from Drive folder to `measurements/crinacle/raw_data/` before running this!\n",
    "\n",
    "* `IEM Measurements/IEC60318-4 IEM Measurements (TSV txt)` into `AutoEq/measurements/crinacle/raw_data/IEC60318-4 IEM Measurements (TSV txt)`\n",
    "* `IEM Measurements/4620 IEM Measurements` into `AutoEq/measurements/crinacle/raw_data/4620 IEM Measurements`\n",
    "* `HP Measurements/EARS + 711 (TSV txt) (Legacy)` into `AutoEq/measurements/crinacle/raw_data/EARS + 711 (TSV txt) (Legacy)`\n",
    "* `GRAS 43AG-7` into `AutoEq/measurements/crinacle/raw_data/GRAS 43AG-7`"
   ]
  },
  {
   "cell_type": "code",
   "execution_count": 76,
   "id": "9a2fab6b-7cd9-445b-9cde-4c96414ee9d3",
   "metadata": {},
   "outputs": [
    {
     "data": {
      "application/vnd.jupyter.widget-view+json": {
       "model_id": "6bbe3fe7c85a429eac07c008744030e0",
       "version_major": 2,
       "version_minor": 0
      },
      "text/plain": [
       "HBox(children=(VBox(children=(Button(button_style='warning', description='Dusk S1 L.txt', layout=Layout(height…"
      ]
     },
     "metadata": {},
     "output_type": "display_data"
    }
   ],
   "source": [
    "crawler = CrinacleCrawler()\n",
    "crawler.run()\n",
    "display(crawler.widget)"
   ]
  },
  {
   "cell_type": "markdown",
   "id": "15198d83-4cc2-4136-ab77-c7150f161b1a",
   "metadata": {},
   "source": [
    "### oratory1990\n",
    "oratory1990 crawler fetches all measurements from https://www.reddit.com/r/oratory1990/wiki/index/list_of_presets/, downloads PDFs and reads the frequency response measurement data from the PDFs. Parsing the PDFs requires [Ghostscript](https://www.ghostscript.com/download/gsdnld.html) to be installed on the system."
   ]
  },
  {
   "cell_type": "code",
   "execution_count": 7,
   "id": "af79e6d2-2418-44dd-bebd-dfc5db9f2cee",
   "metadata": {},
   "outputs": [
    {
     "data": {
      "application/vnd.jupyter.widget-view+json": {
       "model_id": "c9771f7811204331a9c55d5cb0d4e342",
       "version_major": 2,
       "version_minor": 0
      },
      "text/plain": [
       "HBox(children=(VBox(),))"
      ]
     },
     "metadata": {},
     "output_type": "display_data"
    }
   ],
   "source": [
    "crawler = Oratory1990Crawler()\n",
    "crawler.process(new_only=True)\n",
    "display(crawler.widget)"
   ]
  },
  {
   "cell_type": "markdown",
   "id": "5d8bb0e4-7b99-4226-a085-02e0666bdbb7",
   "metadata": {},
   "source": [
    "### Rtings\n",
    "Rtings crawler fetches all measurements from https://www.rtings.com/headphones/1-5/graph and downloads and parses the JSON data files."
   ]
  },
  {
   "cell_type": "code",
   "execution_count": null,
   "id": "6815db55-e73a-4d48-ac98-509a7db96474",
   "metadata": {},
   "outputs": [],
   "source": [
    "crawler = RtingsCrawler()\n",
    "crawler.process()\n",
    "display(crawler.widget)"
   ]
  },
  {
   "cell_type": "markdown",
   "id": "c73d94ab-f636-4429-b2a9-88e73db27bc5",
   "metadata": {},
   "source": [
    "## Rename Measurements\n",
    "Sometimes measurements are named incorrectly or previously only one sample existed and now multiple samples have been measured and so the original one needs to be renamed as \"<name> (sample 1)\""
   ]
  },
  {
   "cell_type": "code",
   "execution_count": null,
   "id": "cf9ecf45-112b-4956-b057-60f7071fd2cc",
   "metadata": {},
   "outputs": [],
   "source": [
    "renames = [\n",
    "    {'old_name': '', 'new_name': '', 'dbs': ['']},\n",
    "]\n",
    "rename_measurements(renames, dry_run=False)"
   ]
  },
  {
   "cell_type": "markdown",
   "id": "dacbac18-6d4a-4f58-8f3b-af3700b5c895",
   "metadata": {},
   "source": [
    "## Prune Results\n",
    "Check if obsolete results (e.g. because of renaming) exist and remove them"
   ]
  },
  {
   "cell_type": "code",
   "execution_count": 87,
   "id": "319d03cb-98f6-4db2-a2b0-fa464942d7e0",
   "metadata": {},
   "outputs": [
    {
     "name": "stdout",
     "output_type": "stream",
     "text": [
      "Removed \"crinacle\\711 in-ear\\64 Audio A18s\"\n",
      "Removed \"crinacle\\711 in-ear\\64 Audio A18s (sample 1)\"\n",
      "Removed \"crinacle\\711 in-ear\\64 Audio A18s (sample 2)\"\n",
      "Removed \"crinacle\\711 in-ear\\64 Audio N8 (CIEM)\"\n",
      "Removed \"crinacle\\711 in-ear\\64 Audio N8 (CIEM) (sample 1)\"\n",
      "Removed \"crinacle\\711 in-ear\\64 Audio N8 (CIEM) (sample 2)\"\n",
      "Removed \"crinacle\\711 in-ear\\64 Audio N8 (CIEM) (sample 3)\"\n",
      "Removed \"crinacle\\711 in-ear\\64 Audio N8 (CIEM) (sample 6)\"\n",
      "Removed \"crinacle\\711 in-ear\\64 Audio N8 (m15 Apex module)\"\n",
      "Removed \"crinacle\\711 in-ear\\64 Audio N8 (m15 Apex module) (CIEM)\"\n",
      "Removed \"crinacle\\711 in-ear\\64 Audio N8 (m15 Apex module) (CIEM) (sample 2)\"\n",
      "Removed \"crinacle\\711 in-ear\\64 Audio N8 (m15 Apex module) (CIEM) (sample 3)\"\n",
      "Removed \"crinacle\\711 in-ear\\64 Audio N8 (m15 Apex module) (CIEM) (sample 4)\"\n",
      "Removed \"crinacle\\711 in-ear\\64 Audio N8 (m15 Apex module) (CIEM) (sample 5)\"\n",
      "Removed \"crinacle\\711 in-ear\\64 Audio N8 (m15 Apex module) (sample 1)\"\n",
      "Removed \"crinacle\\711 in-ear\\64 Audio N8 (m15 Apex module) (sample 3)\"\n",
      "Removed \"crinacle\\711 in-ear\\64 Audio N8 (m15 Apex module) (sample 4)\"\n",
      "Removed \"crinacle\\711 in-ear\\64 Audio Nio (m15 Apex module) (sample 1)\"\n",
      "Removed \"crinacle\\711 in-ear\\64 Audio Nio (m15 Apex module) (sample 2)\"\n",
      "Removed \"crinacle\\711 in-ear\\64 Audio Nio (m20 Apex module) (sample 2)\"\n",
      "Removed \"crinacle\\711 in-ear\\64 Audio Nio (mX module)\"\n",
      "Removed \"crinacle\\711 in-ear\\64 Audio Nio (mX module) (sample 1)\"\n",
      "Removed \"crinacle\\711 in-ear\\64 Audio Nio (mX module) (sample 2)\"\n",
      "Removed \"crinacle\\711 in-ear\\64 Audio Tia Fourte (sample 1)\"\n",
      "Removed \"crinacle\\711 in-ear\\64 Audio Tia Fourte (sample 2)\"\n",
      "Removed \"crinacle\\711 in-ear\\64 Audio tia Trio (sample 1)\"\n",
      "Removed \"crinacle\\711 in-ear\\64 Audio tia Trio (sample 2)\"\n",
      "Removed \"crinacle\\711 in-ear\\64 Audio U12t (sample 1)\"\n",
      "Removed \"crinacle\\711 in-ear\\64 Audio U12t (sample 3)\"\n",
      "Removed \"crinacle\\711 in-ear\\64 Audio U18Tzar (sample 1)\"\n",
      "Removed \"crinacle\\711 in-ear\\64 Audio U18Tzar (sample 2)\"\n",
      "Removed \"crinacle\\711 in-ear\\7Hz Salnotes Zero (sample 1)\"\n",
      "Removed \"crinacle\\711 in-ear\\7Hz Salnotes Zero (sample 2)\"\n",
      "Removed \"crinacle\\711 in-ear\\7Hz Salnotes Zero (sample 3)\"\n",
      "Removed \"crinacle\\711 in-ear\\7Hz x Crinacle Salnotes Dioko\"\n",
      "Removed \"crinacle\\711 in-ear\\7Hz x Crinacle Salnotes Dioko (sample 1)\"\n",
      "Removed \"crinacle\\711 in-ear\\7Hz x Crinacle Salnotes Dioko (sample 2)\"\n",
      "Removed \"crinacle\\711 in-ear\\AAW ASH\"\n",
      "Removed \"crinacle\\711 in-ear\\AAW ASH (sample 1)\"\n",
      "Removed \"crinacle\\711 in-ear\\AAW ASH (sample 2)\"\n",
      "Removed \"crinacle\\711 in-ear\\AAW Canary\"\n",
      "Removed \"crinacle\\711 in-ear\\AAW Canary (sample 1)\"\n",
      "Removed \"crinacle\\711 in-ear\\AAW Canary (sample 2)\"\n",
      "Removed \"crinacle\\711 in-ear\\Acoustune HS1004 (sample 1)\"\n",
      "Removed \"crinacle\\711 in-ear\\Acoustune HS1004 (sample 2)\"\n",
      "Removed \"crinacle\\711 in-ear\\Acoustune HS1501 (sample 1)\"\n",
      "Removed \"crinacle\\711 in-ear\\Acoustune HS1501 (sample 2)\"\n",
      "Removed \"crinacle\\711 in-ear\\Advanced GT3\"\n",
      "Removed \"crinacle\\711 in-ear\\Advanced GT3 Superbass\"\n",
      "Removed \"crinacle\\711 in-ear\\Apple AirPods Pro (sample 1)\"\n",
      "Removed \"crinacle\\711 in-ear\\Apple AirPods Pro (sample 2)\"\n",
      "Removed \"crinacle\\711 in-ear\\Astell & Kern T8iE\"\n",
      "Removed \"crinacle\\711 in-ear\\Astell & Kern T8iE (sample 1)\"\n",
      "Removed \"crinacle\\711 in-ear\\Astell & Kern T8iE (sample 2)\"\n",
      "Removed \"crinacle\\711 in-ear\\Audeze iSINE 10 (sample 1)\"\n",
      "Removed \"crinacle\\711 in-ear\\Audeze iSINE 10 (sample 2)\"\n",
      "Removed \"crinacle\\711 in-ear\\BLON BL-03 (sample 1)\"\n",
      "Removed \"crinacle\\711 in-ear\\BLON BL-03 (sample 3)\"\n",
      "Removed \"crinacle\\711 in-ear\\BQEYZ Spring 1 (mesh mod) (sample 2)\"\n",
      "Removed \"crinacle\\711 in-ear\\Brainwavz B400 (sample 1)\"\n",
      "Removed \"crinacle\\711 in-ear\\Brainwavz B400 (sample 2)\"\n",
      "Removed \"crinacle\\711 in-ear\\Campfire Audio Andromeda (sample 1)\"\n",
      "Removed \"crinacle\\711 in-ear\\Campfire Audio Andromeda (sample 2)\"\n",
      "Removed \"crinacle\\711 in-ear\\Campfire Audio Andromeda (sample 3)\"\n",
      "Removed \"crinacle\\711 in-ear\\Campfire Audio Atlas (sample 1)\"\n",
      "Removed \"crinacle\\711 in-ear\\Campfire Audio Atlas (sample 2)\"\n",
      "Removed \"crinacle\\711 in-ear\\Campfire Audio IO (sample 1)\"\n",
      "Removed \"crinacle\\711 in-ear\\Campfire Audio IO (sample 2)\"\n",
      "Removed \"crinacle\\711 in-ear\\Campfire Audio Polaris\"\n",
      "Removed \"crinacle\\711 in-ear\\Campfire Audio Polaris (sample 1)\"\n",
      "Removed \"crinacle\\711 in-ear\\Campfire Audio Polaris (sample 2)\"\n",
      "Removed \"crinacle\\711 in-ear\\Campfire Audio Solaris\"\n",
      "Removed \"crinacle\\711 in-ear\\Campfire Audio Solaris (sample 1)\"\n",
      "Removed \"crinacle\\711 in-ear\\Campfire Audio Solaris (sample 2)\"\n",
      "Removed \"crinacle\\711 in-ear\\Campfire Audio Solaris (sample 3)\"\n",
      "Removed \"crinacle\\711 in-ear\\Campfire Audio Solaris (sample 4)\"\n",
      "Removed \"crinacle\\711 in-ear\\Campfire Audio Solaris SE (sample 1)\"\n",
      "Removed \"crinacle\\711 in-ear\\Campfire Audio Solaris SE (sample 2)\"\n",
      "Removed \"crinacle\\711 in-ear\\Campfire Audio Vega\"\n",
      "Removed \"crinacle\\711 in-ear\\Campfire Audio Vega (sample 1)\"\n",
      "Removed \"crinacle\\711 in-ear\\Campfire Audio Vega (sample 2)\"\n",
      "Removed \"crinacle\\711 in-ear\\Clear Tune CT-500E\"\n",
      "Removed \"crinacle\\711 in-ear\\Clear Tune CT-500E (sample 1)\"\n",
      "Removed \"crinacle\\711 in-ear\\Clear Tune CT-500E (sample 2)\"\n",
      "Removed \"crinacle\\711 in-ear\\Clear Tune CT-6E (sample 1)\"\n",
      "Removed \"crinacle\\711 in-ear\\Clear Tune CT-6E (sample 2)\"\n",
      "Removed \"crinacle\\711 in-ear\\Dita Audio Dream (sample 1)\"\n",
      "Removed \"crinacle\\711 in-ear\\Dita Audio Dream (sample 2)\"\n",
      "Removed \"crinacle\\711 in-ear\\DUNU Zen Pro (sample 1)\"\n",
      "Removed \"crinacle\\711 in-ear\\DUNU Zen Pro (sample 2)\"\n",
      "Removed \"crinacle\\711 in-ear\\Effect Audio King Arthur (sample 1)\"\n",
      "Removed \"crinacle\\711 in-ear\\Effect Audio King Arthur (sample 2)\"\n",
      "Removed \"crinacle\\711 in-ear\\Elysian Annihilator\"\n",
      "Removed \"crinacle\\711 in-ear\\Elysian Annihilator (sample 1)\"\n",
      "Removed \"crinacle\\711 in-ear\\Elysian Annihilator (sample 2)\"\n",
      "Removed \"crinacle\\711 in-ear\\Elysian Terminator (sample 1)\"\n",
      "Removed \"crinacle\\711 in-ear\\Elysian Terminator V2 (sample 2)\"\n",
      "Removed \"crinacle\\711 in-ear\\Empire Ears Legend X (sample 1)\"\n",
      "Removed \"crinacle\\711 in-ear\\Empire Ears Legend X (sample 2)\"\n",
      "Removed \"crinacle\\711 in-ear\\Empire Ears Valkyrie Mk2\"\n",
      "Removed \"crinacle\\711 in-ear\\Empire Ears Zeus-R\"\n",
      "Removed \"crinacle\\711 in-ear\\Etymotic ER2XR (sample 1)\"\n",
      "Removed \"crinacle\\711 in-ear\\Etymotic ER2XR (sample 2)\"\n",
      "Removed \"crinacle\\711 in-ear\\Etymotic ER2XR (sample 3)\"\n",
      "Removed \"crinacle\\711 in-ear\\FAudio Minor (sample 1)\"\n",
      "Removed \"crinacle\\711 in-ear\\FAudio Minor (sample 2)\"\n",
      "Removed \"crinacle\\711 in-ear\\Fearless Audio Dawn (sample 2)\"\n",
      "Removed \"crinacle\\711 in-ear\\Fearless Audio Dawn (sample 3)\"\n",
      "Removed \"crinacle\\711 in-ear\\Fearless Audio S8F (sample 1)\"\n",
      "Removed \"crinacle\\711 in-ear\\Fearless Audio S8F (sample 2)\"\n",
      "Removed \"crinacle\\711 in-ear\\FiiO FH5 (sample 1)\"\n",
      "Removed \"crinacle\\711 in-ear\\FiiO FH5 (sample 2)\"\n",
      "Removed \"crinacle\\711 in-ear\\Final Audio E2000 (sample 1)\"\n",
      "Removed \"crinacle\\711 in-ear\\Final Audio E2000 (sample 2)\"\n",
      "Removed \"crinacle\\711 in-ear\\Final Audio E3000 (sample 2)\"\n",
      "Removed \"crinacle\\711 in-ear\\Final Audio E3000 (sample 3)\"\n",
      "Removed \"crinacle\\711 in-ear\\Final Audio E4000 (sample 1)\"\n",
      "Removed \"crinacle\\711 in-ear\\Final Audio E4000 (sample 2)\"\n",
      "Removed \"crinacle\\711 in-ear\\Final Audio E5000 (sample 1)\"\n",
      "Removed \"crinacle\\711 in-ear\\Final Audio E5000 (sample 2)\"\n",
      "Removed \"crinacle\\711 in-ear\\Fir Audio M2 (sample 1)\"\n",
      "Removed \"crinacle\\711 in-ear\\Fir Audio M2 (sample 2)\"\n",
      "Removed \"crinacle\\711 in-ear\\Fir Audio M3 (sample 1)\"\n",
      "Removed \"crinacle\\711 in-ear\\Fir Audio M3 (sample 2)\"\n",
      "Removed \"crinacle\\711 in-ear\\Fir Audio M3 (sample 3)\"\n",
      "Removed \"crinacle\\711 in-ear\\Fir Audio M3 (sample 4)\"\n",
      "Removed \"crinacle\\711 in-ear\\Fir Audio M4 (sample 1)\"\n",
      "Removed \"crinacle\\711 in-ear\\Fir Audio M4 (sample 2)\"\n",
      "Removed \"crinacle\\711 in-ear\\Fir Audio M4 (sample 3)\"\n",
      "Removed \"crinacle\\711 in-ear\\Fir Audio M4 (sample 4)\"\n",
      "Removed \"crinacle\\711 in-ear\\Fir Audio M4 (sample 5)\"\n",
      "Removed \"crinacle\\711 in-ear\\Fir Audio M5 (sample 1)\"\n",
      "Removed \"crinacle\\711 in-ear\\Fir Audio M5 (sample 2)\"\n",
      "Removed \"crinacle\\711 in-ear\\Fir Audio M5 (sample 3)\"\n",
      "Removed \"crinacle\\711 in-ear\\Fir Audio M5 (sample 4)\"\n",
      "Removed \"crinacle\\711 in-ear\\Fir Audio M5 (sample 5)\"\n",
      "Removed \"crinacle\\711 in-ear\\Fir Audio M5 (sample 7)\"\n",
      "Removed \"crinacle\\711 in-ear\\FitEar Parterre (sample 1)\"\n",
      "Removed \"crinacle\\711 in-ear\\FitEar Parterre (sample 2)\"\n",
      "Removed \"crinacle\\711 in-ear\\FitEar TG334 (sample 1)\"\n",
      "Removed \"crinacle\\711 in-ear\\FitEar TG334 (sample 2)\"\n",
      "Removed \"crinacle\\711 in-ear\\FitEar TG334 (sample 3)\"\n",
      "Removed \"crinacle\\711 in-ear\\FitEar Titan (sample 1)\"\n",
      "Removed \"crinacle\\711 in-ear\\FitEar Titan (sample 2)\"\n",
      "Removed \"crinacle\\711 in-ear\\HarmonicDyne PD1\"\n",
      "Removed \"crinacle\\711 in-ear\\HYLA CE-5 (sample 1)\"\n",
      "Removed \"crinacle\\711 in-ear\\HYLA CE-5 (sample 2)\"\n",
      "Removed \"crinacle\\711 in-ear\\iBasso IT01 (sample 1)\"\n",
      "Removed \"crinacle\\711 in-ear\\iBasso IT01 (sample 2)\"\n",
      "Removed \"crinacle\\711 in-ear\\IMR Acoustics R1 (black) (sample 1)\"\n",
      "Removed \"crinacle\\711 in-ear\\IMR Acoustics R1 (blue) (sample 2)\"\n",
      "Removed \"crinacle\\711 in-ear\\Jomo Audio Flamenco (bass, treble)\"\n",
      "Removed \"crinacle\\711 in-ear\\Jomo Audio Flamenco (bass, treble) (sample 1)\"\n",
      "Removed \"crinacle\\711 in-ear\\Jomo Audio Flamenco (bass, treble) (sample 2)\"\n",
      "Removed \"crinacle\\711 in-ear\\Jomo Audio Flamenco (sample 1)\"\n",
      "Removed \"crinacle\\711 in-ear\\Jomo Audio Flamenco (sample 2)\"\n",
      "Removed \"crinacle\\711 in-ear\\Kinera Idun (sample 1)\"\n",
      "Removed \"crinacle\\711 in-ear\\Kinera Idun (sample 2)\"\n",
      "Removed \"crinacle\\711 in-ear\\Klipsch HP3\"\n",
      "Removed \"crinacle\\711 in-ear\\Kumitate Lab KL-Corona (sample 1)\"\n",
      "Removed \"crinacle\\711 in-ear\\Kumitate Lab KL-Corona (sample 2)\"\n",
      "Removed \"crinacle\\711 in-ear\\KZ DQ6 (sample 1)\"\n",
      "Removed \"crinacle\\711 in-ear\\KZ DQ6 (sample 2)\"\n",
      "Removed \"crinacle\\711 in-ear\\KZ EDX Pro (sample 1)\"\n",
      "Removed \"crinacle\\711 in-ear\\KZ EDX Pro (sample 2)\"\n",
      "Removed \"crinacle\\711 in-ear\\KZ x Crinacle CRN (ZEX Pro)\"\n",
      "Removed \"crinacle\\711 in-ear\\KZ ZS5v1 (sample 1)\"\n",
      "Removed \"crinacle\\711 in-ear\\KZ ZS5v1 (sample 2)\"\n",
      "Removed \"crinacle\\711 in-ear\\KZ ZSX (sample 1)\"\n",
      "Removed \"crinacle\\711 in-ear\\KZ ZSX (sample 2)\"\n",
      "Removed \"crinacle\\711 in-ear\\Lime Ears Model X\"\n",
      "Removed \"crinacle\\711 in-ear\\Lime Ears Model X (bass)\"\n",
      "Removed \"crinacle\\711 in-ear\\Lime Ears Model X (bass) (sample 1)\"\n",
      "Removed \"crinacle\\711 in-ear\\Lime Ears Model X (bass) (sample 2)\"\n",
      "Removed \"crinacle\\711 in-ear\\Lime Ears Model X (sample 1)\"\n",
      "Removed \"crinacle\\711 in-ear\\Lime Ears Model X (sample 2)\"\n",
      "Removed \"crinacle\\711 in-ear\\Mangird XENNS UP\"\n",
      "Removed \"crinacle\\711 in-ear\\Massdrop Plus Universal IEM (sample 1)\"\n",
      "Removed \"crinacle\\711 in-ear\\Massdrop Plus Universal IEM (sample 2)\"\n",
      "Removed \"crinacle\\711 in-ear\\Moondrop Blessing 2 (sample 1)\"\n",
      "Removed \"crinacle\\711 in-ear\\Moondrop Blessing 2 (sample 2)\"\n",
      "Removed \"crinacle\\711 in-ear\\Moondrop x Crinacle Blessing2 Dusk\"\n",
      "Removed \"crinacle\\711 in-ear\\Moondrop x Crinacle Blessing2 Dusk (sample 1)\"\n",
      "Removed \"crinacle\\711 in-ear\\Moondrop x Crinacle Blessing2 Dusk (sample 2)\"\n",
      "Removed \"crinacle\\711 in-ear\\Moondrop x Crinacle Blessing2 Dusk (sample 3)\"\n",
      "Removed \"crinacle\\711 in-ear\\Moondrop x Crinacle Blessing2 Dusk (sample 4)\"\n",
      "Removed \"crinacle\\711 in-ear\\Moondrop x Crinacle Blessing2 Dusk (sample 5)\"\n",
      "Removed \"crinacle\\711 in-ear\\Noble Audio Khan (sample 1)\"\n",
      "Removed \"crinacle\\711 in-ear\\oBravo Cupid (sample 1)\"\n",
      "Removed \"crinacle\\711 in-ear\\oBravo Cupid (sample 2)\"\n",
      "Removed \"crinacle\\711 in-ear\\oBravo Cupid (sample 3)\"\n",
      "Removed \"crinacle\\711 in-ear\\oBravo Cupid (sample 4)\"\n",
      "Removed \"crinacle\\711 in-ear\\Ocharaku Co-Donguri Shizuku (sample 1)\"\n",
      "Removed \"crinacle\\711 in-ear\\Ocharaku Co-Donguri Shizuku (sample 2)\"\n",
      "Removed \"crinacle\\711 in-ear\\Oriolus Forsteni (sample 1)\"\n",
      "Removed \"crinacle\\711 in-ear\\Oriolus Forsteni (sample 2)\"\n",
      "Removed \"crinacle\\711 in-ear\\Oriolus Japan Mk2\"\n",
      "Removed \"crinacle\\711 in-ear\\Oriolus Japan Mk2 (sample 1)\"\n",
      "Removed \"crinacle\\711 in-ear\\Oriolus Japan Mk2 (sample 2)\"\n",
      "Removed \"crinacle\\711 in-ear\\Oriolus Japan Mk2 (sample 3)\"\n",
      "Removed \"crinacle\\711 in-ear\\PEARS SH3 (sample 1)\"\n",
      "Removed \"crinacle\\711 in-ear\\PEARS SH3 (sample 2)\"\n",
      "Removed \"crinacle\\711 in-ear\\Prisma Azul\"\n",
      "Removed \"crinacle\\711 in-ear\\qdc 8SL (sample 1)\"\n",
      "Removed \"crinacle\\711 in-ear\\qdc 8SL (sample 2)\"\n",
      "Removed \"crinacle\\711 in-ear\\QKZ VK4\"\n",
      "Removed \"crinacle\\711 in-ear\\QKZ VK4 (revised) (sample 1)\"\n",
      "Removed \"crinacle\\711 in-ear\\QKZ VK4 (revised) (sample 2)\"\n",
      "Removed \"crinacle\\711 in-ear\\QKZ VK4 (sample 1)\"\n",
      "Removed \"crinacle\\711 in-ear\\QKZ VK4 (sample 2)\"\n",
      "Removed \"crinacle\\711 in-ear\\QKZ VK4 Revised\"\n",
      "Removed \"crinacle\\711 in-ear\\Queen of Audio Pink Lady (sample 1)\"\n",
      "Removed \"crinacle\\711 in-ear\\Queen of Audio Pink Lady (sample 2)\"\n",
      "Removed \"crinacle\\711 in-ear\\Samsung Galaxy Buds2 Pro (bass boost EQ, ANC mode)\"\n",
      "Removed \"crinacle\\711 in-ear\\Samsung Galaxy Buds2 Pro (blear EQ, ANC mode)\"\n",
      "Removed \"crinacle\\711 in-ear\\Samsung Galaxy Buds2 Pro (dynamic EQ, ANC mode)\"\n",
      "Removed \"crinacle\\711 in-ear\\Samsung Galaxy Buds2 Pro (soft EQ, ANC mode)\"\n",
      "Removed \"crinacle\\711 in-ear\\Samsung Galaxy Buds2 Pro (treble boost EQ, ANC mode)\"\n",
      "Removed \"crinacle\\711 in-ear\\Samsung Galaxy Buds2 Pro (treble boost EQ, ANC mode) (sample 1)\"\n",
      "Removed \"crinacle\\711 in-ear\\Sennheiser HD 800\"\n",
      "Removed \"crinacle\\711 in-ear\\Sennheiser HD 800 (sample 1)\"\n",
      "Removed \"crinacle\\711 in-ear\\Shozy & Neo BG\"\n",
      "Removed \"crinacle\\711 in-ear\\Shozy & Neo BG (sample 1)\"\n",
      "Removed \"crinacle\\711 in-ear\\Shozy & Neo BG (sample 2)\"\n",
      "Removed \"crinacle\\711 in-ear\\Shozy x AAW Pola (sample 1)\"\n",
      "Removed \"crinacle\\711 in-ear\\Shure KSE1200 (sample 1)\"\n",
      "Removed \"crinacle\\711 in-ear\\Shure KSE1200 (sample 2)\"\n",
      "Removed \"crinacle\\711 in-ear\\Shure SE846 (black) (sample 1)\"\n",
      "Removed \"crinacle\\711 in-ear\\Shure SE846 (black) (sample 2)\"\n",
      "Removed \"crinacle\\711 in-ear\\Sony IER-M9 (sample 1)\"\n",
      "Removed \"crinacle\\711 in-ear\\Sony IER-M9 (sample 2)\"\n",
      "Removed \"crinacle\\711 in-ear\\Sony IER-Z1R (sample 1)\"\n",
      "Removed \"crinacle\\711 in-ear\\Sony IER-Z1R (sample 2)\"\n",
      "Removed \"crinacle\\711 in-ear\\Sony IER-Z1R (sample 3)\"\n",
      "Removed \"crinacle\\711 in-ear\\Sony IER-Z1R (sample 4)\"\n",
      "Removed \"crinacle\\711 in-ear\\Sony IER-Z1R (sample 5)\"\n",
      "Removed \"crinacle\\711 in-ear\\Sony IER-Z1R (sample 6)\"\n",
      "Removed \"crinacle\\711 in-ear\\Sony IER-Z1R (sample 7)\"\n",
      "Removed \"crinacle\\711 in-ear\\Sony MDR-3\"\n",
      "Removed \"crinacle\\711 in-ear\\Sony MDR-7550 (sample 1)\"\n",
      "Removed \"crinacle\\711 in-ear\\Sony MDR-7550 (sample 2)\"\n",
      "Removed \"crinacle\\711 in-ear\\Sony MDR-AS800\"\n",
      "Removed \"crinacle\\711 in-ear\\Sony MDR-CD2000\"\n",
      "Removed \"crinacle\\711 in-ear\\Sony MDR-EX1000 (sample 1)\"\n",
      "Removed \"crinacle\\711 in-ear\\Sony MDR-EX1000 (sample 2)\"\n",
      "Removed \"crinacle\\711 in-ear\\Sony MDR-EX1000 (sample 3)\"\n",
      "Removed \"crinacle\\711 in-ear\\Sony MDR-EX1000 (sample 4)\"\n",
      "Removed \"crinacle\\711 in-ear\\Sony MDR-EX1000 (sample 6)\"\n",
      "Removed \"crinacle\\711 in-ear\\Sony MDR-EX800ST (sample 1)\"\n",
      "Removed \"crinacle\\711 in-ear\\Sony MDR-EX800ST (sample 2)\"\n",
      "Removed \"crinacle\\711 in-ear\\Sony MDR-EX800ST (sample 3)\"\n",
      "Removed \"crinacle\\711 in-ear\\Sony MH755 (sample 1)\"\n",
      "Removed \"crinacle\\711 in-ear\\Sony MH755 (sample 2)\"\n",
      "Removed \"crinacle\\711 in-ear\\Sony MH755 (sample 3)\"\n",
      "Removed \"crinacle\\711 in-ear\\Sony MH755 (sample 4)\"\n",
      "Removed \"crinacle\\711 in-ear\\Sony MH755 (sample 5)\"\n",
      "Removed \"crinacle\\711 in-ear\\Sony XBA-40\"\n",
      "Removed \"crinacle\\711 in-ear\\Sony XBA-A3 (sample 1)\"\n",
      "Removed \"crinacle\\711 in-ear\\Sony XBA-A3 (sample 3)\"\n",
      "Removed \"crinacle\\711 in-ear\\Sound Linear Fitz 10 Flat (sample 1)\"\n",
      "Removed \"crinacle\\711 in-ear\\Sound Linear Fitz 10 Flat (sample 2)\"\n",
      "Removed \"crinacle\\711 in-ear\\Spiral Ear SE5U\"\n",
      "Removed \"crinacle\\711 in-ear\\Spiral Ear SE5U (sample 1)\"\n",
      "Removed \"crinacle\\711 in-ear\\Spiral Ear SE5U (sample 2)\"\n",
      "Removed \"crinacle\\711 in-ear\\ThieAudio Legacy 3 (on-off)\"\n",
      "Removed \"crinacle\\711 in-ear\\Tin HiFi T2 Plus (sample 1)\"\n",
      "Removed \"crinacle\\711 in-ear\\Tin HiFi T2 Plus (sample 2)\"\n",
      "Removed \"crinacle\\711 in-ear\\Truthear x Crinacle Zero (sample 10)\"\n",
      "Removed \"crinacle\\711 in-ear\\Truthear x Crinacle Zero (sample 2)\"\n",
      "Removed \"crinacle\\711 in-ear\\Truthear x Crinacle Zero (sample 3)\"\n",
      "Removed \"crinacle\\711 in-ear\\Truthear x Crinacle Zero (sample 4)\"\n",
      "Removed \"crinacle\\711 in-ear\\Truthear x Crinacle Zero (sample 5)\"\n",
      "Removed \"crinacle\\711 in-ear\\Truthear x Crinacle Zero (sample 6)\"\n",
      "Removed \"crinacle\\711 in-ear\\Truthear x Crinacle Zero (sample 7)\"\n",
      "Removed \"crinacle\\711 in-ear\\Truthear x Crinacle Zero (sample 8)\"\n",
      "Removed \"crinacle\\711 in-ear\\Truthear x Crinacle Zero (sample 9)\"\n",
      "Removed \"crinacle\\711 in-ear\\Truthear x Crinacle Zero RED (10 ohm resistor)\"\n",
      "Removed \"crinacle\\711 in-ear\\Truthear x Crinacle Zero RED (10 ohm resistor) (sample 1)\"\n",
      "Removed \"crinacle\\711 in-ear\\Truthear x Crinacle Zero RED (10 ohm resistor) (sample 10)\"\n",
      "Removed \"crinacle\\711 in-ear\\Truthear x Crinacle Zero RED (10 ohm resistor) (sample 2)\"\n",
      "Removed \"crinacle\\711 in-ear\\Truthear x Crinacle Zero RED (10 ohm resistor) (sample 3)\"\n",
      "Removed \"crinacle\\711 in-ear\\Truthear x Crinacle Zero RED (10 ohm resistor) (sample 4)\"\n",
      "Removed \"crinacle\\711 in-ear\\Truthear x Crinacle Zero RED (10 ohm resistor) (sample 5)\"\n",
      "Removed \"crinacle\\711 in-ear\\Truthear x Crinacle Zero RED (10 ohm resistor) (sample 6)\"\n",
      "Removed \"crinacle\\711 in-ear\\Truthear x Crinacle Zero RED (10 ohm resistor) (sample 7)\"\n",
      "Removed \"crinacle\\711 in-ear\\Truthear x Crinacle Zero RED (10 ohm resistor) (sample 8)\"\n",
      "Removed \"crinacle\\711 in-ear\\Truthear x Crinacle Zero RED (10 ohm resistor) (sample 9)\"\n",
      "Removed \"crinacle\\711 in-ear\\Truthear x Crinacle Zero RED (sample 1)\"\n",
      "Removed \"crinacle\\711 in-ear\\Truthear x Crinacle Zero RED (sample 10)\"\n",
      "Removed \"crinacle\\711 in-ear\\Truthear x Crinacle Zero RED (sample 2)\"\n",
      "Removed \"crinacle\\711 in-ear\\Truthear x Crinacle Zero RED (sample 3)\"\n",
      "Removed \"crinacle\\711 in-ear\\Truthear x Crinacle Zero RED (sample 4)\"\n",
      "Removed \"crinacle\\711 in-ear\\Truthear x Crinacle Zero RED (sample 5)\"\n",
      "Removed \"crinacle\\711 in-ear\\Truthear x Crinacle Zero RED (sample 6)\"\n",
      "Removed \"crinacle\\711 in-ear\\Truthear x Crinacle Zero RED (sample 7)\"\n",
      "Removed \"crinacle\\711 in-ear\\Truthear x Crinacle Zero RED (sample 8)\"\n",
      "Removed \"crinacle\\711 in-ear\\Truthear x Crinacle Zero RED (sample 9)\"\n",
      "Removed \"crinacle\\711 in-ear\\Ultimate Ears Live (sample 2)\"\n",
      "Removed \"crinacle\\711 in-ear\\Ultimate Ears UE18+\"\n",
      "Removed \"crinacle\\711 in-ear\\Ultimate Ears UE18+ (sample 1)\"\n",
      "Removed \"crinacle\\711 in-ear\\Ultimate Ears UE18+ (sample 2)\"\n",
      "Removed \"crinacle\\711 in-ear\\Ultimate Ears UE18+ (sample 3)\"\n",
      "Removed \"crinacle\\711 in-ear\\Ultimate Ears UE18+ 3rd Gen\"\n",
      "Removed \"crinacle\\711 in-ear\\Vision Ears VE3.2 (CIEM)\"\n",
      "Removed \"crinacle\\711 in-ear\\Vision Ears VE3.2 (sample 1)\"\n",
      "Removed \"crinacle\\711 in-ear\\Vision Ears VE3.2 (sample 2)\"\n",
      "Removed \"crinacle\\711 in-ear\\VSonic VC02\"\n",
      "Removed \"crinacle\\711 in-ear\\Warbler Prelude (sample 1)\"\n",
      "Removed \"crinacle\\711 in-ear\\Warbler Prelude (sample 2)\"\n",
      "Removed \"crinacle\\711 in-ear\\Xenns Mangird Tea 2\"\n",
      "Removed \"crinacle\\711 in-ear\\ZMF Verite\"\n",
      "Removed \"crinacle\\Bruel & Kjaer 4620 in-ear\\Truthear x Crinacle Zero (sample 1)\"\n",
      "Removed \"crinacle\\Bruel & Kjaer 4620 in-ear\\Truthear x Crinacle Zero RED (10 ohm resistor)\"\n",
      "Removed \"crinacle\\Bruel & Kjaer 4620 in-ear\\Truthear x Crinacle Zero RED (10 ohm resistor) (sample 1)\"\n",
      "Removed \"crinacle\\Bruel & Kjaer 4620 in-ear\\Truthear x Crinacle Zero RED (10 ohm resistor) (sample 10)\"\n",
      "Removed \"crinacle\\Bruel & Kjaer 4620 in-ear\\Truthear x Crinacle Zero RED (10 ohm resistor) (sample 2)\"\n",
      "Removed \"crinacle\\Bruel & Kjaer 4620 in-ear\\Truthear x Crinacle Zero RED (10 ohm resistor) (sample 3)\"\n",
      "Removed \"crinacle\\Bruel & Kjaer 4620 in-ear\\Truthear x Crinacle Zero RED (10 ohm resistor) (sample 4)\"\n",
      "Removed \"crinacle\\Bruel & Kjaer 4620 in-ear\\Truthear x Crinacle Zero RED (10 ohm resistor) (sample 5)\"\n",
      "Removed \"crinacle\\Bruel & Kjaer 4620 in-ear\\Truthear x Crinacle Zero RED (10 ohm resistor) (sample 6)\"\n",
      "Removed \"crinacle\\Bruel & Kjaer 4620 in-ear\\Truthear x Crinacle Zero RED (10 ohm resistor) (sample 7)\"\n",
      "Removed \"crinacle\\Bruel & Kjaer 4620 in-ear\\Truthear x Crinacle Zero RED (10 ohm resistor) (sample 8)\"\n",
      "Removed \"crinacle\\Bruel & Kjaer 4620 in-ear\\Truthear x Crinacle Zero RED (10 ohm resistor) (sample 9)\"\n",
      "Removed \"crinacle\\Bruel & Kjaer 4620 in-ear\\Truthear x Crinacle Zero RED (sample 1)\"\n",
      "Removed \"crinacle\\Bruel & Kjaer 4620 in-ear\\Truthear x Crinacle Zero RED (sample 10)\"\n",
      "Removed \"crinacle\\Bruel & Kjaer 4620 in-ear\\Truthear x Crinacle Zero RED (sample 2)\"\n",
      "Removed \"crinacle\\Bruel & Kjaer 4620 in-ear\\Truthear x Crinacle Zero RED (sample 3)\"\n",
      "Removed \"crinacle\\Bruel & Kjaer 4620 in-ear\\Truthear x Crinacle Zero RED (sample 4)\"\n",
      "Removed \"crinacle\\Bruel & Kjaer 4620 in-ear\\Truthear x Crinacle Zero RED (sample 5)\"\n",
      "Removed \"crinacle\\Bruel & Kjaer 4620 in-ear\\Truthear x Crinacle Zero RED (sample 6)\"\n",
      "Removed \"crinacle\\Bruel & Kjaer 4620 in-ear\\Truthear x Crinacle Zero RED (sample 7)\"\n",
      "Removed \"crinacle\\Bruel & Kjaer 4620 in-ear\\Truthear x Crinacle Zero RED (sample 8)\"\n",
      "Removed \"crinacle\\Bruel & Kjaer 4620 in-ear\\Truthear x Crinacle Zero RED (sample 9)\"\n",
      "Removed \"crinacle\\Bruel & Kjaer 4620 in-ear\\UFOear UFO-112 (sample 1)\"\n",
      "Removed \"crinacle\\EARS + 711 over-ear\\Sennheiser HD 800 (SDR mod) (sample 2)\"\n",
      "Removed \"crinacle\\GRAS 43AG-7 over-ear\\1MORE MK801\"\n",
      "Removed \"crinacle\\GRAS 43AG-7 over-ear\\Abyss AB-1266 Phi\"\n",
      "Removed \"crinacle\\GRAS 43AG-7 over-ear\\Abyss AB-1266 Phi CC\"\n",
      "Removed \"crinacle\\GRAS 43AG-7 over-ear\\Abyss Diana Phi\"\n",
      "Removed \"crinacle\\GRAS 43AG-7 over-ear\\Abyss Diana V2\"\n",
      "Removed \"crinacle\\GRAS 43AG-7 over-ear\\Acoustic Research AR-H1\"\n",
      "Removed \"crinacle\\GRAS 43AG-7 over-ear\\AKG K240 Studio\"\n",
      "Removed \"crinacle\\GRAS 43AG-7 over-ear\\AKG K371\"\n",
      "Removed \"crinacle\\GRAS 43AG-7 over-ear\\AKG K52\"\n",
      "Removed \"crinacle\\GRAS 43AG-7 over-ear\\AKG K612 Pro\"\n",
      "Removed \"crinacle\\GRAS 43AG-7 over-ear\\AKG K701\"\n",
      "Removed \"crinacle\\GRAS 43AG-7 over-ear\\AKG K702\"\n",
      "Removed \"crinacle\\GRAS 43AG-7 over-ear\\AKG K712\"\n",
      "Removed \"crinacle\\GRAS 43AG-7 over-ear\\AKG K72\"\n",
      "Removed \"crinacle\\GRAS 43AG-7 over-ear\\AKG K7XX\"\n",
      "Removed \"crinacle\\GRAS 43AG-7 over-ear\\AKG K812\"\n",
      "Removed \"crinacle\\GRAS 43AG-7 over-ear\\AKG K872 Pro\"\n",
      "Removed \"crinacle\\GRAS 43AG-7 over-ear\\AKG K92\"\n",
      "Removed \"crinacle\\GRAS 43AG-7 over-ear\\AKG N700NC M2\"\n",
      "Removed \"crinacle\\GRAS 43AG-7 over-ear\\Altiat Cal.1H\"\n",
      "Removed \"crinacle\\GRAS 43AG-7 over-ear\\Apple AirPods Max\"\n",
      "Removed \"crinacle\\GRAS 43AG-7 over-ear\\ASTRO Gaming A40 TR\"\n",
      "Removed \"crinacle\\GRAS 43AG-7 over-ear\\Audeze CRBN\"\n",
      "Removed \"crinacle\\GRAS 43AG-7 over-ear\\Audeze CRBN (sample 1)\"\n",
      "Removed \"crinacle\\GRAS 43AG-7 over-ear\\Audeze CRBN (sample 2)\"\n",
      "Removed \"crinacle\\GRAS 43AG-7 over-ear\\Audeze LCD-1\"\n",
      "Removed \"crinacle\\GRAS 43AG-7 over-ear\\Audeze LCD-2\"\n",
      "Removed \"crinacle\\GRAS 43AG-7 over-ear\\Audeze LCD-2 Classic\"\n",
      "Removed \"crinacle\\GRAS 43AG-7 over-ear\\Audeze LCD-2 Closed Back\"\n",
      "Removed \"crinacle\\GRAS 43AG-7 over-ear\\Audeze LCD-24\"\n",
      "Removed \"crinacle\\GRAS 43AG-7 over-ear\\Audeze LCD-3\"\n",
      "Removed \"crinacle\\GRAS 43AG-7 over-ear\\Audeze LCD-4\"\n",
      "Removed \"crinacle\\GRAS 43AG-7 over-ear\\Audeze LCD-5\"\n",
      "Removed \"crinacle\\GRAS 43AG-7 over-ear\\Audeze LCD-GX\"\n",
      "Removed \"crinacle\\GRAS 43AG-7 over-ear\\Audeze LCD-MX4\"\n",
      "Removed \"crinacle\\GRAS 43AG-7 over-ear\\Audeze LCD-R\"\n",
      "Removed \"crinacle\\GRAS 43AG-7 over-ear\\Audeze LCD-X (2021)\"\n",
      "Removed \"crinacle\\GRAS 43AG-7 over-ear\\Audeze LCD-X (pre-2021)\"\n",
      "Removed \"crinacle\\GRAS 43AG-7 over-ear\\Audeze LCD-X (pre-2021) (worn earpads)\"\n",
      "Removed \"crinacle\\GRAS 43AG-7 over-ear\\Audeze LCD-XC\"\n",
      "Removed \"crinacle\\GRAS 43AG-7 over-ear\\Audeze MM-500\"\n",
      "Removed \"crinacle\\GRAS 43AG-7 over-ear\\Audeze Mobius (ballistics preset)\"\n",
      "Removed \"crinacle\\GRAS 43AG-7 over-ear\\Audeze Mobius (default preset)\"\n",
      "Removed \"crinacle\\GRAS 43AG-7 over-ear\\Audeze Mobius (flat preset)\"\n",
      "Removed \"crinacle\\GRAS 43AG-7 over-ear\\Audeze Mobius (footsteps preset)\"\n",
      "Removed \"crinacle\\GRAS 43AG-7 over-ear\\Audeze Mobius (music preset)\"\n",
      "Removed \"crinacle\\GRAS 43AG-7 over-ear\\Audeze Mobius (racing preset)\"\n",
      "Removed \"crinacle\\GRAS 43AG-7 over-ear\\Audeze Mobius (RPG preset)\"\n",
      "Removed \"crinacle\\GRAS 43AG-7 over-ear\\Audeze SINE DX\"\n",
      "Removed \"crinacle\\GRAS 43AG-7 over-ear\\Audio-Technica ATH-A1000Z\"\n",
      "Removed \"crinacle\\GRAS 43AG-7 over-ear\\Audio-Technica ATH-A2000X\"\n",
      "Removed \"crinacle\\GRAS 43AG-7 over-ear\\Audio-Technica ATH-A2000Z\"\n",
      "Removed \"crinacle\\GRAS 43AG-7 over-ear\\Audio-Technica ATH-A900X\"\n",
      "Removed \"crinacle\\GRAS 43AG-7 over-ear\\Audio-Technica ATH-A990Z\"\n",
      "Removed \"crinacle\\GRAS 43AG-7 over-ear\\Audio-Technica ATH-AD1000X\"\n",
      "Removed \"crinacle\\GRAS 43AG-7 over-ear\\Audio-Technica ATH-AD2000\"\n",
      "Removed \"crinacle\\GRAS 43AG-7 over-ear\\Audio-Technica ATH-AD500X\"\n",
      "Removed \"crinacle\\GRAS 43AG-7 over-ear\\Audio-Technica ATH-AD700X\"\n",
      "Removed \"crinacle\\GRAS 43AG-7 over-ear\\Audio-Technica ATH-AD900X\"\n",
      "Removed \"crinacle\\GRAS 43AG-7 over-ear\\Audio-Technica ATH-ADX5000\"\n",
      "Removed \"crinacle\\GRAS 43AG-7 over-ear\\Audio-Technica ATH-ADX5000 (Dekoni elite sheepskin earpads)\"\n",
      "Removed \"crinacle\\GRAS 43AG-7 over-ear\\Audio-Technica ATH-ADX5000 (Dekoni fenestrated sheepskin earpads)\"\n",
      "Removed \"crinacle\\GRAS 43AG-7 over-ear\\Audio-Technica ATH-ADX5000 (Yaxi A2000Z,AD2000X earpads)\"\n",
      "Removed \"crinacle\\GRAS 43AG-7 over-ear\\Audio-Technica ATH-AWAS\"\n",
      "Removed \"crinacle\\GRAS 43AG-7 over-ear\\Audio-Technica ATH-AWKT\"\n",
      "Removed \"crinacle\\GRAS 43AG-7 over-ear\\Audio-Technica ATH-EW9\"\n",
      "Removed \"crinacle\\GRAS 43AG-7 over-ear\\Audio-Technica ATH-G1\"\n",
      "Removed \"crinacle\\GRAS 43AG-7 over-ear\\Audio-Technica ATH-L5000\"\n",
      "Removed \"crinacle\\GRAS 43AG-7 over-ear\\Audio-Technica ATH-M40x\"\n",
      "Removed \"crinacle\\GRAS 43AG-7 over-ear\\Audio-Technica ATH-M50x\"\n",
      "Removed \"crinacle\\GRAS 43AG-7 over-ear\\Audio-Technica ATH-M50x (sample 1)\"\n",
      "Removed \"crinacle\\GRAS 43AG-7 over-ear\\Audio-Technica ATH-M50x (sample 2)\"\n",
      "Removed \"crinacle\\GRAS 43AG-7 over-ear\\Audio-Technica ATH-M50xBT\"\n",
      "Removed \"crinacle\\GRAS 43AG-7 over-ear\\Audio-Technica ATH-M70x\"\n",
      "Removed \"crinacle\\GRAS 43AG-7 over-ear\\Audio-Technica ATH-MSR7b\"\n",
      "Removed \"crinacle\\GRAS 43AG-7 over-ear\\Audio-Technica ATH-R70x\"\n",
      "Removed \"crinacle\\GRAS 43AG-7 over-ear\\AudioQuest NightHawk\"\n",
      "Removed \"crinacle\\GRAS 43AG-7 over-ear\\AudioQuest NightOwl\"\n",
      "Removed \"crinacle\\GRAS 43AG-7 over-ear\\Aurorus Australis\"\n",
      "Removed \"crinacle\\GRAS 43AG-7 over-ear\\Aurorus Borealis\"\n",
      "Removed \"crinacle\\GRAS 43AG-7 over-ear\\Bang & Olufsen BeoPlay H7\"\n",
      "Removed \"crinacle\\GRAS 43AG-7 over-ear\\Beyerdynamic Amiron Home\"\n",
      "Removed \"crinacle\\GRAS 43AG-7 over-ear\\Beyerdynamic Amiron Home (sample 1)\"\n",
      "Removed \"crinacle\\GRAS 43AG-7 over-ear\\Beyerdynamic Amiron Home (sample 2)\"\n",
      "Removed \"crinacle\\GRAS 43AG-7 over-ear\\Beyerdynamic Aventho Wireless\"\n",
      "Removed \"crinacle\\GRAS 43AG-7 over-ear\\Beyerdynamic DT 1350\"\n",
      "Removed \"crinacle\\GRAS 43AG-7 over-ear\\Beyerdynamic DT 1770 Pro (velour earpads)\"\n",
      "Removed \"crinacle\\GRAS 43AG-7 over-ear\\Beyerdynamic DT 1990 Pro (analytical earpads)\"\n",
      "Removed \"crinacle\\GRAS 43AG-7 over-ear\\Beyerdynamic DT 1990 Pro (balanced earpads)\"\n",
      "Removed \"crinacle\\GRAS 43AG-7 over-ear\\Beyerdynamic DT 1990 Pro (balanced earpads) (sample 1)\"\n",
      "Removed \"crinacle\\GRAS 43AG-7 over-ear\\Beyerdynamic DT 1990 Pro (balanced earpads) (sample 2)\"\n",
      "Removed \"crinacle\\GRAS 43AG-7 over-ear\\Beyerdynamic DT 1990 Pro (Dekoni Elite velour earpads)\"\n",
      "Removed \"crinacle\\GRAS 43AG-7 over-ear\\Beyerdynamic DT 250 (80 Ohm)\"\n",
      "Removed \"crinacle\\GRAS 43AG-7 over-ear\\Beyerdynamic DT 770 Pro (250 Ohm)\"\n",
      "Removed \"crinacle\\GRAS 43AG-7 over-ear\\Beyerdynamic DT 770 Pro (80 Ohm)\"\n",
      "Removed \"crinacle\\GRAS 43AG-7 over-ear\\Beyerdynamic DT 860\"\n",
      "Removed \"crinacle\\GRAS 43AG-7 over-ear\\Beyerdynamic DT 880 (32 Ohm)\"\n",
      "Removed \"crinacle\\GRAS 43AG-7 over-ear\\Beyerdynamic DT 990 Pro (250 Ohm)\"\n",
      "Removed \"crinacle\\GRAS 43AG-7 over-ear\\Beyerdynamic T1 (3rd Gen)\"\n",
      "Removed \"crinacle\\GRAS 43AG-7 over-ear\\Beyerdynamic T5 (3rd Gen)\"\n",
      "Removed \"crinacle\\GRAS 43AG-7 over-ear\\Beyerdynamic T5p\"\n",
      "Removed \"crinacle\\GRAS 43AG-7 over-ear\\Beyerdynamic T70\"\n",
      "Removed \"crinacle\\GRAS 43AG-7 over-ear\\Beyerdynamic TYGR 300 R\"\n",
      "Removed \"crinacle\\GRAS 43AG-7 over-ear\\BLON B20\"\n",
      "Removed \"crinacle\\GRAS 43AG-7 over-ear\\BLON B60\"\n",
      "Removed \"crinacle\\GRAS 43AG-7 over-ear\\BLON B60 (sample 1)\"\n",
      "Removed \"crinacle\\GRAS 43AG-7 over-ear\\BLON B60 (sample 2)\"\n",
      "Removed \"crinacle\\GRAS 43AG-7 over-ear\\Bose Noise Cancelling Headphones 700\"\n",
      "Removed \"crinacle\\GRAS 43AG-7 over-ear\\Bose QuietComfort 35 II\"\n",
      "Removed \"crinacle\\GRAS 43AG-7 over-ear\\Bose QuietComfort 35 II (passive)\"\n",
      "Removed \"crinacle\\GRAS 43AG-7 over-ear\\Bowers & Wilkins PX\"\n",
      "Removed \"crinacle\\GRAS 43AG-7 over-ear\\Campfire Audio Cascade\"\n",
      "Removed \"crinacle\\GRAS 43AG-7 over-ear\\Dan Clark Audio Aeon 2 Closed\"\n",
      "Removed \"crinacle\\GRAS 43AG-7 over-ear\\Dan Clark Audio Aeon 2 Noire\"\n",
      "Removed \"crinacle\\GRAS 43AG-7 over-ear\\Dan Clark Audio Aeon 2 Open\"\n",
      "Removed \"crinacle\\GRAS 43AG-7 over-ear\\Dan Clark Audio Aeon Flow Closed (black filter)\"\n",
      "Removed \"crinacle\\GRAS 43AG-7 over-ear\\Dan Clark Audio Aeon Flow Closed (white filter with one notch)\"\n",
      "Removed \"crinacle\\GRAS 43AG-7 over-ear\\Dan Clark Audio Aeon Flow Open\"\n",
      "Removed \"crinacle\\GRAS 43AG-7 over-ear\\Dan Clark Audio Ether 2\"\n",
      "Removed \"crinacle\\GRAS 43AG-7 over-ear\\Dan Clark Audio Ether C\"\n",
      "Removed \"crinacle\\GRAS 43AG-7 over-ear\\Dan Clark Audio Ether C Flow 1.1\"\n",
      "Removed \"crinacle\\GRAS 43AG-7 over-ear\\Dan Clark Audio Ether Flow 1.1\"\n",
      "Removed \"crinacle\\GRAS 43AG-7 over-ear\\Dan Clark Audio Stealth\"\n",
      "Removed \"crinacle\\GRAS 43AG-7 over-ear\\Dan Clark Audio Voce\"\n",
      "Removed \"crinacle\\GRAS 43AG-7 over-ear\\Denon AH-D5000\"\n",
      "Removed \"crinacle\\GRAS 43AG-7 over-ear\\Denon AH-D5200\"\n",
      "Removed \"crinacle\\GRAS 43AG-7 over-ear\\Denon AH-D7200\"\n",
      "Removed \"crinacle\\GRAS 43AG-7 over-ear\\Denon AH-D9200\"\n",
      "Removed \"crinacle\\GRAS 43AG-7 over-ear\\E-Mu Teak\"\n",
      "Removed \"crinacle\\GRAS 43AG-7 over-ear\\E-Mu Walnut\"\n",
      "Removed \"crinacle\\GRAS 43AG-7 over-ear\\EKSA E900 Pro\"\n",
      "Removed \"crinacle\\GRAS 43AG-7 over-ear\\Empire Ears Zeus\"\n",
      "Removed \"crinacle\\GRAS 43AG-7 over-ear\\ES Lab ES-1a\"\n",
      "Removed \"crinacle\\GRAS 43AG-7 over-ear\\FiiO EH3\"\n",
      "Removed \"crinacle\\GRAS 43AG-7 over-ear\\Final Audio D8000\"\n",
      "Removed \"crinacle\\GRAS 43AG-7 over-ear\\Final Audio D8000 Pro Edition\"\n",
      "Removed \"crinacle\\GRAS 43AG-7 over-ear\\Final Audio Sonorous VIII\"\n",
      "Removed \"crinacle\\GRAS 43AG-7 over-ear\\Final Audio Sonorous X\"\n",
      "Removed \"crinacle\\GRAS 43AG-7 over-ear\\Fischer Audio Oldskool RPM 33 1-3 (Zeppelin & Co Limited Edition)\"\n",
      "Removed \"crinacle\\GRAS 43AG-7 over-ear\\Focal Celestee\"\n",
      "Removed \"crinacle\\GRAS 43AG-7 over-ear\\Focal Clear\"\n",
      "Removed \"crinacle\\GRAS 43AG-7 over-ear\\Focal Clear (Focal Clear Mg earpads)\"\n",
      "Removed \"crinacle\\GRAS 43AG-7 over-ear\\Focal Clear Mg\"\n",
      "Removed \"crinacle\\GRAS 43AG-7 over-ear\\Focal Elear\"\n",
      "Removed \"crinacle\\GRAS 43AG-7 over-ear\\Focal Elear (Elex earpads)\"\n",
      "Removed \"crinacle\\GRAS 43AG-7 over-ear\\Focal Elear (sample 1)\"\n",
      "Removed \"crinacle\\GRAS 43AG-7 over-ear\\Focal Elear (sample 2)\"\n",
      "Removed \"crinacle\\GRAS 43AG-7 over-ear\\Focal Elear (Utopia earpads)\"\n",
      "Removed \"crinacle\\GRAS 43AG-7 over-ear\\Focal Listen Professional\"\n",
      "Removed \"crinacle\\GRAS 43AG-7 over-ear\\Focal Radiance\"\n",
      "Removed \"crinacle\\GRAS 43AG-7 over-ear\\Focal Stellia\"\n",
      "Removed \"crinacle\\GRAS 43AG-7 over-ear\\Focal Utopia\"\n",
      "Removed \"crinacle\\GRAS 43AG-7 over-ear\\Focal Utopia (sample 1)\"\n",
      "Removed \"crinacle\\GRAS 43AG-7 over-ear\\Focal Utopia (sample 2)\"\n",
      "Removed \"crinacle\\GRAS 43AG-7 over-ear\\Focal Utopia (sample 3)\"\n",
      "Removed \"crinacle\\GRAS 43AG-7 over-ear\\Fostex T50RP Mk3\"\n",
      "Removed \"crinacle\\GRAS 43AG-7 over-ear\\Fostex TH500 (worn earpads)\"\n",
      "Removed \"crinacle\\GRAS 43AG-7 over-ear\\Fostex TH610\"\n",
      "Removed \"crinacle\\GRAS 43AG-7 over-ear\\Fostex TH7\"\n",
      "Removed \"crinacle\\GRAS 43AG-7 over-ear\\Fostex TH900\"\n",
      "Removed \"crinacle\\GRAS 43AG-7 over-ear\\Fostex TH909\"\n",
      "Removed \"crinacle\\GRAS 43AG-7 over-ear\\Fostex TR-80\"\n",
      "Removed \"crinacle\\GRAS 43AG-7 over-ear\\Gold Planar GL2000 (double-sided, leather earpads)\"\n",
      "Removed \"crinacle\\GRAS 43AG-7 over-ear\\Gold Planar GL2000 (double-sided, perforated hybrid earpads)\"\n",
      "Removed \"crinacle\\GRAS 43AG-7 over-ear\\Gold Planar GL2000 (single-sided, leather earpads)\"\n",
      "Removed \"crinacle\\GRAS 43AG-7 over-ear\\Gold Planar GL2000 (single-sided, perforated hybrid earpads)\"\n",
      "Removed \"crinacle\\GRAS 43AG-7 over-ear\\Gold Planar GL850\"\n",
      "Removed \"crinacle\\GRAS 43AG-7 over-ear\\Grado GW100\"\n",
      "Removed \"crinacle\\GRAS 43AG-7 over-ear\\Grado PS500e\"\n",
      "Removed \"crinacle\\GRAS 43AG-7 over-ear\\Grado SR125e\"\n",
      "Removed \"crinacle\\GRAS 43AG-7 over-ear\\Grado SR325e\"\n",
      "Removed \"crinacle\\GRAS 43AG-7 over-ear\\Grado SR60e\"\n",
      "Removed \"crinacle\\GRAS 43AG-7 over-ear\\Grado SR80e\"\n",
      "Removed \"crinacle\\GRAS 43AG-7 over-ear\\Grado The Hemp Headphone\"\n",
      "Removed \"crinacle\\GRAS 43AG-7 over-ear\\Harman Kardon FLY ANC\"\n",
      "Removed \"crinacle\\GRAS 43AG-7 over-ear\\HarmonicDyne G200 (lambskin earpads)\"\n",
      "Removed \"crinacle\\GRAS 43AG-7 over-ear\\HarmonicDyne G200 (velour earpads)\"\n",
      "Removed \"crinacle\\GRAS 43AG-7 over-ear\\HarmonicDyne Helios\"\n",
      "Removed \"crinacle\\GRAS 43AG-7 over-ear\\HEDD HEDDphone\"\n",
      "Removed \"crinacle\\GRAS 43AG-7 over-ear\\HIFIMAN Ananda\"\n",
      "Removed \"crinacle\\GRAS 43AG-7 over-ear\\HIFIMAN Arya\"\n",
      "Removed \"crinacle\\GRAS 43AG-7 over-ear\\HIFIMAN Arya Stealth Magnet Version\"\n",
      "Removed \"crinacle\\GRAS 43AG-7 over-ear\\HIFIMAN Deva (wired)\"\n",
      "Removed \"crinacle\\GRAS 43AG-7 over-ear\\HIFIMAN Deva Pro\"\n",
      "Removed \"crinacle\\GRAS 43AG-7 over-ear\\HIFIMAN Edition X V2\"\n",
      "Removed \"crinacle\\GRAS 43AG-7 over-ear\\HIFIMAN HE-5\"\n",
      "Removed \"crinacle\\GRAS 43AG-7 over-ear\\HIFIMAN HE-500 (FocusPad-A)\"\n",
      "Removed \"crinacle\\GRAS 43AG-7 over-ear\\HIFIMAN HE-X4\"\n",
      "Removed \"crinacle\\GRAS 43AG-7 over-ear\\HIFIMAN HE1000 V2\"\n",
      "Removed \"crinacle\\GRAS 43AG-7 over-ear\\HIFIMAN HE1000se\"\n",
      "Removed \"crinacle\\GRAS 43AG-7 over-ear\\HIFIMAN HE400i (2016)\"\n",
      "Removed \"crinacle\\GRAS 43AG-7 over-ear\\HIFIMAN HE400i (2020)\"\n",
      "Removed \"crinacle\\GRAS 43AG-7 over-ear\\HIFIMAN HE400se\"\n",
      "Removed \"crinacle\\GRAS 43AG-7 over-ear\\HIFIMAN HE560 V1\"\n",
      "Removed \"crinacle\\GRAS 43AG-7 over-ear\\HIFIMAN HE560 V1 (sample 1)\"\n",
      "Removed \"crinacle\\GRAS 43AG-7 over-ear\\HIFIMAN HE560 V1 (sample 2)\"\n",
      "Removed \"crinacle\\GRAS 43AG-7 over-ear\\HIFIMAN HE5se\"\n",
      "Removed \"crinacle\\GRAS 43AG-7 over-ear\\HIFIMAN HE6 (6-screw, velour earpads)\"\n",
      "Removed \"crinacle\\GRAS 43AG-7 over-ear\\HIFIMAN HE6se\"\n",
      "Removed \"crinacle\\GRAS 43AG-7 over-ear\\HIFIMAN HE6se V2\"\n",
      "Removed \"crinacle\\GRAS 43AG-7 over-ear\\HIFIMAN Jade II\"\n",
      "Removed \"crinacle\\GRAS 43AG-7 over-ear\\HIFIMAN Shangri-La Jr\"\n",
      "Removed \"crinacle\\GRAS 43AG-7 over-ear\\HIFIMAN Sundara (post-2020 earpads)\"\n",
      "Removed \"crinacle\\GRAS 43AG-7 over-ear\\HIFIMAN Sundara (pre-2020 earpads)\"\n",
      "Removed \"crinacle\\GRAS 43AG-7 over-ear\\HIFIMAN Susvara\"\n",
      "Removed \"crinacle\\GRAS 43AG-7 over-ear\\HIFIMAN Susvara (sample 1)\"\n",
      "Removed \"crinacle\\GRAS 43AG-7 over-ear\\HIFIMAN Susvara (sample 2)\"\n",
      "Removed \"crinacle\\GRAS 43AG-7 over-ear\\iBasso SR1\"\n",
      "Removed \"crinacle\\GRAS 43AG-7 over-ear\\iBasso SR2\"\n",
      "Removed \"crinacle\\GRAS 43AG-7 over-ear\\Kennerton Odin Bog Oak\"\n",
      "Removed \"crinacle\\GRAS 43AG-7 over-ear\\Kennerton Thror Bog Oak\"\n",
      "Removed \"crinacle\\GRAS 43AG-7 over-ear\\Klipsch Heritage HP-3\"\n",
      "Removed \"crinacle\\GRAS 43AG-7 over-ear\\Koss ESP95X\"\n",
      "Removed \"crinacle\\GRAS 43AG-7 over-ear\\Koss KPH30i\"\n",
      "Removed \"crinacle\\GRAS 43AG-7 over-ear\\Koss KPH40\"\n",
      "Removed \"crinacle\\GRAS 43AG-7 over-ear\\Koss KSC75\"\n",
      "Removed \"crinacle\\GRAS 43AG-7 over-ear\\Koss Porta Pro\"\n",
      "Removed \"crinacle\\GRAS 43AG-7 over-ear\\Koss PRO DJ100\"\n",
      "Removed \"crinacle\\GRAS 43AG-7 over-ear\\Koss SP540\"\n",
      "Removed \"crinacle\\GRAS 43AG-7 over-ear\\Little Dot GYFU\"\n",
      "Removed \"crinacle\\GRAS 43AG-7 over-ear\\Logitech G Pro X\"\n",
      "Removed \"crinacle\\GRAS 43AG-7 over-ear\\Logitech G431\"\n",
      "Removed \"crinacle\\GRAS 43AG-7 over-ear\\Logitech G933s\"\n",
      "Removed \"crinacle\\GRAS 43AG-7 over-ear\\Massdrop Panda (active)\"\n",
      "Removed \"crinacle\\GRAS 43AG-7 over-ear\\Master & Dynamic MH40\"\n",
      "Removed \"crinacle\\GRAS 43AG-7 over-ear\\Meze 99 Neo\"\n",
      "Removed \"crinacle\\GRAS 43AG-7 over-ear\\Meze Audio 99 Classic\"\n",
      "Removed \"crinacle\\GRAS 43AG-7 over-ear\\Meze Elite (alcantara earpads)\"\n",
      "Removed \"crinacle\\GRAS 43AG-7 over-ear\\Meze Elite (hybrid earpads)\"\n",
      "Removed \"crinacle\\GRAS 43AG-7 over-ear\\Meze Empyrean\"\n",
      "Removed \"crinacle\\GRAS 43AG-7 over-ear\\Meze Empyrean (sample 2)\"\n",
      "Removed \"crinacle\\GRAS 43AG-7 over-ear\\Meze Liric\"\n",
      "Removed \"crinacle\\GRAS 43AG-7 over-ear\\Montblanc MB 01 (wired, ANC off)\"\n",
      "Removed \"crinacle\\GRAS 43AG-7 over-ear\\Montblanc MB 01 (wireless, ANC)\"\n",
      "Removed \"crinacle\\GRAS 43AG-7 over-ear\\Moondrop Venus\"\n",
      "Removed \"crinacle\\GRAS 43AG-7 over-ear\\Moondrop Void\"\n",
      "Removed \"crinacle\\GRAS 43AG-7 over-ear\\MySphere 3.2\"\n",
      "Removed \"crinacle\\GRAS 43AG-7 over-ear\\Nan-6 Nan-6\"\n",
      "Removed \"crinacle\\GRAS 43AG-7 over-ear\\Nectar Hive\"\n",
      "Removed \"crinacle\\GRAS 43AG-7 over-ear\\Neumann NDH20\"\n",
      "Removed \"crinacle\\GRAS 43AG-7 over-ear\\Oppo PM3\"\n",
      "Removed \"crinacle\\GRAS 43AG-7 over-ear\\Ovidius TX-901\"\n",
      "Removed \"crinacle\\GRAS 43AG-7 over-ear\\Philips SHP9500\"\n",
      "Removed \"crinacle\\GRAS 43AG-7 over-ear\\Pioneer Monitor 10\"\n",
      "Removed \"crinacle\\GRAS 43AG-7 over-ear\\Pioneer SE-2P\"\n",
      "Removed \"crinacle\\GRAS 43AG-7 over-ear\\Pioneer SE-Master1\"\n",
      "Removed \"crinacle\\GRAS 43AG-7 over-ear\\Precide ERGO 2\"\n",
      "Removed \"crinacle\\GRAS 43AG-7 over-ear\\QUAD Era-1\"\n",
      "Removed \"crinacle\\GRAS 43AG-7 over-ear\\RAAL SR1a\"\n",
      "Removed \"crinacle\\GRAS 43AG-7 over-ear\\RAAL SR1a (no ear contact)\"\n",
      "Removed \"crinacle\\GRAS 43AG-7 over-ear\\Razer Barracuda X\"\n",
      "Removed \"crinacle\\GRAS 43AG-7 over-ear\\Razer BlackShark V2 Pro\"\n",
      "Removed \"crinacle\\GRAS 43AG-7 over-ear\\Razer BlackShark V2 X\"\n",
      "Removed \"crinacle\\GRAS 43AG-7 over-ear\\Razer Kraken V3 Pro\"\n",
      "Removed \"crinacle\\GRAS 43AG-7 over-ear\\Rosson Audio Design RAD-0\"\n",
      "Removed \"crinacle\\GRAS 43AG-7 over-ear\\Sansui SS10\"\n",
      "Removed \"crinacle\\GRAS 43AG-7 over-ear\\Sendy Peacock\"\n",
      "Removed \"crinacle\\GRAS 43AG-7 over-ear\\Sennheiser Amperior\"\n",
      "Removed \"crinacle\\GRAS 43AG-7 over-ear\\Sennheiser HD 25 Aluminium\"\n",
      "Removed \"crinacle\\GRAS 43AG-7 over-ear\\Sennheiser HD 25 Plus\"\n",
      "Removed \"crinacle\\GRAS 43AG-7 over-ear\\Sennheiser HD 250BT\"\n",
      "Removed \"crinacle\\GRAS 43AG-7 over-ear\\Sennheiser HD 400 S\"\n",
      "Removed \"crinacle\\GRAS 43AG-7 over-ear\\Sennheiser HD 559\"\n",
      "Removed \"crinacle\\GRAS 43AG-7 over-ear\\Sennheiser HD 560S\"\n",
      "Removed \"crinacle\\GRAS 43AG-7 over-ear\\Sennheiser HD 560S (sample 1)\"\n",
      "Removed \"crinacle\\GRAS 43AG-7 over-ear\\Sennheiser HD 560S (sample 2)\"\n",
      "Removed \"crinacle\\GRAS 43AG-7 over-ear\\Sennheiser HD 579\"\n",
      "Removed \"crinacle\\GRAS 43AG-7 over-ear\\Sennheiser HD 580 (black paper)\"\n",
      "Removed \"crinacle\\GRAS 43AG-7 over-ear\\Sennheiser HD 580 (black silk)\"\n",
      "Removed \"crinacle\\GRAS 43AG-7 over-ear\\Sennheiser HD 580 (white paper)\"\n",
      "Removed \"crinacle\\GRAS 43AG-7 over-ear\\Sennheiser HD 58X\"\n",
      "Removed \"crinacle\\GRAS 43AG-7 over-ear\\Sennheiser HD 599\"\n",
      "Removed \"crinacle\\GRAS 43AG-7 over-ear\\Sennheiser HD 600 (2020)\"\n",
      "Removed \"crinacle\\GRAS 43AG-7 over-ear\\Sennheiser HD 600 (2020) (sample 1)\"\n",
      "Removed \"crinacle\\GRAS 43AG-7 over-ear\\Sennheiser HD 600 (2020) (sample 2)\"\n",
      "Removed \"crinacle\\GRAS 43AG-7 over-ear\\Sennheiser HD 600 (2020) (sample 3)\"\n",
      "Removed \"crinacle\\GRAS 43AG-7 over-ear\\Sennheiser HD 600 (2020, worn earpads)\"\n",
      "Removed \"crinacle\\GRAS 43AG-7 over-ear\\Sennheiser HD 600 (pre-2020)\"\n",
      "Removed \"crinacle\\GRAS 43AG-7 over-ear\\Sennheiser HD 600 (pre-2020, semi-worn earpads)\"\n",
      "Removed \"crinacle\\GRAS 43AG-7 over-ear\\Sennheiser HD 600 (pre-2020, worn earpads)\"\n",
      "Removed \"crinacle\\GRAS 43AG-7 over-ear\\Sennheiser HD 650 (2020)\"\n",
      "Removed \"crinacle\\GRAS 43AG-7 over-ear\\Sennheiser HD 650 (2020) (sample 1)\"\n",
      "Removed \"crinacle\\GRAS 43AG-7 over-ear\\Sennheiser HD 650 (2020) (sample 2)\"\n",
      "Removed \"crinacle\\GRAS 43AG-7 over-ear\\Sennheiser HD 650 (2020, worn earpads)\"\n",
      "Removed \"crinacle\\GRAS 43AG-7 over-ear\\Sennheiser HD 650 (2020, worn earpads) (sample 1)\"\n",
      "Removed \"crinacle\\GRAS 43AG-7 over-ear\\Sennheiser HD 650 (2020, worn earpads) (sample 2)\"\n",
      "Removed \"crinacle\\GRAS 43AG-7 over-ear\\Sennheiser HD 650 (pre-2020)\"\n",
      "Removed \"crinacle\\GRAS 43AG-7 over-ear\\Sennheiser HD 650 (pre-2020, semi-worn earpads)\"\n",
      "Removed \"crinacle\\GRAS 43AG-7 over-ear\\Sennheiser HD 650 (pre-2020, worn earpads)\"\n",
      "Removed \"crinacle\\GRAS 43AG-7 over-ear\\Sennheiser HD 660 S\"\n",
      "Removed \"crinacle\\GRAS 43AG-7 over-ear\\Sennheiser HD 800\"\n",
      "Removed \"crinacle\\GRAS 43AG-7 over-ear\\Sennheiser HD 800 (sample 2)\"\n",
      "Removed \"crinacle\\GRAS 43AG-7 over-ear\\Sennheiser HD 800 (SDR mod)\"\n",
      "Removed \"crinacle\\GRAS 43AG-7 over-ear\\Sennheiser HD 800 (SDR mod) (sample 1)\"\n",
      "Removed \"crinacle\\GRAS 43AG-7 over-ear\\Sennheiser HD 800 S\"\n",
      "Removed \"crinacle\\GRAS 43AG-7 over-ear\\Sennheiser HD 800 S (sample 1)\"\n",
      "Removed \"crinacle\\GRAS 43AG-7 over-ear\\Sennheiser HD 800 S (sample 2)\"\n",
      "Removed \"crinacle\\GRAS 43AG-7 over-ear\\Sennheiser HD 800 S (sample 3)\"\n",
      "Removed \"crinacle\\GRAS 43AG-7 over-ear\\Sennheiser HD 820\"\n",
      "Removed \"crinacle\\GRAS 43AG-7 over-ear\\Sennheiser HD 8XX\"\n",
      "Removed \"crinacle\\GRAS 43AG-7 over-ear\\Sennheiser HE 1 Orpheus 2\"\n",
      "Removed \"crinacle\\GRAS 43AG-7 over-ear\\Sennheiser Momentum 2.0 Wireless\"\n",
      "Removed \"crinacle\\GRAS 43AG-7 over-ear\\Sennheiser Momentum 3 Wireless\"\n",
      "Removed \"crinacle\\GRAS 43AG-7 over-ear\\Sennheiser Momentum 3 Wireless (sample 1)\"\n",
      "Removed \"crinacle\\GRAS 43AG-7 over-ear\\Sennheiser Momentum 3 Wireless (sample 2)\"\n",
      "Removed \"crinacle\\GRAS 43AG-7 over-ear\\Sennheiser Momentum 4 Wireless\"\n",
      "Removed \"crinacle\\GRAS 43AG-7 over-ear\\Sennheiser Momentum 4 Wireless (passive)\"\n",
      "Removed \"crinacle\\GRAS 43AG-7 over-ear\\Sennheiser PC38X\"\n",
      "Removed \"crinacle\\GRAS 43AG-7 over-ear\\Shure AONIC 50\"\n",
      "Removed \"crinacle\\GRAS 43AG-7 over-ear\\Shure SRH1540\"\n",
      "Removed \"crinacle\\GRAS 43AG-7 over-ear\\Shure SRH240A\"\n",
      "Removed \"crinacle\\GRAS 43AG-7 over-ear\\Shure SRH440\"\n",
      "Removed \"crinacle\\GRAS 43AG-7 over-ear\\Shure SRH840\"\n",
      "Removed \"crinacle\\GRAS 43AG-7 over-ear\\Shure SRH840 (sample 1)\"\n",
      "Removed \"crinacle\\GRAS 43AG-7 over-ear\\Shure SRH840 (sample 2)\"\n",
      "Removed \"crinacle\\GRAS 43AG-7 over-ear\\Sivga Audio Phoenix\"\n",
      "Removed \"crinacle\\GRAS 43AG-7 over-ear\\Sivga Audio Robin\"\n",
      "Removed \"crinacle\\GRAS 43AG-7 over-ear\\Sony MDR-1AM2\"\n",
      "Removed \"crinacle\\GRAS 43AG-7 over-ear\\Sony MDR-7510\"\n",
      "Removed \"crinacle\\GRAS 43AG-7 over-ear\\Sony MDR-CD380\"\n",
      "Removed \"crinacle\\GRAS 43AG-7 over-ear\\Sony MDR-CD900ST\"\n",
      "Removed \"crinacle\\GRAS 43AG-7 over-ear\\Sony MDR-CD900ST (Yaxi stPad microfiber earpads)\"\n",
      "Removed \"crinacle\\GRAS 43AG-7 over-ear\\Sony MDR-CD900ST (Yaxi stPad2 earpads)\"\n",
      "Removed \"crinacle\\GRAS 43AG-7 over-ear\\Sony MDR-M1ST\"\n",
      "Removed \"crinacle\\GRAS 43AG-7 over-ear\\Sony MDR-MA900\"\n",
      "Removed \"crinacle\\GRAS 43AG-7 over-ear\\Sony MDR-V6\"\n",
      "Removed \"crinacle\\GRAS 43AG-7 over-ear\\Sony MDR-Z1R\"\n",
      "Removed \"crinacle\\GRAS 43AG-7 over-ear\\Sony MDR-Z7M2\"\n",
      "Removed \"crinacle\\GRAS 43AG-7 over-ear\\Sony WH-1000XM4\"\n",
      "Removed \"crinacle\\GRAS 43AG-7 over-ear\\Spirit Torino Radiante\"\n",
      "Removed \"crinacle\\GRAS 43AG-7 over-ear\\Stax SR-007 Mk2.5\"\n",
      "Removed \"crinacle\\GRAS 43AG-7 over-ear\\Stax SR-009\"\n",
      "Removed \"crinacle\\GRAS 43AG-7 over-ear\\Stax SR-009S\"\n",
      "Removed \"crinacle\\GRAS 43AG-7 over-ear\\Stax SR-3\"\n",
      "Removed \"crinacle\\GRAS 43AG-7 over-ear\\Stax SR-40\"\n",
      "Removed \"crinacle\\GRAS 43AG-7 over-ear\\Stax SR-404\"\n",
      "Removed \"crinacle\\GRAS 43AG-7 over-ear\\Stax SR-404 Limited\"\n",
      "Removed \"crinacle\\GRAS 43AG-7 over-ear\\Stax SR-4070\"\n",
      "Removed \"crinacle\\GRAS 43AG-7 over-ear\\Stax SR-507\"\n",
      "Removed \"crinacle\\GRAS 43AG-7 over-ear\\Stax SR-84\"\n",
      "Removed \"crinacle\\GRAS 43AG-7 over-ear\\Stax SR-L300\"\n",
      "Removed \"crinacle\\GRAS 43AG-7 over-ear\\Stax SR-L300 (sample 1)\"\n",
      "Removed \"crinacle\\GRAS 43AG-7 over-ear\\Stax SR-L300 (sample 2)\"\n",
      "Removed \"crinacle\\GRAS 43AG-7 over-ear\\Stax SR-L300 Limited\"\n",
      "Removed \"crinacle\\GRAS 43AG-7 over-ear\\Stax SR-L500\"\n",
      "Removed \"crinacle\\GRAS 43AG-7 over-ear\\Stax SR-L500 (sample 1)\"\n",
      "Removed \"crinacle\\GRAS 43AG-7 over-ear\\Stax SR-L500 (sample 2)\"\n",
      "Removed \"crinacle\\GRAS 43AG-7 over-ear\\Stax SR-L700\"\n",
      "Removed \"crinacle\\GRAS 43AG-7 over-ear\\Stax SR-L700 (sample 1)\"\n",
      "Removed \"crinacle\\GRAS 43AG-7 over-ear\\Stax SR-L700 (sample 2)\"\n",
      "Removed \"crinacle\\GRAS 43AG-7 over-ear\\Stax SR-Lambda Pro\"\n",
      "Removed \"crinacle\\GRAS 43AG-7 over-ear\\Stax SR-X Mk2\"\n",
      "Removed \"crinacle\\GRAS 43AG-7 over-ear\\Timsok TS-1024\"\n",
      "Removed \"crinacle\\GRAS 43AG-7 over-ear\\Tripowin H1\"\n",
      "Removed \"crinacle\\GRAS 43AG-7 over-ear\\V-MODA Crossfade 2 Wireless\"\n",
      "Removed \"crinacle\\GRAS 43AG-7 over-ear\\V-MODA Crossfade LP2\"\n",
      "Removed \"crinacle\\GRAS 43AG-7 over-ear\\Warwick Acoustics Sonoma Model One\"\n",
      "Removed \"crinacle\\GRAS 43AG-7 over-ear\\Yamaha HP-300\"\n",
      "Removed \"crinacle\\GRAS 43AG-7 over-ear\\Yamaha HP-50S\"\n",
      "Removed \"crinacle\\GRAS 43AG-7 over-ear\\ZMF Aeolus (universal perforated suede earpads)\"\n",
      "Removed \"crinacle\\GRAS 43AG-7 over-ear\\ZMF Atrium (perforated lambskin BE2 earpads)\"\n",
      "Removed \"crinacle\\GRAS 43AG-7 over-ear\\ZMF Atticus (Eikon suede earpads)\"\n",
      "Removed \"crinacle\\GRAS 43AG-7 over-ear\\ZMF Auteur (perforated Auteur lambskin earpads)\"\n",
      "Removed \"crinacle\\GRAS 43AG-7 over-ear\\ZMF Eikon (Eikon lambskin earpads)\"\n",
      "Removed \"crinacle\\GRAS 43AG-7 over-ear\\ZMF Verite (perforated hybid BE2 earpads)\"\n",
      "Removed \"crinacle\\GRAS 43AG-7 over-ear\\ZMF Verite (perforated Verite lambskin earpads)\"\n",
      "Removed \"crinacle\\GRAS 43AG-7 over-ear\\ZMF Verite Closed (Auteur lambskin earpads)\"\n",
      "Removed \"crinacle\\GRAS 43AG-7 over-ear\\ZMF Verite Closed (hybrid Universe earpads)\"\n"
     ]
    }
   ],
   "source": [
    "prune_results(databases=['crinacle'], dry_run=False)"
   ]
  },
  {
   "cell_type": "markdown",
   "id": "423849ce-bac6-4d7d-85e7-1d8e6451714c",
   "metadata": {
    "jp-MarkdownHeadingCollapsed": true
   },
   "source": [
    "## Update Results\n",
    "Creates new results from the measurements. `eq_kwargs` are parameters shared by all jobs."
   ]
  },
  {
   "cell_type": "code",
   "execution_count": 5,
   "id": "39984de4-40a1-484e-988c-76108dd4b85a",
   "metadata": {},
   "outputs": [],
   "source": [
    "eq_kwargs = {\n",
    "    'parametric_eq': True, 'ten_band_eq': True, 'convolution_eq': True,\n",
    "    'parametric_eq_config': [PEQ_CONFIGS['4_PEAKING_WITH_LOW_SHELF'], PEQ_CONFIGS['4_PEAKING_WITH_HIGH_SHELF']],\n",
    "    'fs': [44100, 48000],\n",
    "    'thread_count': 0,\n",
    "}"
   ]
  },
  {
   "cell_type": "markdown",
   "id": "122bf50b-3ba8-4cc6-8297-f1dc5048ca52",
   "metadata": {},
   "source": [
    "#### oratory1990 Over-ear"
   ]
  },
  {
   "cell_type": "code",
   "execution_count": 5,
   "id": "155d256e-200a-4600-ac1e-380fc6ebf71a",
   "metadata": {},
   "outputs": [
    {
     "data": {
      "application/vnd.jupyter.widget-view+json": {
       "model_id": "bb28de4f7a5a47a486e42991a850a399",
       "version_major": 2,
       "version_minor": 0
      },
      "text/plain": [
       "  0%|          | 0/1 [00:00<?, ?it/s]"
      ]
     },
     "metadata": {},
     "output_type": "display_data"
    }
   ],
   "source": [
    "_ = batch_processing(\n",
    "    input_dir=ROOT_PATH.joinpath('measurements', 'oratory1990', 'data', 'over-ear'),\n",
    "    output_dir=ROOT_PATH.joinpath('results', 'oratory1990', 'over-ear'),\n",
    "    compensation=ROOT_PATH.joinpath('compensation', 'harman_over-ear_2018_wo_bass.csv'),\n",
    "    bass_boost_gain=6.0, bass_boost_fc=105, bass_boost_q=0.7,\n",
    "    new_only=True, **eq_kwargs)"
   ]
  },
  {
   "cell_type": "markdown",
   "id": "e13fc080-94c2-4bf3-a319-51cc1131a2f1",
   "metadata": {},
   "source": [
    "#### oratory1990 In-ear"
   ]
  },
  {
   "cell_type": "code",
   "execution_count": 98,
   "id": "35bd242a-0cf5-4311-bde6-23c5fa892e67",
   "metadata": {},
   "outputs": [
    {
     "data": {
      "application/vnd.jupyter.widget-view+json": {
       "model_id": "a773d661835a449aa61e99caba7728e0",
       "version_major": 2,
       "version_minor": 0
      },
      "text/plain": [
       "  0%|          | 0/5 [00:00<?, ?it/s]"
      ]
     },
     "metadata": {},
     "output_type": "display_data"
    }
   ],
   "source": [
    "_ = batch_processing(\n",
    "    input_dir=ROOT_PATH.joinpath('measurements', 'oratory1990', 'data', 'in-ear'),\n",
    "    output_dir=ROOT_PATH.joinpath('results', 'oratory1990', 'in-ear'),\n",
    "    compensation=ROOT_PATH.joinpath('compensation', 'autoeq_in-ear.csv'),\n",
    "    bass_boost_gain=9.5, bass_boost_fc=105, bass_boost_q=0.7,\n",
    "    new_only=True, **eq_kwargs)"
   ]
  },
  {
   "cell_type": "markdown",
   "id": "744a4d87-19ad-4625-abba-1064fa6dba30",
   "metadata": {},
   "source": [
    "#### oratory1990 Earbud"
   ]
  },
  {
   "cell_type": "code",
   "execution_count": 6,
   "id": "42fbde8b-ce79-4606-8d90-079d4454a12f",
   "metadata": {},
   "outputs": [
    {
     "data": {
      "application/vnd.jupyter.widget-view+json": {
       "model_id": "e02dc4e9ac3742459f48064b53ad4c50",
       "version_major": 2,
       "version_minor": 0
      },
      "text/plain": [
       "0it [00:00, ?it/s]"
      ]
     },
     "metadata": {},
     "output_type": "display_data"
    }
   ],
   "source": [
    "_ = batch_processing(\n",
    "    input_dir=ROOT_PATH.joinpath('measurements', 'oratory1990', 'data', 'earbud'),\n",
    "    output_dir=ROOT_PATH.joinpath('results', 'oratory1990', 'earbud'),\n",
    "    compensation=ROOT_PATH.joinpath('compensation', 'autoeq_in-ear.csv'),\n",
    "    bass_boost_gain=0.0, bass_boost_fc=105, bass_boost_q=0.7,\n",
    "    new_only=True, **eq_kwargs)"
   ]
  },
  {
   "cell_type": "markdown",
   "id": "481d748a-8a69-4e86-8775-cfcd29a40256",
   "metadata": {},
   "source": [
    "#### crinacle GRAS 43AG-7 On-ear"
   ]
  },
  {
   "cell_type": "code",
   "execution_count": 100,
   "id": "fb6364b0-8a4d-4097-913d-f331f7793647",
   "metadata": {},
   "outputs": [
    {
     "data": {
      "application/vnd.jupyter.widget-view+json": {
       "model_id": "53448768e8e54600824ef376248ab610",
       "version_major": 2,
       "version_minor": 0
      },
      "text/plain": [
       "  0%|          | 0/49 [00:00<?, ?it/s]"
      ]
     },
     "metadata": {},
     "output_type": "display_data"
    }
   ],
   "source": [
    "_ = batch_processing(\n",
    "    input_dir=ROOT_PATH.joinpath('measurements', 'crinacle', 'data', 'over-ear', 'GRAS 43AG-7'),\n",
    "    output_dir=ROOT_PATH.joinpath('results', 'crinacle', 'GRAS 43AG-7 over-ear'),\n",
    "    compensation=ROOT_PATH.joinpath('compensation', 'harman_over-ear_2018_wo_bass.csv'),\n",
    "    bass_boost_gain=6.0, bass_boost_fc=105, bass_boost_q=0.7,\n",
    "    new_only=True, **eq_kwargs)"
   ]
  },
  {
   "cell_type": "markdown",
   "id": "2a2904fc-2ada-4b60-a2ca-b3a716e4d49e",
   "metadata": {},
   "source": [
    "#### crinacle EARS+711 Over-ear"
   ]
  },
  {
   "cell_type": "code",
   "execution_count": 101,
   "id": "10f96e31-5b6a-456d-b88d-bddc6ec4ada2",
   "metadata": {},
   "outputs": [
    {
     "data": {
      "application/vnd.jupyter.widget-view+json": {
       "model_id": "dfed73ad73f54d77ba7ccd67e40623d3",
       "version_major": 2,
       "version_minor": 0
      },
      "text/plain": [
       "  0%|          | 0/2 [00:00<?, ?it/s]"
      ]
     },
     "metadata": {},
     "output_type": "display_data"
    }
   ],
   "source": [
    "_ = batch_processing(\n",
    "    input_dir=ROOT_PATH.joinpath('measurements', 'crinacle', 'data', 'over-ear', 'EARS + 711'),\n",
    "    output_dir=ROOT_PATH.joinpath('results', 'crinacle', 'EARS + 711 over-ear'),\n",
    "    compensation=ROOT_PATH.joinpath('compensation', 'crinacle_harman_over-ear_2018_wo_bass.csv'),\n",
    "    bass_boost_gain=6.0, bass_boost_fc=105, bass_boost_q=0.7,\n",
    "    new_only=True, **eq_kwargs)"
   ]
  },
  {
   "cell_type": "markdown",
   "id": "29fcd3d4-3008-4f81-b0c8-100cdc7f0cb2",
   "metadata": {},
   "source": [
    "#### crinacle 4620 In-ear"
   ]
  },
  {
   "cell_type": "code",
   "execution_count": 102,
   "id": "6c9c373e-5ef7-430d-a5aa-e25f78d08306",
   "metadata": {},
   "outputs": [
    {
     "data": {
      "application/vnd.jupyter.widget-view+json": {
       "model_id": "0f9505e777a44b34bcb81074dcff6016",
       "version_major": 2,
       "version_minor": 0
      },
      "text/plain": [
       "  0%|          | 0/8 [00:00<?, ?it/s]"
      ]
     },
     "metadata": {},
     "output_type": "display_data"
    }
   ],
   "source": [
    "_ = batch_processing(\n",
    "    input_dir=ROOT_PATH.joinpath('measurements', 'crinacle', 'data', 'in-ear', 'Bruel & Kjaer 4620'),\n",
    "    output_dir=ROOT_PATH.joinpath('results', 'crinacle', 'Bruel & Kjaer 4620 in-ear'),\n",
    "    compensation=ROOT_PATH.joinpath('compensation', 'diffuse_field_5128_-1dBpoct.csv'),\n",
    "    bass_boost_gain=0.0, bass_boost_fc=105, bass_boost_q=0.7,\n",
    "    new_only=True, **eq_kwargs)"
   ]
  },
  {
   "cell_type": "markdown",
   "id": "9d61bef6-c53d-4ddf-8852-3d72a5c185de",
   "metadata": {},
   "source": [
    "#### crinacle 711 In-ear"
   ]
  },
  {
   "cell_type": "code",
   "execution_count": 103,
   "id": "a8a16204-f23d-43cb-a79b-fb0ff30bf6f5",
   "metadata": {},
   "outputs": [
    {
     "data": {
      "application/vnd.jupyter.widget-view+json": {
       "model_id": "47fc5e44289546d58088d87d0a68c2b1",
       "version_major": 2,
       "version_minor": 0
      },
      "text/plain": [
       "  0%|          | 0/109 [00:00<?, ?it/s]"
      ]
     },
     "metadata": {},
     "output_type": "display_data"
    }
   ],
   "source": [
    "_ = batch_processing(\n",
    "    input_dir=ROOT_PATH.joinpath('measurements', 'crinacle', 'data', 'in-ear', '711'),\n",
    "    output_dir=ROOT_PATH.joinpath('results', 'crinacle', '711 in-ear'),\n",
    "    compensation=ROOT_PATH.joinpath('compensation', 'autoeq_in-ear.csv'),\n",
    "    bass_boost_gain=9.5, bass_boost_fc=105, bass_boost_q=0.7,\n",
    "    new_only=True, **eq_kwargs)"
   ]
  },
  {
   "cell_type": "markdown",
   "id": "52271743-ad3f-4950-9a29-1c90abfc6e99",
   "metadata": {},
   "source": [
    "#### Rtings Over-ear"
   ]
  },
  {
   "cell_type": "code",
   "execution_count": 9,
   "id": "fab904f1-546c-46e9-a4d4-3acd6a95f8f3",
   "metadata": {},
   "outputs": [
    {
     "data": {
      "application/vnd.jupyter.widget-view+json": {
       "model_id": "1c085f03c9db4b6088923236a37b8815",
       "version_major": 2,
       "version_minor": 0
      },
      "text/plain": [
       "  0%|          | 0/2 [00:00<?, ?it/s]"
      ]
     },
     "metadata": {},
     "output_type": "display_data"
    }
   ],
   "source": [
    "_ = batch_processing(\n",
    "    input_dir=ROOT_PATH.joinpath('measurements', 'rtings', 'data', 'over-ear'),\n",
    "    output_dir=ROOT_PATH.joinpath('results', 'Rtings', 'over-ear'),\n",
    "    compensation=ROOT_PATH.joinpath('compensation', 'rtings_harman_over-ear_2018_wo_bass.csv'),\n",
    "    bass_boost_gain=6.0, bass_boost_fc=105, bass_boost_q=0.7,\n",
    "    new_only=True, **eq_kwargs)"
   ]
  },
  {
   "cell_type": "markdown",
   "id": "7e6692cb-12af-41cd-84f2-1d0621a82ccf",
   "metadata": {},
   "source": [
    "#### Rtings In-ear"
   ]
  },
  {
   "cell_type": "code",
   "execution_count": 10,
   "id": "2690f37a-77d6-42d2-bc25-6f5a06efe77a",
   "metadata": {},
   "outputs": [
    {
     "data": {
      "application/vnd.jupyter.widget-view+json": {
       "model_id": "9b47e84cf1e849798e9ae1316e10528a",
       "version_major": 2,
       "version_minor": 0
      },
      "text/plain": [
       "0it [00:00, ?it/s]"
      ]
     },
     "metadata": {},
     "output_type": "display_data"
    }
   ],
   "source": [
    "_ = batch_processing(\n",
    "    input_dir=ROOT_PATH.joinpath('measurements', 'rtings', 'data', 'in-ear'),\n",
    "    output_dir=ROOT_PATH.joinpath('results', 'Rtings', 'in-ear'),\n",
    "    compensation=ROOT_PATH.joinpath('compensation', 'rtings_autoeq_in-ear.csv'),\n",
    "    bass_boost_gain=9.5, bass_boost_fc=105, bass_boost_q=0.7,\n",
    "    new_only=True, **eq_kwargs)"
   ]
  },
  {
   "cell_type": "markdown",
   "id": "2992c00e-eb1f-4f6c-905d-459289aace31",
   "metadata": {},
   "source": [
    "#### Rtings Earbud"
   ]
  },
  {
   "cell_type": "code",
   "execution_count": 11,
   "id": "e1ddb3df-df76-49f5-9cb0-eaa8547c1ebc",
   "metadata": {},
   "outputs": [
    {
     "data": {
      "application/vnd.jupyter.widget-view+json": {
       "model_id": "2cef75668f144f41bc983c699fd0e10b",
       "version_major": 2,
       "version_minor": 0
      },
      "text/plain": [
       "0it [00:00, ?it/s]"
      ]
     },
     "metadata": {},
     "output_type": "display_data"
    }
   ],
   "source": [
    "_ = batch_processing(\n",
    "    input_dir=ROOT_PATH.joinpath('measurements', 'rtings', 'data', 'earbud'),\n",
    "    output_dir=ROOT_PATH.joinpath('results', 'Rtings', 'earbud'),\n",
    "    compensation=ROOT_PATH.joinpath('compensation', 'rtings_autoeq_in-ear.csv'),\n",
    "    bass_boost_gain=0.0, bass_boost_fc=105, bass_boost_q=0.7,\n",
    "    new_only=True, **eq_kwargs)"
   ]
  },
  {
   "cell_type": "markdown",
   "id": "65acd28c-c1cc-4289-b5e1-f5b7a1d1664b",
   "metadata": {},
   "source": [
    "#### Innerfidelity In-ear"
   ]
  },
  {
   "cell_type": "code",
   "execution_count": 111,
   "id": "4568f581-e4b9-4f0f-8219-25b0e065e244",
   "metadata": {},
   "outputs": [
    {
     "data": {
      "application/vnd.jupyter.widget-view+json": {
       "model_id": "6710d5721bb440e0970d9f52309061c9",
       "version_major": 2,
       "version_minor": 0
      },
      "text/plain": [
       "  0%|          | 0/14 [00:00<?, ?it/s]"
      ]
     },
     "metadata": {},
     "output_type": "display_data"
    }
   ],
   "source": [
    "_ = batch_processing(\n",
    "    input_dir=ROOT_PATH.joinpath('measurements', 'innerfidelity', 'data', 'over-ear'),\n",
    "    output_dir=ROOT_PATH.joinpath('results', 'Innerfidelity', 'over-ear'),\n",
    "    compensation=ROOT_PATH.joinpath('compensation', 'innerfidelity_harman_over-ear_2018_wo_bass.csv'),\n",
    "    bass_boost_gain=6.0, bass_boost_fc=105, bass_boost_q=0.7,\n",
    "    new_only=True, **eq_kwargs)"
   ]
  },
  {
   "cell_type": "markdown",
   "id": "72324e9a-cc26-4c2e-a5c0-c6f3ef0fb003",
   "metadata": {},
   "source": [
    "#### Innerfidelity In-ear"
   ]
  },
  {
   "cell_type": "code",
   "execution_count": 112,
   "id": "c87e797c-9018-4ff2-b997-9e654ceb74cd",
   "metadata": {},
   "outputs": [
    {
     "data": {
      "application/vnd.jupyter.widget-view+json": {
       "model_id": "f421868914114d549762f821e689ab05",
       "version_major": 2,
       "version_minor": 0
      },
      "text/plain": [
       "  0%|          | 0/10 [00:00<?, ?it/s]"
      ]
     },
     "metadata": {},
     "output_type": "display_data"
    }
   ],
   "source": [
    "_ = batch_processing(\n",
    "    input_dir=ROOT_PATH.joinpath('measurements', 'innerfidelity', 'data', 'in-ear'),\n",
    "    output_dir=ROOT_PATH.joinpath('results', 'Innerfidelity', 'in-ear'),\n",
    "    compensation=ROOT_PATH.joinpath('compensation', 'innerfidelity_autoeq_in-ear.csv'),\n",
    "    bass_boost_gain=6.0, bass_boost_fc=105, bass_boost_q=0.7,\n",
    "    new_only=True, **eq_kwargs)"
   ]
  },
  {
   "cell_type": "markdown",
   "id": "e26478f6-add1-420e-b98b-b95100834922",
   "metadata": {},
   "source": [
    "#### Innerfidelity Earbud"
   ]
  },
  {
   "cell_type": "code",
   "execution_count": 113,
   "id": "f14aa0eb-9697-402b-bb81-16e42d221974",
   "metadata": {},
   "outputs": [
    {
     "data": {
      "application/vnd.jupyter.widget-view+json": {
       "model_id": "609499ee77604f34bf9009e0719d3e27",
       "version_major": 2,
       "version_minor": 0
      },
      "text/plain": [
       "0it [00:00, ?it/s]"
      ]
     },
     "metadata": {},
     "output_type": "display_data"
    }
   ],
   "source": [
    "_ = batch_processing(\n",
    "    input_dir=ROOT_PATH.joinpath('measurements', 'innerfidelity', 'data', 'earbud'),\n",
    "    output_dir=ROOT_PATH.joinpath('results', 'Innerfidelity', 'earbud'),\n",
    "    compensation=ROOT_PATH.joinpath('compensation', 'innerfidelity_autoeq_in-ear.csv'),\n",
    "    bass_boost_gain=0.0, bass_boost_fc=105, bass_boost_q=0.7,\n",
    "    new_only=True, **eq_kwargs)"
   ]
  },
  {
   "cell_type": "markdown",
   "id": "f1f0178c-312b-4246-ba4d-1986cb05c14e",
   "metadata": {},
   "source": [
    "#### Headphone.com Legacy Over-ear"
   ]
  },
  {
   "cell_type": "code",
   "execution_count": 114,
   "id": "cbcf4fd0-b46e-475f-96f7-8520cf788266",
   "metadata": {},
   "outputs": [
    {
     "data": {
      "application/vnd.jupyter.widget-view+json": {
       "model_id": "59539ff774584df483e0a2c7feb5ef71",
       "version_major": 2,
       "version_minor": 0
      },
      "text/plain": [
       "  0%|          | 0/12 [00:00<?, ?it/s]"
      ]
     },
     "metadata": {},
     "output_type": "display_data"
    }
   ],
   "source": [
    "_ = batch_processing(\n",
    "    input_dir=ROOT_PATH.joinpath('measurements', 'headphonecom', 'data', 'over-ear'),\n",
    "    output_dir=ROOT_PATH.joinpath('results', 'Headphone.com Legacy', 'over-ear'),\n",
    "    compensation=ROOT_PATH.joinpath('compensation', 'headphonecom_harman_over-ear_2018_wo_bass.csv'),\n",
    "    bass_boost_gain=6.0, bass_boost_fc=105, bass_boost_q=0.7,\n",
    "    new_only=True, **eq_kwargs)"
   ]
  },
  {
   "cell_type": "markdown",
   "id": "0433e2d2-bdc8-44e8-8a03-e6a83a795d7f",
   "metadata": {},
   "source": [
    "#### Headphone.com Legacy In-ear"
   ]
  },
  {
   "cell_type": "code",
   "execution_count": 115,
   "id": "2221cf95-b298-4c4a-a041-56a740d723e3",
   "metadata": {},
   "outputs": [
    {
     "data": {
      "application/vnd.jupyter.widget-view+json": {
       "model_id": "69a39671156a4cc193e9d9010709b049",
       "version_major": 2,
       "version_minor": 0
      },
      "text/plain": [
       "0it [00:00, ?it/s]"
      ]
     },
     "metadata": {},
     "output_type": "display_data"
    }
   ],
   "source": [
    "_ = batch_processing(\n",
    "    input_dir=ROOT_PATH.joinpath('measurements', 'headphonecom', 'data', 'in-ear'),\n",
    "    output_dir=ROOT_PATH.joinpath('results', 'Headphone.com Legacy', 'in-ear'),\n",
    "    compensation=ROOT_PATH.joinpath('compensation', 'headphonecom_autoeq_in-ear.csv'),\n",
    "    bass_boost_gain=9.5, bass_boost_fc=105, bass_boost_q=0.7,\n",
    "    new_only=True, **eq_kwargs)"
   ]
  },
  {
   "cell_type": "markdown",
   "id": "695f1c66-582e-4c5b-89a7-f31f1c7a6bb9",
   "metadata": {},
   "source": [
    "#### Headphone.com Legacy Earbud"
   ]
  },
  {
   "cell_type": "code",
   "execution_count": 116,
   "id": "c1e74a27-52aa-4cf4-876a-6f4b3b48b90f",
   "metadata": {},
   "outputs": [
    {
     "data": {
      "application/vnd.jupyter.widget-view+json": {
       "model_id": "d0648c333da84691a9ff0230e94f3185",
       "version_major": 2,
       "version_minor": 0
      },
      "text/plain": [
       "  0%|          | 0/10 [00:00<?, ?it/s]"
      ]
     },
     "metadata": {},
     "output_type": "display_data"
    }
   ],
   "source": [
    "_ = batch_processing(\n",
    "    input_dir=ROOT_PATH.joinpath('measurements', 'headphonecom', 'data', 'earbud'),\n",
    "    output_dir=ROOT_PATH.joinpath('results', 'Headphone.com Legacy', 'earbud'),\n",
    "    compensation=ROOT_PATH.joinpath('compensation', 'headphonecom_autoeq_in-ear.csv'),\n",
    "    bass_boost_gain=0.0, bass_boost_fc=105, bass_boost_q=0.7,\n",
    "    new_only=False, **eq_kwargs)"
   ]
  },
  {
   "cell_type": "markdown",
   "id": "5ecd61ed-e920-42f6-8d47-5a4c1ac46ad9",
   "metadata": {},
   "source": [
    "## Update Indexes\n",
    "Updates recommended results, full results, DB specific results, HeSuVi results and ranking table."
   ]
  },
  {
   "cell_type": "code",
   "execution_count": 3,
   "id": "67b4aa57-c478-47b5-b140-272ef4a93b07",
   "metadata": {},
   "outputs": [
    {
     "name": "stdout",
     "output_type": "stream",
     "text": [
      "Creating ranking index...\n"
     ]
    },
    {
     "data": {
      "application/vnd.jupyter.widget-view+json": {
       "model_id": "f7ff43cb0f3948bb9b35802a1f3ac75c",
       "version_major": 2,
       "version_minor": 0
      },
      "text/plain": [
       "  0%|          | 0/3649 [00:00<?, ?it/s]"
      ]
     },
     "metadata": {},
     "output_type": "display_data"
    },
    {
     "name": "stdout",
     "output_type": "stream",
     "text": [
      "Creating recommendations index...\n",
      "Creating full index...\n",
      "Creating source indices...\n",
      "Creating HeSuVi ZIP archive...\n"
     ]
    },
    {
     "data": {
      "application/vnd.jupyter.widget-view+json": {
       "model_id": "4d2e1b5b9799433abcd2b77483195f23",
       "version_major": 2,
       "version_minor": 0
      },
      "text/plain": [
       "  0%|          | 0/3649 [00:00<?, ?it/s]"
      ]
     },
     "metadata": {},
     "output_type": "display_data"
    }
   ],
   "source": [
    "update_all_indexes()"
   ]
  },
  {
   "cell_type": "markdown",
   "id": "2ede7f48-8934-4818-b9fd-6c069d3a3298",
   "metadata": {},
   "source": [
    "#### Data for webapp"
   ]
  },
  {
   "cell_type": "code",
   "execution_count": null,
   "id": "32e220dc-060e-49dd-ad1b-1242035f29aa",
   "metadata": {},
   "outputs": [],
   "source": [
    "write_entries_and_measurements()"
   ]
  },
  {
   "cell_type": "markdown",
   "id": "c631045b-8097-4bef-b6f3-6af843e386fd",
   "metadata": {},
   "source": [
    "## Deploy\n",
    "1. Add files to Git, commit and push\n",
    "2. Upload webapp data to server"
   ]
  },
  {
   "cell_type": "markdown",
   "id": "073fa29d-2ba8-4776-a7a6-efee12965acc",
   "metadata": {},
   "source": [
    "# Sandbox\n",
    "Don't run these! Random exploration while developing."
   ]
  },
  {
   "cell_type": "code",
   "execution_count": 1,
   "id": "6e200ac4-dea1-483a-8900-92952c5c7514",
   "metadata": {},
   "outputs": [],
   "source": [
    "%load_ext autoreload\n",
    "%autoreload 2"
   ]
  },
  {
   "cell_type": "code",
   "execution_count": 2,
   "id": "065560de-640b-41d2-b84f-5544e6a74189",
   "metadata": {},
   "outputs": [],
   "source": [
    "from measurements.name_index import NameItem, NameIndex\n",
    "from measurements.crinacle.crinacle_crawler import CrinacleCrawler"
   ]
  },
  {
   "cell_type": "markdown",
   "id": "63550b0f-91a0-465d-86d1-5324b04f7fd1",
   "metadata": {},
   "source": [
    "#### Name changes:\n",
    "-UE18+ 3rd Gen --> (3rd Gen)"
   ]
  },
  {
   "cell_type": "code",
   "execution_count": 64,
   "id": "28a2bb3c-416c-47a2-aa3d-a4d957ee4873",
   "metadata": {},
   "outputs": [],
   "source": [
    "crawler = CrinacleCrawler()"
   ]
  },
  {
   "cell_type": "code",
   "execution_count": 67,
   "id": "ace61a05-efc7-4c4c-a189-8ba10fbca019",
   "metadata": {},
   "outputs": [
    {
     "data": {
      "application/vnd.jupyter.widget-view+json": {
       "model_id": "9dd949d9238d4f95aa14e84626d981f6",
       "version_major": 2,
       "version_minor": 0
      },
      "text/plain": [
       "HBox(children=(VBox(layout=Layout(max_height='600px', overflow='auto', width='324px')),))"
      ]
     },
     "metadata": {},
     "output_type": "display_data"
    }
   ],
   "source": [
    "crawler.crawl()\n",
    "crawler.create_prompts()\n",
    "crawler.reload_ui()\n",
    "display(crawler.widget)"
   ]
  },
  {
   "cell_type": "code",
   "execution_count": null,
   "id": "ee72e6f1-dc1e-4db9-ad65-dd9c336dc0ad",
   "metadata": {},
   "outputs": [],
   "source": [
    "crawler.process(new_only=True)"
   ]
  },
  {
   "cell_type": "markdown",
   "id": "c8ad01f4-d523-4d31-9389-3c76ed8530d0",
   "metadata": {},
   "source": [
    "### Remove Samples from Name Index\n",
    "Samples will be averaged during processing, not afterwards and therefore need to be removed from the index"
   ]
  },
  {
   "cell_type": "code",
   "execution_count": 41,
   "id": "4616bfdb-1048-4aa3-b6c8-5d6205f516cb",
   "metadata": {},
   "outputs": [],
   "source": [
    "items = [item for item in crawler.name_index.items]\n",
    "for item in items:\n",
    "    if item.name is not None and '(sample' in item.name:\n",
    "        crawler.name_index.remove(item)"
   ]
  },
  {
   "cell_type": "code",
   "execution_count": 42,
   "id": "9048f514-49f8-499e-b4a8-a6677a88fa6e",
   "metadata": {},
   "outputs": [],
   "source": [
    "crawler.write_name_index()"
   ]
  },
  {
   "cell_type": "code",
   "execution_count": null,
   "id": "64ba3707-d3f2-41ec-b0c8-2d4b0dc1c11d",
   "metadata": {},
   "outputs": [],
   "source": []
  }
 ],
 "metadata": {
  "kernelspec": {
   "display_name": "autoeq",
   "language": "python",
   "name": "autoeq"
  },
  "language_info": {
   "codemirror_mode": {
    "name": "ipython",
    "version": 3
   },
   "file_extension": ".py",
   "mimetype": "text/x-python",
   "name": "python",
   "nbconvert_exporter": "python",
   "pygments_lexer": "ipython3",
   "version": "3.11.6"
  }
 },
 "nbformat": 4,
 "nbformat_minor": 5
}

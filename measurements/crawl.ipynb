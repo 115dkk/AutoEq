{
 "cells": [
  {
   "cell_type": "code",
   "execution_count": 1,
   "id": "4d7b4e96-bd20-49e6-b993-8cce5466c590",
   "metadata": {},
   "outputs": [],
   "source": [
    "%load_ext autoreload\n",
    "%autoreload 2"
   ]
  },
  {
   "cell_type": "code",
   "execution_count": 2,
   "id": "64e30da1-ee1f-43e0-ad5c-a8f4c2ec1078",
   "metadata": {},
   "outputs": [],
   "source": [
    "import sys\n",
    "from pathlib import Path\n",
    "ROOT_PATH = Path().resolve().parent\n",
    "if str(ROOT_PATH) not in sys.path:\n",
    "    sys.path.insert(1, str(ROOT_PATH))\n",
    "import ipywidgets as widgets\n",
    "from IPython.display import display\n",
    "from measurements.rtings.rtings_crawler import RtingsCrawler\n",
    "from measurements.crinacle.crinacle_crawler import CrinacleCrawler\n",
    "from measurements.oratory1990.oratory1990_crawler import Oratory1990Crawler\n",
    "from measurements.average import average_measurements"
   ]
  },
  {
   "cell_type": "markdown",
   "id": "a39cd4d4-bff1-4fcc-83f8-d98ce780ef54",
   "metadata": {
    "tags": []
   },
   "source": [
    "## Crinacle\n",
    "Download measurement data from Drive folder to `measurements/crinacle/raw_data/FR Data (CSV)` and `measurements/crinacle/raw_data/IEM Measurements (TSV)` and run this code block"
   ]
  },
  {
   "cell_type": "code",
   "execution_count": 3,
   "id": "9eee0600-5948-413b-b025-81bf1cc25a17",
   "metadata": {},
   "outputs": [
    {
     "name": "stdout",
     "output_type": "stream",
     "text": [
      "Headphones with unknown manufacturers\n",
      "  Canon\n",
      "  D6\n",
      "  E3\n",
      "  Red V3.0b\n",
      "  Red V3.1 10ohm\n",
      "  Red V3.1\n",
      "Add them to manufacturers.tsv and run this cell again\n",
      "N PROMPTS 26\n"
     ]
    },
    {
     "data": {
      "application/vnd.jupyter.widget-view+json": {
       "model_id": "fb3eb18adf7149e0af2c338fc083d814",
       "version_major": 2,
       "version_minor": 0
      },
      "text/plain": [
       "HBox(children=(VBox(children=(VBox(children=(HBox(children=(VBox(children=(HBox(children=(HTML(value='<h4 styl…"
      ]
     },
     "metadata": {},
     "output_type": "display_data"
    }
   ],
   "source": [
    "crawler = CrinacleCrawler()\n",
    "crawler.process()\n",
    "display(crawler.widget)"
   ]
  },
  {
   "cell_type": "code",
   "execution_count": 12,
   "id": "2f64338f-95e1-4102-b3bd-cc1c9b9b9077",
   "metadata": {},
   "outputs": [
    {
     "name": "stdout",
     "output_type": "stream",
     "text": [
      "Saved Audeze CRBN to C:\\Users\\jaakko\\code\\AutoEq\\measurements\\crinacle\\data\\over-ear\\GRAS 43AG-7\\Audeze CRBN.csv\n",
      "Saved Audeze LCD-X (worn earpads) to C:\\Users\\jaakko\\code\\AutoEq\\measurements\\crinacle\\data\\over-ear\\GRAS 43AG-7\\Audeze LCD-X (worn earpads).csv\n",
      "Saved Audio-Technica ATH-M50x to C:\\Users\\jaakko\\code\\AutoEq\\measurements\\crinacle\\data\\over-ear\\GRAS 43AG-7\\Audio-Technica ATH-M50x.csv\n",
      "Saved Beyerdynamic Amiron Home to C:\\Users\\jaakko\\code\\AutoEq\\measurements\\crinacle\\data\\over-ear\\GRAS 43AG-7\\Beyerdynamic Amiron Home.csv\n",
      "Saved Beyerdynamic DT1990 Pro (analytical earpads) to C:\\Users\\jaakko\\code\\AutoEq\\measurements\\crinacle\\data\\over-ear\\GRAS 43AG-7\\Beyerdynamic DT1990 Pro (analytical earpads).csv\n",
      "Saved Beyerdynamic DT1990 Pro (balanced earpads) to C:\\Users\\jaakko\\code\\AutoEq\\measurements\\crinacle\\data\\over-ear\\GRAS 43AG-7\\Beyerdynamic DT1990 Pro (balanced earpads).csv\n",
      "Saved Beyerdynamic DT1990 Pro (Dekoni elite velour earpads) to C:\\Users\\jaakko\\code\\AutoEq\\measurements\\crinacle\\data\\over-ear\\GRAS 43AG-7\\Beyerdynamic DT1990 Pro (Dekoni elite velour earpads).csv\n",
      "Saved BLON B60 to C:\\Users\\jaakko\\code\\AutoEq\\measurements\\crinacle\\data\\over-ear\\GRAS 43AG-7\\BLON B60.csv\n",
      "Saved Focal Elear to C:\\Users\\jaakko\\code\\AutoEq\\measurements\\crinacle\\data\\over-ear\\GRAS 43AG-7\\Focal Elear.csv\n",
      "Saved Focal Utopia to C:\\Users\\jaakko\\code\\AutoEq\\measurements\\crinacle\\data\\over-ear\\GRAS 43AG-7\\Focal Utopia.csv\n",
      "Saved HEDD HEDDphone to C:\\Users\\jaakko\\code\\AutoEq\\measurements\\crinacle\\data\\over-ear\\GRAS 43AG-7\\HEDD HEDDphone.csv\n",
      "Saved HIFIMAN HE560 V1 to C:\\Users\\jaakko\\code\\AutoEq\\measurements\\crinacle\\data\\over-ear\\GRAS 43AG-7\\HIFIMAN HE560 V1.csv\n",
      "Saved HIFIMAN Susvara to C:\\Users\\jaakko\\code\\AutoEq\\measurements\\crinacle\\data\\over-ear\\GRAS 43AG-7\\HIFIMAN Susvara.csv\n",
      "Saved Meze Empyrean to C:\\Users\\jaakko\\code\\AutoEq\\measurements\\crinacle\\data\\over-ear\\GRAS 43AG-7\\Meze Empyrean.csv\n",
      "Saved Sennheiser HD 560S to C:\\Users\\jaakko\\code\\AutoEq\\measurements\\crinacle\\data\\over-ear\\GRAS 43AG-7\\Sennheiser HD 560S.csv\n",
      "Saved Sennheiser HD 600 to C:\\Users\\jaakko\\code\\AutoEq\\measurements\\crinacle\\data\\over-ear\\GRAS 43AG-7\\Sennheiser HD 600.csv\n",
      "Saved Sennheiser HD 600 (semi-worn earpads) to C:\\Users\\jaakko\\code\\AutoEq\\measurements\\crinacle\\data\\over-ear\\GRAS 43AG-7\\Sennheiser HD 600 (semi-worn earpads).csv\n",
      "Saved Sennheiser HD 600 (worn earpads) to C:\\Users\\jaakko\\code\\AutoEq\\measurements\\crinacle\\data\\over-ear\\GRAS 43AG-7\\Sennheiser HD 600 (worn earpads).csv\n",
      "Saved Sennheiser HD 650 to C:\\Users\\jaakko\\code\\AutoEq\\measurements\\crinacle\\data\\over-ear\\GRAS 43AG-7\\Sennheiser HD 650.csv\n",
      "Saved Sennheiser HD 650 (worn earpads) to C:\\Users\\jaakko\\code\\AutoEq\\measurements\\crinacle\\data\\over-ear\\GRAS 43AG-7\\Sennheiser HD 650 (worn earpads).csv\n",
      "Saved Sennheiser HD 800 to C:\\Users\\jaakko\\code\\AutoEq\\measurements\\crinacle\\data\\over-ear\\GRAS 43AG-7\\Sennheiser HD 800.csv\n",
      "Saved Sennheiser HD 800 (SDR mod) to C:\\Users\\jaakko\\code\\AutoEq\\measurements\\crinacle\\data\\over-ear\\GRAS 43AG-7\\Sennheiser HD 800 (SDR mod).csv\n",
      "Saved Sennheiser HD 800 S to C:\\Users\\jaakko\\code\\AutoEq\\measurements\\crinacle\\data\\over-ear\\GRAS 43AG-7\\Sennheiser HD 800 S.csv\n",
      "Saved Sennheiser Momentum 3 Wireless to C:\\Users\\jaakko\\code\\AutoEq\\measurements\\crinacle\\data\\over-ear\\GRAS 43AG-7\\Sennheiser Momentum 3 Wireless.csv\n",
      "Saved Shure SRH840 to C:\\Users\\jaakko\\code\\AutoEq\\measurements\\crinacle\\data\\over-ear\\GRAS 43AG-7\\Shure SRH840.csv\n",
      "Saved Stax SR-L300 to C:\\Users\\jaakko\\code\\AutoEq\\measurements\\crinacle\\data\\over-ear\\GRAS 43AG-7\\Stax SR-L300.csv\n",
      "Saved Stax SR-L500 to C:\\Users\\jaakko\\code\\AutoEq\\measurements\\crinacle\\data\\over-ear\\GRAS 43AG-7\\Stax SR-L500.csv\n",
      "Saved Stax SR-L700 to C:\\Users\\jaakko\\code\\AutoEq\\measurements\\crinacle\\data\\over-ear\\GRAS 43AG-7\\Stax SR-L700.csv\n",
      "Saved 64 Audio A12t (CIEM) to C:\\Users\\jaakko\\code\\AutoEq\\measurements\\crinacle\\data\\in-ear\\711\\64 Audio A12t (CIEM).csv\n",
      "Saved 64 Audio A18s (universal) to C:\\Users\\jaakko\\code\\AutoEq\\measurements\\crinacle\\data\\in-ear\\711\\64 Audio A18s (universal).csv\n",
      "Saved 64 Audio N8 (CIEM) to C:\\Users\\jaakko\\code\\AutoEq\\measurements\\crinacle\\data\\in-ear\\711\\64 Audio N8 (CIEM).csv\n",
      "Saved 64 Audio N8 (m15 Apex module) (CIEM) to C:\\Users\\jaakko\\code\\AutoEq\\measurements\\crinacle\\data\\in-ear\\711\\64 Audio N8 (m15 Apex module) (CIEM).csv\n",
      "Saved 64 Audio N8 (m15 Apex module) to C:\\Users\\jaakko\\code\\AutoEq\\measurements\\crinacle\\data\\in-ear\\711\\64 Audio N8 (m15 Apex module).csv\n",
      "Saved 64 Audio Nio (m15 Apex module) to C:\\Users\\jaakko\\code\\AutoEq\\measurements\\crinacle\\data\\in-ear\\711\\64 Audio Nio (m15 Apex module).csv\n",
      "Saved 64 Audio Nio (m20 Apex module) to C:\\Users\\jaakko\\code\\AutoEq\\measurements\\crinacle\\data\\in-ear\\711\\64 Audio Nio (m20 Apex module).csv\n",
      "Saved 64 Audio Nio (mX module) to C:\\Users\\jaakko\\code\\AutoEq\\measurements\\crinacle\\data\\in-ear\\711\\64 Audio Nio (mX module).csv\n",
      "Saved 64 Audio Tia Fourte to C:\\Users\\jaakko\\code\\AutoEq\\measurements\\crinacle\\data\\in-ear\\711\\64 Audio Tia Fourte.csv\n",
      "Saved 64 Audio tia Trio to C:\\Users\\jaakko\\code\\AutoEq\\measurements\\crinacle\\data\\in-ear\\711\\64 Audio tia Trio.csv\n",
      "Saved 64 Audio U12t to C:\\Users\\jaakko\\code\\AutoEq\\measurements\\crinacle\\data\\in-ear\\711\\64 Audio U12t.csv\n",
      "Saved 64 Audio U18Tzar to C:\\Users\\jaakko\\code\\AutoEq\\measurements\\crinacle\\data\\in-ear\\711\\64 Audio U18Tzar.csv\n",
      "Saved 7Hz Salnotes Zero to C:\\Users\\jaakko\\code\\AutoEq\\measurements\\crinacle\\data\\in-ear\\711\\7Hz Salnotes Zero.csv\n",
      "Saved 7Hz x Crinacle Salnotes Dioko to C:\\Users\\jaakko\\code\\AutoEq\\measurements\\crinacle\\data\\in-ear\\711\\7Hz x Crinacle Salnotes Dioko.csv\n",
      "Saved AAW ASH to C:\\Users\\jaakko\\code\\AutoEq\\measurements\\crinacle\\data\\in-ear\\711\\AAW ASH.csv\n",
      "Saved AAW Canary to C:\\Users\\jaakko\\code\\AutoEq\\measurements\\crinacle\\data\\in-ear\\711\\AAW Canary.csv\n",
      "Saved Acoustune HS1004 to C:\\Users\\jaakko\\code\\AutoEq\\measurements\\crinacle\\data\\in-ear\\711\\Acoustune HS1004.csv\n",
      "Saved Acoustune HS1501 to C:\\Users\\jaakko\\code\\AutoEq\\measurements\\crinacle\\data\\in-ear\\711\\Acoustune HS1501.csv\n",
      "Saved Apple AirPods Pro to C:\\Users\\jaakko\\code\\AutoEq\\measurements\\crinacle\\data\\in-ear\\711\\Apple AirPods Pro.csv\n",
      "Saved Astell & Kern T8iE Mk1 to C:\\Users\\jaakko\\code\\AutoEq\\measurements\\crinacle\\data\\in-ear\\711\\Astell & Kern T8iE Mk1.csv\n",
      "Saved Audeze iSINE 10 to C:\\Users\\jaakko\\code\\AutoEq\\measurements\\crinacle\\data\\in-ear\\711\\Audeze iSINE 10.csv\n",
      "Saved BLON BL-03 to C:\\Users\\jaakko\\code\\AutoEq\\measurements\\crinacle\\data\\in-ear\\711\\BLON BL-03.csv\n",
      "Saved BQEYZ Spring 1 (mesh mod) to C:\\Users\\jaakko\\code\\AutoEq\\measurements\\crinacle\\data\\in-ear\\711\\BQEYZ Spring 1 (mesh mod).csv\n",
      "Saved Brainwavz B400 to C:\\Users\\jaakko\\code\\AutoEq\\measurements\\crinacle\\data\\in-ear\\711\\Brainwavz B400.csv\n",
      "Saved Campfire Audio Andromeda to C:\\Users\\jaakko\\code\\AutoEq\\measurements\\crinacle\\data\\in-ear\\711\\Campfire Audio Andromeda.csv\n",
      "Saved Campfire Audio Atlas to C:\\Users\\jaakko\\code\\AutoEq\\measurements\\crinacle\\data\\in-ear\\711\\Campfire Audio Atlas.csv\n",
      "Saved Campfire Audio IO to C:\\Users\\jaakko\\code\\AutoEq\\measurements\\crinacle\\data\\in-ear\\711\\Campfire Audio IO.csv\n",
      "Saved Campfire Audio Polaris to C:\\Users\\jaakko\\code\\AutoEq\\measurements\\crinacle\\data\\in-ear\\711\\Campfire Audio Polaris.csv\n",
      "Saved Campfire Audio Solaris to C:\\Users\\jaakko\\code\\AutoEq\\measurements\\crinacle\\data\\in-ear\\711\\Campfire Audio Solaris.csv\n",
      "Saved Campfire Audio Solaris SE to C:\\Users\\jaakko\\code\\AutoEq\\measurements\\crinacle\\data\\in-ear\\711\\Campfire Audio Solaris SE.csv\n",
      "Saved Campfire Audio Vega to C:\\Users\\jaakko\\code\\AutoEq\\measurements\\crinacle\\data\\in-ear\\711\\Campfire Audio Vega.csv\n",
      "Saved Clear Tune CT-500E to C:\\Users\\jaakko\\code\\AutoEq\\measurements\\crinacle\\data\\in-ear\\711\\Clear Tune CT-500E.csv\n",
      "Saved Clear Tune CT-6E to C:\\Users\\jaakko\\code\\AutoEq\\measurements\\crinacle\\data\\in-ear\\711\\Clear Tune CT-6E.csv\n",
      "Saved Dita Audio Dream to C:\\Users\\jaakko\\code\\AutoEq\\measurements\\crinacle\\data\\in-ear\\711\\Dita Audio Dream.csv\n",
      "Saved Effect Audio King Arthur to C:\\Users\\jaakko\\code\\AutoEq\\measurements\\crinacle\\data\\in-ear\\711\\Effect Audio King Arthur.csv\n",
      "Saved Elysian Annihilator to C:\\Users\\jaakko\\code\\AutoEq\\measurements\\crinacle\\data\\in-ear\\711\\Elysian Annihilator.csv\n",
      "Saved Elysian Terminator V2 to C:\\Users\\jaakko\\code\\AutoEq\\measurements\\crinacle\\data\\in-ear\\711\\Elysian Terminator V2.csv\n",
      "Saved Empire Ears Legend X to C:\\Users\\jaakko\\code\\AutoEq\\measurements\\crinacle\\data\\in-ear\\711\\Empire Ears Legend X.csv\n",
      "Saved Etymotic ER2XR to C:\\Users\\jaakko\\code\\AutoEq\\measurements\\crinacle\\data\\in-ear\\711\\Etymotic ER2XR.csv\n",
      "Saved FAudio Minor to C:\\Users\\jaakko\\code\\AutoEq\\measurements\\crinacle\\data\\in-ear\\711\\FAudio Minor.csv\n",
      "Saved Fearless Audio Dawn to C:\\Users\\jaakko\\code\\AutoEq\\measurements\\crinacle\\data\\in-ear\\711\\Fearless Audio Dawn.csv\n",
      "Saved Fearless Audio S8F to C:\\Users\\jaakko\\code\\AutoEq\\measurements\\crinacle\\data\\in-ear\\711\\Fearless Audio S8F.csv\n",
      "Saved FiiO FH5 to C:\\Users\\jaakko\\code\\AutoEq\\measurements\\crinacle\\data\\in-ear\\711\\FiiO FH5.csv\n",
      "Saved Final Audio E2000 to C:\\Users\\jaakko\\code\\AutoEq\\measurements\\crinacle\\data\\in-ear\\711\\Final Audio E2000.csv\n",
      "Saved Final Audio E3000 to C:\\Users\\jaakko\\code\\AutoEq\\measurements\\crinacle\\data\\in-ear\\711\\Final Audio E3000.csv\n",
      "Saved Final Audio E4000 to C:\\Users\\jaakko\\code\\AutoEq\\measurements\\crinacle\\data\\in-ear\\711\\Final Audio E4000.csv\n",
      "Saved Final Audio E5000 to C:\\Users\\jaakko\\code\\AutoEq\\measurements\\crinacle\\data\\in-ear\\711\\Final Audio E5000.csv\n",
      "Saved Fir Audio M2 to C:\\Users\\jaakko\\code\\AutoEq\\measurements\\crinacle\\data\\in-ear\\711\\Fir Audio M2.csv\n",
      "Saved Fir Audio M3 to C:\\Users\\jaakko\\code\\AutoEq\\measurements\\crinacle\\data\\in-ear\\711\\Fir Audio M3.csv\n",
      "Saved Fir Audio M4 to C:\\Users\\jaakko\\code\\AutoEq\\measurements\\crinacle\\data\\in-ear\\711\\Fir Audio M4.csv\n",
      "Saved Fir Audio M5 to C:\\Users\\jaakko\\code\\AutoEq\\measurements\\crinacle\\data\\in-ear\\711\\Fir Audio M5.csv\n",
      "Saved FitEar Parterre to C:\\Users\\jaakko\\code\\AutoEq\\measurements\\crinacle\\data\\in-ear\\711\\FitEar Parterre.csv\n",
      "Saved FitEar TG334 to C:\\Users\\jaakko\\code\\AutoEq\\measurements\\crinacle\\data\\in-ear\\711\\FitEar TG334.csv\n",
      "Saved FitEar Titan to C:\\Users\\jaakko\\code\\AutoEq\\measurements\\crinacle\\data\\in-ear\\711\\FitEar Titan.csv\n",
      "Saved HYLA CE-5 to C:\\Users\\jaakko\\code\\AutoEq\\measurements\\crinacle\\data\\in-ear\\711\\HYLA CE-5.csv\n",
      "Saved iBasso IT01 to C:\\Users\\jaakko\\code\\AutoEq\\measurements\\crinacle\\data\\in-ear\\711\\iBasso IT01.csv\n",
      "Saved IMR Acoustics R1 (black) to C:\\Users\\jaakko\\code\\AutoEq\\measurements\\crinacle\\data\\in-ear\\711\\IMR Acoustics R1 (black).csv\n",
      "Saved IMR Acoustics R1 (blue) to C:\\Users\\jaakko\\code\\AutoEq\\measurements\\crinacle\\data\\in-ear\\711\\IMR Acoustics R1 (blue).csv\n",
      "Saved Jomo Audio Flamenco (bass, treble) to C:\\Users\\jaakko\\code\\AutoEq\\measurements\\crinacle\\data\\in-ear\\711\\Jomo Audio Flamenco (bass, treble).csv\n",
      "Saved Jomo Audio Flamenco to C:\\Users\\jaakko\\code\\AutoEq\\measurements\\crinacle\\data\\in-ear\\711\\Jomo Audio Flamenco.csv\n",
      "Saved JQ Hua Jiang to C:\\Users\\jaakko\\code\\AutoEq\\measurements\\crinacle\\data\\in-ear\\711\\JQ Hua Jiang.csv\n",
      "Saved Kinera Idun to C:\\Users\\jaakko\\code\\AutoEq\\measurements\\crinacle\\data\\in-ear\\711\\Kinera Idun.csv\n",
      "Saved Kumitate Lab KL-Corona to C:\\Users\\jaakko\\code\\AutoEq\\measurements\\crinacle\\data\\in-ear\\711\\Kumitate Lab KL-Corona.csv\n",
      "Saved KZ DQ6 to C:\\Users\\jaakko\\code\\AutoEq\\measurements\\crinacle\\data\\in-ear\\711\\KZ DQ6.csv\n",
      "Saved KZ EDX Pro to C:\\Users\\jaakko\\code\\AutoEq\\measurements\\crinacle\\data\\in-ear\\711\\KZ EDX Pro.csv\n",
      "Saved KZ ZS5v1 to C:\\Users\\jaakko\\code\\AutoEq\\measurements\\crinacle\\data\\in-ear\\711\\KZ ZS5v1.csv\n",
      "Saved KZ ZSX to C:\\Users\\jaakko\\code\\AutoEq\\measurements\\crinacle\\data\\in-ear\\711\\KZ ZSX.csv\n",
      "Saved Lime Ears Model X (bass) to C:\\Users\\jaakko\\code\\AutoEq\\measurements\\crinacle\\data\\in-ear\\711\\Lime Ears Model X (bass).csv\n",
      "Saved Lime Ears Model X to C:\\Users\\jaakko\\code\\AutoEq\\measurements\\crinacle\\data\\in-ear\\711\\Lime Ears Model X.csv\n",
      "Saved Massdrop Plus Universal IEM to C:\\Users\\jaakko\\code\\AutoEq\\measurements\\crinacle\\data\\in-ear\\711\\Massdrop Plus Universal IEM.csv\n",
      "Saved Moondrop Blessing 2 to C:\\Users\\jaakko\\code\\AutoEq\\measurements\\crinacle\\data\\in-ear\\711\\Moondrop Blessing 2.csv\n",
      "Saved Moondrop Blessing2 Dusk to C:\\Users\\jaakko\\code\\AutoEq\\measurements\\crinacle\\data\\in-ear\\711\\Moondrop Blessing2 Dusk.csv\n",
      "Saved Moondrop x Crinacle Blessing2 Dusk to C:\\Users\\jaakko\\code\\AutoEq\\measurements\\crinacle\\data\\in-ear\\711\\Moondrop x Crinacle Blessing2 Dusk.csv\n",
      "Saved Noble Audio Khan to C:\\Users\\jaakko\\code\\AutoEq\\measurements\\crinacle\\data\\in-ear\\711\\Noble Audio Khan.csv\n",
      "Saved oBravo Cupid to C:\\Users\\jaakko\\code\\AutoEq\\measurements\\crinacle\\data\\in-ear\\711\\oBravo Cupid.csv\n",
      "Saved Ocharaku Co-Donguri Shizuku to C:\\Users\\jaakko\\code\\AutoEq\\measurements\\crinacle\\data\\in-ear\\711\\Ocharaku Co-Donguri Shizuku.csv\n",
      "Saved Oriolus Forsteni to C:\\Users\\jaakko\\code\\AutoEq\\measurements\\crinacle\\data\\in-ear\\711\\Oriolus Forsteni.csv\n",
      "Saved Oriolus Japan Mk2 to C:\\Users\\jaakko\\code\\AutoEq\\measurements\\crinacle\\data\\in-ear\\711\\Oriolus Japan Mk2.csv\n",
      "Saved PEARS SH3 to C:\\Users\\jaakko\\code\\AutoEq\\measurements\\crinacle\\data\\in-ear\\711\\PEARS SH3.csv\n",
      "Saved qdc 8SL to C:\\Users\\jaakko\\code\\AutoEq\\measurements\\crinacle\\data\\in-ear\\711\\qdc 8SL.csv\n",
      "Saved qdc Dmagic to C:\\Users\\jaakko\\code\\AutoEq\\measurements\\crinacle\\data\\in-ear\\711\\qdc Dmagic.csv\n",
      "Saved QKZ VK4 to C:\\Users\\jaakko\\code\\AutoEq\\measurements\\crinacle\\data\\in-ear\\711\\QKZ VK4.csv\n",
      "Saved QKZ VK4 Revised to C:\\Users\\jaakko\\code\\AutoEq\\measurements\\crinacle\\data\\in-ear\\711\\QKZ VK4 Revised.csv\n",
      "Saved Queen of Audio Pink Lady to C:\\Users\\jaakko\\code\\AutoEq\\measurements\\crinacle\\data\\in-ear\\711\\Queen of Audio Pink Lady.csv\n",
      "Saved Samsung Galaxy Buds2 Pro (treble boost EQ) (ANC mode) to C:\\Users\\jaakko\\code\\AutoEq\\measurements\\crinacle\\data\\in-ear\\711\\Samsung Galaxy Buds2 Pro (treble boost EQ) (ANC mode).csv\n",
      "Saved Sennheiser HD 800 to C:\\Users\\jaakko\\code\\AutoEq\\measurements\\crinacle\\data\\in-ear\\711\\Sennheiser HD 800.csv\n",
      "Saved Shozy & Neo BG to C:\\Users\\jaakko\\code\\AutoEq\\measurements\\crinacle\\data\\in-ear\\711\\Shozy & Neo BG.csv\n",
      "Saved Shozy x AAW Pola to C:\\Users\\jaakko\\code\\AutoEq\\measurements\\crinacle\\data\\in-ear\\711\\Shozy x AAW Pola.csv\n",
      "Saved Shure KSE1200 to C:\\Users\\jaakko\\code\\AutoEq\\measurements\\crinacle\\data\\in-ear\\711\\Shure KSE1200.csv\n",
      "Saved Shure SE846 (black) to C:\\Users\\jaakko\\code\\AutoEq\\measurements\\crinacle\\data\\in-ear\\711\\Shure SE846 (black).csv\n",
      "Saved Sony IER-M9 to C:\\Users\\jaakko\\code\\AutoEq\\measurements\\crinacle\\data\\in-ear\\711\\Sony IER-M9.csv\n",
      "Saved Sony IER-Z1R to C:\\Users\\jaakko\\code\\AutoEq\\measurements\\crinacle\\data\\in-ear\\711\\Sony IER-Z1R.csv\n",
      "Saved Sony MDR-7550 to C:\\Users\\jaakko\\code\\AutoEq\\measurements\\crinacle\\data\\in-ear\\711\\Sony MDR-7550.csv\n",
      "Saved Sony MDR-EX1000 to C:\\Users\\jaakko\\code\\AutoEq\\measurements\\crinacle\\data\\in-ear\\711\\Sony MDR-EX1000.csv\n",
      "Saved Sony MDR-EX800ST to C:\\Users\\jaakko\\code\\AutoEq\\measurements\\crinacle\\data\\in-ear\\711\\Sony MDR-EX800ST.csv\n",
      "Saved Sony MH755 to C:\\Users\\jaakko\\code\\AutoEq\\measurements\\crinacle\\data\\in-ear\\711\\Sony MH755.csv\n",
      "Saved Sony XBA-A3 to C:\\Users\\jaakko\\code\\AutoEq\\measurements\\crinacle\\data\\in-ear\\711\\Sony XBA-A3.csv\n",
      "Saved Sound Linear Fitz 10 Flat to C:\\Users\\jaakko\\code\\AutoEq\\measurements\\crinacle\\data\\in-ear\\711\\Sound Linear Fitz 10 Flat.csv\n",
      "Saved Spiral Ear SE5U to C:\\Users\\jaakko\\code\\AutoEq\\measurements\\crinacle\\data\\in-ear\\711\\Spiral Ear SE5U.csv\n",
      "Saved Tin HiFi T2 Plus to C:\\Users\\jaakko\\code\\AutoEq\\measurements\\crinacle\\data\\in-ear\\711\\Tin HiFi T2 Plus.csv\n",
      "Saved Truthear Zero to C:\\Users\\jaakko\\code\\AutoEq\\measurements\\crinacle\\data\\in-ear\\711\\Truthear Zero.csv\n",
      "Saved Ultimate Ears Live to C:\\Users\\jaakko\\code\\AutoEq\\measurements\\crinacle\\data\\in-ear\\711\\Ultimate Ears Live.csv\n",
      "Saved Ultimate Ears UE18+ to C:\\Users\\jaakko\\code\\AutoEq\\measurements\\crinacle\\data\\in-ear\\711\\Ultimate Ears UE18+.csv\n",
      "Saved Vision Ears VE3.2 to C:\\Users\\jaakko\\code\\AutoEq\\measurements\\crinacle\\data\\in-ear\\711\\Vision Ears VE3.2.csv\n",
      "Saved Warbler Prelude to C:\\Users\\jaakko\\code\\AutoEq\\measurements\\crinacle\\data\\in-ear\\711\\Warbler Prelude.csv\n",
      "Saved Truthear x Crinacle Zero RED (10 ohm resistor) to C:\\Users\\jaakko\\code\\AutoEq\\measurements\\crinacle\\data\\in-ear\\Bruel & Kjaer 4620\\Truthear x Crinacle Zero RED (10 ohm resistor).csv\n",
      "Saved Truthear x Crinacle Zero RED to C:\\Users\\jaakko\\code\\AutoEq\\measurements\\crinacle\\data\\in-ear\\Bruel & Kjaer 4620\\Truthear x Crinacle Zero RED.csv\n",
      "Saved UFOear UFO-112 to C:\\Users\\jaakko\\code\\AutoEq\\measurements\\crinacle\\data\\in-ear\\Bruel & Kjaer 4620\\UFOear UFO-112.csv\n"
     ]
    }
   ],
   "source": [
    "#average_measurements(input_dir=ROOT_PATH.joinpath('measurements', 'crinacle', 'data', 'over-ear', 'Ears-711'))\n",
    "average_measurements(input_dir=ROOT_PATH.joinpath('measurements', 'crinacle', 'data', 'over-ear', 'GRAS 43AG-7'))\n",
    "average_measurements(input_dir=ROOT_PATH.joinpath('measurements', 'crinacle', 'data', 'in-ear', '711'))\n",
    "average_measurements(input_dir=ROOT_PATH.joinpath('measurements', 'crinacle', 'data', 'in-ear', 'Bruel & Kjaer 4620'))"
   ]
  },
  {
   "cell_type": "markdown",
   "id": "f77aeaf3-a7d7-47d5-88ed-40b21bd03a00",
   "metadata": {},
   "source": [
    "## oratory1990\n",
    "Parsing oratory1990's PDFs requires [Ghostscript](https://www.ghostscript.com/download/gsdnld.html) to be installed on the system"
   ]
  },
  {
   "cell_type": "code",
   "execution_count": 15,
   "id": "a7bebbf6-eb2f-49ee-8d58-5028924064af",
   "metadata": {},
   "outputs": [
    {
     "name": "stdout",
     "output_type": "stream",
     "text": [
      "Downloaded to \"C:\\Users\\jaakko\\code\\AutoEq\\measurements\\oratory1990\\pdf\\Sennheiser HE 1 Orpheus 2.pdf\"\n",
      "  Saved image to \"C:\\Users\\jaakko\\code\\AutoEq\\measurements\\oratory1990\\images\\Sennheiser HE 1 Orpheus 2.png\"\n",
      "\n",
      "  Saved CSV to \"C:\\Users\\jaakko\\code\\AutoEq\\measurements\\oratory1990\\data\\over-ear\\Sennheiser HE 1 Orpheus 2.csv\"\n"
     ]
    },
    {
     "data": {
      "application/vnd.jupyter.widget-view+json": {
       "model_id": "51d077f841c94cd89a679e3177166f10",
       "version_major": 2,
       "version_minor": 0
      },
      "text/plain": [
       "HBox(children=(VBox(), VBox()))"
      ]
     },
     "metadata": {},
     "output_type": "display_data"
    }
   ],
   "source": [
    "crawler = Oratory1990Crawler()\n",
    "crawler.process(new_only=True)\n",
    "display(crawler.widget)"
   ]
  },
  {
   "cell_type": "markdown",
   "id": "f08f9303-7813-4ab5-895f-d75e12ad64e7",
   "metadata": {},
   "source": [
    "## Rtings"
   ]
  },
  {
   "cell_type": "code",
   "execution_count": 14,
   "id": "ccfd03f8-6b5f-484f-8294-660d3606d7e0",
   "metadata": {},
   "outputs": [
    {
     "name": "stdout",
     "output_type": "stream",
     "text": [
      "Downloaded to \"C:\\Users\\jaakko\\code\\AutoEq\\measurements\\rtings\\json\\Bowers & Wilkins Pi7.json\"\n",
      "Saved \"Bowers & Wilkins Pi7\" to \"C:\\Users\\jaakko\\code\\AutoEq\\measurements\\rtings\\data\\in-ear\\Bowers & Wilkins Pi7.csv\"\n"
     ]
    },
    {
     "data": {
      "application/vnd.jupyter.widget-view+json": {
       "model_id": "ed32eb4320b44b0db793c1cadb29a438",
       "version_major": 2,
       "version_minor": 0
      },
      "text/plain": [
       "HBox(children=(VBox(), VBox()))"
      ]
     },
     "metadata": {},
     "output_type": "display_data"
    }
   ],
   "source": [
    "crawler = RtingsCrawler()\n",
    "crawler.process()\n",
    "display(crawler.widget)"
   ]
  },
  {
   "cell_type": "code",
   "execution_count": null,
   "id": "1ea24607-fb7d-4406-ac4b-69ee3b66ea72",
   "metadata": {},
   "outputs": [],
   "source": []
  }
 ],
 "metadata": {
  "kernelspec": {
   "display_name": "autoeq",
   "language": "python",
   "name": "autoeq"
  },
  "language_info": {
   "codemirror_mode": {
    "name": "ipython",
    "version": 3
   },
   "file_extension": ".py",
   "mimetype": "text/x-python",
   "name": "python",
   "nbconvert_exporter": "python",
   "pygments_lexer": "ipython3",
   "version": "3.9.2"
  }
 },
 "nbformat": 4,
 "nbformat_minor": 5
}

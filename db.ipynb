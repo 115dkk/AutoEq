{
 "cells": [
  {
   "cell_type": "code",
   "execution_count": 1,
   "id": "a99e7791-660c-49de-b312-5b99455a5a69",
   "metadata": {},
   "outputs": [],
   "source": [
    "%load_ext autoreload\n",
    "%autoreload 2"
   ]
  },
  {
   "cell_type": "code",
   "execution_count": 2,
   "id": "83685ae7-7f31-429c-baf9-8e0a458a53dd",
   "metadata": {},
   "outputs": [],
   "source": [
    "import sys\n",
    "from pathlib import Path\n",
    "from autoeq.constants import PEQ_CONFIGS\n",
    "from autoeq.batch_processing import batch_processing\n",
    "ROOT_PATH = Path().resolve()\n",
    "import ipywidgets as widgets\n",
    "from IPython.display import display\n",
    "from measurements.rtings.rtings_crawler import RtingsCrawler\n",
    "from measurements.crinacle.crinacle_crawler import CrinacleCrawler\n",
    "from measurements.oratory1990.oratory1990_crawler import Oratory1990Crawler\n",
    "from measurements.average import average_measurements\n",
    "from measurements.rename_measurements import rename_measurements\n",
    "from results.prune_results import prune_results\n",
    "from results.update_indexes import update_all_indexes\n",
    "from webapp.create_data import write_entries_and_measurements"
   ]
  },
  {
   "cell_type": "markdown",
   "id": "10681a98-09d8-483c-a64b-5a48ef64c4e1",
   "metadata": {},
   "source": [
    "## Crawling and Parsing\n",
    "Additional Python packages are required for processing the measurements:\n",
    "```bash\n",
    "python -m pip install -U -r measurements/dev-requirements.txt\n",
    "```\n",
    "\n",
    "Measurement crawlers require [Google Chrome](https://www.google.com/chrome/) installed and\n",
    "[ChromeDriver](https://googlechromelabs.github.io/chrome-for-testing/) binary in the measurements folder (or anywhere\n",
    "in the PATH).\n",
    "\n",
    "Measurement crawlers also require C++. This should be installed by default on Linux but on Windows you need to install\n",
    "Microsoft Visual Studio build tools for this. https://visualstudio.microsoft.com/downloads/ ->\n",
    "\"Tools for Visual Studio 2019\" -> \"Build Tools for Visual Studio 2019\".\n",
    "\n",
    "oratory1990 crawler requires Ghostscript installed: https://www.ghostscript.com/download/gsdnld.html"
   ]
  },
  {
   "cell_type": "markdown",
   "id": "23534877-debf-4b7d-b5c6-a6f03e82f0c5",
   "metadata": {},
   "source": [
    "### Crinacle\n",
    "Download measurement data from Drive folder to `measurements/crinacle/raw_data/` before running this!\n",
    "\n",
    "* `IEM Measurements/IEC60318-4 IEM Measurements (TSV txt)` into `AutoEq/measurements/crinacle/raw_data/IEC60318-4 IEM Measurements (TSV txt)`\n",
    "* `IEM Measurements/4620 IEM Measurements` into `AutoEq/measurements/crinacle/raw_data/4620 IEM Measurements`\n",
    "* `HP Measurements/EARS + 711 (TSV txt) (Legacy)` into `AutoEq/measurements/crinacle/raw_data/EARS + 711 (TSV txt) (Legacy)`\n",
    "* `GRAS 43AG-7` into `AutoEq/measurements/crinacle/raw_data/GRAS 43AG-7`"
   ]
  },
  {
   "cell_type": "code",
   "execution_count": null,
   "id": "9a2fab6b-7cd9-445b-9cde-4c96414ee9d3",
   "metadata": {},
   "outputs": [],
   "source": [
    "crawler = CrinacleCrawler()\n",
    "crawler.run()\n",
    "display(crawler.widget)"
   ]
  },
  {
   "cell_type": "code",
   "execution_count": null,
   "id": "6201059e-6cb3-4640-9ec6-d51afd63bfde",
   "metadata": {},
   "outputs": [],
   "source": [
    "crawler.process()"
   ]
  },
  {
   "cell_type": "markdown",
   "id": "15198d83-4cc2-4136-ab77-c7150f161b1a",
   "metadata": {},
   "source": [
    "### oratory1990\n",
    "oratory1990 crawler fetches all measurements from https://www.reddit.com/r/oratory1990/wiki/index/list_of_presets/, downloads PDFs and reads the frequency response measurement data from the PDFs. Parsing the PDFs requires [Ghostscript](https://www.ghostscript.com/download/gsdnld.html) to be installed on the system."
   ]
  },
  {
   "cell_type": "code",
   "execution_count": 4,
   "id": "af79e6d2-2418-44dd-bebd-dfc5db9f2cee",
   "metadata": {},
   "outputs": [
    {
     "data": {
      "application/vnd.jupyter.widget-view+json": {
       "model_id": "8034d35e057749bfb232877156b1d64a",
       "version_major": 2,
       "version_minor": 0
      },
      "text/plain": [
       "HBox(children=(VBox(layout=Layout(max_height='600px', overflow='auto', width='324px')),))"
      ]
     },
     "metadata": {},
     "output_type": "display_data"
    }
   ],
   "source": [
    "crawler = Oratory1990Crawler()\n",
    "crawler.run()\n",
    "display(crawler.widget)"
   ]
  },
  {
   "cell_type": "code",
   "execution_count": null,
   "id": "3f591c1b-203e-45a9-b9fc-68b2940cddce",
   "metadata": {},
   "outputs": [],
   "source": [
    "crawler.process()"
   ]
  },
  {
   "cell_type": "markdown",
   "id": "5d8bb0e4-7b99-4226-a085-02e0666bdbb7",
   "metadata": {},
   "source": [
    "### Rtings\n",
    "Rtings crawler fetches all measurements from https://www.rtings.com/headphones/1-[2,4,5]/graph and downloads raw FR JSON files and parses them."
   ]
  },
  {
   "cell_type": "code",
   "execution_count": null,
   "id": "6815db55-e73a-4d48-ac98-509a7db96474",
   "metadata": {},
   "outputs": [],
   "source": [
    "crawler = RtingsCrawler()\n",
    "crawler.process()\n",
    "display(crawler.widget)"
   ]
  },
  {
   "cell_type": "markdown",
   "id": "c73d94ab-f636-4429-b2a9-88e73db27bc5",
   "metadata": {},
   "source": [
    "## Rename Measurements\n",
    "Sometimes measurements are named incorrectly or previously only one sample existed and now multiple samples have been measured and so the original one needs to be renamed as \"<name> (sample 1)\"\n",
    "\n",
    "**TODO:** Use prompts for renaming"
   ]
  },
  {
   "cell_type": "code",
   "execution_count": null,
   "id": "cf9ecf45-112b-4956-b057-60f7071fd2cc",
   "metadata": {},
   "outputs": [],
   "source": [
    "renames = [\n",
    "    {'old_name': '', 'new_name': '', 'dbs': ['']},\n",
    "]\n",
    "rename_measurements(renames, dry_run=False)"
   ]
  },
  {
   "cell_type": "markdown",
   "id": "dacbac18-6d4a-4f58-8f3b-af3700b5c895",
   "metadata": {},
   "source": [
    "## Prune Results\n",
    "Check if obsolete results (e.g. because of renaming) exist and remove them"
   ]
  },
  {
   "cell_type": "code",
   "execution_count": 10,
   "id": "319d03cb-98f6-4db2-a2b0-fa464942d7e0",
   "metadata": {},
   "outputs": [
    {
     "name": "stdout",
     "output_type": "stream",
     "text": [
      "Removed \"oratory1990\\in-ear\\Campfire Audio IO\"\n",
      "Removed \"oratory1990\\in-ear\\MEE Audio Pinnacle PX\"\n",
      "Removed \"oratory1990\\in-ear\\MEE Audio Planamic\"\n",
      "Removed \"oratory1990\\in-ear\\oBravo Cupid\"\n",
      "Removed \"oratory1990\\in-ear\\SoftEars Cerberus\"\n",
      "Removed \"oratory1990\\in-ear\\SoftEars RS10\"\n",
      "Removed \"oratory1990\\over-ear\\Fostex T60RP\"\n",
      "Removed \"oratory1990\\over-ear\\HIFIMAN Susvara\"\n",
      "Removed \"oratory1990\\over-ear\\Koss ESP950\"\n",
      "Removed \"oratory1990\\over-ear\\Shure SRH840 (sample 1)\"\n"
     ]
    }
   ],
   "source": [
    "prune_results(databases=['oratory1990'], dry_run=False)"
   ]
  },
  {
   "cell_type": "markdown",
   "id": "423849ce-bac6-4d7d-85e7-1d8e6451714c",
   "metadata": {
    "jp-MarkdownHeadingCollapsed": true
   },
   "source": [
    "## Update Results\n",
    "Creates new results from the measurements. `eq_kwargs` are parameters shared by all jobs."
   ]
  },
  {
   "cell_type": "code",
   "execution_count": 5,
   "id": "39984de4-40a1-484e-988c-76108dd4b85a",
   "metadata": {},
   "outputs": [],
   "source": [
    "eq_kwargs = {\n",
    "    'parametric_eq': True, 'ten_band_eq': True, 'convolution_eq': True,\n",
    "    'parametric_eq_config': [PEQ_CONFIGS['4_PEAKING_WITH_LOW_SHELF'], PEQ_CONFIGS['4_PEAKING_WITH_HIGH_SHELF']],\n",
    "    'fs': [44100, 48000],\n",
    "    'thread_count': 0,\n",
    "}"
   ]
  },
  {
   "cell_type": "markdown",
   "id": "122bf50b-3ba8-4cc6-8297-f1dc5048ca52",
   "metadata": {},
   "source": [
    "#### oratory1990 Over-ear"
   ]
  },
  {
   "cell_type": "code",
   "execution_count": 5,
   "id": "155d256e-200a-4600-ac1e-380fc6ebf71a",
   "metadata": {},
   "outputs": [
    {
     "data": {
      "application/vnd.jupyter.widget-view+json": {
       "model_id": "bb28de4f7a5a47a486e42991a850a399",
       "version_major": 2,
       "version_minor": 0
      },
      "text/plain": [
       "  0%|          | 0/1 [00:00<?, ?it/s]"
      ]
     },
     "metadata": {},
     "output_type": "display_data"
    }
   ],
   "source": [
    "_ = batch_processing(\n",
    "    input_dir=ROOT_PATH.joinpath('measurements', 'oratory1990', 'data', 'over-ear'),\n",
    "    output_dir=ROOT_PATH.joinpath('results', 'oratory1990', 'over-ear'),\n",
    "    compensation=ROOT_PATH.joinpath('compensation', 'harman_over-ear_2018_wo_bass.csv'),\n",
    "    bass_boost_gain=6.0, bass_boost_fc=105, bass_boost_q=0.7,\n",
    "    new_only=True, **eq_kwargs)"
   ]
  },
  {
   "cell_type": "markdown",
   "id": "e13fc080-94c2-4bf3-a319-51cc1131a2f1",
   "metadata": {},
   "source": [
    "#### oratory1990 In-ear"
   ]
  },
  {
   "cell_type": "code",
   "execution_count": 98,
   "id": "35bd242a-0cf5-4311-bde6-23c5fa892e67",
   "metadata": {},
   "outputs": [
    {
     "data": {
      "application/vnd.jupyter.widget-view+json": {
       "model_id": "a773d661835a449aa61e99caba7728e0",
       "version_major": 2,
       "version_minor": 0
      },
      "text/plain": [
       "  0%|          | 0/5 [00:00<?, ?it/s]"
      ]
     },
     "metadata": {},
     "output_type": "display_data"
    }
   ],
   "source": [
    "_ = batch_processing(\n",
    "    input_dir=ROOT_PATH.joinpath('measurements', 'oratory1990', 'data', 'in-ear'),\n",
    "    output_dir=ROOT_PATH.joinpath('results', 'oratory1990', 'in-ear'),\n",
    "    compensation=ROOT_PATH.joinpath('compensation', 'autoeq_in-ear.csv'),\n",
    "    bass_boost_gain=9.5, bass_boost_fc=105, bass_boost_q=0.7,\n",
    "    new_only=True, **eq_kwargs)"
   ]
  },
  {
   "cell_type": "markdown",
   "id": "744a4d87-19ad-4625-abba-1064fa6dba30",
   "metadata": {},
   "source": [
    "#### oratory1990 Earbud"
   ]
  },
  {
   "cell_type": "code",
   "execution_count": 6,
   "id": "42fbde8b-ce79-4606-8d90-079d4454a12f",
   "metadata": {},
   "outputs": [
    {
     "data": {
      "application/vnd.jupyter.widget-view+json": {
       "model_id": "e02dc4e9ac3742459f48064b53ad4c50",
       "version_major": 2,
       "version_minor": 0
      },
      "text/plain": [
       "0it [00:00, ?it/s]"
      ]
     },
     "metadata": {},
     "output_type": "display_data"
    }
   ],
   "source": [
    "_ = batch_processing(\n",
    "    input_dir=ROOT_PATH.joinpath('measurements', 'oratory1990', 'data', 'earbud'),\n",
    "    output_dir=ROOT_PATH.joinpath('results', 'oratory1990', 'earbud'),\n",
    "    compensation=ROOT_PATH.joinpath('compensation', 'autoeq_in-ear.csv'),\n",
    "    bass_boost_gain=0.0, bass_boost_fc=105, bass_boost_q=0.7,\n",
    "    new_only=True, **eq_kwargs)"
   ]
  },
  {
   "cell_type": "markdown",
   "id": "481d748a-8a69-4e86-8775-cfcd29a40256",
   "metadata": {},
   "source": [
    "#### crinacle GRAS 43AG-7 On-ear"
   ]
  },
  {
   "cell_type": "code",
   "execution_count": 100,
   "id": "fb6364b0-8a4d-4097-913d-f331f7793647",
   "metadata": {},
   "outputs": [
    {
     "data": {
      "application/vnd.jupyter.widget-view+json": {
       "model_id": "53448768e8e54600824ef376248ab610",
       "version_major": 2,
       "version_minor": 0
      },
      "text/plain": [
       "  0%|          | 0/49 [00:00<?, ?it/s]"
      ]
     },
     "metadata": {},
     "output_type": "display_data"
    }
   ],
   "source": [
    "_ = batch_processing(\n",
    "    input_dir=ROOT_PATH.joinpath('measurements', 'crinacle', 'data', 'over-ear', 'GRAS 43AG-7'),\n",
    "    output_dir=ROOT_PATH.joinpath('results', 'crinacle', 'GRAS 43AG-7 over-ear'),\n",
    "    compensation=ROOT_PATH.joinpath('compensation', 'harman_over-ear_2018_wo_bass.csv'),\n",
    "    bass_boost_gain=6.0, bass_boost_fc=105, bass_boost_q=0.7,\n",
    "    new_only=True, **eq_kwargs)"
   ]
  },
  {
   "cell_type": "markdown",
   "id": "2a2904fc-2ada-4b60-a2ca-b3a716e4d49e",
   "metadata": {},
   "source": [
    "#### crinacle EARS+711 Over-ear"
   ]
  },
  {
   "cell_type": "code",
   "execution_count": 101,
   "id": "10f96e31-5b6a-456d-b88d-bddc6ec4ada2",
   "metadata": {},
   "outputs": [
    {
     "data": {
      "application/vnd.jupyter.widget-view+json": {
       "model_id": "dfed73ad73f54d77ba7ccd67e40623d3",
       "version_major": 2,
       "version_minor": 0
      },
      "text/plain": [
       "  0%|          | 0/2 [00:00<?, ?it/s]"
      ]
     },
     "metadata": {},
     "output_type": "display_data"
    }
   ],
   "source": [
    "_ = batch_processing(\n",
    "    input_dir=ROOT_PATH.joinpath('measurements', 'crinacle', 'data', 'over-ear', 'EARS + 711'),\n",
    "    output_dir=ROOT_PATH.joinpath('results', 'crinacle', 'EARS + 711 over-ear'),\n",
    "    compensation=ROOT_PATH.joinpath('compensation', 'crinacle_harman_over-ear_2018_wo_bass.csv'),\n",
    "    bass_boost_gain=6.0, bass_boost_fc=105, bass_boost_q=0.7,\n",
    "    new_only=True, **eq_kwargs)"
   ]
  },
  {
   "cell_type": "markdown",
   "id": "29fcd3d4-3008-4f81-b0c8-100cdc7f0cb2",
   "metadata": {},
   "source": [
    "#### crinacle 4620 In-ear"
   ]
  },
  {
   "cell_type": "code",
   "execution_count": 102,
   "id": "6c9c373e-5ef7-430d-a5aa-e25f78d08306",
   "metadata": {},
   "outputs": [
    {
     "data": {
      "application/vnd.jupyter.widget-view+json": {
       "model_id": "0f9505e777a44b34bcb81074dcff6016",
       "version_major": 2,
       "version_minor": 0
      },
      "text/plain": [
       "  0%|          | 0/8 [00:00<?, ?it/s]"
      ]
     },
     "metadata": {},
     "output_type": "display_data"
    }
   ],
   "source": [
    "_ = batch_processing(\n",
    "    input_dir=ROOT_PATH.joinpath('measurements', 'crinacle', 'data', 'in-ear', 'Bruel & Kjaer 4620'),\n",
    "    output_dir=ROOT_PATH.joinpath('results', 'crinacle', 'Bruel & Kjaer 4620 in-ear'),\n",
    "    compensation=ROOT_PATH.joinpath('compensation', 'diffuse_field_5128_-1dBpoct.csv'),\n",
    "    bass_boost_gain=0.0, bass_boost_fc=105, bass_boost_q=0.7,\n",
    "    new_only=True, **eq_kwargs)"
   ]
  },
  {
   "cell_type": "markdown",
   "id": "9d61bef6-c53d-4ddf-8852-3d72a5c185de",
   "metadata": {},
   "source": [
    "#### crinacle 711 In-ear"
   ]
  },
  {
   "cell_type": "code",
   "execution_count": 103,
   "id": "a8a16204-f23d-43cb-a79b-fb0ff30bf6f5",
   "metadata": {},
   "outputs": [
    {
     "data": {
      "application/vnd.jupyter.widget-view+json": {
       "model_id": "47fc5e44289546d58088d87d0a68c2b1",
       "version_major": 2,
       "version_minor": 0
      },
      "text/plain": [
       "  0%|          | 0/109 [00:00<?, ?it/s]"
      ]
     },
     "metadata": {},
     "output_type": "display_data"
    }
   ],
   "source": [
    "_ = batch_processing(\n",
    "    input_dir=ROOT_PATH.joinpath('measurements', 'crinacle', 'data', 'in-ear', '711'),\n",
    "    output_dir=ROOT_PATH.joinpath('results', 'crinacle', '711 in-ear'),\n",
    "    compensation=ROOT_PATH.joinpath('compensation', 'autoeq_in-ear.csv'),\n",
    "    bass_boost_gain=9.5, bass_boost_fc=105, bass_boost_q=0.7,\n",
    "    new_only=True, **eq_kwargs)"
   ]
  },
  {
   "cell_type": "markdown",
   "id": "52271743-ad3f-4950-9a29-1c90abfc6e99",
   "metadata": {},
   "source": [
    "#### Rtings Over-ear"
   ]
  },
  {
   "cell_type": "code",
   "execution_count": 9,
   "id": "fab904f1-546c-46e9-a4d4-3acd6a95f8f3",
   "metadata": {},
   "outputs": [
    {
     "data": {
      "application/vnd.jupyter.widget-view+json": {
       "model_id": "1c085f03c9db4b6088923236a37b8815",
       "version_major": 2,
       "version_minor": 0
      },
      "text/plain": [
       "  0%|          | 0/2 [00:00<?, ?it/s]"
      ]
     },
     "metadata": {},
     "output_type": "display_data"
    }
   ],
   "source": [
    "_ = batch_processing(\n",
    "    input_dir=ROOT_PATH.joinpath('measurements', 'rtings', 'data', 'over-ear'),\n",
    "    output_dir=ROOT_PATH.joinpath('results', 'Rtings', 'over-ear'),\n",
    "    compensation=ROOT_PATH.joinpath('compensation', 'rtings_harman_over-ear_2018_wo_bass.csv'),\n",
    "    bass_boost_gain=6.0, bass_boost_fc=105, bass_boost_q=0.7,\n",
    "    new_only=True, **eq_kwargs)"
   ]
  },
  {
   "cell_type": "markdown",
   "id": "7e6692cb-12af-41cd-84f2-1d0621a82ccf",
   "metadata": {},
   "source": [
    "#### Rtings In-ear"
   ]
  },
  {
   "cell_type": "code",
   "execution_count": 10,
   "id": "2690f37a-77d6-42d2-bc25-6f5a06efe77a",
   "metadata": {},
   "outputs": [
    {
     "data": {
      "application/vnd.jupyter.widget-view+json": {
       "model_id": "9b47e84cf1e849798e9ae1316e10528a",
       "version_major": 2,
       "version_minor": 0
      },
      "text/plain": [
       "0it [00:00, ?it/s]"
      ]
     },
     "metadata": {},
     "output_type": "display_data"
    }
   ],
   "source": [
    "_ = batch_processing(\n",
    "    input_dir=ROOT_PATH.joinpath('measurements', 'rtings', 'data', 'in-ear'),\n",
    "    output_dir=ROOT_PATH.joinpath('results', 'Rtings', 'in-ear'),\n",
    "    compensation=ROOT_PATH.joinpath('compensation', 'rtings_autoeq_in-ear.csv'),\n",
    "    bass_boost_gain=9.5, bass_boost_fc=105, bass_boost_q=0.7,\n",
    "    new_only=True, **eq_kwargs)"
   ]
  },
  {
   "cell_type": "markdown",
   "id": "2992c00e-eb1f-4f6c-905d-459289aace31",
   "metadata": {},
   "source": [
    "#### Rtings Earbud"
   ]
  },
  {
   "cell_type": "code",
   "execution_count": 11,
   "id": "e1ddb3df-df76-49f5-9cb0-eaa8547c1ebc",
   "metadata": {},
   "outputs": [
    {
     "data": {
      "application/vnd.jupyter.widget-view+json": {
       "model_id": "2cef75668f144f41bc983c699fd0e10b",
       "version_major": 2,
       "version_minor": 0
      },
      "text/plain": [
       "0it [00:00, ?it/s]"
      ]
     },
     "metadata": {},
     "output_type": "display_data"
    }
   ],
   "source": [
    "_ = batch_processing(\n",
    "    input_dir=ROOT_PATH.joinpath('measurements', 'rtings', 'data', 'earbud'),\n",
    "    output_dir=ROOT_PATH.joinpath('results', 'Rtings', 'earbud'),\n",
    "    compensation=ROOT_PATH.joinpath('compensation', 'rtings_autoeq_in-ear.csv'),\n",
    "    bass_boost_gain=0.0, bass_boost_fc=105, bass_boost_q=0.7,\n",
    "    new_only=True, **eq_kwargs)"
   ]
  },
  {
   "cell_type": "markdown",
   "id": "65acd28c-c1cc-4289-b5e1-f5b7a1d1664b",
   "metadata": {},
   "source": [
    "#### Innerfidelity In-ear"
   ]
  },
  {
   "cell_type": "code",
   "execution_count": 111,
   "id": "4568f581-e4b9-4f0f-8219-25b0e065e244",
   "metadata": {},
   "outputs": [
    {
     "data": {
      "application/vnd.jupyter.widget-view+json": {
       "model_id": "6710d5721bb440e0970d9f52309061c9",
       "version_major": 2,
       "version_minor": 0
      },
      "text/plain": [
       "  0%|          | 0/14 [00:00<?, ?it/s]"
      ]
     },
     "metadata": {},
     "output_type": "display_data"
    }
   ],
   "source": [
    "_ = batch_processing(\n",
    "    input_dir=ROOT_PATH.joinpath('measurements', 'innerfidelity', 'data', 'over-ear'),\n",
    "    output_dir=ROOT_PATH.joinpath('results', 'Innerfidelity', 'over-ear'),\n",
    "    compensation=ROOT_PATH.joinpath('compensation', 'innerfidelity_harman_over-ear_2018_wo_bass.csv'),\n",
    "    bass_boost_gain=6.0, bass_boost_fc=105, bass_boost_q=0.7,\n",
    "    new_only=True, **eq_kwargs)"
   ]
  },
  {
   "cell_type": "markdown",
   "id": "72324e9a-cc26-4c2e-a5c0-c6f3ef0fb003",
   "metadata": {},
   "source": [
    "#### Innerfidelity In-ear"
   ]
  },
  {
   "cell_type": "code",
   "execution_count": 112,
   "id": "c87e797c-9018-4ff2-b997-9e654ceb74cd",
   "metadata": {},
   "outputs": [
    {
     "data": {
      "application/vnd.jupyter.widget-view+json": {
       "model_id": "f421868914114d549762f821e689ab05",
       "version_major": 2,
       "version_minor": 0
      },
      "text/plain": [
       "  0%|          | 0/10 [00:00<?, ?it/s]"
      ]
     },
     "metadata": {},
     "output_type": "display_data"
    }
   ],
   "source": [
    "_ = batch_processing(\n",
    "    input_dir=ROOT_PATH.joinpath('measurements', 'innerfidelity', 'data', 'in-ear'),\n",
    "    output_dir=ROOT_PATH.joinpath('results', 'Innerfidelity', 'in-ear'),\n",
    "    compensation=ROOT_PATH.joinpath('compensation', 'innerfidelity_autoeq_in-ear.csv'),\n",
    "    bass_boost_gain=6.0, bass_boost_fc=105, bass_boost_q=0.7,\n",
    "    new_only=True, **eq_kwargs)"
   ]
  },
  {
   "cell_type": "markdown",
   "id": "e26478f6-add1-420e-b98b-b95100834922",
   "metadata": {},
   "source": [
    "#### Innerfidelity Earbud"
   ]
  },
  {
   "cell_type": "code",
   "execution_count": 113,
   "id": "f14aa0eb-9697-402b-bb81-16e42d221974",
   "metadata": {},
   "outputs": [
    {
     "data": {
      "application/vnd.jupyter.widget-view+json": {
       "model_id": "609499ee77604f34bf9009e0719d3e27",
       "version_major": 2,
       "version_minor": 0
      },
      "text/plain": [
       "0it [00:00, ?it/s]"
      ]
     },
     "metadata": {},
     "output_type": "display_data"
    }
   ],
   "source": [
    "_ = batch_processing(\n",
    "    input_dir=ROOT_PATH.joinpath('measurements', 'innerfidelity', 'data', 'earbud'),\n",
    "    output_dir=ROOT_PATH.joinpath('results', 'Innerfidelity', 'earbud'),\n",
    "    compensation=ROOT_PATH.joinpath('compensation', 'innerfidelity_autoeq_in-ear.csv'),\n",
    "    bass_boost_gain=0.0, bass_boost_fc=105, bass_boost_q=0.7,\n",
    "    new_only=True, **eq_kwargs)"
   ]
  },
  {
   "cell_type": "markdown",
   "id": "f1f0178c-312b-4246-ba4d-1986cb05c14e",
   "metadata": {},
   "source": [
    "#### Headphone.com Legacy Over-ear"
   ]
  },
  {
   "cell_type": "code",
   "execution_count": 114,
   "id": "cbcf4fd0-b46e-475f-96f7-8520cf788266",
   "metadata": {},
   "outputs": [
    {
     "data": {
      "application/vnd.jupyter.widget-view+json": {
       "model_id": "59539ff774584df483e0a2c7feb5ef71",
       "version_major": 2,
       "version_minor": 0
      },
      "text/plain": [
       "  0%|          | 0/12 [00:00<?, ?it/s]"
      ]
     },
     "metadata": {},
     "output_type": "display_data"
    }
   ],
   "source": [
    "_ = batch_processing(\n",
    "    input_dir=ROOT_PATH.joinpath('measurements', 'headphonecom', 'data', 'over-ear'),\n",
    "    output_dir=ROOT_PATH.joinpath('results', 'Headphone.com Legacy', 'over-ear'),\n",
    "    compensation=ROOT_PATH.joinpath('compensation', 'headphonecom_harman_over-ear_2018_wo_bass.csv'),\n",
    "    bass_boost_gain=6.0, bass_boost_fc=105, bass_boost_q=0.7,\n",
    "    new_only=True, **eq_kwargs)"
   ]
  },
  {
   "cell_type": "markdown",
   "id": "0433e2d2-bdc8-44e8-8a03-e6a83a795d7f",
   "metadata": {},
   "source": [
    "#### Headphone.com Legacy In-ear"
   ]
  },
  {
   "cell_type": "code",
   "execution_count": 115,
   "id": "2221cf95-b298-4c4a-a041-56a740d723e3",
   "metadata": {},
   "outputs": [
    {
     "data": {
      "application/vnd.jupyter.widget-view+json": {
       "model_id": "69a39671156a4cc193e9d9010709b049",
       "version_major": 2,
       "version_minor": 0
      },
      "text/plain": [
       "0it [00:00, ?it/s]"
      ]
     },
     "metadata": {},
     "output_type": "display_data"
    }
   ],
   "source": [
    "_ = batch_processing(\n",
    "    input_dir=ROOT_PATH.joinpath('measurements', 'headphonecom', 'data', 'in-ear'),\n",
    "    output_dir=ROOT_PATH.joinpath('results', 'Headphone.com Legacy', 'in-ear'),\n",
    "    compensation=ROOT_PATH.joinpath('compensation', 'headphonecom_autoeq_in-ear.csv'),\n",
    "    bass_boost_gain=9.5, bass_boost_fc=105, bass_boost_q=0.7,\n",
    "    new_only=True, **eq_kwargs)"
   ]
  },
  {
   "cell_type": "markdown",
   "id": "695f1c66-582e-4c5b-89a7-f31f1c7a6bb9",
   "metadata": {},
   "source": [
    "#### Headphone.com Legacy Earbud"
   ]
  },
  {
   "cell_type": "code",
   "execution_count": 116,
   "id": "c1e74a27-52aa-4cf4-876a-6f4b3b48b90f",
   "metadata": {},
   "outputs": [
    {
     "data": {
      "application/vnd.jupyter.widget-view+json": {
       "model_id": "d0648c333da84691a9ff0230e94f3185",
       "version_major": 2,
       "version_minor": 0
      },
      "text/plain": [
       "  0%|          | 0/10 [00:00<?, ?it/s]"
      ]
     },
     "metadata": {},
     "output_type": "display_data"
    }
   ],
   "source": [
    "_ = batch_processing(\n",
    "    input_dir=ROOT_PATH.joinpath('measurements', 'headphonecom', 'data', 'earbud'),\n",
    "    output_dir=ROOT_PATH.joinpath('results', 'Headphone.com Legacy', 'earbud'),\n",
    "    compensation=ROOT_PATH.joinpath('compensation', 'headphonecom_autoeq_in-ear.csv'),\n",
    "    bass_boost_gain=0.0, bass_boost_fc=105, bass_boost_q=0.7,\n",
    "    new_only=False, **eq_kwargs)"
   ]
  },
  {
   "cell_type": "markdown",
   "id": "5ecd61ed-e920-42f6-8d47-5a4c1ac46ad9",
   "metadata": {},
   "source": [
    "## Update Indexes\n",
    "Updates recommended results, full results, DB specific results, HeSuVi results and ranking table."
   ]
  },
  {
   "cell_type": "code",
   "execution_count": 3,
   "id": "67b4aa57-c478-47b5-b140-272ef4a93b07",
   "metadata": {},
   "outputs": [
    {
     "name": "stdout",
     "output_type": "stream",
     "text": [
      "Creating ranking index...\n"
     ]
    },
    {
     "data": {
      "application/vnd.jupyter.widget-view+json": {
       "model_id": "f7ff43cb0f3948bb9b35802a1f3ac75c",
       "version_major": 2,
       "version_minor": 0
      },
      "text/plain": [
       "  0%|          | 0/3649 [00:00<?, ?it/s]"
      ]
     },
     "metadata": {},
     "output_type": "display_data"
    },
    {
     "name": "stdout",
     "output_type": "stream",
     "text": [
      "Creating recommendations index...\n",
      "Creating full index...\n",
      "Creating source indices...\n",
      "Creating HeSuVi ZIP archive...\n"
     ]
    },
    {
     "data": {
      "application/vnd.jupyter.widget-view+json": {
       "model_id": "4d2e1b5b9799433abcd2b77483195f23",
       "version_major": 2,
       "version_minor": 0
      },
      "text/plain": [
       "  0%|          | 0/3649 [00:00<?, ?it/s]"
      ]
     },
     "metadata": {},
     "output_type": "display_data"
    }
   ],
   "source": [
    "update_all_indexes()"
   ]
  },
  {
   "cell_type": "markdown",
   "id": "2ede7f48-8934-4818-b9fd-6c069d3a3298",
   "metadata": {},
   "source": [
    "#### Data for webapp"
   ]
  },
  {
   "cell_type": "code",
   "execution_count": null,
   "id": "32e220dc-060e-49dd-ad1b-1242035f29aa",
   "metadata": {},
   "outputs": [],
   "source": [
    "write_entries_and_measurements()"
   ]
  },
  {
   "cell_type": "markdown",
   "id": "c631045b-8097-4bef-b6f3-6af843e386fd",
   "metadata": {},
   "source": [
    "## Deploy\n",
    "1. Add files to Git, commit and push\n",
    "2. Upload webapp data to server"
   ]
  },
  {
   "cell_type": "markdown",
   "id": "073fa29d-2ba8-4776-a7a6-efee12965acc",
   "metadata": {},
   "source": [
    "# Sandbox\n",
    "Don't run these! Random exploration while developing."
   ]
  },
  {
   "cell_type": "code",
   "execution_count": 1,
   "id": "6e200ac4-dea1-483a-8900-92952c5c7514",
   "metadata": {},
   "outputs": [],
   "source": [
    "%load_ext autoreload\n",
    "%autoreload 2"
   ]
  },
  {
   "cell_type": "code",
   "execution_count": 53,
   "id": "065560de-640b-41d2-b84f-5544e6a74189",
   "metadata": {},
   "outputs": [],
   "source": [
    "from measurements.name_index import NameItem, NameIndex\n",
    "from measurements.crinacle.crinacle_crawler import CrinacleCrawler\n",
    "from measurements.oratory1990.oratory1990_crawler import Oratory1990Crawler\n",
    "from measurements.rtings.rtings_crawler import RtingsCrawler\n",
    "from pathlib import Path\n",
    "from tqdm.auto import tqdm\n",
    "import re\n",
    "import requests\n",
    "from selenium.webdriver.common.by import By\n",
    "import json\n",
    "from bs4 import BeautifulSoup"
   ]
  },
  {
   "cell_type": "code",
   "execution_count": null,
   "id": "28a2bb3c-416c-47a2-aa3d-a4d957ee4873",
   "metadata": {},
   "outputs": [],
   "source": [
    "crawler = CrinacleCrawler()"
   ]
  },
  {
   "cell_type": "code",
   "execution_count": 5,
   "id": "263983ec-075a-4ed1-b23e-a320b7f0e8d7",
   "metadata": {},
   "outputs": [],
   "source": [
    "crawler = Oratory1990Crawler(redownload=False)"
   ]
  },
  {
   "cell_type": "code",
   "execution_count": 184,
   "id": "7e02a743-9610-4b4d-8844-f6c9280e5f7f",
   "metadata": {},
   "outputs": [
    {
     "data": {
      "application/vnd.jupyter.widget-view+json": {
       "model_id": "a419026d54d2417fac8915ae205a3c74",
       "version_major": 2,
       "version_minor": 0
      },
      "text/plain": [
       "  0%|          | 0/757 [00:00<?, ?it/s]"
      ]
     },
     "metadata": {},
     "output_type": "display_data"
    },
    {
     "data": {
      "application/vnd.jupyter.widget-view+json": {
       "model_id": "0fc1f71f92784b5e9d489c57588ee64b",
       "version_major": 2,
       "version_minor": 0
      },
      "text/plain": [
       "HBox(children=(VBox(children=(Button(button_style='warning', description='Jaybird Freedom F5 Wireless 2016', l…"
      ]
     },
     "metadata": {},
     "output_type": "display_data"
    }
   ],
   "source": [
    "crawler = RtingsCrawler()\n",
    "crawler.crawl()\n",
    "crawler.create_prompts(max_prompts=20)\n",
    "crawler.reload_ui()\n",
    "display(crawler.widget)"
   ]
  },
  {
   "cell_type": "code",
   "execution_count": null,
   "id": "ee72e6f1-dc1e-4db9-ad65-dd9c336dc0ad",
   "metadata": {},
   "outputs": [],
   "source": [
    "crawler.process(new_only=True)"
   ]
  },
  {
   "cell_type": "markdown",
   "id": "4ea82694-b10b-4a2c-a30e-c666e91dd69c",
   "metadata": {},
   "source": [
    "## Reworking Rtings Crawl"
   ]
  },
  {
   "cell_type": "code",
   "execution_count": 206,
   "id": "d24e2f01-fb00-426e-9ecc-7f1cc607aa85",
   "metadata": {},
   "outputs": [],
   "source": [
    "from seleniumwire import webdriver\n",
    "from bs4 import BeautifulSoup\n",
    "import json"
   ]
  },
  {
   "cell_type": "code",
   "execution_count": 132,
   "id": "42125576-4eb3-4e6a-a595-ef60ad5f8451",
   "metadata": {},
   "outputs": [],
   "source": [
    "driver = webdriver.Chrome()"
   ]
  },
  {
   "cell_type": "code",
   "execution_count": 153,
   "id": "3a7f4a7f-261f-4983-943a-023e7afa7760",
   "metadata": {},
   "outputs": [],
   "source": [
    "driver.get('https://www.rtings.com/headphones/1-5/graph')"
   ]
  },
  {
   "cell_type": "code",
   "execution_count": 154,
   "id": "a80ce6fa-bfc2-466a-821f-656ad24ccd8a",
   "metadata": {},
   "outputs": [],
   "source": [
    "label = driver.find_element(By.XPATH, '//*[contains(text(), \"Show untested products\")]')"
   ]
  },
  {
   "cell_type": "code",
   "execution_count": 155,
   "id": "baef3ac0-8069-4bc7-a719-97fc7e82bd9e",
   "metadata": {},
   "outputs": [],
   "source": [
    "checkbox = label.find_element(By.XPATH, \"./..\")"
   ]
  },
  {
   "cell_type": "code",
   "execution_count": 156,
   "id": "f500bccc-2f99-4417-8707-908307782994",
   "metadata": {},
   "outputs": [],
   "source": [
    "checkbox.click()"
   ]
  },
  {
   "cell_type": "code",
   "execution_count": 186,
   "id": "8c793b1f-7f02-466c-a5f0-d02af9c33353",
   "metadata": {},
   "outputs": [],
   "source": [
    "dropdown = crawler.driver.find_element(By.CLASS_NAME, 'graph_tool_section-header')"
   ]
  },
  {
   "cell_type": "code",
   "execution_count": 187,
   "id": "455e88d7-c4b4-4c89-b3b4-d10491f5a601",
   "metadata": {},
   "outputs": [],
   "source": [
    "dropdown.click()"
   ]
  },
  {
   "cell_type": "code",
   "execution_count": 188,
   "id": "d12ed5d8-b6f8-41a5-8626-8eb539ff27f8",
   "metadata": {},
   "outputs": [],
   "source": [
    "options = dropdown.find_elements(By.CLASS_NAME, 'simple_dropdown-option')"
   ]
  },
  {
   "cell_type": "code",
   "execution_count": 190,
   "id": "a610cc05-4724-4ddc-867c-634a70fe1708",
   "metadata": {},
   "outputs": [
    {
     "data": {
      "text/plain": [
       "'<div class=\"simple_dropdown-option is-selected\"><p style=\"color:inherit;\">AKG K702</p><p></p></div>'"
      ]
     },
     "execution_count": 190,
     "metadata": {},
     "output_type": "execute_result"
    }
   ],
   "source": [
    "options[6].get_attribute('outerHTML')"
   ]
  },
  {
   "cell_type": "code",
   "execution_count": 185,
   "id": "3590dcba-5a8e-49c1-aedd-5ab8bfd7b83f",
   "metadata": {},
   "outputs": [
    {
     "data": {
      "text/plain": [
       "datetime.datetime(2023, 10, 22, 15, 4, 45, 936437)"
      ]
     },
     "execution_count": 185,
     "metadata": {},
     "output_type": "execute_result"
    }
   ],
   "source": [
    "driver.requests[-1].date"
   ]
  },
  {
   "cell_type": "code",
   "execution_count": null,
   "id": "4e88127f-ec17-4a2e-a275-d9e89f9dc4a1",
   "metadata": {},
   "outputs": [],
   "source": [
    "for req in driver.requests:\n",
    "    print(req)"
   ]
  },
  {
   "cell_type": "code",
   "execution_count": null,
   "id": "f68af40d-38f4-43cf-98e5-c1e0f95c3dbe",
   "metadata": {},
   "outputs": [],
   "source": []
  },
  {
   "cell_type": "code",
   "execution_count": 66,
   "id": "2433c0d8-820b-4c0a-93d3-ec8fc38b20cf",
   "metadata": {},
   "outputs": [],
   "source": [
    "html = crawler.driver.find_element(By.TAG_NAME, 'html').get_attribute('outerHTML')"
   ]
  },
  {
   "cell_type": "code",
   "execution_count": 69,
   "id": "addd18e7-9ae8-42c4-9fbb-21c7df36e50a",
   "metadata": {},
   "outputs": [
    {
     "data": {
      "text/plain": [
       "True"
      ]
     },
     "execution_count": 69,
     "metadata": {},
     "output_type": "execute_result"
    }
   ],
   "source": [
    "'1more quad' in str(html).lower()"
   ]
  },
  {
   "cell_type": "code",
   "execution_count": 117,
   "id": "218f7ea5-cfc7-41f6-918d-3e1f576ce82b",
   "metadata": {},
   "outputs": [],
   "source": [
    "document = crawler.get_beautiful_soup('https://www.rtings.com/headphones/1-5/graph')"
   ]
  },
  {
   "cell_type": "code",
   "execution_count": null,
   "id": "3f30558e-c7ff-453d-9406-6eb25b28c222",
   "metadata": {},
   "outputs": [],
   "source": [
    "dropdown = document.find(class_='graph_tool_section-header')\n",
    "for el in dropdown.find_all(class_='simple_dropdown-option'):\n",
    "    print(el.text)"
   ]
  },
  {
   "cell_type": "code",
   "execution_count": null,
   "id": "402ae682-d78c-471f-8f74-9be184d66682",
   "metadata": {},
   "outputs": [],
   "source": [
    "function(a) {\n",
    "  if (a.target === a.currentTarget || a.timeStamp >= s || a.timeStamp <= 0 || a.target.ownerDocument !== document) return i.apply(this, arguments)\n",
    "}"
   ]
  },
  {
   "cell_type": "code",
   "execution_count": null,
   "id": "eec2353b-0151-4542-938a-2711765d5c3b",
   "metadata": {},
   "outputs": [],
   "source": []
  },
  {
   "cell_type": "code",
   "execution_count": 6,
   "id": "e24666ed-1ec6-43bc-a8a3-b93058a87f93",
   "metadata": {},
   "outputs": [
    {
     "data": {
      "text/plain": [
       "{3}"
      ]
     },
     "execution_count": 6,
     "metadata": {},
     "output_type": "execute_result"
    }
   ],
   "source": [
    "set({1,2,3}).intersection({4,5,3,7})"
   ]
  },
  {
   "cell_type": "code",
   "execution_count": null,
   "id": "987f23e1-3729-4d58-8438-2303585d1523",
   "metadata": {},
   "outputs": [],
   "source": []
  },
  {
   "cell_type": "code",
   "execution_count": null,
   "id": "30617b17-404c-4105-819f-20345678f3c2",
   "metadata": {},
   "outputs": [],
   "source": []
  },
  {
   "cell_type": "code",
   "execution_count": null,
   "id": "7ee35bc7-5b3f-4694-b0f4-9b2471d02484",
   "metadata": {},
   "outputs": [],
   "source": []
  },
  {
   "cell_type": "code",
   "execution_count": 196,
   "id": "5e9a2a06-1111-4712-aa68-266ce15468df",
   "metadata": {},
   "outputs": [],
   "source": [
    "# graph_tool_page is-rendering"
   ]
  },
  {
   "cell_type": "code",
   "execution_count": 199,
   "id": "2a8af373-19a8-4347-a02f-a75ecf29d0c5",
   "metadata": {},
   "outputs": [],
   "source": [
    "html = requests.get('https://www.rtings.com/headphones/1-5/graph').text"
   ]
  },
  {
   "cell_type": "code",
   "execution_count": 203,
   "id": "8e26dec0-5453-456a-92cd-ee34c582525e",
   "metadata": {},
   "outputs": [],
   "source": [
    "doc = BeautifulSoup(html, 'html.parser')"
   ]
  },
  {
   "cell_type": "code",
   "execution_count": 219,
   "id": "27b8a9f2-5814-41c9-ae43-0a6421952223",
   "metadata": {},
   "outputs": [],
   "source": [
    "test_bench = json.loads(doc.find(class_='graph_tool_page').get('data-props'))['test_bench']"
   ]
  },
  {
   "cell_type": "code",
   "execution_count": 224,
   "id": "9a80b08d-a14c-4369-83c3-85e7b16f4c69",
   "metadata": {},
   "outputs": [
    {
     "name": "stdout",
     "output_type": "stream",
     "text": [
      "3992 Frequency Response ['3992', '7903', '21550']\n",
      "569 Consistency L ['569', '1019', '1209', '2056', '3185', '4007', '7913', '21560']\n",
      "570 Consistency R ['570', '1020', '1210', '2057', '3186', '4008', '7914', '21561']\n",
      "4011 Raw FR L ['4011', '7917', '21564']\n",
      "4012 Raw FR R ['4012', '7918', '21565']\n",
      "4039 Bass ['4039', '7920', '21567']\n",
      "4033 Mid ['4033', '7927', '21574']\n",
      "4046 Treble ['4046', '7933', '21580']\n",
      "4003 Peaks/Dips Graph ['4003', '7939', '21586']\n",
      "1621 Group Delay ['1621', '2074', '3189', '4014', '7943', '21590']\n",
      "1965 PRTF ['1965', '2069', '3196', '4021', '7950', '21598']\n",
      "3341 Weighted Harmonic Distortion ['3341', '4029', '7966', '21614']\n",
      "349 Noise Isolation ['349', '1054', '1244', '2090', '3209', '4053', '7981', '21630']\n",
      "353 Leakage ['353', '1061', '1251', '2097', '3217', '4060', '7988', '21638']\n",
      "379 Microphone Frequency Response ['379', '1065', '1255', '2102', '3227', '4070', '8001', '21651']\n",
      "385 SpNR ['385', '1072', '1262', '2112', '3235', '4078', '8010', '21660']\n",
      "8143 Phase Response Mismatch ['8143', '21591']\n"
     ]
    }
   ],
   "source": [
    "for test in test_bench['tests']:\n",
    "    print(test['original_id'], test['name'], test['equivalent_test_ids'])"
   ]
  },
  {
   "cell_type": "code",
   "execution_count": 213,
   "id": "a63cca8f-3a5f-4960-8c80-667e2c2511a9",
   "metadata": {},
   "outputs": [],
   "source": [
    "test_products = test_bench['comparable_products']"
   ]
  },
  {
   "cell_type": "code",
   "execution_count": 215,
   "id": "66a67636-a310-409c-a987-77f6745c29f8",
   "metadata": {},
   "outputs": [
    {
     "name": "stdout",
     "output_type": "stream",
     "text": [
      "{'source_name': 'Bose QuietComfort Headphones Wireless', 'product_id': '44666', 'original_test_id': '3992'}\n",
      "['3992', '569', '570', '4011', '4012', '4039', '4033', '4046', '4003', '1621', '1965', '3341', '349', '353', '379', '385', '8143']\n"
     ]
    }
   ],
   "source": [
    "for product in test_products:\n",
    "    print({'source_name': product['fullname'], 'product_id': product['id'], 'original_test_id': product['review']['test_results'][0]['test']['original_id']})\n",
    "    print([test_result['test']['original_id'] for test_result in product['review']['test_results']])\n",
    "    break"
   ]
  },
  {
   "cell_type": "code",
   "execution_count": null,
   "id": "2b99adec-b539-4e59-9c94-9e31a0369025",
   "metadata": {},
   "outputs": [],
   "source": []
  },
  {
   "cell_type": "code",
   "execution_count": 50,
   "id": "6878885b-f298-4951-8101-a402b4fc111c",
   "metadata": {},
   "outputs": [
    {
     "name": "stdout",
     "output_type": "stream",
     "text": [
      "529: {'data': {'product': {'review': {'test_results': []}}}}\n",
      "570: {'data': {'product': {'review': {'test_results': []}}}}\n",
      "438: {'data': {'product': {'review': {'test_results': []}}}}\n",
      "436: {'data': {'product': {'review': {'test_results': []}}}}\n",
      "349: {'data': {'product': {'review': {'test_results': []}}}}\n",
      "353: {'data': {'product': {'review': {'test_results': []}}}}\n",
      "437: {'data': {'product': {'review': {'test_results': []}}}}\n",
      "569: {'data': {'product': {'review': {'test_results': []}}}}\n",
      "329: {'data': {'product': {'review': {'test_results': []}}}}\n"
     ]
    }
   ],
   "source": [
    "for test_id in {'529', '570', '438', '349', '569', '353', '437', '436', '329'}:\n",
    "    res = requests.post('https://www.rtings.com/api/v2/safe/graph_tool__product_graph_data_url', data={\n",
    "        'named_version': 'public',\n",
    "        'product_id': '388',\n",
    "        'test_original_id': '323',\n",
    "    })\n",
    "    print(f'{test_id}: {res.json()}')"
   ]
  },
  {
   "cell_type": "code",
   "execution_count": null,
   "id": "c446a395-7fc1-4156-b601-df0c4f8535da",
   "metadata": {},
   "outputs": [],
   "source": [
    "print(json.dumps(requests.get(f'https://i.rtings.com{url}').json(), ensure_ascii=False, indent=2))"
   ]
  },
  {
   "cell_type": "code",
   "execution_count": null,
   "id": "e6141a8a-7d41-43c3-8b24-4277ab574051",
   "metadata": {},
   "outputs": [],
   "source": []
  },
  {
   "cell_type": "markdown",
   "id": "9daa18f1-1319-4adc-bd9d-d7daa662b6f0",
   "metadata": {},
   "source": [
    "### Exploration of Rtings Data URLs\n",
    "Different versions use different IDs for tests\n",
    "\n",
    "1-4 and 1-5:\n",
    "* `Raw FR L` = `['4011', '7917', '21564']`\n",
    "* `Raw FR R` = `['4012', '7918', '21565']`\n",
    "* `graph-raw-frequency-response-l` = `1344`\n",
    "* `graph-raw-frequency-response-r` = `1343`\n",
    "\n",
    "1-2:\n",
    "* `Raw FR L` = `['1344', '2060', '3182']`\n",
    "* `Raw FR R` = `['1343', '2061', '3183']`\n",
    "* `graph-bass` = `436`\n",
    "* `graph-mid` = `437`\n",
    "* `graph-treble` = `438`"
   ]
  },
  {
   "cell_type": "code",
   "execution_count": 86,
   "id": "c72e6a2b-0bf8-4af9-a3d6-2073c2414d28",
   "metadata": {},
   "outputs": [],
   "source": [
    "version = '1-2'\n",
    "html = requests.get(f'https://www.rtings.com/headphones/{version}/graph').text\n",
    "document = BeautifulSoup(html, 'html.parser')"
   ]
  },
  {
   "cell_type": "code",
   "execution_count": 87,
   "id": "5b44d1c3-2d71-4ce0-a1d1-244dbe4caf31",
   "metadata": {},
   "outputs": [],
   "source": [
    "test_bench = json.loads(document.find(class_='graph_tool_page').get('data-props'))['test_bench']"
   ]
  },
  {
   "cell_type": "code",
   "execution_count": 88,
   "id": "94868344-5909-4ec8-89a1-9e3759006c02",
   "metadata": {},
   "outputs": [
    {
     "data": {
      "text/plain": [
       "['name', 'id', 'comparable_products', 'tests']"
      ]
     },
     "execution_count": 88,
     "metadata": {},
     "output_type": "execute_result"
    }
   ],
   "source": [
    "list(test_bench.keys())"
   ]
  },
  {
   "cell_type": "code",
   "execution_count": 89,
   "id": "d8570b34-764b-42f1-830a-eab34ee3d279",
   "metadata": {},
   "outputs": [
    {
     "name": "stdout",
     "output_type": "stream",
     "text": [
      "2037 {'name': 'Bass', 'equivalent': ['436', '996', '1186', '2037', '3163']}\n",
      "2044 {'name': 'Mid', 'equivalent': ['437', '1007', '1197', '2044', '3170']}\n",
      "2050 {'name': 'Treble', 'equivalent': ['438', '1013', '1203', '2050', '3176']}\n",
      "2056 {'name': 'Consistency L', 'equivalent': ['569', '1019', '1209', '2056', '3185', '4007', '7913', '21560']}\n",
      "2057 {'name': 'Consistency R', 'equivalent': ['570', '1020', '1210', '2057', '3186', '4008', '7914', '21561']}\n",
      "2060 {'name': 'Raw FR L', 'equivalent': ['1344', '2060', '3182']}\n",
      "2061 {'name': 'Raw FR R', 'equivalent': ['1343', '2061', '3183']}\n",
      "2069 {'name': 'PRTF', 'equivalent': ['1965', '2069', '3196', '4021', '7950', '21598']}\n",
      "2074 {'name': 'Group Delay', 'equivalent': ['1621', '2074', '3189', '4014', '7943', '21590']}\n",
      "2075 {'name': 'Phase Response', 'equivalent': ['529', '1030', '1220', '2075', '3190', '4015']}\n",
      "2085 {'name': 'Distortion', 'equivalent': ['329', '1037', '1227', '2085']}\n",
      "2090 {'name': 'Noise Isolation', 'equivalent': ['349', '1054', '1244', '2090', '3209', '4053', '7981', '21630']}\n",
      "2097 {'name': 'Leakage', 'equivalent': ['353', '1061', '1251', '2097', '3217', '4060', '7988', '21638']}\n",
      "2102 {'name': 'Microphone Frequency Response', 'equivalent': ['379', '1065', '1255', '2102', '3227', '4070', '8001', '21651']}\n",
      "2112 {'name': 'SpNR', 'equivalent': ['385', '1072', '1262', '2112', '3235', '4078', '8010', '21660']}\n"
     ]
    }
   ],
   "source": [
    "known_test_ids = {test['id']: {'name': test['name'], 'equivalent': test['equivalent_test_ids']} for test in test_bench['tests']}\n",
    "for key, val in known_test_ids.items():\n",
    "    print(key, val)"
   ]
  },
  {
   "cell_type": "code",
   "execution_count": 90,
   "id": "b01e82a3-09ee-430b-8bb9-533782522c6d",
   "metadata": {},
   "outputs": [
    {
     "data": {
      "text/plain": [
       "{'329': {'name': 'AKG K391-NC', 'id': '234'},\n",
       " '349': {'name': 'AKG K391-NC', 'id': '234'},\n",
       " '353': {'name': 'AKG K391-NC', 'id': '234'},\n",
       " '436': {'name': 'AKG K391-NC', 'id': '234'},\n",
       " '437': {'name': 'AKG K391-NC', 'id': '234'},\n",
       " '438': {'name': 'AKG K391-NC', 'id': '234'},\n",
       " '529': {'name': 'AKG K391-NC', 'id': '234'},\n",
       " '569': {'name': 'AKG K391-NC', 'id': '234'},\n",
       " '570': {'name': 'AKG K391-NC', 'id': '234'}}"
      ]
     },
     "execution_count": 90,
     "metadata": {},
     "output_type": "execute_result"
    }
   ],
   "source": [
    "unknown_test_ids = {}\n",
    "for product in test_bench['comparable_products']:\n",
    "    test_ids = [test_result['test']['original_id'] for test_result in product['review']['test_results']]\n",
    "    for test_id in test_ids:\n",
    "        if test_id not in known_test_ids:\n",
    "            unknown_test_ids[test_id] = {'name': product['fullname'], 'id': product['id']}\n",
    "unknown_test_ids"
   ]
  },
  {
   "cell_type": "code",
   "execution_count": 91,
   "id": "7c0872c6-960a-4df7-a9fc-0535c1067688",
   "metadata": {},
   "outputs": [
    {
     "name": "stdout",
     "output_type": "stream",
     "text": [
      "329: {'data': {'product': {'review': {'test_results': [{'graph_data_url': '/assets/products/mcuBmpTu/graph-distortion.json'}]}}}}\n",
      "349: {'data': {'product': {'review': {'test_results': [{'graph_data_url': '/assets/products/l2VvLSvF/graph-isolation.json'}]}}}}\n",
      "353: {'data': {'product': {'review': {'test_results': [{'graph_data_url': '/assets/products/pPwMCFvC/graph-leakage.json'}]}}}}\n",
      "436: {'data': {'product': {'review': {'test_results': [{'graph_data_url': '/assets/products/liYFzpsm/graph-bass.json'}]}}}}\n",
      "437: {'data': {'product': {'review': {'test_results': [{'graph_data_url': '/assets/products/KhmOchbD/graph-mid.json'}]}}}}\n",
      "438: {'data': {'product': {'review': {'test_results': [{'graph_data_url': '/assets/products/wzSsQqzQ/graph-treble.json'}]}}}}\n",
      "529: {'data': {'product': {'review': {'test_results': [{'graph_data_url': '/assets/products/WsFGD2nr/graph-phase-response.json'}]}}}}\n",
      "569: {'data': {'product': {'review': {'test_results': [{'graph_data_url': '/assets/products/LK19W26h/graph-consistency-left.json'}]}}}}\n",
      "570: {'data': {'product': {'review': {'test_results': [{'graph_data_url': '/assets/products/TE1gjiEC/graph-consistency-right.json'}]}}}}\n"
     ]
    }
   ],
   "source": [
    "for test_id, product in unknown_test_ids.items():\n",
    "    res = requests.post('https://www.rtings.com/api/v2/safe/graph_tool__product_graph_data_url', data={\n",
    "        'named_version': 'public',\n",
    "        'product_id': product['id'],\n",
    "        'test_original_id': test_id,\n",
    "    })\n",
    "    print(f'{test_id}: {res.json()}')"
   ]
  },
  {
   "cell_type": "code",
   "execution_count": null,
   "id": "d5cd15ad-e676-4d01-9749-b3cf04641590",
   "metadata": {},
   "outputs": [],
   "source": []
  }
 ],
 "metadata": {
  "kernelspec": {
   "display_name": "autoeq",
   "language": "python",
   "name": "autoeq"
  },
  "language_info": {
   "codemirror_mode": {
    "name": "ipython",
    "version": 3
   },
   "file_extension": ".py",
   "mimetype": "text/x-python",
   "name": "python",
   "nbconvert_exporter": "python",
   "pygments_lexer": "ipython3",
   "version": "3.11.6"
  }
 },
 "nbformat": 4,
 "nbformat_minor": 5
}

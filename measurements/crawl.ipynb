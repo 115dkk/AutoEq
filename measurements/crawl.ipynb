{
 "cells": [
  {
   "cell_type": "code",
   "execution_count": 1,
   "id": "4d7b4e96-bd20-49e6-b993-8cce5466c590",
   "metadata": {},
   "outputs": [],
   "source": [
    "%load_ext autoreload\n",
    "%autoreload 2"
   ]
  },
  {
   "cell_type": "code",
   "execution_count": 2,
   "id": "64e30da1-ee1f-43e0-ad5c-a8f4c2ec1078",
   "metadata": {},
   "outputs": [],
   "source": [
    "import sys\n",
    "from pathlib import Path\n",
    "ROOT_PATH = Path().resolve().parent\n",
    "if str(ROOT_PATH) not in sys.path:\n",
    "    sys.path.insert(1, str(ROOT_PATH))\n",
    "import ipywidgets as widgets\n",
    "from IPython.display import display\n",
    "from measurements.rtings.rtings_crawler import RtingsCrawler\n",
    "from measurements.crinacle.crinacle_crawler import CrinacleCrawler\n",
    "from measurements.oratory1990.oratory1990_crawler import Oratory1990Crawler\n",
    "from measurements.average import average_measurements"
   ]
  },
  {
   "cell_type": "markdown",
   "id": "a39cd4d4-bff1-4fcc-83f8-d98ce780ef54",
   "metadata": {
    "tags": []
   },
   "source": [
    "## Crinacle\n",
    "Download measurement data from Drive folder to `measurements/crinacle/raw_data/FR Data (CSV)` and `measurements/crinacle/raw_data/IEM Measurements (TSV)` and run this code block"
   ]
  },
  {
   "cell_type": "code",
   "execution_count": 3,
   "id": "9eee0600-5948-413b-b025-81bf1cc25a17",
   "metadata": {},
   "outputs": [
    {
     "name": "stdout",
     "output_type": "stream",
     "text": [
      "Headphones with unknown manufacturers\n",
      "  Canon\n",
      "  D6\n",
      "  E3\n",
      "  Red V3.0b\n",
      "  Red V3.1 10ohm\n",
      "  Red V3.1\n",
      "Add them to manufacturers.tsv and run this cell again\n",
      "N PROMPTS 26\n"
     ]
    },
    {
     "data": {
      "application/vnd.jupyter.widget-view+json": {
       "model_id": "fb3eb18adf7149e0af2c338fc083d814",
       "version_major": 2,
       "version_minor": 0
      },
      "text/plain": [
       "HBox(children=(VBox(children=(VBox(children=(HBox(children=(VBox(children=(HBox(children=(HTML(value='<h4 styl…"
      ]
     },
     "metadata": {},
     "output_type": "display_data"
    }
   ],
   "source": [
    "crawler = CrinacleCrawler()\n",
    "crawler.process()\n",
    "display(crawler.widget)"
   ]
  },
  {
   "cell_type": "code",
   "execution_count": null,
   "id": "2f64338f-95e1-4102-b3bd-cc1c9b9b9077",
   "metadata": {},
   "outputs": [],
   "source": [
    "#average_measurements(input_dir=ROOT_PATH.joinpath('measurements', 'crinacle', 'data', 'over-ear', 'Ears-711'))\n",
    "average_measurements(input_dir=ROOT_PATH.joinpath('measurements', 'crinacle', 'data', 'over-ear', 'GRAS 43AG-7'))\n",
    "average_measurements(input_dir=ROOT_PATH.joinpath('measurements', 'crinacle', 'data', 'in-ear', '711'))\n",
    "average_measurements(input_dir=ROOT_PATH.joinpath('measurements', 'crinacle', 'data', 'in-ear', 'Bruel & Kjaer 4620'))"
   ]
  },
  {
   "cell_type": "markdown",
   "id": "f77aeaf3-a7d7-47d5-88ed-40b21bd03a00",
   "metadata": {},
   "source": [
    "## oratory1990\n",
    "Parsing oratory1990's PDFs requires [Ghostscript](https://www.ghostscript.com/download/gsdnld.html) to be installed on the system"
   ]
  },
  {
   "cell_type": "code",
   "execution_count": 15,
   "id": "a7bebbf6-eb2f-49ee-8d58-5028924064af",
   "metadata": {},
   "outputs": [
    {
     "name": "stdout",
     "output_type": "stream",
     "text": [
      "Downloaded to \"C:\\Users\\jaakko\\code\\AutoEq\\measurements\\oratory1990\\pdf\\Sennheiser HE 1 Orpheus 2.pdf\"\n",
      "  Saved image to \"C:\\Users\\jaakko\\code\\AutoEq\\measurements\\oratory1990\\images\\Sennheiser HE 1 Orpheus 2.png\"\n",
      "\n",
      "  Saved CSV to \"C:\\Users\\jaakko\\code\\AutoEq\\measurements\\oratory1990\\data\\over-ear\\Sennheiser HE 1 Orpheus 2.csv\"\n"
     ]
    },
    {
     "data": {
      "application/vnd.jupyter.widget-view+json": {
       "model_id": "51d077f841c94cd89a679e3177166f10",
       "version_major": 2,
       "version_minor": 0
      },
      "text/plain": [
       "HBox(children=(VBox(), VBox()))"
      ]
     },
     "metadata": {},
     "output_type": "display_data"
    }
   ],
   "source": [
    "crawler = Oratory1990Crawler()\n",
    "crawler.process(new_only=True)\n",
    "display(crawler.widget)"
   ]
  },
  {
   "cell_type": "markdown",
   "id": "f08f9303-7813-4ab5-895f-d75e12ad64e7",
   "metadata": {},
   "source": [
    "## Rtings"
   ]
  },
  {
   "cell_type": "code",
   "execution_count": 14,
   "id": "ccfd03f8-6b5f-484f-8294-660d3606d7e0",
   "metadata": {},
   "outputs": [
    {
     "name": "stdout",
     "output_type": "stream",
     "text": [
      "Downloaded to \"C:\\Users\\jaakko\\code\\AutoEq\\measurements\\rtings\\json\\Bowers & Wilkins Pi7.json\"\n",
      "Saved \"Bowers & Wilkins Pi7\" to \"C:\\Users\\jaakko\\code\\AutoEq\\measurements\\rtings\\data\\in-ear\\Bowers & Wilkins Pi7.csv\"\n"
     ]
    },
    {
     "data": {
      "application/vnd.jupyter.widget-view+json": {
       "model_id": "ed32eb4320b44b0db793c1cadb29a438",
       "version_major": 2,
       "version_minor": 0
      },
      "text/plain": [
       "HBox(children=(VBox(), VBox()))"
      ]
     },
     "metadata": {},
     "output_type": "display_data"
    }
   ],
   "source": [
    "crawler = RtingsCrawler()\n",
    "crawler.process()\n",
    "display(crawler.widget)"
   ]
  },
  {
   "cell_type": "code",
   "execution_count": null,
   "id": "1ea24607-fb7d-4406-ac4b-69ee3b66ea72",
   "metadata": {},
   "outputs": [],
   "source": []
  }
 ],
 "metadata": {
  "kernelspec": {
   "display_name": "autoeq",
   "language": "python",
   "name": "autoeq"
  },
  "language_info": {
   "codemirror_mode": {
    "name": "ipython",
    "version": 3
   },
   "file_extension": ".py",
   "mimetype": "text/x-python",
   "name": "python",
   "nbconvert_exporter": "python",
   "pygments_lexer": "ipython3",
   "version": "3.9.2"
  }
 },
 "nbformat": 4,
 "nbformat_minor": 5
}
